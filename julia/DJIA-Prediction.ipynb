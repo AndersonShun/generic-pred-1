{
 "metadata": {
  "language": "Julia",
  "name": "",
  "signature": "sha256:e6d5688dcb57dc10867be0110ec4c5c502c2b1f42c6d473f6376be62ccb0a1c0"
 },
 "nbformat": 3,
 "nbformat_minor": 0,
 "worksheets": [
  {
   "cells": [
    {
     "cell_type": "code",
     "collapsed": false,
     "input": [
      "addprocs(4)\n",
      "push!(LOAD_PATH, pwd())"
     ],
     "language": "python",
     "metadata": {},
     "outputs": [
      {
       "metadata": {},
       "output_type": "pyout",
       "prompt_number": 1,
       "text": [
        "3-element Array{Union(UTF8String,ASCIIString),1}:\n",
        " \"/Applications/Julia-0.3.1.app/Contents/Resources/julia/local/share/julia/site/v0.3\"\n",
        " \"/Applications/Julia-0.3.1.app/Contents/Resources/julia/share/julia/site/v0.3\"      \n",
        " \"/Users/thomas.vandal/repos/generic-pred/julia\"                                     "
       ]
      }
     ],
     "prompt_number": 1
    },
    {
     "cell_type": "code",
     "collapsed": false,
     "input": [
      "using DataFrames\n",
      "using Gadfly\n",
      "@everywhere using Lyaponuv\n",
      "\n",
      "f = \"../data/DJA.csv\"\n",
      "data=readtable(f, header=true)"
     ],
     "language": "python",
     "metadata": {},
     "outputs": [
      {
       "html": [
        "<table class=\"data-frame\"><tr><th></th><th>Date</th><th>DJIA</th></tr><tr><th>1</th><td>12/31/1999</td><td>11497.12</td></tr><tr><th>2</th><td>1/3/2000</td><td>11357.51</td></tr><tr><th>3</th><td>1/4/2000</td><td>10997.93</td></tr><tr><th>4</th><td>1/5/2000</td><td>11122.65</td></tr><tr><th>5</th><td>1/6/2000</td><td>11253.26</td></tr><tr><th>6</th><td>1/7/2000</td><td>11522.56</td></tr><tr><th>7</th><td>1/10/2000</td><td>11572.2</td></tr><tr><th>8</th><td>1/11/2000</td><td>11511.08</td></tr><tr><th>9</th><td>1/12/2000</td><td>11551.1</td></tr><tr><th>10</th><td>1/13/2000</td><td>11582.43</td></tr><tr><th>11</th><td>1/14/2000</td><td>11722.98</td></tr><tr><th>12</th><td>1/18/2000</td><td>11560.72</td></tr><tr><th>13</th><td>1/19/2000</td><td>11489.36</td></tr><tr><th>14</th><td>1/20/2000</td><td>11351.3</td></tr><tr><th>15</th><td>1/21/2000</td><td>11251.71</td></tr><tr><th>16</th><td>1/24/2000</td><td>11008.17</td></tr><tr><th>17</th><td>1/25/2000</td><td>11029.89</td></tr><tr><th>18</th><td>1/26/2000</td><td>11032.99</td></tr><tr><th>19</th><td>1/27/2000</td><td>11028.02</td></tr><tr><th>20</th><td>1/28/2000</td><td>10738.87</td></tr><tr><th>21</th><td>1/31/2000</td><td>10940.53</td></tr><tr><th>22</th><td>2/1/2000</td><td>11041.05</td></tr><tr><th>23</th><td>2/2/2000</td><td>11003.2</td></tr><tr><th>24</th><td>2/3/2000</td><td>11013.44</td></tr><tr><th>25</th><td>2/4/2000</td><td>10963.8</td></tr><tr><th>26</th><td>2/7/2000</td><td>10905.79</td></tr><tr><th>27</th><td>2/8/2000</td><td>10957.6</td></tr><tr><th>28</th><td>2/9/2000</td><td>10699.16</td></tr><tr><th>29</th><td>2/10/2000</td><td>10643.63</td></tr><tr><th>30</th><td>2/11/2000</td><td>10425.21</td></tr><tr><th>&vellip;</th><td>&vellip;</td><td>&vellip;</td></tr></table>"
       ],
       "metadata": {},
       "output_type": "pyout",
       "prompt_number": 2,
       "text": [
        "3723x2 DataFrame\n",
        "| Row  | Date         | DJIA    |\n",
        "|------|--------------|---------|\n",
        "| 1    | \"12/31/1999\" | 11497.1 |\n",
        "| 2    | \"1/3/2000\"   | 11357.5 |\n",
        "| 3    | \"1/4/2000\"   | 10997.9 |\n",
        "| 4    | \"1/5/2000\"   | 11122.6 |\n",
        "| 5    | \"1/6/2000\"   | 11253.3 |\n",
        "| 6    | \"1/7/2000\"   | 11522.6 |\n",
        "| 7    | \"1/10/2000\"  | 11572.2 |\n",
        "| 8    | \"1/11/2000\"  | 11511.1 |\n",
        "| 9    | \"1/12/2000\"  | 11551.1 |\n",
        "| 10   | \"1/13/2000\"  | 11582.4 |\n",
        "| 11   | \"1/14/2000\"  | 11723.0 |\n",
        "\u22ee\n",
        "| 3712 | \"10/17/2014\" | 16380.4 |\n",
        "| 3713 | \"10/20/2014\" | 16399.7 |\n",
        "| 3714 | \"10/21/2014\" | 16614.8 |\n",
        "| 3715 | \"10/22/2014\" | 16461.3 |\n",
        "| 3716 | \"10/23/2014\" | 16677.9 |\n",
        "| 3717 | \"10/24/2014\" | 16805.4 |\n",
        "| 3718 | \"10/27/2014\" | 16817.9 |\n",
        "| 3719 | \"10/28/2014\" | 17005.8 |\n",
        "| 3720 | \"10/29/2014\" | 16974.3 |\n",
        "| 3721 | \"10/30/2014\" | 17195.4 |\n",
        "| 3722 | \"10/31/2014\" | 17390.5 |\n",
        "| 3723 | \"11/3/2014\"  | 17366.2 |"
       ]
      }
     ],
     "prompt_number": 2
    },
    {
     "cell_type": "code",
     "collapsed": false,
     "input": [
      "J = 2  ## reconstruction delay\n",
      "m = 3  ## embedding dimension\n",
      "r = 11\n",
      "sliding_window = 2000\n",
      "\n",
      "next_x_points = 200\n",
      "sample_size = 10\n",
      "\n",
      "ts = deepcopy(data[:DJIA][1:end-next_x_points])/10000\n",
      "diff = ts[1:end-1] - ts[2:end]\n",
      "println(\"diff avg:\", mean(abs(diff)), \"\\tdiff std:\", std(diff))\n",
      "\n",
      "for i=1:next_x_points\n",
      "    lyap_exp = lyaponuv(ts[end-sliding_window:end], J, m, r)\n",
      "    tasks = Array(RemoteRef, sample_size)\n",
      "    mu = mean(ts[end-sliding_window:end])\n",
      "\n",
      "    diff = ts[end-sliding_window+1:end] - ts[end-sliding_window:end-1]\n",
      "    mu = mean(diff)\n",
      "    sigma = std(diff)\n",
      "\n",
      "    sample_values = randn(sample_size) .* sigma .+ ts[end]\n",
      "\n",
      "    for j=1:sample_size\n",
      "        tempts=deepcopy(ts[end-sliding_window:end])\n",
      "        append!(tempts, [sample_values[j]])\n",
      "        tasks[j] = @spawn lyaponuv(tempts, J, m, r)\n",
      "    end\n",
      "    \n",
      "    exponents = Array(Float64, sample_size)\n",
      "    for j=1:sample_size\n",
      "        exponents[j] = fetch(tasks[j])\n",
      "    end\n",
      "    println(\"exponent:\", mean(lyap_exp))\n",
      "    \n",
      "    exp_diff = abs(exponents .- lyap_exp)\n",
      "    min_index = findmin(exp_diff)\n",
      "    best_val = sample_values[min_index[2]]\n",
      "    append!(ts, [best_val])\n",
      "    println(i, \"   best value:\", best_val, \"\\n\")\n",
      "end\n",
      "\n"
     ],
     "language": "python",
     "metadata": {},
     "outputs": [
      {
       "output_type": "stream",
       "stream": "stdout",
       "text": [
        "diff avg:0."
       ]
      },
      {
       "output_type": "stream",
       "stream": "stdout",
       "text": [
        "008791532651902328\tdiff std:0.01249512990891395\n"
       ]
      },
      {
       "output_type": "stream",
       "stream": "stdout",
       "text": [
        "exponent:0."
       ]
      },
      {
       "output_type": "stream",
       "stream": "stdout",
       "text": [
        "14175677631386033\n",
        "best value:1.634191507842987\n"
       ]
      },
      {
       "output_type": "stream",
       "stream": "stdout",
       "text": [
        "exponent:0."
       ]
      },
      {
       "output_type": "stream",
       "stream": "stdout",
       "text": [
        "14176545692685835\n",
        "best value:1.6440203512906129\n"
       ]
      },
      {
       "output_type": "stream",
       "stream": "stdout",
       "text": [
        "exponent:0."
       ]
      },
      {
       "output_type": "stream",
       "stream": "stdout",
       "text": [
        "1416793857152211\n",
        "best value:1.650611667751002\n"
       ]
      },
      {
       "output_type": "stream",
       "stream": "stdout",
       "text": [
        "exponent:0."
       ]
      },
      {
       "output_type": "stream",
       "stream": "stdout",
       "text": [
        "14168091020410067\n",
        "best value:1.6379097908825284\n"
       ]
      },
      {
       "output_type": "stream",
       "stream": "stdout",
       "text": [
        "exponent:0."
       ]
      },
      {
       "output_type": "stream",
       "stream": "stdout",
       "text": [
        "14170285548693115\n",
        "best value:1.6519175722383626\n"
       ]
      },
      {
       "output_type": "stream",
       "stream": "stdout",
       "text": [
        "exponent:0."
       ]
      },
      {
       "output_type": "stream",
       "stream": "stdout",
       "text": [
        "14173971273080718\n",
        "best value:1.6462016787388207\n"
       ]
      },
      {
       "output_type": "stream",
       "stream": "stdout",
       "text": [
        "exponent:0."
       ]
      },
      {
       "output_type": "stream",
       "stream": "stdout",
       "text": [
        "14175832112243222\n",
        "best value:1.6584003235136058\n"
       ]
      },
      {
       "output_type": "stream",
       "stream": "stdout",
       "text": [
        "exponent:0."
       ]
      },
      {
       "output_type": "stream",
       "stream": "stdout",
       "text": [
        "14179032467600922\n",
        "best value:1.6619001288778361\n"
       ]
      },
      {
       "output_type": "stream",
       "stream": "stdout",
       "text": [
        "exponent:0."
       ]
      },
      {
       "output_type": "stream",
       "stream": "stdout",
       "text": [
        "14184478573264178\n",
        "best value:1.6318712891741536\n"
       ]
      },
      {
       "output_type": "stream",
       "stream": "stdout",
       "text": [
        "exponent:0."
       ]
      },
      {
       "output_type": "stream",
       "stream": "stdout",
       "text": [
        "1418769465871449\n",
        "best value:1.6422446446459669\n"
       ]
      },
      {
       "output_type": "stream",
       "stream": "stdout",
       "text": [
        "exponent:0."
       ]
      },
      {
       "output_type": "stream",
       "stream": "stdout",
       "text": [
        "14185413413674208\n",
        "best value:1.6244935384969499\n"
       ]
      },
      {
       "output_type": "stream",
       "stream": "stdout",
       "text": [
        "exponent:0."
       ]
      },
      {
       "output_type": "stream",
       "stream": "stdout",
       "text": [
        "1417923442543129\n",
        "best value:1.6245803638161744\n"
       ]
      },
      {
       "output_type": "stream",
       "stream": "stdout",
       "text": [
        "exponent:0."
       ]
      },
      {
       "output_type": "stream",
       "stream": "stdout",
       "text": [
        "14179005425964433\n",
        "best value:1.5956341911773144\n"
       ]
      },
      {
       "output_type": "stream",
       "stream": "stdout",
       "text": [
        "exponent:0."
       ]
      },
      {
       "output_type": "stream",
       "stream": "stdout",
       "text": [
        "14182302419089085\n",
        "best value:1.6020734028664863\n"
       ]
      },
      {
       "output_type": "stream",
       "stream": "stdout",
       "text": [
        "exponent:0."
       ]
      },
      {
       "output_type": "stream",
       "stream": "stdout",
       "text": [
        "14183107851520368\n",
        "best value:1.6164615655201335\n"
       ]
      },
      {
       "output_type": "stream",
       "stream": "stdout",
       "text": [
        "exponent:0."
       ]
      },
      {
       "output_type": "stream",
       "stream": "stdout",
       "text": [
        "14179110840929612\n",
        "best value:1.5988553345272336\n"
       ]
      },
      {
       "output_type": "stream",
       "stream": "stdout",
       "text": [
        "exponent:0."
       ]
      },
      {
       "output_type": "stream",
       "stream": "stdout",
       "text": [
        "14163817880272947\n",
        "best value:1.604855366916829\n"
       ]
      },
      {
       "output_type": "stream",
       "stream": "stdout",
       "text": [
        "exponent:0."
       ]
      },
      {
       "output_type": "stream",
       "stream": "stdout",
       "text": [
        "141559974461831\n",
        "best value:1.6219975910324902\n"
       ]
      },
      {
       "output_type": "stream",
       "stream": "stdout",
       "text": [
        "exponent:0."
       ]
      },
      {
       "output_type": "stream",
       "stream": "stdout",
       "text": [
        "14157377654384762\n",
        "best value:1.6198847618324403\n"
       ]
      },
      {
       "output_type": "stream",
       "stream": "stdout",
       "text": [
        "exponent:0."
       ]
      },
      {
       "output_type": "stream",
       "stream": "stdout",
       "text": [
        "14166605408299024\n",
        "best value:1.6013855246886728\n"
       ]
      },
      {
       "output_type": "stream",
       "stream": "stdout",
       "text": [
        "exponent:0."
       ]
      },
      {
       "output_type": "stream",
       "stream": "stdout",
       "text": [
        "14163465195514385\n",
        "best value:1.6046305085805856\n"
       ]
      },
      {
       "output_type": "stream",
       "stream": "stdout",
       "text": [
        "exponent:0."
       ]
      },
      {
       "output_type": "stream",
       "stream": "stdout",
       "text": [
        "1416843492236053\n",
        "best value:1.608155075886612\n"
       ]
      },
      {
       "output_type": "stream",
       "stream": "stdout",
       "text": [
        "exponent:0."
       ]
      },
      {
       "output_type": "stream",
       "stream": "stdout",
       "text": [
        "14167432829697943\n",
        "best value:1.6012180079780942\n"
       ]
      },
      {
       "output_type": "stream",
       "stream": "stdout",
       "text": [
        "exponent:0."
       ]
      },
      {
       "output_type": "stream",
       "stream": "stdout",
       "text": [
        "14166472923332946\n",
        "best value:1.597783939311872\n"
       ]
      },
      {
       "output_type": "stream",
       "stream": "stdout",
       "text": [
        "exponent:0."
       ]
      },
      {
       "output_type": "stream",
       "stream": "stdout",
       "text": [
        "14162371433722765\n",
        "best value:1.6281293249002455\n"
       ]
      },
      {
       "output_type": "stream",
       "stream": "stdout",
       "text": [
        "exponent:0."
       ]
      },
      {
       "output_type": "stream",
       "stream": "stdout",
       "text": [
        "1416753756326534\n",
        "best value:1.6312226368258216\n"
       ]
      },
      {
       "output_type": "stream",
       "stream": "stdout",
       "text": [
        "exponent:0."
       ]
      },
      {
       "output_type": "stream",
       "stream": "stdout",
       "text": [
        "14166583477915254\n",
        "best value:1.605714946029499\n"
       ]
      },
      {
       "output_type": "stream",
       "stream": "stdout",
       "text": [
        "exponent:0."
       ]
      },
      {
       "output_type": "stream",
       "stream": "stdout",
       "text": [
        "1416321470814897\n",
        "best value:1.6055154114525043\n"
       ]
      },
      {
       "output_type": "stream",
       "stream": "stdout",
       "text": [
        "exponent:0."
       ]
      },
      {
       "output_type": "stream",
       "stream": "stdout",
       "text": [
        "1416811493593758\n",
        "best value:1.5949149374413374\n"
       ]
      },
      {
       "output_type": "stream",
       "stream": "stdout",
       "text": [
        "exponent:0."
       ]
      },
      {
       "output_type": "stream",
       "stream": "stdout",
       "text": [
        "14163238788501006\n",
        "best value:1.594026073850405\n"
       ]
      },
      {
       "output_type": "stream",
       "stream": "stdout",
       "text": [
        "exponent:0."
       ]
      },
      {
       "output_type": "stream",
       "stream": "stdout",
       "text": [
        "14153866622922706\n",
        "best value:1.615331940900128\n"
       ]
      },
      {
       "output_type": "stream",
       "stream": "stdout",
       "text": [
        "exponent:0."
       ]
      },
      {
       "output_type": "stream",
       "stream": "stdout",
       "text": [
        "14151998704215396\n",
        "best value:1.6134189059060255\n"
       ]
      },
      {
       "output_type": "stream",
       "stream": "stdout",
       "text": [
        "exponent:0."
       ]
      },
      {
       "output_type": "stream",
       "stream": "stdout",
       "text": [
        "14159785876622424\n",
        "best value:1.6012262265322457\n"
       ]
      },
      {
       "output_type": "stream",
       "stream": "stdout",
       "text": [
        "exponent:0."
       ]
      },
      {
       "output_type": "stream",
       "stream": "stdout",
       "text": [
        "1416159736545707\n",
        "best value:1.6014756568273718\n"
       ]
      },
      {
       "output_type": "stream",
       "stream": "stdout",
       "text": [
        "exponent:0."
       ]
      },
      {
       "output_type": "stream",
       "stream": "stdout",
       "text": [
        "14162362179336244\n",
        "best value:1.5918369526340346\n"
       ]
      },
      {
       "output_type": "stream",
       "stream": "stdout",
       "text": [
        "exponent:0."
       ]
      },
      {
       "output_type": "stream",
       "stream": "stdout",
       "text": [
        "14161312502695494\n",
        "best value:1.6172577954370708\n"
       ]
      },
      {
       "output_type": "stream",
       "stream": "stdout",
       "text": [
        "exponent:0."
       ]
      },
      {
       "output_type": "stream",
       "stream": "stdout",
       "text": [
        "14158084249637545\n",
        "best value:1.6061250591815903\n"
       ]
      },
      {
       "output_type": "stream",
       "stream": "stdout",
       "text": [
        "exponent:0."
       ]
      },
      {
       "output_type": "stream",
       "stream": "stdout",
       "text": [
        "14159459474093528\n",
        "best value:1.6090192057978585\n"
       ]
      },
      {
       "output_type": "stream",
       "stream": "stdout",
       "text": [
        "exponent:0."
       ]
      },
      {
       "output_type": "stream",
       "stream": "stdout",
       "text": [
        "1416622414238274\n",
        "best value:1.5963815707818414\n"
       ]
      },
      {
       "output_type": "stream",
       "stream": "stdout",
       "text": [
        "exponent:0."
       ]
      },
      {
       "output_type": "stream",
       "stream": "stdout",
       "text": [
        "14172197392720834\n",
        "best value:1.6013415581587807\n"
       ]
      },
      {
       "output_type": "stream",
       "stream": "stdout",
       "text": [
        "exponent:0."
       ]
      },
      {
       "output_type": "stream",
       "stream": "stdout",
       "text": [
        "14163277849596337\n",
        "best value:1.5944334756387573\n"
       ]
      },
      {
       "output_type": "stream",
       "stream": "stdout",
       "text": [
        "exponent:0."
       ]
      },
      {
       "output_type": "stream",
       "stream": "stdout",
       "text": [
        "14173074419811985\n",
        "best value:1.5903436212726811\n"
       ]
      },
      {
       "output_type": "stream",
       "stream": "stdout",
       "text": [
        "exponent:0."
       ]
      },
      {
       "output_type": "stream",
       "stream": "stdout",
       "text": [
        "14176854337410696\n",
        "best value:1.598613854218796\n"
       ]
      },
      {
       "output_type": "stream",
       "stream": "stdout",
       "text": [
        "exponent:0."
       ]
      },
      {
       "output_type": "stream",
       "stream": "stdout",
       "text": [
        "1417607726869056\n",
        "best value:1.6110610245114863\n"
       ]
      },
      {
       "output_type": "stream",
       "stream": "stdout",
       "text": [
        "exponent:0."
       ]
      },
      {
       "output_type": "stream",
       "stream": "stdout",
       "text": [
        "1417328599925417\n",
        "best value:1.599434097575117\n"
       ]
      },
      {
       "output_type": "stream",
       "stream": "stdout",
       "text": [
        "exponent:0."
       ]
      },
      {
       "output_type": "stream",
       "stream": "stdout",
       "text": [
        "14170579766101477\n",
        "best value:1.5915427246459737\n"
       ]
      },
      {
       "output_type": "stream",
       "stream": "stdout",
       "text": [
        "exponent:0."
       ]
      },
      {
       "output_type": "stream",
       "stream": "stdout",
       "text": [
        "1416382753446348\n",
        "best value:1.6133502824578698\n"
       ]
      },
      {
       "output_type": "stream",
       "stream": "stdout",
       "text": [
        "exponent:0."
       ]
      },
      {
       "output_type": "stream",
       "stream": "stdout",
       "text": [
        "141651944704182\n",
        "best value:1.599137959306035\n"
       ]
      },
      {
       "output_type": "stream",
       "stream": "stdout",
       "text": [
        "exponent:0."
       ]
      },
      {
       "output_type": "stream",
       "stream": "stdout",
       "text": [
        "14160865563620836\n",
        "best value:1.6032055050955079\n"
       ]
      },
      {
       "output_type": "stream",
       "stream": "stdout",
       "text": [
        "exponent:0."
       ]
      },
      {
       "output_type": "stream",
       "stream": "stdout",
       "text": [
        "14172843541069272\n",
        "best value:1.6229260922057338\n"
       ]
      },
      {
       "output_type": "stream",
       "stream": "stdout",
       "text": [
        "exponent:0."
       ]
      },
      {
       "output_type": "stream",
       "stream": "stdout",
       "text": [
        "14170312967674217\n",
        "best value:1.6450948776376695\n"
       ]
      },
      {
       "output_type": "stream",
       "stream": "stdout",
       "text": [
        "exponent:0."
       ]
      },
      {
       "output_type": "stream",
       "stream": "stdout",
       "text": [
        "14166798062859576\n",
        "best value:1.6588561740590269\n"
       ]
      },
      {
       "output_type": "stream",
       "stream": "stdout",
       "text": [
        "exponent:0."
       ]
      },
      {
       "output_type": "stream",
       "stream": "stdout",
       "text": [
        "14165393145889715\n",
        "best value:1.6733725963442276\n"
       ]
      },
      {
       "output_type": "stream",
       "stream": "stdout",
       "text": [
        "exponent:0."
       ]
      },
      {
       "output_type": "stream",
       "stream": "stdout",
       "text": [
        "14159800996490854\n",
        "best value:1.7024787114721753\n"
       ]
      },
      {
       "output_type": "stream",
       "stream": "stdout",
       "text": [
        "exponent:0."
       ]
      },
      {
       "output_type": "stream",
       "stream": "stdout",
       "text": [
        "14151167443157614\n",
        "best value:1.6715774246674737\n"
       ]
      },
      {
       "output_type": "stream",
       "stream": "stdout",
       "text": [
        "exponent:0."
       ]
      },
      {
       "output_type": "stream",
       "stream": "stdout",
       "text": [
        "14154443043103032\n",
        "best value:1.6581841785110183\n"
       ]
      },
      {
       "output_type": "stream",
       "stream": "stdout",
       "text": [
        "exponent:0."
       ]
      },
      {
       "output_type": "stream",
       "stream": "stdout",
       "text": [
        "14153509035830636\n",
        "best value:1.6233990485304015\n"
       ]
      },
      {
       "output_type": "stream",
       "stream": "stdout",
       "text": [
        "exponent:0."
       ]
      },
      {
       "output_type": "stream",
       "stream": "stdout",
       "text": [
        "14156937169680153\n",
        "best value:1.625387933452738\n"
       ]
      },
      {
       "output_type": "stream",
       "stream": "stdout",
       "text": [
        "exponent:0."
       ]
      },
      {
       "output_type": "stream",
       "stream": "stdout",
       "text": [
        "1415829717530266\n",
        "best value:1.6267527552697667\n"
       ]
      },
      {
       "output_type": "stream",
       "stream": "stdout",
       "text": [
        "exponent:0."
       ]
      },
      {
       "output_type": "stream",
       "stream": "stdout",
       "text": [
        "14171210206558993\n",
        "best value:1.6137300831165704\n"
       ]
      },
      {
       "output_type": "stream",
       "stream": "stdout",
       "text": [
        "exponent:0."
       ]
      },
      {
       "output_type": "stream",
       "stream": "stdout",
       "text": [
        "1417475421209941\n",
        "best value:1.6294498278967433\n"
       ]
      },
      {
       "output_type": "stream",
       "stream": "stdout",
       "text": [
        "exponent:0."
       ]
      },
      {
       "output_type": "stream",
       "stream": "stdout",
       "text": [
        "14186423101517548\n",
        "best value:1.6032107669822535\n"
       ]
      },
      {
       "output_type": "stream",
       "stream": "stdout",
       "text": [
        "exponent:0."
       ]
      },
      {
       "output_type": "stream",
       "stream": "stdout",
       "text": [
        "14180755784418594\n",
        "best value:1.5896112945675398\n"
       ]
      },
      {
       "output_type": "stream",
       "stream": "stdout",
       "text": [
        "exponent:0."
       ]
      },
      {
       "output_type": "stream",
       "stream": "stdout",
       "text": [
        "14169304691382167\n",
        "best value:1.592556664990992\n"
       ]
      },
      {
       "output_type": "stream",
       "stream": "stdout",
       "text": [
        "exponent:0."
       ]
      },
      {
       "output_type": "stream",
       "stream": "stdout",
       "text": [
        "14161963458057666\n",
        "best value:1.6162680477237306\n"
       ]
      },
      {
       "output_type": "stream",
       "stream": "stdout",
       "text": [
        "exponent:0."
       ]
      },
      {
       "output_type": "stream",
       "stream": "stdout",
       "text": [
        "1414762383501362\n",
        "best value:1.5923658144148856\n"
       ]
      },
      {
       "output_type": "stream",
       "stream": "stdout",
       "text": [
        "exponent:0."
       ]
      },
      {
       "output_type": "stream",
       "stream": "stdout",
       "text": [
        "1412164004317271\n",
        "best value:1.6103943660072673\n"
       ]
      },
      {
       "output_type": "stream",
       "stream": "stdout",
       "text": [
        "exponent:0."
       ]
      },
      {
       "output_type": "stream",
       "stream": "stdout",
       "text": [
        "14120568109988058\n",
        "best value:1.6266342650634236\n"
       ]
      },
      {
       "output_type": "stream",
       "stream": "stdout",
       "text": [
        "exponent:0."
       ]
      },
      {
       "output_type": "stream",
       "stream": "stdout",
       "text": [
        "14104149143080258\n",
        "best value:1.6228145112634462\n"
       ]
      },
      {
       "output_type": "stream",
       "stream": "stdout",
       "text": [
        "exponent:0."
       ]
      },
      {
       "output_type": "stream",
       "stream": "stdout",
       "text": [
        "14085429223243173\n",
        "best value:1.6433340504240361\n"
       ]
      },
      {
       "output_type": "stream",
       "stream": "stdout",
       "text": [
        "exponent:0."
       ]
      },
      {
       "output_type": "stream",
       "stream": "stdout",
       "text": [
        "1408765637227208\n",
        "best value:1.6322697711286271\n"
       ]
      },
      {
       "output_type": "stream",
       "stream": "stdout",
       "text": [
        "exponent:0."
       ]
      },
      {
       "output_type": "stream",
       "stream": "stdout",
       "text": [
        "14106197344777993\n",
        "best value:1.6335621295436817\n"
       ]
      },
      {
       "output_type": "stream",
       "stream": "stdout",
       "text": [
        "exponent:0."
       ]
      },
      {
       "output_type": "stream",
       "stream": "stdout",
       "text": [
        "14101243635287214\n",
        "best value:1.638299995104601\n"
       ]
      },
      {
       "output_type": "stream",
       "stream": "stdout",
       "text": [
        "exponent:0."
       ]
      },
      {
       "output_type": "stream",
       "stream": "stdout",
       "text": [
        "14081654806684388\n",
        "best value:1.6118645702524326\n"
       ]
      },
      {
       "output_type": "stream",
       "stream": "stdout",
       "text": [
        "exponent:0."
       ]
      },
      {
       "output_type": "stream",
       "stream": "stdout",
       "text": [
        "14061609998596983\n",
        "best value:1.6171454699465153\n"
       ]
      },
      {
       "output_type": "stream",
       "stream": "stdout",
       "text": [
        "exponent:0."
       ]
      },
      {
       "output_type": "stream",
       "stream": "stdout",
       "text": [
        "14048013893759728\n",
        "best value:1.6100243809322663\n"
       ]
      },
      {
       "output_type": "stream",
       "stream": "stdout",
       "text": [
        "exponent:0."
       ]
      },
      {
       "output_type": "stream",
       "stream": "stdout",
       "text": [
        "1403776443002415\n",
        "best value:1.5896954423625964\n"
       ]
      },
      {
       "output_type": "stream",
       "stream": "stdout",
       "text": [
        "exponent:0."
       ]
      },
      {
       "output_type": "stream",
       "stream": "stdout",
       "text": [
        "14041757717772838\n",
        "best value:1.5856531565366305\n"
       ]
      },
      {
       "output_type": "stream",
       "stream": "stdout",
       "text": [
        "exponent:0."
       ]
      },
      {
       "output_type": "stream",
       "stream": "stdout",
       "text": [
        "14041032194211264\n",
        "best value:1.586837387028584\n"
       ]
      },
      {
       "output_type": "stream",
       "stream": "stdout",
       "text": [
        "exponent:0."
       ]
      },
      {
       "output_type": "stream",
       "stream": "stdout",
       "text": [
        "1404919054945683\n",
        "best value:1.5952549317844216\n"
       ]
      },
      {
       "output_type": "stream",
       "stream": "stdout",
       "text": [
        "exponent:0."
       ]
      },
      {
       "output_type": "stream",
       "stream": "stdout",
       "text": [
        "1405665717831248\n",
        "best value:1.5678367146387293\n"
       ]
      },
      {
       "output_type": "stream",
       "stream": "stdout",
       "text": [
        "exponent:0."
       ]
      },
      {
       "output_type": "stream",
       "stream": "stdout",
       "text": [
        "14047524300429845\n",
        "best value:1.5811864602393468\n"
       ]
      },
      {
       "output_type": "stream",
       "stream": "stdout",
       "text": [
        "exponent:0."
       ]
      },
      {
       "output_type": "stream",
       "stream": "stdout",
       "text": [
        "14047916906852637\n",
        "best value:1.588718723512083\n"
       ]
      },
      {
       "output_type": "stream",
       "stream": "stdout",
       "text": [
        "exponent:0."
       ]
      },
      {
       "output_type": "stream",
       "stream": "stdout",
       "text": [
        "14045337267623187\n",
        "best value:1.6009536246612057\n"
       ]
      },
      {
       "output_type": "stream",
       "stream": "stdout",
       "text": [
        "exponent:0."
       ]
      },
      {
       "output_type": "stream",
       "stream": "stdout",
       "text": [
        "14034929692921047\n",
        "best value:1.6102288621310166\n"
       ]
      },
      {
       "output_type": "stream",
       "stream": "stdout",
       "text": [
        "exponent:0."
       ]
      },
      {
       "output_type": "stream",
       "stream": "stdout",
       "text": [
        "1402661984068577\n",
        "best value:1.6328815111480766\n"
       ]
      },
      {
       "output_type": "stream",
       "stream": "stdout",
       "text": [
        "exponent:0."
       ]
      },
      {
       "output_type": "stream",
       "stream": "stdout",
       "text": [
        "1401558628532898\n",
        "best value:1.6365545666727703\n"
       ]
      },
      {
       "output_type": "stream",
       "stream": "stdout",
       "text": [
        "exponent:0."
       ]
      },
      {
       "output_type": "stream",
       "stream": "stdout",
       "text": [
        "1400724425157936\n",
        "best value:1.6417081555157023\n"
       ]
      },
      {
       "output_type": "stream",
       "stream": "stdout",
       "text": [
        "exponent:0."
       ]
      },
      {
       "output_type": "stream",
       "stream": "stdout",
       "text": [
        "14004532537833558\n",
        "best value:1.637762378537352\n"
       ]
      },
      {
       "output_type": "stream",
       "stream": "stdout",
       "text": [
        "exponent:0."
       ]
      },
      {
       "output_type": "stream",
       "stream": "stdout",
       "text": [
        "14004558730527208\n",
        "best value:1.6501221111438014\n"
       ]
      },
      {
       "output_type": "stream",
       "stream": "stdout",
       "text": [
        "exponent:0."
       ]
      },
      {
       "output_type": "stream",
       "stream": "stdout",
       "text": [
        "14004402679975328\n",
        "best value:1.6814766857181471\n"
       ]
      },
      {
       "output_type": "stream",
       "stream": "stdout",
       "text": [
        "exponent:0."
       ]
      },
      {
       "output_type": "stream",
       "stream": "stdout",
       "text": [
        "14015826701371661\n",
        "best value:1.6838333173201814\n"
       ]
      },
      {
       "output_type": "stream",
       "stream": "stdout",
       "text": [
        "exponent:0."
       ]
      },
      {
       "output_type": "stream",
       "stream": "stdout",
       "text": [
        "14016711457749165\n",
        "best value:1.7174513159879627\n"
       ]
      },
      {
       "output_type": "stream",
       "stream": "stdout",
       "text": [
        "exponent:0."
       ]
      },
      {
       "output_type": "stream",
       "stream": "stdout",
       "text": [
        "14020744261965518\n",
        "best value:1.745676191312405\n"
       ]
      },
      {
       "output_type": "stream",
       "stream": "stdout",
       "text": [
        "exponent:0."
       ]
      },
      {
       "output_type": "stream",
       "stream": "stdout",
       "text": [
        "14026572433565188\n",
        "best value:1.754954129634745\n"
       ]
      },
      {
       "output_type": "stream",
       "stream": "stdout",
       "text": [
        "exponent:0."
       ]
      },
      {
       "output_type": "stream",
       "stream": "stdout",
       "text": [
        "14032101979962872\n",
        "best value:1.7723021888790906\n"
       ]
      },
      {
       "output_type": "stream",
       "stream": "stdout",
       "text": [
        "exponent:0."
       ]
      },
      {
       "output_type": "stream",
       "stream": "stdout",
       "text": [
        "14027438157428881\n",
        "best value:1.7378495622259869\n"
       ]
      },
      {
       "output_type": "stream",
       "stream": "stdout",
       "text": [
        "exponent:0."
       ]
      },
      {
       "output_type": "stream",
       "stream": "stdout",
       "text": [
        "14021769339748955\n",
        "best value:1.716967750805453\n"
       ]
      },
      {
       "output_type": "stream",
       "stream": "stdout",
       "text": [
        "exponent:0."
       ]
      },
      {
       "output_type": "stream",
       "stream": "stdout",
       "text": [
        "14027364239356113\n",
        "best value:1.7341132068446714\n"
       ]
      },
      {
       "output_type": "stream",
       "stream": "stdout",
       "text": [
        "exponent:0."
       ]
      },
      {
       "output_type": "stream",
       "stream": "stdout",
       "text": [
        "14022003702020383\n",
        "best value:1.716059082671273\n"
       ]
      },
      {
       "output_type": "stream",
       "stream": "stdout",
       "text": [
        "exponent:0."
       ]
      },
      {
       "output_type": "stream",
       "stream": "stdout",
       "text": [
        "14028571576661997\n",
        "best value:1.7094268263970587\n"
       ]
      },
      {
       "output_type": "stream",
       "stream": "stdout",
       "text": [
        "exponent:0."
       ]
      },
      {
       "output_type": "stream",
       "stream": "stdout",
       "text": [
        "14029961025240603\n",
        "best value:1.7216231514844118\n"
       ]
      },
      {
       "output_type": "stream",
       "stream": "stdout",
       "text": [
        "exponent:0."
       ]
      },
      {
       "output_type": "stream",
       "stream": "stdout",
       "text": [
        "14025960121328732\n",
        "best value:1.7107694833017575\n"
       ]
      },
      {
       "output_type": "stream",
       "stream": "stdout",
       "text": [
        "exponent:0."
       ]
      },
      {
       "output_type": "stream",
       "stream": "stdout",
       "text": [
        "14025241753145298\n",
        "best value:1.7154510760929813\n"
       ]
      },
      {
       "output_type": "stream",
       "stream": "stdout",
       "text": [
        "exponent:0."
       ]
      },
      {
       "output_type": "stream",
       "stream": "stdout",
       "text": [
        "14033939419800584\n",
        "best value:1.7226844398325898\n"
       ]
      },
      {
       "output_type": "stream",
       "stream": "stdout",
       "text": [
        "exponent:0."
       ]
      },
      {
       "output_type": "stream",
       "stream": "stdout",
       "text": [
        "1402047144704905\n",
        "best value:1.7173086127727686\n"
       ]
      },
      {
       "output_type": "stream",
       "stream": "stdout",
       "text": [
        "exponent:0."
       ]
      },
      {
       "output_type": "stream",
       "stream": "stdout",
       "text": [
        "14017849045620243\n",
        "best value:1.7338018077012167\n"
       ]
      },
      {
       "output_type": "stream",
       "stream": "stdout",
       "text": [
        "exponent:0."
       ]
      },
      {
       "output_type": "stream",
       "stream": "stdout",
       "text": [
        "14028810937293718\n",
        "best value:1.7150271214785853\n"
       ]
      },
      {
       "output_type": "stream",
       "stream": "stdout",
       "text": [
        "exponent:0."
       ]
      },
      {
       "output_type": "stream",
       "stream": "stdout",
       "text": [
        "14012603647033242\n",
        "best value:1.7159701461398507\n"
       ]
      },
      {
       "output_type": "stream",
       "stream": "stdout",
       "text": [
        "exponent:0."
       ]
      },
      {
       "output_type": "stream",
       "stream": "stdout",
       "text": [
        "14002878692007545\n",
        "best value:1.715597230692293\n"
       ]
      },
      {
       "output_type": "stream",
       "stream": "stdout",
       "text": [
        "exponent:0."
       ]
      },
      {
       "output_type": "stream",
       "stream": "stdout",
       "text": [
        "13989793836136807\n",
        "best value:1.7171394408240954\n"
       ]
      },
      {
       "output_type": "stream",
       "stream": "stdout",
       "text": [
        "exponent:0."
       ]
      },
      {
       "output_type": "stream",
       "stream": "stdout",
       "text": [
        "13972084940414065\n",
        "best value:1.7058573933709555\n"
       ]
      },
      {
       "output_type": "stream",
       "stream": "stdout",
       "text": [
        "exponent:0."
       ]
      },
      {
       "output_type": "stream",
       "stream": "stdout",
       "text": [
        "13963997699641928\n",
        "best value:1.7115696108237486\n"
       ]
      },
      {
       "output_type": "stream",
       "stream": "stdout",
       "text": [
        "exponent:0."
       ]
      },
      {
       "output_type": "stream",
       "stream": "stdout",
       "text": [
        "13940036823297244\n",
        "best value:1.7162188184258511\n"
       ]
      },
      {
       "output_type": "stream",
       "stream": "stdout",
       "text": [
        "exponent:0."
       ]
      },
      {
       "output_type": "stream",
       "stream": "stdout",
       "text": [
        "13944547803640187\n",
        "best value:1.7255916041338804\n"
       ]
      },
      {
       "output_type": "stream",
       "stream": "stdout",
       "text": [
        "exponent:0."
       ]
      },
      {
       "output_type": "stream",
       "stream": "stdout",
       "text": [
        "13948737087787558\n",
        "best value:1.7249165839246694\n"
       ]
      },
      {
       "output_type": "stream",
       "stream": "stdout",
       "text": [
        "exponent:0."
       ]
      },
      {
       "output_type": "stream",
       "stream": "stdout",
       "text": [
        "13943890504728793\n",
        "best value:1.7458457766887656\n"
       ]
      },
      {
       "output_type": "stream",
       "stream": "stdout",
       "text": [
        "exponent:0."
       ]
      },
      {
       "output_type": "stream",
       "stream": "stdout",
       "text": [
        "13939695948229952\n",
        "best value:1.7472200659985377\n"
       ]
      },
      {
       "output_type": "stream",
       "stream": "stdout",
       "text": [
        "exponent:0."
       ]
      },
      {
       "output_type": "stream",
       "stream": "stdout",
       "text": [
        "13935854965298627\n",
        "best value:1.7562013340557223\n"
       ]
      },
      {
       "output_type": "stream",
       "stream": "stdout",
       "text": [
        "exponent:0."
       ]
      },
      {
       "output_type": "stream",
       "stream": "stdout",
       "text": [
        "13937875204485997\n",
        "best value:1.745905368832252\n"
       ]
      },
      {
       "output_type": "stream",
       "stream": "stdout",
       "text": [
        "exponent:0."
       ]
      },
      {
       "output_type": "stream",
       "stream": "stdout",
       "text": [
        "1394810762978395\n",
        "best value:1.7585016741114077\n"
       ]
      },
      {
       "output_type": "stream",
       "stream": "stdout",
       "text": [
        "exponent:0."
       ]
      },
      {
       "output_type": "stream",
       "stream": "stdout",
       "text": [
        "13942092987886057\n",
        "best value:1.7653648659315548\n"
       ]
      },
      {
       "output_type": "stream",
       "stream": "stdout",
       "text": [
        "exponent:0."
       ]
      },
      {
       "output_type": "stream",
       "stream": "stdout",
       "text": [
        "13944555406710132\n",
        "best value:1.7770434028483157\n"
       ]
      },
      {
       "output_type": "stream",
       "stream": "stdout",
       "text": [
        "exponent:0."
       ]
      },
      {
       "output_type": "stream",
       "stream": "stdout",
       "text": [
        "1394781428324022\n",
        "best value:1.7646247053141848\n"
       ]
      },
      {
       "output_type": "stream",
       "stream": "stdout",
       "text": [
        "exponent:0."
       ]
      },
      {
       "output_type": "stream",
       "stream": "stdout",
       "text": [
        "13940788905277957\n",
        "best value:1.7564656990358472\n"
       ]
      },
      {
       "output_type": "stream",
       "stream": "stdout",
       "text": [
        "exponent:0."
       ]
      },
      {
       "output_type": "stream",
       "stream": "stdout",
       "text": [
        "139547882864276\n",
        "best value:1.7510186249109676\n"
       ]
      },
      {
       "output_type": "stream",
       "stream": "stdout",
       "text": [
        "exponent:0."
       ]
      },
      {
       "output_type": "stream",
       "stream": "stdout",
       "text": [
        "1395870310177827\n",
        "best value:1.722337638820193\n"
       ]
      },
      {
       "output_type": "stream",
       "stream": "stdout",
       "text": [
        "exponent:0."
       ]
      },
      {
       "output_type": "stream",
       "stream": "stdout",
       "text": [
        "1396574363674989\n",
        "best value:1.7101007754397528\n"
       ]
      },
      {
       "output_type": "stream",
       "stream": "stdout",
       "text": [
        "exponent:0."
       ]
      },
      {
       "output_type": "stream",
       "stream": "stdout",
       "text": [
        "1396982913979628\n",
        "best value:1.6995989789722241\n"
       ]
      },
      {
       "output_type": "stream",
       "stream": "stdout",
       "text": [
        "exponent:0."
       ]
      },
      {
       "output_type": "stream",
       "stream": "stdout",
       "text": [
        "13966375822957433\n",
        "best value:1.715659643192196\n"
       ]
      },
      {
       "output_type": "stream",
       "stream": "stdout",
       "text": [
        "exponent:0."
       ]
      },
      {
       "output_type": "stream",
       "stream": "stdout",
       "text": [
        "13953326685527326\n",
        "best value:1.715843959900913\n"
       ]
      },
      {
       "output_type": "stream",
       "stream": "stdout",
       "text": [
        "exponent:0."
       ]
      },
      {
       "output_type": "stream",
       "stream": "stdout",
       "text": [
        "13951605625213323\n",
        "best value:1.733038805969499\n"
       ]
      },
      {
       "output_type": "stream",
       "stream": "stdout",
       "text": [
        "exponent:0."
       ]
      },
      {
       "output_type": "stream",
       "stream": "stdout",
       "text": [
        "1394689515057905\n",
        "best value:1.721290639950656\n"
       ]
      },
      {
       "output_type": "stream",
       "stream": "stdout",
       "text": [
        "exponent:0."
       ]
      },
      {
       "output_type": "stream",
       "stream": "stdout",
       "text": [
        "1395231136792903\n",
        "best value:1.7388136136252434\n"
       ]
      },
      {
       "output_type": "stream",
       "stream": "stdout",
       "text": [
        "exponent:0."
       ]
      },
      {
       "output_type": "stream",
       "stream": "stdout",
       "text": [
        "13948584779553788\n",
        "best value:1.713797784706704\n"
       ]
      },
      {
       "output_type": "stream",
       "stream": "stdout",
       "text": [
        "exponent:0."
       ]
      },
      {
       "output_type": "stream",
       "stream": "stdout",
       "text": [
        "13959415603754188\n",
        "best value:1.706241094364982\n"
       ]
      },
      {
       "output_type": "stream",
       "stream": "stdout",
       "text": [
        "exponent:0."
       ]
      },
      {
       "output_type": "stream",
       "stream": "stdout",
       "text": [
        "13943871642210948\n",
        "best value:1.7147743742876027\n"
       ]
      },
      {
       "output_type": "stream",
       "stream": "stdout",
       "text": [
        "exponent:0."
       ]
      },
      {
       "output_type": "stream",
       "stream": "stdout",
       "text": [
        "13963784169835464\n",
        "best value:1.7211024921654838\n"
       ]
      },
      {
       "output_type": "stream",
       "stream": "stdout",
       "text": [
        "exponent:0."
       ]
      },
      {
       "output_type": "stream",
       "stream": "stdout",
       "text": [
        "13961367252660634\n",
        "best value:1.7207933844349677\n"
       ]
      },
      {
       "output_type": "stream",
       "stream": "stdout",
       "text": [
        "exponent:0."
       ]
      },
      {
       "output_type": "stream",
       "stream": "stdout",
       "text": [
        "13956561017042843\n",
        "best value:1.6985183272414477\n"
       ]
      },
      {
       "output_type": "stream",
       "stream": "stdout",
       "text": [
        "exponent:0."
       ]
      },
      {
       "output_type": "stream",
       "stream": "stdout",
       "text": [
        "13954951378760153\n",
        "best value:1.688562669448416\n"
       ]
      },
      {
       "output_type": "stream",
       "stream": "stdout",
       "text": [
        "exponent:0."
       ]
      },
      {
       "output_type": "stream",
       "stream": "stdout",
       "text": [
        "1395054804546506\n",
        "best value:1.6718382672015932\n"
       ]
      },
      {
       "output_type": "stream",
       "stream": "stdout",
       "text": [
        "exponent:0."
       ]
      },
      {
       "output_type": "stream",
       "stream": "stdout",
       "text": [
        "1395215031926816\n",
        "best value:1.6883121692677838\n"
       ]
      },
      {
       "output_type": "stream",
       "stream": "stdout",
       "text": [
        "exponent:0."
       ]
      },
      {
       "output_type": "stream",
       "stream": "stdout",
       "text": [
        "13953861648054114\n",
        "best value:1.7047799286542367\n"
       ]
      },
      {
       "output_type": "stream",
       "stream": "stdout",
       "text": [
        "exponent:0."
       ]
      },
      {
       "output_type": "stream",
       "stream": "stdout",
       "text": [
        "13956652653514712\n",
        "best value:1.6926118698965402\n"
       ]
      },
      {
       "output_type": "stream",
       "stream": "stdout",
       "text": [
        "exponent:0."
       ]
      },
      {
       "output_type": "stream",
       "stream": "stdout",
       "text": [
        "13948380164276916\n",
        "best value:1.7211100689560586\n"
       ]
      },
      {
       "output_type": "stream",
       "stream": "stdout",
       "text": [
        "exponent:0."
       ]
      },
      {
       "output_type": "stream",
       "stream": "stdout",
       "text": [
        "13955885989225464\n",
        "best value:1.7116400508075622\n"
       ]
      },
      {
       "output_type": "stream",
       "stream": "stdout",
       "text": [
        "exponent:0."
       ]
      },
      {
       "output_type": "stream",
       "stream": "stdout",
       "text": [
        "13959074093411017\n",
        "best value:1.6944855667223508\n"
       ]
      },
      {
       "output_type": "stream",
       "stream": "stdout",
       "text": [
        "exponent:0."
       ]
      },
      {
       "output_type": "stream",
       "stream": "stdout",
       "text": [
        "1395930694182561\n",
        "best value:1.6865263070824341\n"
       ]
      },
      {
       "output_type": "stream",
       "stream": "stdout",
       "text": [
        "exponent:0."
       ]
      },
      {
       "output_type": "stream",
       "stream": "stdout",
       "text": [
        "13953753676737424\n",
        "best value:1.6969643853867837\n"
       ]
      },
      {
       "output_type": "stream",
       "stream": "stdout",
       "text": [
        "exponent:0."
       ]
      },
      {
       "output_type": "stream",
       "stream": "stdout",
       "text": [
        "13953871881691912\n",
        "best value:1.7022919105494834\n"
       ]
      },
      {
       "output_type": "stream",
       "stream": "stdout",
       "text": [
        "exponent:0."
       ]
      },
      {
       "output_type": "stream",
       "stream": "stdout",
       "text": [
        "13969055886781878\n",
        "best value:1.7162212508090589\n"
       ]
      },
      {
       "output_type": "stream",
       "stream": "stdout",
       "text": [
        "exponent:0."
       ]
      },
      {
       "output_type": "stream",
       "stream": "stdout",
       "text": [
        "13972185971681247\n",
        "best value:1.696286912987173\n"
       ]
      },
      {
       "output_type": "stream",
       "stream": "stdout",
       "text": [
        "exponent:0."
       ]
      },
      {
       "output_type": "stream",
       "stream": "stdout",
       "text": [
        "13977919624959087\n",
        "best value:1.6877890413649081\n"
       ]
      },
      {
       "output_type": "stream",
       "stream": "stdout",
       "text": [
        "exponent:0."
       ]
      },
      {
       "output_type": "stream",
       "stream": "stdout",
       "text": [
        "13972939228764808\n",
        "best value:1.6733008160322533\n"
       ]
      },
      {
       "output_type": "stream",
       "stream": "stdout",
       "text": [
        "exponent:0."
       ]
      },
      {
       "output_type": "stream",
       "stream": "stdout",
       "text": [
        "1397597000258305\n",
        "best value:1.6801229041311743\n"
       ]
      },
      {
       "output_type": "stream",
       "stream": "stdout",
       "text": [
        "exponent:0."
       ]
      },
      {
       "output_type": "stream",
       "stream": "stdout",
       "text": [
        "1397710126653449\n",
        "best value:1.6928096004058872\n"
       ]
      },
      {
       "output_type": "stream",
       "stream": "stdout",
       "text": [
        "exponent:0."
       ]
      },
      {
       "output_type": "stream",
       "stream": "stdout",
       "text": [
        "13977606935338563\n",
        "best value:1.7041107988439483\n"
       ]
      },
      {
       "output_type": "stream",
       "stream": "stdout",
       "text": [
        "exponent:0."
       ]
      },
      {
       "output_type": "stream",
       "stream": "stdout",
       "text": [
        "1397020730996615\n",
        "best value:1.7048612132412084\n"
       ]
      },
      {
       "output_type": "stream",
       "stream": "stdout",
       "text": [
        "exponent:0."
       ]
      },
      {
       "output_type": "stream",
       "stream": "stdout",
       "text": [
        "13977405860300723\n",
        "best value:1.7025341740747002\n"
       ]
      },
      {
       "output_type": "stream",
       "stream": "stdout",
       "text": [
        "exponent:0."
       ]
      },
      {
       "output_type": "stream",
       "stream": "stdout",
       "text": [
        "13967072431440045\n",
        "best value:1.6956297447777733\n"
       ]
      },
      {
       "output_type": "stream",
       "stream": "stdout",
       "text": [
        "exponent:0."
       ]
      },
      {
       "output_type": "stream",
       "stream": "stdout",
       "text": [
        "1395802762676207\n",
        "best value:1.682722648269889\n"
       ]
      },
      {
       "output_type": "stream",
       "stream": "stdout",
       "text": [
        "exponent:0."
       ]
      },
      {
       "output_type": "stream",
       "stream": "stdout",
       "text": [
        "1397408853472824\n",
        "best value:1.6981474298180412\n"
       ]
      },
      {
       "output_type": "stream",
       "stream": "stdout",
       "text": [
        "exponent:0."
       ]
      },
      {
       "output_type": "stream",
       "stream": "stdout",
       "text": [
        "13970931540147274\n",
        "best value:1.6738841572695016\n"
       ]
      },
      {
       "output_type": "stream",
       "stream": "stdout",
       "text": [
        "exponent:0."
       ]
      },
      {
       "output_type": "stream",
       "stream": "stdout",
       "text": [
        "13972667393219138\n",
        "best value:1.6763642173020137\n"
       ]
      },
      {
       "output_type": "stream",
       "stream": "stdout",
       "text": [
        "exponent:0."
       ]
      },
      {
       "output_type": "stream",
       "stream": "stdout",
       "text": [
        "13976820322756286\n",
        "best value:1.668105490673857\n"
       ]
      },
      {
       "output_type": "stream",
       "stream": "stdout",
       "text": [
        "exponent:0."
       ]
      },
      {
       "output_type": "stream",
       "stream": "stdout",
       "text": [
        "1397351415037265\n",
        "best value:1.6470677244586531\n"
       ]
      },
      {
       "output_type": "stream",
       "stream": "stdout",
       "text": [
        "exponent:0."
       ]
      },
      {
       "output_type": "stream",
       "stream": "stdout",
       "text": [
        "13973067403595893\n",
        "best value:1.646956255106279\n"
       ]
      },
      {
       "output_type": "stream",
       "stream": "stdout",
       "text": [
        "exponent:0."
       ]
      },
      {
       "output_type": "stream",
       "stream": "stdout",
       "text": [
        "13970861627159475\n",
        "best value:1.6402271002811877\n"
       ]
      },
      {
       "output_type": "stream",
       "stream": "stdout",
       "text": [
        "exponent:0."
       ]
      },
      {
       "output_type": "stream",
       "stream": "stdout",
       "text": [
        "1396816386256866\n",
        "best value:1.6078115083262108\n"
       ]
      },
      {
       "output_type": "stream",
       "stream": "stdout",
       "text": [
        "exponent:0."
       ]
      },
      {
       "output_type": "stream",
       "stream": "stdout",
       "text": [
        "1396559587055312\n",
        "best value:1.6240707784861879\n"
       ]
      },
      {
       "output_type": "stream",
       "stream": "stdout",
       "text": [
        "exponent:0."
       ]
      },
      {
       "output_type": "stream",
       "stream": "stdout",
       "text": [
        "1396064824405839\n",
        "best value:1.6360854064402215\n"
       ]
      },
      {
       "output_type": "stream",
       "stream": "stdout",
       "text": [
        "exponent:0."
       ]
      },
      {
       "output_type": "stream",
       "stream": "stdout",
       "text": [
        "1397241751141494\n",
        "best value:1.6204848604406261\n"
       ]
      },
      {
       "output_type": "stream",
       "stream": "stdout",
       "text": [
        "exponent:0."
       ]
      },
      {
       "output_type": "stream",
       "stream": "stdout",
       "text": [
        "1397908467614033\n",
        "best value:1.5904048818634573\n"
       ]
      },
      {
       "output_type": "stream",
       "stream": "stdout",
       "text": [
        "exponent:0."
       ]
      },
      {
       "output_type": "stream",
       "stream": "stdout",
       "text": [
        "13990441484286273\n",
        "best value:1.5977974758267206\n"
       ]
      },
      {
       "output_type": "stream",
       "stream": "stdout",
       "text": [
        "exponent:0."
       ]
      },
      {
       "output_type": "stream",
       "stream": "stdout",
       "text": [
        "1399192427881511\n",
        "best value:1.588210005564195\n"
       ]
      },
      {
       "output_type": "stream",
       "stream": "stdout",
       "text": [
        "exponent:0."
       ]
      },
      {
       "output_type": "stream",
       "stream": "stdout",
       "text": [
        "1399762262422549\n",
        "best value:1.592012165083581\n"
       ]
      },
      {
       "output_type": "stream",
       "stream": "stdout",
       "text": [
        "exponent:0."
       ]
      },
      {
       "output_type": "stream",
       "stream": "stdout",
       "text": [
        "13998144712142666\n",
        "best value:1.61113531154033\n"
       ]
      },
      {
       "output_type": "stream",
       "stream": "stdout",
       "text": [
        "exponent:0."
       ]
      },
      {
       "output_type": "stream",
       "stream": "stdout",
       "text": [
        "14002293214232625\n",
        "best value:1.616461817415614\n"
       ]
      },
      {
       "output_type": "stream",
       "stream": "stdout",
       "text": [
        "exponent:0."
       ]
      },
      {
       "output_type": "stream",
       "stream": "stdout",
       "text": [
        "1400241470296368\n",
        "best value:1.5947372042697865\n"
       ]
      },
      {
       "output_type": "stream",
       "stream": "stdout",
       "text": [
        "exponent:0."
       ]
      },
      {
       "output_type": "stream",
       "stream": "stdout",
       "text": [
        "14011995724428347\n",
        "best value:1.5751983174352608\n"
       ]
      },
      {
       "output_type": "stream",
       "stream": "stdout",
       "text": [
        "exponent:0."
       ]
      },
      {
       "output_type": "stream",
       "stream": "stdout",
       "text": [
        "1400477849661764\n",
        "best value:1.5652562131015018\n"
       ]
      },
      {
       "output_type": "stream",
       "stream": "stdout",
       "text": [
        "exponent:0."
       ]
      },
      {
       "output_type": "stream",
       "stream": "stdout",
       "text": [
        "14008815887252898\n",
        "best value:1.5686188249815083\n"
       ]
      },
      {
       "output_type": "stream",
       "stream": "stdout",
       "text": [
        "exponent:0."
       ]
      },
      {
       "output_type": "stream",
       "stream": "stdout",
       "text": [
        "14010422270105963\n",
        "best value:1.5594462250314969\n"
       ]
      },
      {
       "output_type": "stream",
       "stream": "stdout",
       "text": [
        "exponent:0."
       ]
      },
      {
       "output_type": "stream",
       "stream": "stdout",
       "text": [
        "1401457968904526\n",
        "best value:1.5321426538246876\n"
       ]
      },
      {
       "output_type": "stream",
       "stream": "stdout",
       "text": [
        "exponent:0."
       ]
      },
      {
       "output_type": "stream",
       "stream": "stdout",
       "text": [
        "14030995870503649\n",
        "best value:1.521013874582641\n"
       ]
      },
      {
       "output_type": "stream",
       "stream": "stdout",
       "text": [
        "exponent:0."
       ]
      },
      {
       "output_type": "stream",
       "stream": "stdout",
       "text": [
        "14034771973774324\n",
        "best value:1.4925825086705897\n"
       ]
      },
      {
       "output_type": "stream",
       "stream": "stdout",
       "text": [
        "exponent:0."
       ]
      },
      {
       "output_type": "stream",
       "stream": "stdout",
       "text": [
        "1404618836409425\n",
        "best value:1.4606023354628725\n"
       ]
      },
      {
       "output_type": "stream",
       "stream": "stdout",
       "text": [
        "exponent:0."
       ]
      },
      {
       "output_type": "stream",
       "stream": "stdout",
       "text": [
        "1404586629391462\n",
        "best value:1.4314014482974142\n"
       ]
      },
      {
       "output_type": "stream",
       "stream": "stdout",
       "text": [
        "exponent:0."
       ]
      },
      {
       "output_type": "stream",
       "stream": "stdout",
       "text": [
        "1405119762793853\n",
        "best value:1.4114079501950743\n"
       ]
      },
      {
       "output_type": "stream",
       "stream": "stdout",
       "text": [
        "exponent:0."
       ]
      },
      {
       "output_type": "stream",
       "stream": "stdout",
       "text": [
        "14055932587802947\n",
        "best value:1.3949488300076174\n"
       ]
      },
      {
       "output_type": "stream",
       "stream": "stdout",
       "text": [
        "exponent:0."
       ]
      },
      {
       "output_type": "stream",
       "stream": "stdout",
       "text": [
        "1406666794213477\n",
        "best value:1.4180676613499716\n"
       ]
      },
      {
       "output_type": "stream",
       "stream": "stdout",
       "text": [
        "exponent:0."
       ]
      },
      {
       "output_type": "stream",
       "stream": "stdout",
       "text": [
        "14066336731757775\n",
        "best value:1.3914424579186013\n"
       ]
      },
      {
       "output_type": "stream",
       "stream": "stdout",
       "text": [
        "exponent:0."
       ]
      },
      {
       "output_type": "stream",
       "stream": "stdout",
       "text": [
        "14072018319950672\n",
        "best value:1.3680770670770115\n"
       ]
      },
      {
       "output_type": "stream",
       "stream": "stdout",
       "text": [
        "exponent:0."
       ]
      },
      {
       "output_type": "stream",
       "stream": "stdout",
       "text": [
        "14066621147805464\n",
        "best value:1.3510602843384232\n"
       ]
      },
      {
       "output_type": "stream",
       "stream": "stdout",
       "text": [
        "exponent:0."
       ]
      },
      {
       "output_type": "stream",
       "stream": "stdout",
       "text": [
        "1408101064801174\n",
        "best value:1.3704313522989668\n"
       ]
      },
      {
       "output_type": "stream",
       "stream": "stdout",
       "text": [
        "exponent:0."
       ]
      },
      {
       "output_type": "stream",
       "stream": "stdout",
       "text": [
        "14083460410681392\n",
        "best value:1.3874389583248519\n"
       ]
      },
      {
       "output_type": "stream",
       "stream": "stdout",
       "text": [
        "exponent:0."
       ]
      },
      {
       "output_type": "stream",
       "stream": "stdout",
       "text": [
        "14078673489918958\n",
        "best value:1.3769226117540134\n"
       ]
      },
      {
       "output_type": "stream",
       "stream": "stdout",
       "text": [
        "exponent:0."
       ]
      },
      {
       "output_type": "stream",
       "stream": "stdout",
       "text": [
        "14064127000859183\n",
        "best value:1.3580801300334513\n"
       ]
      },
      {
       "output_type": "stream",
       "stream": "stdout",
       "text": [
        "exponent:0."
       ]
      },
      {
       "output_type": "stream",
       "stream": "stdout",
       "text": [
        "1405328336134261\n",
        "best value:1.3579195916902047\n"
       ]
      }
     ],
     "prompt_number": 3
    },
    {
     "cell_type": "code",
     "collapsed": false,
     "input": [
      "x=linspace(1, length(data[:DJIA]), length(data[:DJIA]))\n",
      "l1 = layer(x=x, y=data[:DJIA], Geom.line)\n",
      "\n",
      "x0 = length(data[:DJIA])-next_x_points+1\n",
      "x_ts = linspace(x0, length(ts), length(ts)-x0)\n",
      "y_ts = ts[x0:end]\n",
      "l2 = layer(x=x_ts, y=y_ts, Geom.line, Theme(default_color=color(\"red\")))\n",
      "plot(l1, l2)\n"
     ],
     "language": "python",
     "metadata": {},
     "outputs": [
      {
       "html": [
        "<?xml version=\"1.0\" encoding=\"UTF-8\"?>\n",
        "<svg xmlns=\"http://www.w3.org/2000/svg\"\n",
        "     xmlns:xlink=\"http://www.w3.org/1999/xlink\"\n",
        "     xmlns:gadfly=\"http://www.gadflyjl.org/ns\"\n",
        "     version=\"1.2\"\n",
        "     width=\"141.42mm\" height=\"100mm\" viewBox=\"0 0 141.42 100\"\n",
        "     stroke=\"none\"\n",
        "     fill=\"#000000\"\n",
        "     stroke-width=\"0.3\"\n",
        "     font-size=\"3.88\"\n",
        "\n",
        "     id=\"fig-7e407ce6bb964f0a9f0e4d5b3324d29d\">\n",
        "<g class=\"plotroot xscalable yscalable\" id=\"fig-7e407ce6bb964f0a9f0e4d5b3324d29d-element-1\">\n",
        "  <g font-size=\"3.88\" font-family=\"'PT Sans','Helvetica Neue','Helvetica',sans-serif\" fill=\"#564A55\" stroke=\"none\" id=\"fig-7e407ce6bb964f0a9f0e4d5b3324d29d-element-2\">\n",
        "    <text x=\"80.67\" y=\"92\" text-anchor=\"middle\">x</text>\n",
        "  </g>\n",
        "  <g class=\"guide xlabels\" font-size=\"2.82\" font-family=\"'PT Sans Caption','Helvetica Neue','Helvetica',sans-serif\" fill=\"#6C606B\" id=\"fig-7e407ce6bb964f0a9f0e4d5b3324d29d-element-3\">\n",
        "    <text x=\"-107.46\" y=\"86.39\" text-anchor=\"middle\" gadfly:scale=\"1.0\" visibility=\"hidden\">-5\u00d710\u00b3</text>\n",
        "    <text x=\"-80.58\" y=\"86.39\" text-anchor=\"middle\" gadfly:scale=\"1.0\" visibility=\"hidden\">-4\u00d710\u00b3</text>\n",
        "    <text x=\"-53.71\" y=\"86.39\" text-anchor=\"middle\" gadfly:scale=\"1.0\" visibility=\"hidden\">-3\u00d710\u00b3</text>\n",
        "    <text x=\"-26.83\" y=\"86.39\" text-anchor=\"middle\" gadfly:scale=\"1.0\" visibility=\"hidden\">-2\u00d710\u00b3</text>\n",
        "    <text x=\"0.04\" y=\"86.39\" text-anchor=\"middle\" gadfly:scale=\"1.0\" visibility=\"hidden\">-1\u00d710\u00b3</text>\n",
        "    <text x=\"26.92\" y=\"86.39\" text-anchor=\"middle\" gadfly:scale=\"1.0\" visibility=\"visible\">0</text>\n",
        "    <text x=\"53.79\" y=\"86.39\" text-anchor=\"middle\" gadfly:scale=\"1.0\" visibility=\"visible\">1\u00d710\u00b3</text>\n",
        "    <text x=\"80.67\" y=\"86.39\" text-anchor=\"middle\" gadfly:scale=\"1.0\" visibility=\"visible\">2\u00d710\u00b3</text>\n",
        "    <text x=\"107.55\" y=\"86.39\" text-anchor=\"middle\" gadfly:scale=\"1.0\" visibility=\"visible\">3\u00d710\u00b3</text>\n",
        "    <text x=\"134.42\" y=\"86.39\" text-anchor=\"middle\" gadfly:scale=\"1.0\" visibility=\"visible\">4\u00d710\u00b3</text>\n",
        "    <text x=\"161.3\" y=\"86.39\" text-anchor=\"middle\" gadfly:scale=\"1.0\" visibility=\"hidden\">5\u00d710\u00b3</text>\n",
        "    <text x=\"188.17\" y=\"86.39\" text-anchor=\"middle\" gadfly:scale=\"1.0\" visibility=\"hidden\">6\u00d710\u00b3</text>\n",
        "    <text x=\"215.05\" y=\"86.39\" text-anchor=\"middle\" gadfly:scale=\"1.0\" visibility=\"hidden\">7\u00d710\u00b3</text>\n",
        "    <text x=\"241.92\" y=\"86.39\" text-anchor=\"middle\" gadfly:scale=\"1.0\" visibility=\"hidden\">8\u00d710\u00b3</text>\n",
        "    <text x=\"268.8\" y=\"86.39\" text-anchor=\"middle\" gadfly:scale=\"1.0\" visibility=\"hidden\">9\u00d710\u00b3</text>\n",
        "    <text x=\"-80.58\" y=\"86.39\" text-anchor=\"middle\" gadfly:scale=\"10.0\" visibility=\"hidden\">-4.0\u00d710\u00b3</text>\n",
        "    <text x=\"-75.21\" y=\"86.39\" text-anchor=\"middle\" gadfly:scale=\"10.0\" visibility=\"hidden\">-3.8\u00d710\u00b3</text>\n",
        "    <text x=\"-69.83\" y=\"86.39\" text-anchor=\"middle\" gadfly:scale=\"10.0\" visibility=\"hidden\">-3.6\u00d710\u00b3</text>\n",
        "    <text x=\"-64.46\" y=\"86.39\" text-anchor=\"middle\" gadfly:scale=\"10.0\" visibility=\"hidden\">-3.4\u00d710\u00b3</text>\n",
        "    <text x=\"-59.08\" y=\"86.39\" text-anchor=\"middle\" gadfly:scale=\"10.0\" visibility=\"hidden\">-3.2\u00d710\u00b3</text>\n",
        "    <text x=\"-53.71\" y=\"86.39\" text-anchor=\"middle\" gadfly:scale=\"10.0\" visibility=\"hidden\">-3.0\u00d710\u00b3</text>\n",
        "    <text x=\"-48.33\" y=\"86.39\" text-anchor=\"middle\" gadfly:scale=\"10.0\" visibility=\"hidden\">-2.8\u00d710\u00b3</text>\n",
        "    <text x=\"-42.96\" y=\"86.39\" text-anchor=\"middle\" gadfly:scale=\"10.0\" visibility=\"hidden\">-2.6\u00d710\u00b3</text>\n",
        "    <text x=\"-37.58\" y=\"86.39\" text-anchor=\"middle\" gadfly:scale=\"10.0\" visibility=\"hidden\">-2.4\u00d710\u00b3</text>\n",
        "    <text x=\"-32.21\" y=\"86.39\" text-anchor=\"middle\" gadfly:scale=\"10.0\" visibility=\"hidden\">-2.2\u00d710\u00b3</text>\n",
        "    <text x=\"-26.83\" y=\"86.39\" text-anchor=\"middle\" gadfly:scale=\"10.0\" visibility=\"hidden\">-2.0\u00d710\u00b3</text>\n",
        "    <text x=\"-21.46\" y=\"86.39\" text-anchor=\"middle\" gadfly:scale=\"10.0\" visibility=\"hidden\">-1.8\u00d710\u00b3</text>\n",
        "    <text x=\"-16.08\" y=\"86.39\" text-anchor=\"middle\" gadfly:scale=\"10.0\" visibility=\"hidden\">-1.6\u00d710\u00b3</text>\n",
        "    <text x=\"-10.71\" y=\"86.39\" text-anchor=\"middle\" gadfly:scale=\"10.0\" visibility=\"hidden\">-1.4\u00d710\u00b3</text>\n",
        "    <text x=\"-5.33\" y=\"86.39\" text-anchor=\"middle\" gadfly:scale=\"10.0\" visibility=\"hidden\">-1.2\u00d710\u00b3</text>\n",
        "    <text x=\"0.04\" y=\"86.39\" text-anchor=\"middle\" gadfly:scale=\"10.0\" visibility=\"hidden\">-1.0\u00d710\u00b3</text>\n",
        "    <text x=\"5.42\" y=\"86.39\" text-anchor=\"middle\" gadfly:scale=\"10.0\" visibility=\"hidden\">-8.0\u00d710\u00b2</text>\n",
        "    <text x=\"10.79\" y=\"86.39\" text-anchor=\"middle\" gadfly:scale=\"10.0\" visibility=\"hidden\">-6.0\u00d710\u00b2</text>\n",
        "    <text x=\"16.17\" y=\"86.39\" text-anchor=\"middle\" gadfly:scale=\"10.0\" visibility=\"hidden\">-4.0\u00d710\u00b2</text>\n",
        "    <text x=\"21.54\" y=\"86.39\" text-anchor=\"middle\" gadfly:scale=\"10.0\" visibility=\"hidden\">-2.0\u00d710\u00b2</text>\n",
        "    <text x=\"26.92\" y=\"86.39\" text-anchor=\"middle\" gadfly:scale=\"10.0\" visibility=\"hidden\">0</text>\n",
        "    <text x=\"32.29\" y=\"86.39\" text-anchor=\"middle\" gadfly:scale=\"10.0\" visibility=\"hidden\">2.0\u00d710\u00b2</text>\n",
        "    <text x=\"37.67\" y=\"86.39\" text-anchor=\"middle\" gadfly:scale=\"10.0\" visibility=\"hidden\">4.0\u00d710\u00b2</text>\n",
        "    <text x=\"43.04\" y=\"86.39\" text-anchor=\"middle\" gadfly:scale=\"10.0\" visibility=\"hidden\">6.0\u00d710\u00b2</text>\n",
        "    <text x=\"48.42\" y=\"86.39\" text-anchor=\"middle\" gadfly:scale=\"10.0\" visibility=\"hidden\">8.0\u00d710\u00b2</text>\n",
        "    <text x=\"53.79\" y=\"86.39\" text-anchor=\"middle\" gadfly:scale=\"10.0\" visibility=\"hidden\">1.0\u00d710\u00b3</text>\n",
        "    <text x=\"59.17\" y=\"86.39\" text-anchor=\"middle\" gadfly:scale=\"10.0\" visibility=\"hidden\">1.2\u00d710\u00b3</text>\n",
        "    <text x=\"64.54\" y=\"86.39\" text-anchor=\"middle\" gadfly:scale=\"10.0\" visibility=\"hidden\">1.4\u00d710\u00b3</text>\n",
        "    <text x=\"69.92\" y=\"86.39\" text-anchor=\"middle\" gadfly:scale=\"10.0\" visibility=\"hidden\">1.6\u00d710\u00b3</text>\n",
        "    <text x=\"75.3\" y=\"86.39\" text-anchor=\"middle\" gadfly:scale=\"10.0\" visibility=\"hidden\">1.8\u00d710\u00b3</text>\n",
        "    <text x=\"80.67\" y=\"86.39\" text-anchor=\"middle\" gadfly:scale=\"10.0\" visibility=\"hidden\">2.0\u00d710\u00b3</text>\n",
        "    <text x=\"86.05\" y=\"86.39\" text-anchor=\"middle\" gadfly:scale=\"10.0\" visibility=\"hidden\">2.2\u00d710\u00b3</text>\n",
        "    <text x=\"91.42\" y=\"86.39\" text-anchor=\"middle\" gadfly:scale=\"10.0\" visibility=\"hidden\">2.4\u00d710\u00b3</text>\n",
        "    <text x=\"96.8\" y=\"86.39\" text-anchor=\"middle\" gadfly:scale=\"10.0\" visibility=\"hidden\">2.6\u00d710\u00b3</text>\n",
        "    <text x=\"102.17\" y=\"86.39\" text-anchor=\"middle\" gadfly:scale=\"10.0\" visibility=\"hidden\">2.8\u00d710\u00b3</text>\n",
        "    <text x=\"107.55\" y=\"86.39\" text-anchor=\"middle\" gadfly:scale=\"10.0\" visibility=\"hidden\">3.0\u00d710\u00b3</text>\n",
        "    <text x=\"112.92\" y=\"86.39\" text-anchor=\"middle\" gadfly:scale=\"10.0\" visibility=\"hidden\">3.2\u00d710\u00b3</text>\n",
        "    <text x=\"118.3\" y=\"86.39\" text-anchor=\"middle\" gadfly:scale=\"10.0\" visibility=\"hidden\">3.4\u00d710\u00b3</text>\n",
        "    <text x=\"123.67\" y=\"86.39\" text-anchor=\"middle\" gadfly:scale=\"10.0\" visibility=\"hidden\">3.6\u00d710\u00b3</text>\n",
        "    <text x=\"129.05\" y=\"86.39\" text-anchor=\"middle\" gadfly:scale=\"10.0\" visibility=\"hidden\">3.8\u00d710\u00b3</text>\n",
        "    <text x=\"134.42\" y=\"86.39\" text-anchor=\"middle\" gadfly:scale=\"10.0\" visibility=\"hidden\">4.0\u00d710\u00b3</text>\n",
        "    <text x=\"139.8\" y=\"86.39\" text-anchor=\"middle\" gadfly:scale=\"10.0\" visibility=\"hidden\">4.2\u00d710\u00b3</text>\n",
        "    <text x=\"145.17\" y=\"86.39\" text-anchor=\"middle\" gadfly:scale=\"10.0\" visibility=\"hidden\">4.4\u00d710\u00b3</text>\n",
        "    <text x=\"150.55\" y=\"86.39\" text-anchor=\"middle\" gadfly:scale=\"10.0\" visibility=\"hidden\">4.6\u00d710\u00b3</text>\n",
        "    <text x=\"155.92\" y=\"86.39\" text-anchor=\"middle\" gadfly:scale=\"10.0\" visibility=\"hidden\">4.8\u00d710\u00b3</text>\n",
        "    <text x=\"161.3\" y=\"86.39\" text-anchor=\"middle\" gadfly:scale=\"10.0\" visibility=\"hidden\">5.0\u00d710\u00b3</text>\n",
        "    <text x=\"166.67\" y=\"86.39\" text-anchor=\"middle\" gadfly:scale=\"10.0\" visibility=\"hidden\">5.2\u00d710\u00b3</text>\n",
        "    <text x=\"172.05\" y=\"86.39\" text-anchor=\"middle\" gadfly:scale=\"10.0\" visibility=\"hidden\">5.4\u00d710\u00b3</text>\n",
        "    <text x=\"177.42\" y=\"86.39\" text-anchor=\"middle\" gadfly:scale=\"10.0\" visibility=\"hidden\">5.6\u00d710\u00b3</text>\n",
        "    <text x=\"182.8\" y=\"86.39\" text-anchor=\"middle\" gadfly:scale=\"10.0\" visibility=\"hidden\">5.8\u00d710\u00b3</text>\n",
        "    <text x=\"188.17\" y=\"86.39\" text-anchor=\"middle\" gadfly:scale=\"10.0\" visibility=\"hidden\">6.0\u00d710\u00b3</text>\n",
        "    <text x=\"193.55\" y=\"86.39\" text-anchor=\"middle\" gadfly:scale=\"10.0\" visibility=\"hidden\">6.2\u00d710\u00b3</text>\n",
        "    <text x=\"198.92\" y=\"86.39\" text-anchor=\"middle\" gadfly:scale=\"10.0\" visibility=\"hidden\">6.4\u00d710\u00b3</text>\n",
        "    <text x=\"204.3\" y=\"86.39\" text-anchor=\"middle\" gadfly:scale=\"10.0\" visibility=\"hidden\">6.6\u00d710\u00b3</text>\n",
        "    <text x=\"209.67\" y=\"86.39\" text-anchor=\"middle\" gadfly:scale=\"10.0\" visibility=\"hidden\">6.8\u00d710\u00b3</text>\n",
        "    <text x=\"215.05\" y=\"86.39\" text-anchor=\"middle\" gadfly:scale=\"10.0\" visibility=\"hidden\">7.0\u00d710\u00b3</text>\n",
        "    <text x=\"220.42\" y=\"86.39\" text-anchor=\"middle\" gadfly:scale=\"10.0\" visibility=\"hidden\">7.2\u00d710\u00b3</text>\n",
        "    <text x=\"225.8\" y=\"86.39\" text-anchor=\"middle\" gadfly:scale=\"10.0\" visibility=\"hidden\">7.4\u00d710\u00b3</text>\n",
        "    <text x=\"231.17\" y=\"86.39\" text-anchor=\"middle\" gadfly:scale=\"10.0\" visibility=\"hidden\">7.6\u00d710\u00b3</text>\n",
        "    <text x=\"236.55\" y=\"86.39\" text-anchor=\"middle\" gadfly:scale=\"10.0\" visibility=\"hidden\">7.8\u00d710\u00b3</text>\n",
        "    <text x=\"241.92\" y=\"86.39\" text-anchor=\"middle\" gadfly:scale=\"10.0\" visibility=\"hidden\">8.0\u00d710\u00b3</text>\n",
        "    <text x=\"-107.46\" y=\"86.39\" text-anchor=\"middle\" gadfly:scale=\"0.5\" visibility=\"hidden\">-5.0\u00d710\u00b3</text>\n",
        "    <text x=\"26.92\" y=\"86.39\" text-anchor=\"middle\" gadfly:scale=\"0.5\" visibility=\"hidden\">0</text>\n",
        "    <text x=\"161.3\" y=\"86.39\" text-anchor=\"middle\" gadfly:scale=\"0.5\" visibility=\"hidden\">5.0\u00d710\u00b3</text>\n",
        "    <text x=\"295.67\" y=\"86.39\" text-anchor=\"middle\" gadfly:scale=\"0.5\" visibility=\"hidden\">1.0\u00d710\u2074</text>\n",
        "    <text x=\"-80.58\" y=\"86.39\" text-anchor=\"middle\" gadfly:scale=\"5.0\" visibility=\"hidden\">-4.0\u00d710\u00b3</text>\n",
        "    <text x=\"-67.15\" y=\"86.39\" text-anchor=\"middle\" gadfly:scale=\"5.0\" visibility=\"hidden\">-3.5\u00d710\u00b3</text>\n",
        "    <text x=\"-53.71\" y=\"86.39\" text-anchor=\"middle\" gadfly:scale=\"5.0\" visibility=\"hidden\">-3.0\u00d710\u00b3</text>\n",
        "    <text x=\"-40.27\" y=\"86.39\" text-anchor=\"middle\" gadfly:scale=\"5.0\" visibility=\"hidden\">-2.5\u00d710\u00b3</text>\n",
        "    <text x=\"-26.83\" y=\"86.39\" text-anchor=\"middle\" gadfly:scale=\"5.0\" visibility=\"hidden\">-2.0\u00d710\u00b3</text>\n",
        "    <text x=\"-13.39\" y=\"86.39\" text-anchor=\"middle\" gadfly:scale=\"5.0\" visibility=\"hidden\">-1.5\u00d710\u00b3</text>\n",
        "    <text x=\"0.04\" y=\"86.39\" text-anchor=\"middle\" gadfly:scale=\"5.0\" visibility=\"hidden\">-1.0\u00d710\u00b3</text>\n",
        "    <text x=\"13.48\" y=\"86.39\" text-anchor=\"middle\" gadfly:scale=\"5.0\" visibility=\"hidden\">-5.0\u00d710\u00b2</text>\n",
        "    <text x=\"26.92\" y=\"86.39\" text-anchor=\"middle\" gadfly:scale=\"5.0\" visibility=\"hidden\">0</text>\n",
        "    <text x=\"40.36\" y=\"86.39\" text-anchor=\"middle\" gadfly:scale=\"5.0\" visibility=\"hidden\">5.0\u00d710\u00b2</text>\n",
        "    <text x=\"53.79\" y=\"86.39\" text-anchor=\"middle\" gadfly:scale=\"5.0\" visibility=\"hidden\">1.0\u00d710\u00b3</text>\n",
        "    <text x=\"67.23\" y=\"86.39\" text-anchor=\"middle\" gadfly:scale=\"5.0\" visibility=\"hidden\">1.5\u00d710\u00b3</text>\n",
        "    <text x=\"80.67\" y=\"86.39\" text-anchor=\"middle\" gadfly:scale=\"5.0\" visibility=\"hidden\">2.0\u00d710\u00b3</text>\n",
        "    <text x=\"94.11\" y=\"86.39\" text-anchor=\"middle\" gadfly:scale=\"5.0\" visibility=\"hidden\">2.5\u00d710\u00b3</text>\n",
        "    <text x=\"107.55\" y=\"86.39\" text-anchor=\"middle\" gadfly:scale=\"5.0\" visibility=\"hidden\">3.0\u00d710\u00b3</text>\n",
        "    <text x=\"120.98\" y=\"86.39\" text-anchor=\"middle\" gadfly:scale=\"5.0\" visibility=\"hidden\">3.5\u00d710\u00b3</text>\n",
        "    <text x=\"134.42\" y=\"86.39\" text-anchor=\"middle\" gadfly:scale=\"5.0\" visibility=\"hidden\">4.0\u00d710\u00b3</text>\n",
        "    <text x=\"147.86\" y=\"86.39\" text-anchor=\"middle\" gadfly:scale=\"5.0\" visibility=\"hidden\">4.5\u00d710\u00b3</text>\n",
        "    <text x=\"161.3\" y=\"86.39\" text-anchor=\"middle\" gadfly:scale=\"5.0\" visibility=\"hidden\">5.0\u00d710\u00b3</text>\n",
        "    <text x=\"174.73\" y=\"86.39\" text-anchor=\"middle\" gadfly:scale=\"5.0\" visibility=\"hidden\">5.5\u00d710\u00b3</text>\n",
        "    <text x=\"188.17\" y=\"86.39\" text-anchor=\"middle\" gadfly:scale=\"5.0\" visibility=\"hidden\">6.0\u00d710\u00b3</text>\n",
        "    <text x=\"201.61\" y=\"86.39\" text-anchor=\"middle\" gadfly:scale=\"5.0\" visibility=\"hidden\">6.5\u00d710\u00b3</text>\n",
        "    <text x=\"215.05\" y=\"86.39\" text-anchor=\"middle\" gadfly:scale=\"5.0\" visibility=\"hidden\">7.0\u00d710\u00b3</text>\n",
        "    <text x=\"228.49\" y=\"86.39\" text-anchor=\"middle\" gadfly:scale=\"5.0\" visibility=\"hidden\">7.5\u00d710\u00b3</text>\n",
        "    <text x=\"241.92\" y=\"86.39\" text-anchor=\"middle\" gadfly:scale=\"5.0\" visibility=\"hidden\">8.0\u00d710\u00b3</text>\n",
        "  </g>\n",
        "  <g clip-path=\"url(#fig-7e407ce6bb964f0a9f0e4d5b3324d29d-element-5)\" id=\"fig-7e407ce6bb964f0a9f0e4d5b3324d29d-element-4\">\n",
        "    <g pointer-events=\"visible\" opacity=\"1\" fill=\"none\" stroke=\"none\" class=\"guide background\" id=\"fig-7e407ce6bb964f0a9f0e4d5b3324d29d-element-6\">\n",
        "      <rect x=\"24.92\" y=\"5\" width=\"111.5\" height=\"77.72\"/>\n",
        "    </g>\n",
        "    <g class=\"guide ygridlines xfixed\" stroke-dasharray=\"0.5,0.5\" stroke-width=\"0.2\" stroke=\"#D0D0E0\" id=\"fig-7e407ce6bb964f0a9f0e4d5b3324d29d-element-7\">\n",
        "      <path fill=\"none\" d=\"M24.92,172.86 L 136.42 172.86\" gadfly:scale=\"1.0\" visibility=\"hidden\"/>\n",
        "      <path fill=\"none\" d=\"M24.92,154.43 L 136.42 154.43\" gadfly:scale=\"1.0\" visibility=\"hidden\"/>\n",
        "      <path fill=\"none\" d=\"M24.92,136 L 136.42 136\" gadfly:scale=\"1.0\" visibility=\"hidden\"/>\n",
        "      <path fill=\"none\" d=\"M24.92,117.57 L 136.42 117.57\" gadfly:scale=\"1.0\" visibility=\"hidden\"/>\n",
        "      <path fill=\"none\" d=\"M24.92,99.14 L 136.42 99.14\" gadfly:scale=\"1.0\" visibility=\"hidden\"/>\n",
        "      <path fill=\"none\" d=\"M24.92,80.72 L 136.42 80.72\" gadfly:scale=\"1.0\" visibility=\"visible\"/>\n",
        "      <path fill=\"none\" d=\"M24.92,62.29 L 136.42 62.29\" gadfly:scale=\"1.0\" visibility=\"visible\"/>\n",
        "      <path fill=\"none\" d=\"M24.92,43.86 L 136.42 43.86\" gadfly:scale=\"1.0\" visibility=\"visible\"/>\n",
        "      <path fill=\"none\" d=\"M24.92,25.43 L 136.42 25.43\" gadfly:scale=\"1.0\" visibility=\"visible\"/>\n",
        "      <path fill=\"none\" d=\"M24.92,7 L 136.42 7\" gadfly:scale=\"1.0\" visibility=\"visible\"/>\n",
        "      <path fill=\"none\" d=\"M24.92,-11.43 L 136.42 -11.43\" gadfly:scale=\"1.0\" visibility=\"hidden\"/>\n",
        "      <path fill=\"none\" d=\"M24.92,-29.86 L 136.42 -29.86\" gadfly:scale=\"1.0\" visibility=\"hidden\"/>\n",
        "      <path fill=\"none\" d=\"M24.92,-48.29 L 136.42 -48.29\" gadfly:scale=\"1.0\" visibility=\"hidden\"/>\n",
        "      <path fill=\"none\" d=\"M24.92,-66.71 L 136.42 -66.71\" gadfly:scale=\"1.0\" visibility=\"hidden\"/>\n",
        "      <path fill=\"none\" d=\"M24.92,-85.14 L 136.42 -85.14\" gadfly:scale=\"1.0\" visibility=\"hidden\"/>\n",
        "      <path fill=\"none\" d=\"M24.92,154.43 L 136.42 154.43\" gadfly:scale=\"10.0\" visibility=\"hidden\"/>\n",
        "      <path fill=\"none\" d=\"M24.92,150.74 L 136.42 150.74\" gadfly:scale=\"10.0\" visibility=\"hidden\"/>\n",
        "      <path fill=\"none\" d=\"M24.92,147.06 L 136.42 147.06\" gadfly:scale=\"10.0\" visibility=\"hidden\"/>\n",
        "      <path fill=\"none\" d=\"M24.92,143.37 L 136.42 143.37\" gadfly:scale=\"10.0\" visibility=\"hidden\"/>\n",
        "      <path fill=\"none\" d=\"M24.92,139.69 L 136.42 139.69\" gadfly:scale=\"10.0\" visibility=\"hidden\"/>\n",
        "      <path fill=\"none\" d=\"M24.92,136 L 136.42 136\" gadfly:scale=\"10.0\" visibility=\"hidden\"/>\n",
        "      <path fill=\"none\" d=\"M24.92,132.32 L 136.42 132.32\" gadfly:scale=\"10.0\" visibility=\"hidden\"/>\n",
        "      <path fill=\"none\" d=\"M24.92,128.63 L 136.42 128.63\" gadfly:scale=\"10.0\" visibility=\"hidden\"/>\n",
        "      <path fill=\"none\" d=\"M24.92,124.94 L 136.42 124.94\" gadfly:scale=\"10.0\" visibility=\"hidden\"/>\n",
        "      <path fill=\"none\" d=\"M24.92,121.26 L 136.42 121.26\" gadfly:scale=\"10.0\" visibility=\"hidden\"/>\n",
        "      <path fill=\"none\" d=\"M24.92,117.57 L 136.42 117.57\" gadfly:scale=\"10.0\" visibility=\"hidden\"/>\n",
        "      <path fill=\"none\" d=\"M24.92,113.89 L 136.42 113.89\" gadfly:scale=\"10.0\" visibility=\"hidden\"/>\n",
        "      <path fill=\"none\" d=\"M24.92,110.2 L 136.42 110.2\" gadfly:scale=\"10.0\" visibility=\"hidden\"/>\n",
        "      <path fill=\"none\" d=\"M24.92,106.52 L 136.42 106.52\" gadfly:scale=\"10.0\" visibility=\"hidden\"/>\n",
        "      <path fill=\"none\" d=\"M24.92,102.83 L 136.42 102.83\" gadfly:scale=\"10.0\" visibility=\"hidden\"/>\n",
        "      <path fill=\"none\" d=\"M24.92,99.14 L 136.42 99.14\" gadfly:scale=\"10.0\" visibility=\"hidden\"/>\n",
        "      <path fill=\"none\" d=\"M24.92,95.46 L 136.42 95.46\" gadfly:scale=\"10.0\" visibility=\"hidden\"/>\n",
        "      <path fill=\"none\" d=\"M24.92,91.77 L 136.42 91.77\" gadfly:scale=\"10.0\" visibility=\"hidden\"/>\n",
        "      <path fill=\"none\" d=\"M24.92,88.09 L 136.42 88.09\" gadfly:scale=\"10.0\" visibility=\"hidden\"/>\n",
        "      <path fill=\"none\" d=\"M24.92,84.4 L 136.42 84.4\" gadfly:scale=\"10.0\" visibility=\"hidden\"/>\n",
        "      <path fill=\"none\" d=\"M24.92,80.72 L 136.42 80.72\" gadfly:scale=\"10.0\" visibility=\"hidden\"/>\n",
        "      <path fill=\"none\" d=\"M24.92,77.03 L 136.42 77.03\" gadfly:scale=\"10.0\" visibility=\"hidden\"/>\n",
        "      <path fill=\"none\" d=\"M24.92,73.34 L 136.42 73.34\" gadfly:scale=\"10.0\" visibility=\"hidden\"/>\n",
        "      <path fill=\"none\" d=\"M24.92,69.66 L 136.42 69.66\" gadfly:scale=\"10.0\" visibility=\"hidden\"/>\n",
        "      <path fill=\"none\" d=\"M24.92,65.97 L 136.42 65.97\" gadfly:scale=\"10.0\" visibility=\"hidden\"/>\n",
        "      <path fill=\"none\" d=\"M24.92,62.29 L 136.42 62.29\" gadfly:scale=\"10.0\" visibility=\"hidden\"/>\n",
        "      <path fill=\"none\" d=\"M24.92,58.6 L 136.42 58.6\" gadfly:scale=\"10.0\" visibility=\"hidden\"/>\n",
        "      <path fill=\"none\" d=\"M24.92,54.91 L 136.42 54.91\" gadfly:scale=\"10.0\" visibility=\"hidden\"/>\n",
        "      <path fill=\"none\" d=\"M24.92,51.23 L 136.42 51.23\" gadfly:scale=\"10.0\" visibility=\"hidden\"/>\n",
        "      <path fill=\"none\" d=\"M24.92,47.54 L 136.42 47.54\" gadfly:scale=\"10.0\" visibility=\"hidden\"/>\n",
        "      <path fill=\"none\" d=\"M24.92,43.86 L 136.42 43.86\" gadfly:scale=\"10.0\" visibility=\"hidden\"/>\n",
        "      <path fill=\"none\" d=\"M24.92,40.17 L 136.42 40.17\" gadfly:scale=\"10.0\" visibility=\"hidden\"/>\n",
        "      <path fill=\"none\" d=\"M24.92,36.49 L 136.42 36.49\" gadfly:scale=\"10.0\" visibility=\"hidden\"/>\n",
        "      <path fill=\"none\" d=\"M24.92,32.8 L 136.42 32.8\" gadfly:scale=\"10.0\" visibility=\"hidden\"/>\n",
        "      <path fill=\"none\" d=\"M24.92,29.11 L 136.42 29.11\" gadfly:scale=\"10.0\" visibility=\"hidden\"/>\n",
        "      <path fill=\"none\" d=\"M24.92,25.43 L 136.42 25.43\" gadfly:scale=\"10.0\" visibility=\"hidden\"/>\n",
        "      <path fill=\"none\" d=\"M24.92,21.74 L 136.42 21.74\" gadfly:scale=\"10.0\" visibility=\"hidden\"/>\n",
        "      <path fill=\"none\" d=\"M24.92,18.06 L 136.42 18.06\" gadfly:scale=\"10.0\" visibility=\"hidden\"/>\n",
        "      <path fill=\"none\" d=\"M24.92,14.37 L 136.42 14.37\" gadfly:scale=\"10.0\" visibility=\"hidden\"/>\n",
        "      <path fill=\"none\" d=\"M24.92,10.69 L 136.42 10.69\" gadfly:scale=\"10.0\" visibility=\"hidden\"/>\n",
        "      <path fill=\"none\" d=\"M24.92,7 L 136.42 7\" gadfly:scale=\"10.0\" visibility=\"hidden\"/>\n",
        "      <path fill=\"none\" d=\"M24.92,3.31 L 136.42 3.31\" gadfly:scale=\"10.0\" visibility=\"hidden\"/>\n",
        "      <path fill=\"none\" d=\"M24.92,-0.37 L 136.42 -0.37\" gadfly:scale=\"10.0\" visibility=\"hidden\"/>\n",
        "      <path fill=\"none\" d=\"M24.92,-4.06 L 136.42 -4.06\" gadfly:scale=\"10.0\" visibility=\"hidden\"/>\n",
        "      <path fill=\"none\" d=\"M24.92,-7.74 L 136.42 -7.74\" gadfly:scale=\"10.0\" visibility=\"hidden\"/>\n",
        "      <path fill=\"none\" d=\"M24.92,-11.43 L 136.42 -11.43\" gadfly:scale=\"10.0\" visibility=\"hidden\"/>\n",
        "      <path fill=\"none\" d=\"M24.92,-15.11 L 136.42 -15.11\" gadfly:scale=\"10.0\" visibility=\"hidden\"/>\n",
        "      <path fill=\"none\" d=\"M24.92,-18.8 L 136.42 -18.8\" gadfly:scale=\"10.0\" visibility=\"hidden\"/>\n",
        "      <path fill=\"none\" d=\"M24.92,-22.49 L 136.42 -22.49\" gadfly:scale=\"10.0\" visibility=\"hidden\"/>\n",
        "      <path fill=\"none\" d=\"M24.92,-26.17 L 136.42 -26.17\" gadfly:scale=\"10.0\" visibility=\"hidden\"/>\n",
        "      <path fill=\"none\" d=\"M24.92,-29.86 L 136.42 -29.86\" gadfly:scale=\"10.0\" visibility=\"hidden\"/>\n",
        "      <path fill=\"none\" d=\"M24.92,-33.54 L 136.42 -33.54\" gadfly:scale=\"10.0\" visibility=\"hidden\"/>\n",
        "      <path fill=\"none\" d=\"M24.92,-37.23 L 136.42 -37.23\" gadfly:scale=\"10.0\" visibility=\"hidden\"/>\n",
        "      <path fill=\"none\" d=\"M24.92,-40.91 L 136.42 -40.91\" gadfly:scale=\"10.0\" visibility=\"hidden\"/>\n",
        "      <path fill=\"none\" d=\"M24.92,-44.6 L 136.42 -44.6\" gadfly:scale=\"10.0\" visibility=\"hidden\"/>\n",
        "      <path fill=\"none\" d=\"M24.92,-48.29 L 136.42 -48.29\" gadfly:scale=\"10.0\" visibility=\"hidden\"/>\n",
        "      <path fill=\"none\" d=\"M24.92,-51.97 L 136.42 -51.97\" gadfly:scale=\"10.0\" visibility=\"hidden\"/>\n",
        "      <path fill=\"none\" d=\"M24.92,-55.66 L 136.42 -55.66\" gadfly:scale=\"10.0\" visibility=\"hidden\"/>\n",
        "      <path fill=\"none\" d=\"M24.92,-59.34 L 136.42 -59.34\" gadfly:scale=\"10.0\" visibility=\"hidden\"/>\n",
        "      <path fill=\"none\" d=\"M24.92,-63.03 L 136.42 -63.03\" gadfly:scale=\"10.0\" visibility=\"hidden\"/>\n",
        "      <path fill=\"none\" d=\"M24.92,-66.71 L 136.42 -66.71\" gadfly:scale=\"10.0\" visibility=\"hidden\"/>\n",
        "      <path fill=\"none\" d=\"M24.92,154.43 L 136.42 154.43\" gadfly:scale=\"0.5\" visibility=\"hidden\"/>\n",
        "      <path fill=\"none\" d=\"M24.92,80.72 L 136.42 80.72\" gadfly:scale=\"0.5\" visibility=\"hidden\"/>\n",
        "      <path fill=\"none\" d=\"M24.92,7 L 136.42 7\" gadfly:scale=\"0.5\" visibility=\"hidden\"/>\n",
        "      <path fill=\"none\" d=\"M24.92,-66.71 L 136.42 -66.71\" gadfly:scale=\"0.5\" visibility=\"hidden\"/>\n",
        "      <path fill=\"none\" d=\"M24.92,154.43 L 136.42 154.43\" gadfly:scale=\"5.0\" visibility=\"hidden\"/>\n",
        "      <path fill=\"none\" d=\"M24.92,147.06 L 136.42 147.06\" gadfly:scale=\"5.0\" visibility=\"hidden\"/>\n",
        "      <path fill=\"none\" d=\"M24.92,139.69 L 136.42 139.69\" gadfly:scale=\"5.0\" visibility=\"hidden\"/>\n",
        "      <path fill=\"none\" d=\"M24.92,132.32 L 136.42 132.32\" gadfly:scale=\"5.0\" visibility=\"hidden\"/>\n",
        "      <path fill=\"none\" d=\"M24.92,124.94 L 136.42 124.94\" gadfly:scale=\"5.0\" visibility=\"hidden\"/>\n",
        "      <path fill=\"none\" d=\"M24.92,117.57 L 136.42 117.57\" gadfly:scale=\"5.0\" visibility=\"hidden\"/>\n",
        "      <path fill=\"none\" d=\"M24.92,110.2 L 136.42 110.2\" gadfly:scale=\"5.0\" visibility=\"hidden\"/>\n",
        "      <path fill=\"none\" d=\"M24.92,102.83 L 136.42 102.83\" gadfly:scale=\"5.0\" visibility=\"hidden\"/>\n",
        "      <path fill=\"none\" d=\"M24.92,95.46 L 136.42 95.46\" gadfly:scale=\"5.0\" visibility=\"hidden\"/>\n",
        "      <path fill=\"none\" d=\"M24.92,88.09 L 136.42 88.09\" gadfly:scale=\"5.0\" visibility=\"hidden\"/>\n",
        "      <path fill=\"none\" d=\"M24.92,80.72 L 136.42 80.72\" gadfly:scale=\"5.0\" visibility=\"hidden\"/>\n",
        "      <path fill=\"none\" d=\"M24.92,73.34 L 136.42 73.34\" gadfly:scale=\"5.0\" visibility=\"hidden\"/>\n",
        "      <path fill=\"none\" d=\"M24.92,65.97 L 136.42 65.97\" gadfly:scale=\"5.0\" visibility=\"hidden\"/>\n",
        "      <path fill=\"none\" d=\"M24.92,58.6 L 136.42 58.6\" gadfly:scale=\"5.0\" visibility=\"hidden\"/>\n",
        "      <path fill=\"none\" d=\"M24.92,51.23 L 136.42 51.23\" gadfly:scale=\"5.0\" visibility=\"hidden\"/>\n",
        "      <path fill=\"none\" d=\"M24.92,43.86 L 136.42 43.86\" gadfly:scale=\"5.0\" visibility=\"hidden\"/>\n",
        "      <path fill=\"none\" d=\"M24.92,36.49 L 136.42 36.49\" gadfly:scale=\"5.0\" visibility=\"hidden\"/>\n",
        "      <path fill=\"none\" d=\"M24.92,29.11 L 136.42 29.11\" gadfly:scale=\"5.0\" visibility=\"hidden\"/>\n",
        "      <path fill=\"none\" d=\"M24.92,21.74 L 136.42 21.74\" gadfly:scale=\"5.0\" visibility=\"hidden\"/>\n",
        "      <path fill=\"none\" d=\"M24.92,14.37 L 136.42 14.37\" gadfly:scale=\"5.0\" visibility=\"hidden\"/>\n",
        "      <path fill=\"none\" d=\"M24.92,7 L 136.42 7\" gadfly:scale=\"5.0\" visibility=\"hidden\"/>\n",
        "      <path fill=\"none\" d=\"M24.92,-0.37 L 136.42 -0.37\" gadfly:scale=\"5.0\" visibility=\"hidden\"/>\n",
        "      <path fill=\"none\" d=\"M24.92,-7.74 L 136.42 -7.74\" gadfly:scale=\"5.0\" visibility=\"hidden\"/>\n",
        "      <path fill=\"none\" d=\"M24.92,-15.11 L 136.42 -15.11\" gadfly:scale=\"5.0\" visibility=\"hidden\"/>\n",
        "      <path fill=\"none\" d=\"M24.92,-22.49 L 136.42 -22.49\" gadfly:scale=\"5.0\" visibility=\"hidden\"/>\n",
        "      <path fill=\"none\" d=\"M24.92,-29.86 L 136.42 -29.86\" gadfly:scale=\"5.0\" visibility=\"hidden\"/>\n",
        "      <path fill=\"none\" d=\"M24.92,-37.23 L 136.42 -37.23\" gadfly:scale=\"5.0\" visibility=\"hidden\"/>\n",
        "      <path fill=\"none\" d=\"M24.92,-44.6 L 136.42 -44.6\" gadfly:scale=\"5.0\" visibility=\"hidden\"/>\n",
        "      <path fill=\"none\" d=\"M24.92,-51.97 L 136.42 -51.97\" gadfly:scale=\"5.0\" visibility=\"hidden\"/>\n",
        "      <path fill=\"none\" d=\"M24.92,-59.34 L 136.42 -59.34\" gadfly:scale=\"5.0\" visibility=\"hidden\"/>\n",
        "      <path fill=\"none\" d=\"M24.92,-66.71 L 136.42 -66.71\" gadfly:scale=\"5.0\" visibility=\"hidden\"/>\n",
        "    </g>\n",
        "    <g class=\"guide xgridlines yfixed\" stroke-dasharray=\"0.5,0.5\" stroke-width=\"0.2\" stroke=\"#D0D0E0\" id=\"fig-7e407ce6bb964f0a9f0e4d5b3324d29d-element-8\">\n",
        "      <path fill=\"none\" d=\"M-107.46,5 L -107.46 82.72\" gadfly:scale=\"1.0\" visibility=\"hidden\"/>\n",
        "      <path fill=\"none\" d=\"M-80.58,5 L -80.58 82.72\" gadfly:scale=\"1.0\" visibility=\"hidden\"/>\n",
        "      <path fill=\"none\" d=\"M-53.71,5 L -53.71 82.72\" gadfly:scale=\"1.0\" visibility=\"hidden\"/>\n",
        "      <path fill=\"none\" d=\"M-26.83,5 L -26.83 82.72\" gadfly:scale=\"1.0\" visibility=\"hidden\"/>\n",
        "      <path fill=\"none\" d=\"M0.04,5 L 0.04 82.72\" gadfly:scale=\"1.0\" visibility=\"hidden\"/>\n",
        "      <path fill=\"none\" d=\"M26.92,5 L 26.92 82.72\" gadfly:scale=\"1.0\" visibility=\"visible\"/>\n",
        "      <path fill=\"none\" d=\"M53.79,5 L 53.79 82.72\" gadfly:scale=\"1.0\" visibility=\"visible\"/>\n",
        "      <path fill=\"none\" d=\"M80.67,5 L 80.67 82.72\" gadfly:scale=\"1.0\" visibility=\"visible\"/>\n",
        "      <path fill=\"none\" d=\"M107.55,5 L 107.55 82.72\" gadfly:scale=\"1.0\" visibility=\"visible\"/>\n",
        "      <path fill=\"none\" d=\"M134.42,5 L 134.42 82.72\" gadfly:scale=\"1.0\" visibility=\"visible\"/>\n",
        "      <path fill=\"none\" d=\"M161.3,5 L 161.3 82.72\" gadfly:scale=\"1.0\" visibility=\"hidden\"/>\n",
        "      <path fill=\"none\" d=\"M188.17,5 L 188.17 82.72\" gadfly:scale=\"1.0\" visibility=\"hidden\"/>\n",
        "      <path fill=\"none\" d=\"M215.05,5 L 215.05 82.72\" gadfly:scale=\"1.0\" visibility=\"hidden\"/>\n",
        "      <path fill=\"none\" d=\"M241.92,5 L 241.92 82.72\" gadfly:scale=\"1.0\" visibility=\"hidden\"/>\n",
        "      <path fill=\"none\" d=\"M268.8,5 L 268.8 82.72\" gadfly:scale=\"1.0\" visibility=\"hidden\"/>\n",
        "      <path fill=\"none\" d=\"M-80.58,5 L -80.58 82.72\" gadfly:scale=\"10.0\" visibility=\"hidden\"/>\n",
        "      <path fill=\"none\" d=\"M-75.21,5 L -75.21 82.72\" gadfly:scale=\"10.0\" visibility=\"hidden\"/>\n",
        "      <path fill=\"none\" d=\"M-69.83,5 L -69.83 82.72\" gadfly:scale=\"10.0\" visibility=\"hidden\"/>\n",
        "      <path fill=\"none\" d=\"M-64.46,5 L -64.46 82.72\" gadfly:scale=\"10.0\" visibility=\"hidden\"/>\n",
        "      <path fill=\"none\" d=\"M-59.08,5 L -59.08 82.72\" gadfly:scale=\"10.0\" visibility=\"hidden\"/>\n",
        "      <path fill=\"none\" d=\"M-53.71,5 L -53.71 82.72\" gadfly:scale=\"10.0\" visibility=\"hidden\"/>\n",
        "      <path fill=\"none\" d=\"M-48.33,5 L -48.33 82.72\" gadfly:scale=\"10.0\" visibility=\"hidden\"/>\n",
        "      <path fill=\"none\" d=\"M-42.96,5 L -42.96 82.72\" gadfly:scale=\"10.0\" visibility=\"hidden\"/>\n",
        "      <path fill=\"none\" d=\"M-37.58,5 L -37.58 82.72\" gadfly:scale=\"10.0\" visibility=\"hidden\"/>\n",
        "      <path fill=\"none\" d=\"M-32.21,5 L -32.21 82.72\" gadfly:scale=\"10.0\" visibility=\"hidden\"/>\n",
        "      <path fill=\"none\" d=\"M-26.83,5 L -26.83 82.72\" gadfly:scale=\"10.0\" visibility=\"hidden\"/>\n",
        "      <path fill=\"none\" d=\"M-21.46,5 L -21.46 82.72\" gadfly:scale=\"10.0\" visibility=\"hidden\"/>\n",
        "      <path fill=\"none\" d=\"M-16.08,5 L -16.08 82.72\" gadfly:scale=\"10.0\" visibility=\"hidden\"/>\n",
        "      <path fill=\"none\" d=\"M-10.71,5 L -10.71 82.72\" gadfly:scale=\"10.0\" visibility=\"hidden\"/>\n",
        "      <path fill=\"none\" d=\"M-5.33,5 L -5.33 82.72\" gadfly:scale=\"10.0\" visibility=\"hidden\"/>\n",
        "      <path fill=\"none\" d=\"M0.04,5 L 0.04 82.72\" gadfly:scale=\"10.0\" visibility=\"hidden\"/>\n",
        "      <path fill=\"none\" d=\"M5.42,5 L 5.42 82.72\" gadfly:scale=\"10.0\" visibility=\"hidden\"/>\n",
        "      <path fill=\"none\" d=\"M10.79,5 L 10.79 82.72\" gadfly:scale=\"10.0\" visibility=\"hidden\"/>\n",
        "      <path fill=\"none\" d=\"M16.17,5 L 16.17 82.72\" gadfly:scale=\"10.0\" visibility=\"hidden\"/>\n",
        "      <path fill=\"none\" d=\"M21.54,5 L 21.54 82.72\" gadfly:scale=\"10.0\" visibility=\"hidden\"/>\n",
        "      <path fill=\"none\" d=\"M26.92,5 L 26.92 82.72\" gadfly:scale=\"10.0\" visibility=\"hidden\"/>\n",
        "      <path fill=\"none\" d=\"M32.29,5 L 32.29 82.72\" gadfly:scale=\"10.0\" visibility=\"hidden\"/>\n",
        "      <path fill=\"none\" d=\"M37.67,5 L 37.67 82.72\" gadfly:scale=\"10.0\" visibility=\"hidden\"/>\n",
        "      <path fill=\"none\" d=\"M43.04,5 L 43.04 82.72\" gadfly:scale=\"10.0\" visibility=\"hidden\"/>\n",
        "      <path fill=\"none\" d=\"M48.42,5 L 48.42 82.72\" gadfly:scale=\"10.0\" visibility=\"hidden\"/>\n",
        "      <path fill=\"none\" d=\"M53.79,5 L 53.79 82.72\" gadfly:scale=\"10.0\" visibility=\"hidden\"/>\n",
        "      <path fill=\"none\" d=\"M59.17,5 L 59.17 82.72\" gadfly:scale=\"10.0\" visibility=\"hidden\"/>\n",
        "      <path fill=\"none\" d=\"M64.54,5 L 64.54 82.72\" gadfly:scale=\"10.0\" visibility=\"hidden\"/>\n",
        "      <path fill=\"none\" d=\"M69.92,5 L 69.92 82.72\" gadfly:scale=\"10.0\" visibility=\"hidden\"/>\n",
        "      <path fill=\"none\" d=\"M75.3,5 L 75.3 82.72\" gadfly:scale=\"10.0\" visibility=\"hidden\"/>\n",
        "      <path fill=\"none\" d=\"M80.67,5 L 80.67 82.72\" gadfly:scale=\"10.0\" visibility=\"hidden\"/>\n",
        "      <path fill=\"none\" d=\"M86.05,5 L 86.05 82.72\" gadfly:scale=\"10.0\" visibility=\"hidden\"/>\n",
        "      <path fill=\"none\" d=\"M91.42,5 L 91.42 82.72\" gadfly:scale=\"10.0\" visibility=\"hidden\"/>\n",
        "      <path fill=\"none\" d=\"M96.8,5 L 96.8 82.72\" gadfly:scale=\"10.0\" visibility=\"hidden\"/>\n",
        "      <path fill=\"none\" d=\"M102.17,5 L 102.17 82.72\" gadfly:scale=\"10.0\" visibility=\"hidden\"/>\n",
        "      <path fill=\"none\" d=\"M107.55,5 L 107.55 82.72\" gadfly:scale=\"10.0\" visibility=\"hidden\"/>\n",
        "      <path fill=\"none\" d=\"M112.92,5 L 112.92 82.72\" gadfly:scale=\"10.0\" visibility=\"hidden\"/>\n",
        "      <path fill=\"none\" d=\"M118.3,5 L 118.3 82.72\" gadfly:scale=\"10.0\" visibility=\"hidden\"/>\n",
        "      <path fill=\"none\" d=\"M123.67,5 L 123.67 82.72\" gadfly:scale=\"10.0\" visibility=\"hidden\"/>\n",
        "      <path fill=\"none\" d=\"M129.05,5 L 129.05 82.72\" gadfly:scale=\"10.0\" visibility=\"hidden\"/>\n",
        "      <path fill=\"none\" d=\"M134.42,5 L 134.42 82.72\" gadfly:scale=\"10.0\" visibility=\"hidden\"/>\n",
        "      <path fill=\"none\" d=\"M139.8,5 L 139.8 82.72\" gadfly:scale=\"10.0\" visibility=\"hidden\"/>\n",
        "      <path fill=\"none\" d=\"M145.17,5 L 145.17 82.72\" gadfly:scale=\"10.0\" visibility=\"hidden\"/>\n",
        "      <path fill=\"none\" d=\"M150.55,5 L 150.55 82.72\" gadfly:scale=\"10.0\" visibility=\"hidden\"/>\n",
        "      <path fill=\"none\" d=\"M155.92,5 L 155.92 82.72\" gadfly:scale=\"10.0\" visibility=\"hidden\"/>\n",
        "      <path fill=\"none\" d=\"M161.3,5 L 161.3 82.72\" gadfly:scale=\"10.0\" visibility=\"hidden\"/>\n",
        "      <path fill=\"none\" d=\"M166.67,5 L 166.67 82.72\" gadfly:scale=\"10.0\" visibility=\"hidden\"/>\n",
        "      <path fill=\"none\" d=\"M172.05,5 L 172.05 82.72\" gadfly:scale=\"10.0\" visibility=\"hidden\"/>\n",
        "      <path fill=\"none\" d=\"M177.42,5 L 177.42 82.72\" gadfly:scale=\"10.0\" visibility=\"hidden\"/>\n",
        "      <path fill=\"none\" d=\"M182.8,5 L 182.8 82.72\" gadfly:scale=\"10.0\" visibility=\"hidden\"/>\n",
        "      <path fill=\"none\" d=\"M188.17,5 L 188.17 82.72\" gadfly:scale=\"10.0\" visibility=\"hidden\"/>\n",
        "      <path fill=\"none\" d=\"M193.55,5 L 193.55 82.72\" gadfly:scale=\"10.0\" visibility=\"hidden\"/>\n",
        "      <path fill=\"none\" d=\"M198.92,5 L 198.92 82.72\" gadfly:scale=\"10.0\" visibility=\"hidden\"/>\n",
        "      <path fill=\"none\" d=\"M204.3,5 L 204.3 82.72\" gadfly:scale=\"10.0\" visibility=\"hidden\"/>\n",
        "      <path fill=\"none\" d=\"M209.67,5 L 209.67 82.72\" gadfly:scale=\"10.0\" visibility=\"hidden\"/>\n",
        "      <path fill=\"none\" d=\"M215.05,5 L 215.05 82.72\" gadfly:scale=\"10.0\" visibility=\"hidden\"/>\n",
        "      <path fill=\"none\" d=\"M220.42,5 L 220.42 82.72\" gadfly:scale=\"10.0\" visibility=\"hidden\"/>\n",
        "      <path fill=\"none\" d=\"M225.8,5 L 225.8 82.72\" gadfly:scale=\"10.0\" visibility=\"hidden\"/>\n",
        "      <path fill=\"none\" d=\"M231.17,5 L 231.17 82.72\" gadfly:scale=\"10.0\" visibility=\"hidden\"/>\n",
        "      <path fill=\"none\" d=\"M236.55,5 L 236.55 82.72\" gadfly:scale=\"10.0\" visibility=\"hidden\"/>\n",
        "      <path fill=\"none\" d=\"M241.92,5 L 241.92 82.72\" gadfly:scale=\"10.0\" visibility=\"hidden\"/>\n",
        "      <path fill=\"none\" d=\"M-107.46,5 L -107.46 82.72\" gadfly:scale=\"0.5\" visibility=\"hidden\"/>\n",
        "      <path fill=\"none\" d=\"M26.92,5 L 26.92 82.72\" gadfly:scale=\"0.5\" visibility=\"hidden\"/>\n",
        "      <path fill=\"none\" d=\"M161.3,5 L 161.3 82.72\" gadfly:scale=\"0.5\" visibility=\"hidden\"/>\n",
        "      <path fill=\"none\" d=\"M295.67,5 L 295.67 82.72\" gadfly:scale=\"0.5\" visibility=\"hidden\"/>\n",
        "      <path fill=\"none\" d=\"M-80.58,5 L -80.58 82.72\" gadfly:scale=\"5.0\" visibility=\"hidden\"/>\n",
        "      <path fill=\"none\" d=\"M-67.15,5 L -67.15 82.72\" gadfly:scale=\"5.0\" visibility=\"hidden\"/>\n",
        "      <path fill=\"none\" d=\"M-53.71,5 L -53.71 82.72\" gadfly:scale=\"5.0\" visibility=\"hidden\"/>\n",
        "      <path fill=\"none\" d=\"M-40.27,5 L -40.27 82.72\" gadfly:scale=\"5.0\" visibility=\"hidden\"/>\n",
        "      <path fill=\"none\" d=\"M-26.83,5 L -26.83 82.72\" gadfly:scale=\"5.0\" visibility=\"hidden\"/>\n",
        "      <path fill=\"none\" d=\"M-13.39,5 L -13.39 82.72\" gadfly:scale=\"5.0\" visibility=\"hidden\"/>\n",
        "      <path fill=\"none\" d=\"M0.04,5 L 0.04 82.72\" gadfly:scale=\"5.0\" visibility=\"hidden\"/>\n",
        "      <path fill=\"none\" d=\"M13.48,5 L 13.48 82.72\" gadfly:scale=\"5.0\" visibility=\"hidden\"/>\n",
        "      <path fill=\"none\" d=\"M26.92,5 L 26.92 82.72\" gadfly:scale=\"5.0\" visibility=\"hidden\"/>\n",
        "      <path fill=\"none\" d=\"M40.36,5 L 40.36 82.72\" gadfly:scale=\"5.0\" visibility=\"hidden\"/>\n",
        "      <path fill=\"none\" d=\"M53.79,5 L 53.79 82.72\" gadfly:scale=\"5.0\" visibility=\"hidden\"/>\n",
        "      <path fill=\"none\" d=\"M67.23,5 L 67.23 82.72\" gadfly:scale=\"5.0\" visibility=\"hidden\"/>\n",
        "      <path fill=\"none\" d=\"M80.67,5 L 80.67 82.72\" gadfly:scale=\"5.0\" visibility=\"hidden\"/>\n",
        "      <path fill=\"none\" d=\"M94.11,5 L 94.11 82.72\" gadfly:scale=\"5.0\" visibility=\"hidden\"/>\n",
        "      <path fill=\"none\" d=\"M107.55,5 L 107.55 82.72\" gadfly:scale=\"5.0\" visibility=\"hidden\"/>\n",
        "      <path fill=\"none\" d=\"M120.98,5 L 120.98 82.72\" gadfly:scale=\"5.0\" visibility=\"hidden\"/>\n",
        "      <path fill=\"none\" d=\"M134.42,5 L 134.42 82.72\" gadfly:scale=\"5.0\" visibility=\"hidden\"/>\n",
        "      <path fill=\"none\" d=\"M147.86,5 L 147.86 82.72\" gadfly:scale=\"5.0\" visibility=\"hidden\"/>\n",
        "      <path fill=\"none\" d=\"M161.3,5 L 161.3 82.72\" gadfly:scale=\"5.0\" visibility=\"hidden\"/>\n",
        "      <path fill=\"none\" d=\"M174.73,5 L 174.73 82.72\" gadfly:scale=\"5.0\" visibility=\"hidden\"/>\n",
        "      <path fill=\"none\" d=\"M188.17,5 L 188.17 82.72\" gadfly:scale=\"5.0\" visibility=\"hidden\"/>\n",
        "      <path fill=\"none\" d=\"M201.61,5 L 201.61 82.72\" gadfly:scale=\"5.0\" visibility=\"hidden\"/>\n",
        "      <path fill=\"none\" d=\"M215.05,5 L 215.05 82.72\" gadfly:scale=\"5.0\" visibility=\"hidden\"/>\n",
        "      <path fill=\"none\" d=\"M228.49,5 L 228.49 82.72\" gadfly:scale=\"5.0\" visibility=\"hidden\"/>\n",
        "      <path fill=\"none\" d=\"M241.92,5 L 241.92 82.72\" gadfly:scale=\"5.0\" visibility=\"hidden\"/>\n",
        "    </g>\n",
        "    <g class=\"plotpanel\" id=\"fig-7e407ce6bb964f0a9f0e4d5b3324d29d-element-9\">\n",
        "      <g stroke-width=\"0.3\" fill=\"none\" class=\"geometry\" stroke=\"#FF0000\" id=\"fig-7e407ce6bb964f0a9f0e4d5b3324d29d-element-10\">\n",
        "        <path fill=\"none\" d=\"M121.63,80.71 L 121.66 80.71 121.68 80.71 121.71 80.71 121.74 80.71 121.76 80.71 121.79 80.71 121.82 80.71 121.84 80.71 121.87 80.71 121.9 80.71 121.93 80.71 121.95 80.71 121.98 80.71 122.01 80.71 122.03 80.71 122.06 80.71 122.09 80.71 122.11 80.71 122.14 80.71 122.17 80.71 122.2 80.71 122.22 80.71 122.25 80.71 122.28 80.71 122.3 80.71 122.33 80.71 122.36 80.71 122.38 80.71 122.41 80.71 122.44 80.71 122.47 80.71 122.49 80.71 122.52 80.71 122.55 80.71 122.57 80.71 122.6 80.71 122.63 80.71 122.66 80.71 122.68 80.71 122.71 80.71 122.74 80.71 122.76 80.71 122.79 80.71 122.82 80.71 122.84 80.71 122.87 80.71 122.9 80.71 122.93 80.71 122.95 80.71 122.98 80.71 123.01 80.71 123.03 80.71 123.06 80.71 123.09 80.71 123.11 80.71 123.14 80.71 123.17 80.71 123.2 80.71 123.22 80.71 123.25 80.71 123.28 80.71 123.3 80.71 123.33 80.71 123.36 80.71 123.38 80.71 123.41 80.71 123.44 80.71 123.47 80.71 123.49 80.71 123.52 80.71 123.55 80.71 123.57 80.71 123.6 80.71 123.63 80.71 123.65 80.71 123.68 80.71 123.71 80.71 123.74 80.71 123.76 80.71 123.79 80.71 123.82 80.71 123.84 80.71 123.87 80.71 123.9 80.71 123.92 80.71 123.95 80.71 123.98 80.71 124.01 80.71 124.03 80.71 124.06 80.71 124.09 80.71 124.11 80.71 124.14 80.71 124.17 80.71 124.19 80.71 124.22 80.71 124.25 80.71 124.28 80.71 124.3 80.71 124.33 80.71 124.36 80.71 124.38 80.71 124.41 80.71 124.44 80.71 124.46 80.71 124.49 80.71 124.52 80.71 124.55 80.71 124.57 80.71 124.6 80.71 124.63 80.71 124.65 80.71 124.68 80.71 124.71 80.71 124.73 80.71 124.76 80.71 124.79 80.71 124.82 80.71 124.84 80.71 124.87 80.71 124.9 80.71 124.92 80.71 124.95 80.71 124.98 80.71 125.01 80.71 125.03 80.71 125.06 80.71 125.09 80.71 125.11 80.71 125.14 80.71 125.17 80.71 125.19 80.71 125.22 80.71 125.25 80.71 125.28 80.71 125.3 80.71 125.33 80.71 125.36 80.71 125.38 80.71 125.41 80.71 125.44 80.71 125.46 80.71 125.49 80.71 125.52 80.71 125.55 80.71 125.57 80.71 125.6 80.71 125.63 80.71 125.65 80.71 125.68 80.71 125.71 80.71 125.73 80.71 125.76 80.71 125.79 80.71 125.82 80.71 125.84 80.71 125.87 80.71 125.9 80.71 125.92 80.71 125.95 80.71 125.98 80.71 126 80.71 126.03 80.71 126.06 80.71 126.09 80.71 126.11 80.71 126.14 80.71 126.17 80.71 126.19 80.71 126.22 80.71 126.25 80.71 126.27 80.71 126.3 80.71 126.33 80.71 126.36 80.71 126.38 80.71 126.41 80.71 126.44 80.71 126.46 80.71 126.49 80.71 126.52 80.71 126.54 80.71 126.57 80.71 126.6 80.71 126.63 80.71 126.65 80.71 126.68 80.71 126.71 80.71 126.73 80.71 126.76 80.71 126.79 80.71 126.81 80.71 126.84 80.71 126.87 80.71 126.9 80.71 126.92 80.71 126.95 80.71 126.98 80.71\"/>\n",
        "      </g>\n",
        "      <g stroke-width=\"0.3\" fill=\"none\" class=\"geometry\" stroke=\"#00BFFF\" id=\"fig-7e407ce6bb964f0a9f0e4d5b3324d29d-element-11\">\n",
        "        <path fill=\"none\" d=\"M26.95,38.34 L 26.97 38.85 27 40.18 27.03 39.72 27.05 39.24 27.08 38.25 27.11 38.06 27.13 38.29 27.16 38.14 27.19 38.03 27.21 37.51 27.24 38.11 27.27 38.37 27.3 38.88 27.32 39.24 27.35 40.14 27.38 40.06 27.4 40.05 27.43 40.07 27.46 41.13 27.48 40.39 27.51 40.02 27.54 40.16 27.56 40.12 27.59 40.31 27.62 40.52 27.64 40.33 27.67 41.28 27.7 41.49 27.73 42.29 27.75 41.94 27.78 41.21 27.81 41.79 27.83 41.96 27.86 43.05 27.89 42.73 27.91 43.03 27.94 43.52 27.97 44.37 27.99 43.72 28.02 43.38 28.05 43.35 28.07 43.25 28.1 42.5 28.13 43.23 28.16 44.61 28.18 44.39 28.21 43.82 28.24 44.12 28.26 44.05 28.29 44.55 28.32 43.37 28.34 41.53 28.37 41.66 28.4 41.35 28.42 40.54 28.45 40.66 28.48 39.73 28.5 39.76 28.53 40.08 28.56 40.41 28.59 40.1 28.61 40.24 28.64 40.46 28.67 39.35 28.69 39.56 28.72 40.05 28.75 39.75 28.77 39.76 28.8 39.48 28.83 39.11 28.85 39.71 28.88 40.45 28.91 42.73 28.93 41.71 28.96 41.03 28.99 41.37 29.02 40.75 29.04 40.52 29.07 39.71 29.1 40.37 29.12 40.58 29.15 41.15 29.18 40.87 29.2 41.16 29.23 42.09 29.26 42.34 29.28 41.73 29.31 41.63 29.34 41.88 29.36 42.5 29.39 41.85 29.42 41.61 29.45 40.88 29.47 40.41 29.5 41.02 29.53 40.99 29.55 41.55 29.58 41.86 29.61 42.3 29.63 41.88 29.66 42.66 29.69 42.75 29.71 41.91 29.74 41.93 29.77 41.46 29.79 40.93 29.82 40.85 29.85 41.15 29.88 40.86 29.9 41.39 29.93 41.59 29.96 41.78 29.98 41.57 30.01 41.32 30.04 41.22 30.06 42.2 30.09 41.8 30.12 42.25 30.14 42.02 30.17 42.47 30.2 42.37 30.22 41.86 30.25 42 30.28 41.91 30.31 42.39 30.33 42.21 30.36 41.79 30.39 42.08 30.41 42.08 30.44 41.51 30.47 41.47 30.49 41.18 30.52 40.97 30.55 40.95 30.57 40.86 30.6 40.89 30.63 41.13 30.65 41.29 30.68 40.75 30.71 41.15 30.74 41.33 30.76 41.28 30.79 41.95 30.82 41.7 30.84 41.97 30.87 41.93 30.9 41.62 30.92 41.32 30.95 41.25 30.98 41.03 31 40.66 31.03 40.26 31.06 40.52 31.08 40.51 31.11 40.07 31.14 39.52 31.17 39.92 31.19 40.14 31.22 39.97 31.25 40 31.27 39.88 31.3 39.66 31.33 39.64 31.35 39.5 31.38 39.46 31.41 39.24 31.43 39.38 31.46 39.79 31.49 39.38 31.51 39.29 31.54 39.21 31.57 39.03 31.6 39.21 31.62 39.36 31.65 39.45 31.68 39.31 31.7 39.5 31.73 39.85 31.76 40.44 31.78 40.88 31.81 40.95 31.84 41.32 31.86 41.04 31.89 40.73 31.92 40.88 31.94 41.53 31.97 41.54 32 40.82 32.03 41.46 32.05 41.28 32.08 41.2 32.11 40.97 32.13 41.19 32.16 41.66 32.19 41.76 32.21 41.92 32.24 42.33 32.27 43.73 32.29 43.15 32.32 42.98 32.35 43.53 32.37 43.95 32.4 43.33 32.43 43.02 32.46 42.86 32.48 42.41 32.51 42.65 32.54 42.46 32.56 41.68 32.59 40.78 32.62 40.28 32.64 40.54 32.67 40.61 32.7 40.84 32.72 40.26 32.75 40.35 32.78 40.51 32.8 40.78 32.83 41.64 32.86 41.95 32.89 41.35 32.91 41.25 32.94 41.44 32.97 41.54 32.99 42.15 33.02 42.03 33.05 42.39 33.07 42.12 33.1 41.84 33.13 41.99 33.15 41.54 33.18 42.33 33.21 42.48 33.23 41.79 33.26 40.55 33.29 41.41 33.32 41.58 33.34 41.23 33.37 41.18 33.4 41.03 33.42 40.93 33.45 41.37 33.48 42.25 33.5 41.48 33.53 41.7 33.56 42.68 33.58 42.06 33.61 41.51 33.64 41.31 33.66 40.9 33.69 40.66 33.72 40.96 33.75 41.48 33.77 40.37 33.8 40.49 33.83 41.42 33.85 41.57 33.88 41.75 33.91 41.63 33.93 41.61 33.96 41.92 33.99 41.45 34.01 41.7 34.04 41.36 34.07 41.69 34.09 41.73 34.12 41.46 34.15 41.47 34.18 41.17 34.2 41.42 34.23 41.27 34.26 40.61 34.28 40.59 34.31 40.23 34.34 40.67 34.36 40.3 34.39 40.33 34.42 40.37 34.44 40.61 34.47 40.98 34.5 40.37 34.52 40.53 34.55 40.93 34.58 40.57 34.61 40.91 34.63 41.16 34.66 41.92 34.69 41.92 34.71 42.23 34.74 41.49 34.77 41.51 34.79 42.03 34.82 42.2 34.85 42.14 34.87 41.9 34.9 41.68 34.93 41.17 34.95 40.69 34.98 41.48 35.01 43.09 35.04 42.79 35.06 43.96 35.09 43.74 35.12 44.51 35.14 44.01 35.17 44.89 35.2 45.75 35.22 46.11 35.25 45.68 35.28 45.01 35.3 44.05 35.33 44.65 35.36 44.6 35.38 44.3 35.41 44.68 35.44 45.75 35.47 45.64 35.49 44.16 35.52 44.63 35.55 44.43 35.57 43.48 35.6 43.81 35.63 43.39 35.65 43.27 35.68 43.06 35.71 41.59 35.73 41.3 35.76 41.72 35.79 41.9 35.81 42.18 35.84 41.55 35.87 41.31 35.9 40.87 35.92 41.15 35.95 40.55 35.98 40.63 36 40.92 36.03 40.35 36.06 40.41 36.08 40.6 36.11 40.66 36.14 40.5 36.16 40.83 36.19 40.62 36.22 40.64 36.24 39.38 36.27 39.26 36.3 39.06 36.33 38.93 36.35 39.22 36.38 39.78 36.41 39.72 36.43 40.15 36.46 40.03 36.49 40.64 36.51 40.5 36.54 40.21 36.57 39.95 36.59 39.52 36.62 39.91 36.65 39.84 36.67 40.26 36.7 40.46 36.73 40.36 36.76 40.64 36.78 41.31 36.81 41.56 36.84 41.48 36.86 41.66 36.89 41.47 36.92 41.22 36.94 41.63 36.97 42 37 42.12 37.02 42.25 37.05 41.77 37.08 42.01 37.1 41.67 37.13 41.75 37.16 42.09 37.19 42.93 37.21 42.75 37.24 43.21 37.27 42.97 37.29 42.09 37.32 41.87 37.35 42.12 37.37 41.62 37.4 41.76 37.43 41.61 37.45 41.73 37.48 42.29 37.51 42.97 37.54 42.36 37.56 42.18 37.59 42.32 37.62 42.38 37.64 41.93 37.67 41.98 37.7 41.83 37.72 41.97 37.75 42.38 37.78 42.17 37.8 42.78 37.83 42.76 37.86 42.32 37.88 42.32 37.91 42.34 37.94 42.58 37.97 42.41 37.99 42.97 38.02 42.68 38.05 43.22 38.07 42.84 38.1 43.01 38.13 42.3 38.15 42.45 38.18 43.04 38.21 43.52 38.23 44.16 38.26 44.04 38.29 43.87 38.31 43.74 38.34 44.44 38.37 45.31 38.4 45.31 38.42 47.84 38.45 47.9 38.48 48.43 38.5 49.84 38.53 50.36 38.56 49 38.58 48.8 38.61 49.14 38.64 48.72 38.66 48.11 38.69 48.14 38.72 47.73 38.74 47.09 38.77 47.32 38.8 47.1 38.83 47.29 38.85 47.35 38.88 46.66 38.91 46.03 38.93 46.27 38.96 46.26 38.99 46.13 39.01 46.68 39.04 46.94 39.07 46.79 39.09 46.15 39.12 46.29 39.15 46.27 39.17 45.84 39.2 45.53 39.23 46.55 39.26 47.09 39.28 47.27 39.31 46.57 39.34 46.35 39.36 45.92 39.39 45.36 39.42 45.5 39.44 45.38 39.47 45.3 39.5 45.5 39.52 44.78 39.55 44.51 39.58 44.33 39.6 44.35 39.63 43.94 39.66 44.22 39.69 44.47 39.71 44.01 39.74 43.92 39.77 44.33 39.79 44.92 39.82 44.49 39.85 44.4 39.87 44.83 39.9 44.25 39.93 43.44 39.95 43.49 39.98 43.68 40.01 44.15 40.03 44.27 40.06 44.25 40.09 44.72 40.12 44.55 40.14 44.26 40.17 43.86 40.2 43.6 40.22 43.91 40.25 43.73 40.28 43.73 40.3 43.53 40.33 43.37 40.36 43.35 40.38 43.78 40.41 43.59 40.44 43.22 40.46 42.9 40.49 43.13 40.52 43.3 40.55 43.51 40.57 43.61 40.6 43.9 40.63 44.26 40.65 44.14 40.68 44.92 40.71 44.41 40.73 44.7 40.76 44.91 40.79 44.85 40.81 44.61 40.84 44.45 40.87 44.35 40.89 45.26 40.92 44.73 40.95 44.15 40.98 44.2 41 45.01 41.03 45.02 41.06 45.14 41.08 45.24 41.11 44.8 41.14 44.28 41.16 44.36 41.19 43.9 41.22 43.85 41.24 44.21 41.27 44.8 41.3 44.07 41.32 44.47 41.35 43.97 41.38 43.32 41.41 43.43 41.43 43.39 41.46 43.47 41.49 42.5 41.51 41.69 41.54 42.26 41.57 41.74 41.59 41.92 41.62 41.75 41.65 41.6 41.67 41.53 41.7 42.01 41.73 41.95 41.75 41.62 41.78 41.73 41.81 41.52 41.84 42.01 41.86 42.09 41.89 42.28 41.92 42.82 41.94 42.56 41.97 42.28 42 42.37 42.02 42.52 42.05 42.7 42.08 43.13 42.1 42.99 42.13 42.86 42.16 42.94 42.18 43.09 42.21 42.45 42.24 43.21 42.27 43.15 42.29 43.51 42.32 42.75 42.35 43.04 42.37 43.1 42.4 42.91 42.43 43.35 42.45 43.53 42.48 43.75 42.51 43.73 42.53 44.19 42.56 44.52 42.59 44.06 42.61 43.64 42.64 43.52 42.67 43.83 42.7 44.58 42.72 44.46 42.75 43.33 42.78 43.72 42.8 44.08 42.83 43.45 42.86 42.76 42.88 42.96 42.91 42.79 42.94 42.55 42.96 43.01 42.99 43.47 43.02 43.28 43.04 43.06 43.07 43.47 43.1 43.93 43.13 44.14 43.15 44.18 43.18 44.13 43.21 44.93 43.23 45.01 43.26 44.61 43.29 45.24 43.31 45.37 43.34 45.16 43.37 45.64 43.39 45.27 43.42 45.69 43.45 45.8 43.47 45.01 43.5 44.94 43.53 45.47 43.56 45.95 43.58 46.61 43.61 46.5 43.64 47.08 43.66 47.1 43.69 46.55 43.72 46.65 43.74 47.14 43.77 47.51 43.8 47.34 43.82 46.14 43.85 46.53 43.88 47.19 43.9 48.23 43.93 48.27 43.96 48.71 43.99 48.87 44.01 49.49 44.04 49.23 44.07 49.72 44.09 51.16 44.12 52.02 44.15 52.33 44.17 50.52 44.2 50.54 44.23 50.25 44.25 48.61 44.28 48.72 44.31 48.51 44.33 49.36 44.36 50.07 44.39 51.07 44.42 50.22 44.44 49.55 44.47 48.6 44.5 48.48 44.52 48.69 44.55 49.45 44.58 48.49 44.6 48.21 44.63 48.36 44.66 47.58 44.68 48.01 44.71 47.7 44.74 47.35 44.76 48.01 44.79 47.84 44.82 48.19 44.85 48.67 44.87 48.76 44.9 48.78 44.93 50.09 44.95 49.66 44.98 50.18 45.01 49.65 45.03 49.31 45.06 49.01 45.09 49.09 45.11 49.83 45.14 50.08 45.17 49.83 45.19 50.46 45.22 50.59 45.25 51.44 45.28 51.28 45.3 51.7 45.33 52.4 45.36 53.14 45.38 51.24 45.41 52.33 45.44 52.73 45.46 51.45 45.49 52.13 45.52 52.27 45.54 52.97 45.57 53.36 45.6 53.07 45.62 53.86 45.65 52.95 45.68 51.78 45.71 51.68 45.73 50.29 45.76 51.1 45.79 50.22 45.81 50.04 45.84 49.25 45.87 49.57 45.89 49.41 45.92 50.06 45.95 49.59 45.97 49.87 46 49.87 46.03 49.65 46.05 49.77 46.08 49.32 46.11 49.12 46.14 48.73 46.16 48.39 46.19 49.07 46.22 49.25 46.24 49.91 46.27 49.81 46.3 49.76 46.32 49.23 46.35 49.09 46.38 49.44 46.4 49.48 46.43 48.93 46.46 48.11 46.48 48.26 46.51 48.1 46.54 48.74 46.57 47.8 46.59 47.93 46.62 48.05 46.65 48.49 46.67 48.51 46.7 48.93 46.73 48.85 46.75 49.48 46.78 49.11 46.81 49.06 46.83 49.24 46.86 49.63 46.89 48.92 46.91 49.25 46.94 49.58 46.97 49.88 47 49.34 47.02 49.41 47.05 49.58 47.08 49.63 47.1 50.11 47.13 50 47.16 49.97 47.18 48.99 47.21 49.01 47.24 48.38 47.26 48.5 47.29 49.03 47.32 48.37 47.34 48.34 47.37 48.33 47.4 48.12 47.43 48.56 47.45 48.66 47.48 49.07 47.51 49.6 47.53 50.05 47.56 49.87 47.59 50.75 47.61 51.27 47.64 50.9 47.67 50.82 47.69 51.43 47.72 51.03 47.75 50.82 47.77 51.18 47.8 51.28 47.83 51.49 47.86 51.73 47.88 51.52 47.91 51.81 47.94 52.12 47.96 52.15 47.99 51.57 48.02 51.08 48.04 51.23 48.07 51.54 48.1 51.16 48.12 51.75 48.15 51.56 48.18 51.94 48.2 51.65 48.23 51.63 48.26 51.83 48.29 52.32 48.31 52.06 48.34 52.43 48.37 52.19 48.39 52.82 48.42 52.98 48.45 52.88 48.47 51.89 48.5 51.75 48.53 50.71 48.55 50.51 48.58 50.25 48.61 50.17 48.63 49.31 48.66 50.44 48.69 50.2 48.72 50.38 48.74 50.49 48.77 50.69 48.8 51.26 48.82 50.97 48.85 50.18 48.88 50.34 48.9 50.21 48.93 50.12 48.96 50.13 48.98 50.5 49.01 50.41 49.04 50.48 49.06 49.93 49.09 49.75 49.12 50.28 49.15 49.98 49.17 50.02 49.2 49.43 49.23 49.33 49.25 49.61 49.28 50.1 49.31 49.49 49.33 49.38 49.36 49.46 49.39 49.55 49.41 49.08 49.44 49.27 49.47 49.06 49.49 49.16 49.52 49.42 49.55 49 49.58 48.55 49.6 48.73 49.63 48.84 49.66 48.6 49.68 48.73 49.71 49.41 49.74 49.42 49.76 49.33 49.79 49.04 49.82 49.01 49.84 48.35 49.87 48.31 49.9 48.61 49.92 48.1 49.95 47.92 49.98 47.83 50.01 47.4 50.03 47.39 50.06 47.31 50.09 47.62 50.11 47.34 50.14 46.87 50.17 46.82 50.19 47.11 50.22 46.37 50.25 46.35 50.27 46.46 50.3 46.88 50.33 46.8 50.35 47.27 50.38 47.14 50.41 47.5 50.44 47.25 50.46 47.58 50.49 47.6 50.52 47.39 50.54 47.02 50.57 47.28 50.6 46.74 50.62 46.72 50.65 46.97 50.68 47.41 50.7 47.1 50.73 46.89 50.76 47.07 50.78 47.19 50.81 47.36 50.84 46.85 50.87 47.19 50.89 46.96 50.92 46.83 50.95 47.13 50.97 46.49 51 46.71 51.03 46.79 51.05 46.81 51.08 46.68 51.11 46.98 51.13 46.86 51.16 47.41 51.19 47.32 51.21 47.08 51.24 46.84 51.27 46.74 51.3 46.4 51.32 46.54 51.35 46.4 51.38 46.36 51.4 46.02 51.43 45.96 51.46 46.08 51.48 45.98 51.51 46.26 51.54 46.37 51.56 46.29 51.59 46.31 51.62 46.16 51.64 46.01 51.67 45.58 51.7 45.45 51.73 45.38 51.75 45.69 51.78 45.38 51.81 45.67 51.83 45.99 51.86 45.85 51.89 45.81 51.91 45.89 51.94 45.45 51.97 45.53 51.99 45.11 52.02 45.17 52.05 45.57 52.07 45.45 52.1 45.97 52.13 46.28 52.16 46.39 52.18 46.14 52.21 46.53 52.24 45.81 52.26 45.75 52.29 45.43 52.32 45.34 52.34 45.13 52.37 45.22 52.4 45.04 52.42 45.06 52.45 44.73 52.48 44.55 52.5 44.58 52.53 44.63 52.56 44.88 52.59 44.68 52.61 44.79 52.64 45.34 52.67 45.28 52.69 45.4 52.72 45.3 52.75 44.79 52.77 44.69 52.8 44.64 52.83 44.59 52.85 44.38 52.88 44.45 52.91 44.52 52.93 44.38 52.96 44.56 52.99 44.75 53.02 44.82 53.04 44.41 53.07 44.45 53.1 44.71 53.12 44.92 53.15 45.24 53.18 45 53.2 45.26 53.23 45.23 53.26 44.79 53.28 44.73 53.31 44.67 53.34 44.66 53.36 44.23 53.39 44.4 53.42 44.32 53.45 44.11 53.47 44.36 53.5 43.99 53.53 44.14 53.55 44.15 53.58 43.83 53.61 43.7 53.63 43.77 53.66 43.38 53.69 43.32 53.71 42.94 53.74 42.83 53.77 42.61 53.79 42.6 53.82 42.73 53.85 42.66 53.88 42.2 53.9 42.29 53.93 42.18 53.96 42.35 53.98 41.85 54.01 41.87 54.04 41.91 54.06 41.67 54.09 42.17 54.12 42.07 54.14 42.28 54.17 41.87 54.2 41.82 54.22 41.64 54.25 41.91 54.28 41.56 54.31 41.56 54.33 41.76 54.36 41.27 54.39 41.61 54.41 42.13 54.44 41.98 54.47 42.06 54.49 42.02 54.52 42 54.55 42.12 54.57 42.03 54.6 41.67 54.63 41.72 54.65 41.6 54.68 41.14 54.71 41.3 54.74 41.54 54.76 41.22 54.79 41.38 54.82 41.41 54.84 41.58 54.87 41.61 54.9 41.77 54.92 41.64 54.95 41.72 54.98 41.71 55 41.36 55.03 41.68 55.06 41.67 55.08 41.69 55.11 41.66 55.14 41.91 55.17 42.17 55.19 42.76 55.22 43.38 55.25 42.97 55.27 43.48 55.3 43.18 55.33 42.75 55.35 42.77 55.38 43.17 55.41 43.62 55.43 43.62 55.46 43.68 55.49 43.05 55.51 43.07 55.54 42.64 55.57 42.45 55.6 42.54 55.62 42.48 55.65 42.12 55.68 41.8 55.7 41.75 55.73 42.09 55.76 42.23 55.78 41.96 55.81 42.45 55.84 42.46 55.86 42.39 55.89 42.19 55.92 42.24 55.94 42.7 55.97 42.69 56 42.16 56.03 42.11 56.05 42.22 56.08 42.1 56.11 42.59 56.13 42.85 56.16 43.03 56.19 42.7 56.21 42.69 56.24 42.71 56.27 42.97 56.29 43.43 56.32 43.89 56.35 43.79 56.37 43.69 56.4 43.82 56.43 43.81 56.46 44.2 56.48 43.97 56.51 44.09 56.54 44.09 56.56 43.98 56.59 44.01 56.62 43.42 56.64 43.45 56.67 43.1 56.7 43.16 56.72 43.11 56.75 42.89 56.78 43.14 56.8 42.96 56.83 42.42 56.86 42.26 56.89 42.5 56.91 42.35 56.94 42.62 56.97 42.46 56.99 42.46 57.02 42.47 57.05 42.32 57.07 42.49 57.1 42.4 57.13 42.09 57.15 42.22 57.18 42.49 57.21 42.54 57.23 42.33 57.26 42.25 57.29 42.63 57.32 42.82 57.34 43.05 57.37 42.97 57.4 43.23 57.42 43.07 57.45 42.98 57.48 42.94 57.5 43.09 57.53 43.26 57.56 43.34 57.58 43.51 57.61 43.31 57.64 43.69 57.66 43.67 57.69 44 57.72 44 57.75 43.54 57.77 43.43 57.8 43.38 57.83 43.34 57.85 43.2 57.88 43.41 57.91 43.39 57.93 43.99 57.96 44.54 57.99 44.54 58.01 44.05 58.04 44.08 58.07 44.54 58.09 44.5 58.12 44.03 58.15 43.96 58.18 43.55 58.2 43.71 58.23 43.45 58.26 43.59 58.28 43.49 58.31 43.19 58.34 43.22 58.36 43.14 58.39 43.41 58.42 43.22 58.44 43.24 58.47 42.79 58.5 42.9 58.52 42.59 58.55 42.7 58.58 42.79 58.61 42.7 58.63 42.7 58.66 42.68 58.69 43 58.71 42.96 58.74 42.81 58.77 43.1 58.79 42.95 58.82 43.46 58.85 43.71 58.87 43.68 58.9 43.9 58.93 43.57 58.95 43.36 58.98 43.56 59.01 43.15 59.04 43.06 59.06 43.2 59.09 42.97 59.12 43.4 59.14 43.65 59.17 43.56 59.2 43.57 59.22 43.85 59.25 44.25 59.28 44.1 59.3 44.02 59.33 44.23 59.36 44.27 59.38 44.35 59.41 44.75 59.44 44.78 59.47 44.27 59.49 43.85 59.52 43.84 59.55 43.76 59.57 43.66 59.6 43.73 59.63 43.35 59.65 42.7 59.68 42.46 59.71 42.42 59.73 42.43 59.76 42.44 59.79 42.13 59.81 41.87 59.84 41.83 59.87 42.06 59.9 41.83 59.92 41.75 59.95 42.17 59.98 42.05 60 42.04 60.03 41.94 60.06 41.93 60.08 42.1 60.11 42.28 60.14 41.68 60.16 41.7 60.19 41.67 60.22 41.84 60.24 42.23 60.27 42.04 60.3 41.82 60.33 41.86 60.35 41.5 60.38 41.36 60.41 41.31 60.43 41.26 60.46 41.46 60.49 41.42 60.51 41.06 60.54 40.85 60.57 40.81 60.59 41 60.62 40.71 60.65 40.8 60.67 40.91 60.7 40.97 60.73 41.17 60.76 41.53 60.78 41.65 60.81 41.56 60.84 41.63 60.86 41.57 60.89 41.81 60.92 41.58 60.94 41.99 60.97 41.8 61 41.54 61.02 41.87 61.05 42.12 61.08 42.41 61.1 42.5 61.13 42.16 61.16 42.02 61.19 42.13 61.21 42.31 61.24 42.05 61.27 41.82 61.29 41.66 61.32 41.67 61.35 41.22 61.37 41.22 61.4 41.19 61.43 41.41 61.45 41.09 61.48 40.92 61.51 40.94 61.53 40.77 61.56 40.78 61.59 41.08 61.62 40.96 61.64 41.6 61.67 41.37 61.7 41.1 61.72 40.76 61.75 41.03 61.78 40.8 61.8 40.86 61.83 40.79 61.86 40.39 61.88 40.4 61.91 40.49 61.94 40.89 61.96 40.72 61.99 41 62.02 40.89 62.05 41.11 62.07 41.52 62.1 41.55 62.13 41.54 62.15 41.77 62.18 42.12 62.21 42.18 62.23 42.23 62.26 42.07 62.29 42.36 62.31 41.86 62.34 42 62.37 42.37 62.39 42.31 62.42 42.17 62.45 42.07 62.48 41.84 62.5 42.16 62.53 42.2 62.56 41.99 62.58 42.37 62.61 42.83 62.64 43.53 62.66 43.59 62.69 43.39 62.72 43.81 62.74 43.05 62.77 43.28 62.8 42.96 62.82 43.3 62.85 43.12 62.88 43.6 62.91 43.15 62.93 42.93 62.96 42.91 62.99 42.44 63.01 42.6 63.04 42.58 63.07 42.44 63.09 42.82 63.12 42.75 63.15 43.16 63.17 43.34 63.2 42.93 63.23 42.63 63.25 42.15 63.28 42.04 63.31 42.12 63.34 41.93 63.36 42 63.39 42.17 63.42 41.88 63.44 41.86 63.47 42.13 63.5 41.83 63.52 41.82 63.55 42.16 63.58 42.14 63.6 42.08 63.63 42.1 63.66 42 63.68 41.97 63.71 41.93 63.74 41.84 63.77 41.77 63.79 41.72 63.82 41.56 63.85 41.61 63.87 41.65 63.9 41.69 63.93 42.3 63.95 42.76 63.98 42.79 64.01 42.36 64.03 42.48 64.06 42.84 64.09 42.74 64.11 42.49 64.14 42.86 64.17 42.74 64.2 42.2 64.22 41.94 64.25 41.96 64.28 41.8 64.3 41.54 64.33 41.5 64.36 41.74 64.38 41.47 64.41 41.32 64.44 41.54 64.46 41.46 64.49 41.66 64.52 41.72 64.54 41.51 64.57 41.26 64.6 41.5 64.63 41.56 64.65 41.34 64.68 41.29 64.71 41.61 64.73 41.69 64.76 41.88 64.79 41.59 64.81 41.67 64.84 41.33 64.87 41.64 64.89 41.52 64.92 41.97 64.95 41.83 64.97 41.81 65 41.8 65.03 41.76 65.06 41.94 65.08 42.25 65.11 42.2 65.14 42.39 65.16 42.15 65.19 42.34 65.22 42.08 65.24 42.16 65.27 42.21 65.3 41.69 65.32 41.52 65.35 41.66 65.38 41.36 65.4 41.34 65.43 41.67 65.46 41.85 65.49 41.8 65.51 41.49 65.54 41.8 65.57 42.08 65.59 42.46 65.62 42.3 65.65 42.31 65.67 42.22 65.7 42.18 65.73 42.11 65.75 41.82 65.78 41.76 65.81 41.88 65.83 42.25 65.86 42.69 65.89 42.83 65.92 42.78 65.94 42.98 65.97 42.92 66 43.06 66.02 43.06 66.05 42.8 66.08 42.57 66.1 42.81 66.13 42.33 66.16 42.82 66.18 43.06 66.21 42.44 66.24 42.46 66.26 42.59 66.29 43.01 66.32 42.37 66.35 42.24 66.37 42.36 66.4 42.12 66.43 41.93 66.45 41.9 66.48 41.7 66.51 41.87 66.53 41.84 66.56 41.9 66.59 41.33 66.61 41.29 66.64 41.33 66.67 41.37 66.69 41.2 66.72 41.03 66.75 40.83 66.78 40.65 66.8 40.48 66.83 40.42 66.86 40.57 66.88 40.58 66.91 40.89 66.94 40.49 66.96 40.62 66.99 40.78 67.02 40.7 67.04 40.9 67.07 41.07 67.1 40.99 67.12 41.03 67.15 40.82 67.18 40.6 67.21 40.61 67.23 40.63 67.26 40.77 67.29 40.89 67.31 40.78 67.34 40.58 67.37 40.6 67.39 40.99 67.42 40.92 67.45 40.96 67.47 41.21 67.5 40.73 67.53 40.61 67.55 40.61 67.58 40.32 67.61 40.13 67.64 40.13 67.66 40.01 67.69 40.42 67.72 40.32 67.74 40.55 67.77 40.71 67.8 40.61 67.82 41.4 67.85 41.32 67.88 41.23 67.9 41.24 67.93 40.87 67.96 40.51 67.99 40.54 68.01 40.82 68.04 40.34 68.07 40.72 68.09 40.93 68.12 40.92 68.15 41.09 68.17 40.69 68.2 40.6 68.23 40.47 68.25 40.57 68.28 40.07 68.31 39.95 68.33 39.73 68.36 39.75 68.39 39.92 68.42 39.67 68.44 39.92 68.47 39.94 68.5 39.81 68.52 40.2 68.55 39.97 68.58 40.08 68.6 40.09 68.63 40.32 68.66 40.24 68.68 40.15 68.71 40.27 68.74 39.89 68.76 39.89 68.79 39.61 68.82 39.4 68.85 39.24 68.87 39.14 68.9 39.16 68.93 39.3 68.95 39 68.98 39.18 69.01 39.14 69.03 39.25 69.06 39.6 69.09 39.38 69.11 39.62 69.14 39.77 69.17 39.64 69.19 39.42 69.22 39.29 69.25 39.37 69.28 39.73 69.3 39.65 69.33 39.84 69.36 39.69 69.38 39.66 69.41 39.9 69.44 39.2 69.46 39.11 69.49 38.91 69.52 38.89 69.54 38.93 69.57 39.13 69.6 38.87 69.62 38.76 69.65 38.82 69.68 38.91 69.71 38.64 69.73 38.7 69.76 38.55 69.79 38.04 69.81 38.02 69.84 37.81 69.87 37.8 69.89 38.33 69.92 38.77 69.95 38.59 69.97 38.62 70 39.41 70.03 39.7 70.05 39.64 70.08 39.71 70.11 39.81 70.14 39.74 70.16 39.39 70.19 39.14 70.22 39.82 70.24 39.55 70.27 39.21 70.3 39.26 70.32 39.99 70.35 40.16 70.38 40.43 70.4 40.4 70.43 40.57 70.46 40.94 70.48 41.25 70.51 40.85 70.54 40.12 70.57 40.12 70.59 40.39 70.62 40.26 70.65 39.88 70.67 40.1 70.7 40.21 70.73 40 70.75 40.45 70.78 40.27 70.81 39.47 70.83 39.62 70.86 39.33 70.89 39.61 70.91 39.34 70.94 39.84 70.97 39.79 71 39.68 71.02 40.12 71.05 40.74 71.08 41.13 71.1 41.1 71.13 40.91 71.16 40.13 71.18 40.44 71.21 40.66 71.24 39.98 71.26 39.79 71.29 39.79 71.32 39.8 71.34 39.36 71.37 39.49 71.4 39.71 71.43 39.43 71.45 39.28 71.48 39.29 71.51 39.36 71.53 39.53 71.56 39.89 71.59 39.71 71.61 39.85 71.64 39.81 71.67 39.32 71.69 38.97 71.72 38.94 71.75 38.77 71.77 38.9 71.8 38.92 71.83 39.07 71.86 39.05 71.88 39.12 71.91 38.87 71.94 38.81 71.96 38.76 71.99 38.77 72.02 38.46 72.04 38.44 72.07 38.67 72.1 38.95 72.12 38.73 72.15 38.71 72.18 38.34 72.2 38.17 72.23 38.23 72.26 38.1 72.29 38.13 72.31 38.18 72.34 37.91 72.37 38.21 72.39 38.3 72.42 38.05 72.45 37.7 72.47 37.63 72.5 37.52 72.53 37.67 72.55 37.7 72.58 37.49 72.61 37.04 72.63 36.98 72.66 37.04 72.69 37.01 72.72 36.98 72.74 37.03 72.77 36.68 72.8 36.63 72.82 36.56 72.85 36.67 72.88 36.51 72.9 36.44 72.93 36.48 72.96 36.06 72.98 36.01 73.01 35.99 73.04 35.88 73.06 36.15 73.09 36.17 73.12 36.19 73.15 36.37 73.17 36.42 73.2 36.54 73.23 36.1 73.25 35.91 73.28 35.84 73.31 36.11 73.33 36.09 73.36 36 73.39 35.68 73.41 35.56 73.44 35.36 73.47 35.22 73.49 35.32 73.52 35.3 73.55 35.28 73.58 35.45 73.6 36.04 73.63 35.98 73.66 35.65 73.68 35.67 73.71 35.77 73.74 35.44 73.76 35.26 73.79 35.35 73.82 35.46 73.84 35.35 73.87 35.28 73.9 35.32 73.92 35.32 73.95 34.95 73.98 34.84 74.01 34.86 74.03 34.75 74.06 34.78 74.09 34.93 74.11 35.22 74.14 34.98 74.17 34.6 74.19 34.64 74.22 34.78 74.25 34.74 74.27 34.71 74.3 35.02 74.33 34.93 74.35 34.95 74.38 34.86 74.41 34.59 74.44 34.44 74.46 34.34 74.49 34.36 74.52 34.39 74.54 34.4 74.57 34.73 74.6 34.52 74.62 34.19 74.65 34.63 74.68 34.69 74.7 34.68 74.73 34.56 74.76 34.19 74.78 34 74.81 34.08 74.84 34.05 74.87 34.03 74.89 34.03 74.92 34.14 74.95 34.35 74.97 34.45 75 34.07 75.03 33.75 75.05 33.67 75.08 33.66 75.11 33.59 75.13 33.76 75.16 33.96 75.19 34.1 75.21 34.16 75.24 35.69 75.27 35.5 75.3 35.62 75.32 36.07 75.35 36.3 75.38 35.72 75.4 35.78 75.43 35.53 75.46 35.47 75.48 35.31 75.51 36.21 75.54 35.99 75.56 35.9 75.59 36.08 75.62 35.65 75.64 35.42 75.67 34.84 75.7 34.79 75.73 34.71 75.75 34.76 75.78 35.02 75.81 35.38 75.83 35.2 75.86 35.18 75.89 35.08 75.91 34.6 75.94 34.53 75.97 34.42 75.99 34.39 76.02 34.37 76.05 34.7 76.07 34.45 76.1 34.23 76.13 33.83 76.16 33.64 76.18 33.52 76.21 33.51 76.24 32.94 76.26 33.1 76.29 32.97 76.32 32.47 76.34 32.41 76.37 32.35 76.4 32.57 76.42 32.3 76.45 32.02 76.48 31.91 76.5 31.82 76.53 31.65 76.56 31.66 76.59 31.46 76.61 32.01 76.64 31.6 76.67 31.52 76.69 31.39 76.72 31 76.75 31.04 76.77 30.75 76.8 30.8 76.83 30.81 76.85 30.86 76.88 31.17 76.91 30.93 76.93 30.88 76.96 30.47 76.99 30.49 77.02 30.34 77.04 30.31 77.07 30.61 77.1 31.08 77.12 31.82 77.15 31.24 77.18 31.23 77.2 31.71 77.23 31.02 77.26 30.76 77.28 30.44 77.31 30.54 77.34 30.46 77.36 31 77.39 30.79 77.42 31.47 77.45 31.5 77.47 31.56 77.5 31.22 77.53 31.24 77.55 31.29 77.58 30.83 77.61 30.67 77.63 30.71 77.66 30.55 77.69 30.4 77.71 30.95 77.74 30.67 77.77 29.62 77.79 29.46 77.82 29.3 77.85 29.22 77.88 29.42 77.9 29.11 77.93 29.66 77.96 29.32 77.98 30.16 78.01 29.9 78.04 31.05 78.06 31.82 78.09 31.48 78.12 32.02 78.14 31.46 78.17 31.09 78.2 32.13 78.22 31.07 78.25 30.94 78.28 30.38 78.31 31.8 78.33 31.92 78.36 31.93 78.39 32.69 78.41 33.31 78.44 33.37 78.47 32.51 78.49 32.35 78.52 32.47 78.55 31.93 78.57 31.93 78.6 31.4 78.63 31.61 78.65 32.65 78.68 31.73 78.71 31.92 78.74 31.48 78.76 31.15 78.79 31.67 78.82 31.46 78.84 32.38 78.87 32.33 78.9 31.66 78.92 31.73 78.95 31.23 78.98 31.17 79 31.31 79.03 30.08 79.06 29.79 79.08 29.97 79.11 29.78 79.14 30 79.17 29.93 79.19 29.56 79.22 29.44 79.25 29.5 79.27 28.79 79.3 28.94 79.33 29.23 79.35 29.21 79.38 28.87 79.41 28.95 79.43 28.51 79.46 28.82 79.49 29.06 79.51 28.77 79.54 29.17 79.57 29.44 79.6 29.51 79.62 29.52 79.65 30.88 79.68 30.71 79.7 30.31 79.73 30.31 79.76 30.32 79.78 29.83 79.81 29.59 79.84 29.88 79.86 29.37 79.89 30.71 79.92 30.61 79.94 30.8 79.97 30.36 80 31.69 80.03 31.82 80.05 32.64 80.08 32.85 80.11 31.67 80.13 31.95 80.16 32.39 80.19 32.15 80.21 32.95 80.24 32.76 80.27 33.54 80.29 32.87 80.32 33.75 80.35 32.95 80.37 31.73 80.4 31.65 80.43 31.43 80.46 31.64 80.48 31.88 80.51 31.16 80.54 30.52 80.56 30.49 80.59 30.12 80.62 31.21 80.64 31.05 80.67 30.89 80.7 31.55 80.72 32.18 80.75 31.94 80.78 32.04 80.8 31.89 80.83 31.14 80.86 30.77 80.89 30.77 80.91 31.47 80.94 31.45 80.97 31.82 80.99 32.64 81.02 32.59 81.05 33.54 81.07 33.44 81.1 34.31 81.13 33.78 81.15 33.34 81.18 34.25 81.21 33.62 81.23 34.64 81.26 34.77 81.29 35.9 81.32 36.12 81.34 36.59 81.37 35.49 81.4 35.09 81.42 35.72 81.45 35.07 81.48 34.72 81.5 34.85 81.53 34.09 81.56 33.75 81.58 34.14 81.61 35.51 81.64 35.75 81.66 35.58 81.69 35.81 81.72 35.6 81.75 35.11 81.77 34.45 81.8 35.1 81.83 35.2 81.85 35.24 81.88 34.91 81.91 35.44 81.93 35.08 81.96 34.38 81.99 33.96 82.01 33.93 82.04 34.34 82.07 35.5 82.09 35.53 82.12 35.7 82.15 35.55 82.18 36.34 82.2 36.88 82.23 37.44 82.26 35.91 82.28 36.08 82.31 35.95 82.34 36.67 82.36 36.59 82.39 35.04 82.42 36.12 82.44 35.15 82.47 34.46 82.5 34.52 82.52 34.93 82.55 35.37 82.58 35.69 82.61 35.52 82.63 34.07 82.66 34.24 82.69 34.18 82.71 34.24 82.74 34.23 82.77 34.36 82.79 34.54 82.82 34.34 82.85 35.29 82.87 35.37 82.9 35.15 82.93 34.2 82.95 34.2 82.98 33.36 83.01 33.45 83.04 33.83 83.06 33.67 83.09 33.36 83.12 33.2 83.14 33.27 83.17 33.42 83.2 33.46 83.22 32.76 83.25 32.59 83.28 32.91 83.3 32.72 83.33 33.48 83.36 33.29 83.38 33.74 83.41 33.26 83.44 33.42 83.47 33.17 83.49 32.83 83.52 32.85 83.55 32.7 83.57 33.43 83.6 34.27 83.63 34.18 83.65 34.72 83.68 34.46 83.71 34.3 83.73 34.1 83.76 34.13 83.79 34.63 83.81 35 83.84 35.05 83.87 34.26 83.9 35.71 83.92 35.45 83.95 35.42 83.98 36.18 84 35.96 84.03 35.35 84.06 35.49 84.08 35.9 84.11 36.38 84.14 36.25 84.16 37.07 84.19 37.07 84.22 37.2 84.24 37.18 84.27 38.5 84.3 38.89 84.33 38.88 84.35 38.76 84.38 39.38 84.41 39.11 84.43 39.32 84.46 38.76 84.49 39.63 84.51 39.33 84.54 39.8 84.57 39.97 84.59 40.31 84.62 39.29 84.65 38.53 84.67 38.34 84.7 38.45 84.73 37.95 84.76 37.84 84.78 38.88 84.81 38.81 84.84 39.69 84.86 38.71 84.89 38.02 84.92 38.78 84.94 38.97 84.97 39.12 85 37.9 85.02 37.75 85.05 38.58 85.08 37.47 85.1 37.29 85.13 37.8 85.16 38.21 85.19 37.9 85.21 37.74 85.24 38.4 85.27 38.89 85.29 38.63 85.32 38.59 85.35 37.86 85.37 38.75 85.4 38.65 85.43 38.32 85.45 37.54 85.48 38.17 85.51 38.27 85.53 38.21 85.56 39.48 85.59 39.36 85.62 38.29 85.64 39.32 85.67 39.18 85.7 38.57 85.72 38.62 85.75 40.48 85.78 39.95 85.8 41.61 85.83 40.1 85.86 38.74 85.88 40.11 85.91 40.71 85.94 40.82 85.96 40.09 85.99 39.64 86.02 42.51 86.05 40.72 86.07 40.79 86.1 42.08 86.13 42.66 86.15 44.02 86.18 45.9 86.21 46.59 86.23 49.09 86.26 49.57 86.29 46.11 86.31 46.4 86.34 49.1 86.37 47.62 86.39 48.09 86.42 46.56 86.45 47.38 86.48 49.32 86.5 48.68 86.53 50.2 86.56 50.58 86.58 47.3 86.61 47.58 86.64 46.88 86.66 46.3 86.69 46.36 86.72 45.24 86.74 47.03 86.77 48.66 86.8 47.75 86.82 48.02 86.85 48.67 86.88 50.19 86.91 48.15 86.93 49.4 86.96 50.22 86.99 49.66 87.01 51.24 87.04 52.88 87.07 51.06 87.09 49.59 87.12 49.46 87.15 48.55 87.17 48.17 87.2 50.68 87.23 49.68 87.25 49.05 87.28 49.84 87.31 48.89 87.34 47.79 87.36 48.68 87.39 48.42 87.42 49.15 87.44 48.91 87.47 49.15 87.5 47.82 87.52 48.19 87.55 49 87.58 49.09 87.6 49.31 87.63 49.68 87.66 49.5 87.68 49.33 87.71 49.45 87.74 48.77 87.77 48.37 87.79 47.42 87.82 47.72 87.85 47.49 87.87 48.39 87.9 48.49 87.93 49.02 87.95 49.48 87.98 49.58 88.01 50.49 88.03 50.45 88.06 50.19 88.09 51.42 88.11 50.39 88.14 50.78 88.17 50.94 88.2 50.8 88.22 50.58 88.25 49.85 88.28 50.68 88.3 51.23 88.33 51.46 88.36 50.94 88.38 51.39 88.41 51 88.44 50.19 88.46 50.23 88.49 51.64 88.52 51.45 88.54 51.48 88.57 51.78 88.6 52.88 88.63 52.87 88.65 53.2 88.68 53.57 88.71 54.49 88.73 53.62 88.76 53.92 88.79 54.24 88.81 54.68 88.84 55.79 88.87 55.92 88.89 55.37 88.92 56.41 88.95 56.29 88.97 56.58 89 55.19 89.03 55.17 89.06 54.29 89.08 54.09 89.11 54.12 89.14 53.46 89.16 53.12 89.19 53.44 89.22 53.89 89.24 52.06 89.27 52.48 89.3 52.15 89.32 51.51 89.35 52.05 89.38 52.99 89.4 52.67 89.43 52.11 89.46 51.31 89.49 51.16 89.51 51.32 89.54 52 89.57 51.83 89.59 50.92 89.62 51.02 89.65 51.52 89.67 51.12 89.7 50.77 89.73 50.74 89.75 51.81 89.78 51.34 89.81 51.65 89.83 51.39 89.86 50.95 89.89 51.14 89.92 51.17 89.94 50.54 89.97 50.61 90 50.45 90.02 49.66 90.05 49.72 90.08 49.34 90.1 49.72 90.13 49.11 90.16 49.69 90.18 49.5 90.21 50.18 90.24 50.01 90.26 50.24 90.29 49.37 90.32 49.48 90.35 49.67 90.37 50.15 90.4 50.21 90.43 49.48 90.45 50.12 90.48 49.74 90.51 49.38 90.53 48.57 90.56 48.5 90.59 48.74 90.61 48.46 90.64 48.42 90.67 48.41 90.69 48.42 90.72 48.51 90.75 48.39 90.78 48.28 90.8 48.97 90.83 49.37 90.86 49.4 90.88 49.18 90.91 49.24 90.94 49.98 90.96 50.04 90.99 50.12 91.02 49.49 91.04 49.61 91.07 49.28 91.1 49.58 91.12 49.37 91.15 50.19 91.18 50.03 91.21 50.63 91.23 50.57 91.26 50.55 91.29 50.69 91.31 50.01 91.34 49.9 91.37 48.96 91.39 48.61 91.42 48.49 91.45 48.1 91.47 47.85 91.5 47.8 91.53 47.29 91.55 47.2 91.58 47.14 91.61 47.19 91.64 47.28 91.66 46.75 91.69 46.91 91.72 46.49 91.74 46.36 91.77 46.51 91.8 46.6 91.82 46.18 91.85 46.3 91.88 46.65 91.9 46.21 91.93 46.08 91.96 46.36 91.98 47.04 92.01 46.74 92.04 46.51 92.07 46.25 92.09 45.68 92.12 45.67 92.15 45.56 92.17 45.54 92.2 45.4 92.23 45.54 92.25 45.71 92.28 46.4 92.31 46.51 92.33 46.27 92.36 45.92 92.39 45.71 92.41 45.53 92.44 45.23 92.47 45.31 92.5 45.23 92.52 45.02 92.55 44.63 92.58 44.65 92.6 44.52 92.63 44.67 92.66 44.48 92.68 44.78 92.71 44.94 92.74 45.09 92.76 44.63 92.79 44.81 92.82 44.92 92.84 45.67 92.87 45.75 92.9 45.33 92.93 44.85 92.95 44.87 92.98 44.64 93.01 44.36 93.03 44.28 93.06 44.33 93.09 43.8 93.11 43.63 93.14 43.87 93.17 43.52 93.19 43.7 93.22 44.04 93.25 43.56 93.27 43.96 93.3 44.34 93.33 44.29 93.36 44.73 93.38 44 93.41 44.92 93.44 44.63 93.46 44.7 93.49 44.59 93.52 43.84 93.54 43.77 93.57 43.02 93.6 42.95 93.62 42.78 93.65 43.13 93.68 42.86 93.7 42.36 93.73 42.25 93.76 42.29 93.79 42.63 93.81 42.68 93.84 42.2 93.87 42.26 93.89 42.15 93.92 42.72 93.95 42.59 93.97 42.12 94 42.19 94.03 42.51 94.05 42.42 94.08 42.42 94.11 42.8 94.13 42.62 94.16 42.36 94.19 42.12 94.22 42.01 94.24 42.19 94.27 42.23 94.3 42.72 94.32 42.65 94.35 42.33 94.38 42.14 94.4 42.14 94.43 41.94 94.46 41.84 94.48 41.85 94.51 41.84 94.54 42.28 94.56 41.71 94.59 41.75 94.62 41.74 94.65 41.62 94.67 41.58 94.7 41.41 94.73 41.55 94.75 41.35 94.78 41.24 94.81 41.61 94.83 41.18 94.86 41.63 94.89 42.42 94.91 43.22 94.94 43.13 94.97 43.14 94.99 42.99 95.02 43.41 95.05 43.61 95.08 43.17 95.1 42.76 95.13 42.86 95.16 43.85 95.18 43.81 95.21 44.2 95.24 43.64 95.26 43.72 95.29 43.33 95.32 43.49 95.34 42.87 95.37 42.72 95.4 42.41 95.42 42.37 95.45 42.44 95.48 42.82 95.51 42.48 95.53 42.67 95.56 42.66 95.59 42.37 95.61 42.36 95.64 42.4 95.67 42.22 95.69 41.77 95.72 41.82 95.75 41.78 95.77 41.77 95.8 41.6 95.83 41.56 95.85 41.49 95.88 41.33 95.91 41.15 95.94 40.99 95.96 41.12 95.99 40.96 96.02 40.58 96.04 40.78 96.07 40.76 96.1 40.72 96.12 40.56 96.15 40.51 96.18 40.7 96.2 40.44 96.23 40.27 96.26 40.28 96.28 40.55 96.31 40.44 96.34 40.18 96.37 40.15 96.39 40.1 96.42 39.72 96.45 39.64 96.47 40.1 96.5 39.83 96.53 39.74 96.55 39.71 96.58 39.68 96.61 39.42 96.63 39.42 96.66 40.2 96.69 40 96.71 39.56 96.74 40.14 96.77 39.61 96.8 40.44 96.82 40.66 96.85 41.94 96.88 42.46 96.9 40.96 96.93 41.1 96.96 40.55 96.98 40.97 97.01 41.57 97.04 41.55 97.06 41.97 97.09 42.22 97.12 43.61 97.14 43.14 97.17 43.61 97.2 43.7 97.23 43.95 97.25 42.9 97.28 43.35 97.31 43.77 97.33 42.94 97.36 42.92 97.39 44.11 97.41 44.53 97.44 44.08 97.47 44.23 97.49 43.22 97.52 43.08 97.55 43.15 97.57 42.37 97.6 42.35 97.63 42.26 97.66 42.2 97.68 42.23 97.71 42.78 97.74 42.76 97.76 43.29 97.79 43.33 97.82 43.35 97.84 44.34 97.87 44.69 97.9 44.84 97.92 45.01 97.95 44.8 97.98 43.79 98 43.35 98.03 43.13 98.06 43.06 98.09 42.52 98.11 42.51 98.14 42.53 98.17 43.5 98.19 43.29 98.22 43.01 98.25 43.41 98.27 42.67 98.3 42.29 98.33 41.92 98.35 41.88 98.38 42.02 98.41 42.14 98.43 42.14 98.46 41.37 98.49 41.51 98.52 41.35 98.54 41.37 98.57 41.45 98.6 41.28 98.62 41.48 98.65 42.46 98.68 42.68 98.7 42.74 98.73 42.74 98.76 42.36 98.78 42.33 98.81 42.86 98.84 43.07 98.87 43.21 98.89 43.71 98.92 43.64 98.95 43.91 98.97 43.3 99 43.82 99.03 43.8 99.05 42.86 99.08 42.68 99.11 42.21 99.13 42.6 99.16 42.43 99.19 42.33 99.21 42.15 99.24 41.85 99.27 41.92 99.3 41.75 99.32 41.67 99.35 41.62 99.38 41.08 99.4 41.05 99.43 41.13 99.46 41.42 99.48 40.69 99.51 40.86 99.54 40.69 99.56 40.78 99.59 40.95 99.62 40.8 99.64 41.09 99.67 40.38 99.7 40.29 99.73 40.36 99.75 40.15 99.78 40.13 99.81 40.1 99.83 39.82 99.86 39.81 99.89 39.94 99.91 39.64 99.94 40.25 99.97 39.77 99.99 39.64 100.02 39.68 100.05 39.57 100.07 39.55 100.1 39.71 100.13 39.75 100.16 39.74 100.18 39.71 100.21 39.48 100.24 39.38 100.26 38.57 100.29 38.53 100.32 38.67 100.34 38.89 100.37 38.86 100.4 39.13 100.42 39.46 100.45 39.43 100.48 40.09 100.5 40.14 100.53 39.5 100.56 39.42 100.59 39.51 100.61 40.04 100.64 39.48 100.67 39.83 100.69 39.98 100.72 40.15 100.75 39.23 100.77 38.84 100.8 38.76 100.83 38.84 100.85 38.85 100.88 38.8 100.91 38.81 100.93 38.66 100.96 38.59 100.99 38.42 101.02 38.49 101.04 38.33 101.07 38.36 101.1 38.41 101.12 38.21 101.15 38.11 101.18 38.06 101.2 38.13 101.23 38.05 101.26 38.01 101.28 38.07 101.31 38.04 101.34 37.7 101.36 37.62 101.39 37.51 101.42 37.6 101.45 37.68 101.47 37.82 101.5 37.7 101.53 37.39 101.55 37.47 101.58 37.27 101.61 37.08 101.63 37.13 101.66 37.14 101.69 36.96 101.71 36.56 101.74 36.57 101.77 36.54 101.79 36.52 101.82 37.14 101.85 36.88 101.88 36.34 101.9 36.33 101.93 36.26 101.96 36.15 101.98 35.89 102.01 35.63 102.04 35.6 102.06 35.64 102.09 35.48 102.12 35.5 102.14 35.65 102.17 35.31 102.2 35.04 102.22 35.7 102.25 36.1 102.28 36.23 102.31 36.01 102.33 35.65 102.36 36.27 102.39 36.24 102.41 35.53 102.44 35.86 102.47 36.15 102.49 35.7 102.52 35.7 102.55 36.54 102.57 36.32 102.6 36.51 102.63 37.91 102.65 37.32 102.68 37.01 102.71 36.35 102.74 36.42 102.76 36.17 102.79 35.86 102.82 35.67 102.84 35.76 102.87 35.46 102.9 35.19 102.92 35.31 102.95 35.1 102.98 35.01 103 35.03 103.03 34.91 103.06 34.98 103.08 35.09 103.11 35.08 103.14 35.51 103.17 35.49 103.19 35.44 103.22 35.74 103.25 35.5 103.27 34.81 103.3 34.62 103.33 34.72 103.35 34.29 103.38 33.94 103.41 33.67 103.43 33.5 103.46 33.51 103.49 33.51 103.51 33.82 103.54 34.33 103.57 34.13 103.6 33.96 103.62 33.68 103.65 34.16 103.68 33.92 103.7 34.29 103.73 34.46 103.76 34.72 103.78 34.25 103.81 34.6 103.84 35.08 103.86 35.17 103.89 35.03 103.92 35 103.94 34.86 103.97 34.39 104 35.42 104.03 35.57 104.05 35.93 104.08 36.15 104.11 36.23 104.13 36.31 104.16 36.03 104.19 36.66 104.21 36.66 104.24 36.21 104.27 36.86 104.29 36.63 104.32 36.47 104.35 36.19 104.37 35.79 104.4 36.08 104.43 36.3 104.46 36.73 104.48 36.33 104.51 35.79 104.54 35.52 104.56 34.96 104.59 34.34 104.62 34.39 104.64 34.18 104.67 33.83 104.7 34.06 104.72 34.62 104.75 34.84 104.78 34.67 104.8 34.87 104.83 34.72 104.86 35.07 104.89 34.32 104.91 34.38 104.94 33.82 104.97 33.98 104.99 34.3 105.02 34.64 105.05 35.37 105.07 35.6 105.1 35.96 105.13 36 105.15 36.98 105.18 36.87 105.21 38.76 105.23 38.53 105.26 40.87 105.29 39.29 105.32 41.2 105.34 39.64 105.37 39.18 105.4 38.39 105.42 38.68 105.45 38.66 105.48 40.21 105.5 40.84 105.53 40.71 105.56 39.52 105.58 38.99 105.61 39.62 105.64 39.12 105.66 38.18 105.69 38.11 105.72 37.91 105.75 38.35 105.77 39.29 105.8 39.66 105.83 38.64 105.85 39.08 105.88 40.2 105.91 39.95 105.93 39.78 105.96 39.26 105.99 38.58 106.01 38.3 106.04 38.69 106.07 38.67 106.09 39.71 106.12 41.15 106.15 41.01 106.18 40.13 106.2 39.6 106.23 40.49 106.26 41.44 106.28 40.88 106.31 40.39 106.34 39.72 106.36 39.79 106.39 38.58 106.42 38.64 106.44 38.26 106.47 38.41 106.5 37.8 106.52 38.71 106.55 38.04 106.58 38.31 106.61 38.17 106.63 37.19 106.66 36.8 106.69 37.57 106.71 36.97 106.74 35.72 106.77 36.65 106.79 37.75 106.82 37.09 106.85 36.32 106.87 36.55 106.9 36.23 106.93 35.86 106.95 37.29 106.98 36.88 107.01 35.92 107.04 36.19 107.06 36.13 107.09 36.83 107.12 37.33 107.14 37.24 107.17 38.15 107.2 38.35 107.22 39.22 107.25 39.32 107.28 38.24 107.3 38.12 107.33 36.32 107.36 36.41 107.38 36.41 107.41 36.13 107.44 35.93 107.47 35.76 107.49 36.49 107.52 35.81 107.55 36.41 107.57 36.65 107.6 37.14 107.63 36.97 107.65 36.98 107.68 37.35 107.71 36.1 107.73 36.09 107.76 35.86 107.79 35.4 107.81 35.41 107.84 35.93 107.87 35.43 107.9 35.68 107.92 35.02 107.95 34.94 107.98 34.95 108 35.16 108.03 35.04 108.06 34.78 108.08 34.83 108.11 34.75 108.14 34.93 108.16 34.71 108.19 34.35 108.22 34.19 108.24 33.83 108.27 33.87 108.3 34 108.33 33.7 108.35 33.78 108.38 34.05 108.41 34.08 108.43 34.15 108.46 33.85 108.49 33.89 108.51 33.31 108.54 33.37 108.57 33.25 108.59 33.23 108.62 33.2 108.65 33.53 108.67 33.26 108.7 33.25 108.73 33.61 108.76 33.15 108.78 32.99 108.81 32.93 108.84 33.03 108.86 32.86 108.89 32.86 108.92 32.87 108.94 32.78 108.97 32.98 109 32.87 109.02 32.88 109.05 32.94 109.08 33.69 109.1 33.4 109.13 33.14 109.16 33.09 109.19 32.95 109.21 32.15 109.24 32.08 109.27 31.87 109.29 31.94 109.32 31.92 109.35 32.17 109.37 32.34 109.4 32.63 109.43 32.5 109.45 31.91 109.48 32.07 109.51 32.34 109.53 32.26 109.56 32.02 109.59 31.83 109.62 32.06 109.64 32.52 109.67 32.58 109.7 33.06 109.72 33.85 109.75 33.52 109.78 32.85 109.8 33.35 109.83 33.09 109.86 32.37 109.88 32.68 109.91 32.93 109.94 32.69 109.96 33.07 109.99 32.79 110.02 32.47 110.05 32.05 110.07 31.96 110.1 32.01 110.13 31.77 110.15 31.81 110.18 32.04 110.21 32.66 110.23 32.77 110.26 33.05 110.29 33.41 110.31 33.33 110.34 33.46 110.37 33.92 110.39 34.16 110.42 34.28 110.45 34.86 110.48 35.12 110.5 34.63 110.53 34.63 110.56 34.66 110.58 34.53 110.61 34.81 110.64 34.35 110.66 34.94 110.69 35.04 110.72 36.05 110.74 36.11 110.77 36.01 110.8 34.96 110.82 34.79 110.85 34.44 110.88 34.97 110.91 34.37 110.93 34.66 110.96 34.08 110.99 33.66 111.01 33.75 111.04 33.4 111.07 33.45 111.09 34.37 111.12 34.12 111.15 34.63 111.17 34.52 111.2 34.17 111.23 34.27 111.25 33.24 111.28 33.27 111.31 33.01 111.34 33.18 111.36 33.64 111.39 33.77 111.42 34.08 111.44 34.26 111.47 34.37 111.5 33.62 111.52 33.81 111.55 33.52 111.58 33.14 111.6 33.01 111.63 33.45 111.66 33.83 111.68 34.21 111.71 33.99 111.74 33.21 111.77 32.52 111.79 32.53 111.82 32.77 111.85 32.89 111.87 33.25 111.9 32.45 111.93 32.37 111.95 32.18 111.98 32.15 112.01 32.19 112.03 32.03 112.06 32.18 112.09 32.17 112.11 32.19 112.14 31.88 112.17 31.79 112.2 31.8 112.22 32.05 112.25 32.16 112.28 32.59 112.3 32.22 112.33 32.34 112.36 32.42 112.38 32.4 112.41 32.8 112.44 32.47 112.46 32.67 112.49 32.63 112.52 31.72 112.54 31.67 112.57 31.86 112.6 31.61 112.63 31.57 112.65 30.81 112.68 30.61 112.71 30.76 112.73 30.72 112.76 30.67 112.79 30.6 112.81 30.66 112.84 30.74 112.87 31.11 112.89 31.28 112.92 31.01 112.95 31.19 112.97 30.9 113 31.02 113.03 30.98 113.06 30.68 113.08 30.55 113.11 30.65 113.14 31.05 113.16 31.53 113.19 31.6 113.22 31.59 113.24 31.24 113.27 30.77 113.3 30.75 113.32 30.78 113.35 31.53 113.38 31.53 113.4 32.42 113.43 32.52 113.46 32.42 113.49 32.41 113.51 31.94 113.54 32.46 113.57 32.39 113.59 31.89 113.62 33.05 113.65 33.5 113.67 33.48 113.7 33.48 113.73 33.7 113.75 34.38 113.78 34.49 113.81 34.32 113.83 33.55 113.86 33.58 113.89 33.4 113.92 32.76 113.94 32.92 113.97 33.25 114 32.86 114.02 32.72 114.05 32.71 114.08 32.93 114.1 32.98 114.13 32.67 114.16 32.53 114.18 32.23 114.21 32.17 114.24 31.88 114.26 31.9 114.29 32.17 114.32 32.3 114.35 31.93 114.37 31.51 114.4 31.87 114.43 31.65 114.45 32.1 114.48 32.29 114.51 32.38 114.53 32.45 114.56 33.03 114.59 32.42 114.61 31.28 114.64 31.36 114.67 31.2 114.69 31.38 114.72 31.59 114.75 31.36 114.78 31.06 114.8 31 114.83 30.93 114.86 30.83 114.88 30.92 114.91 30.6 114.94 30.41 114.96 30.18 114.99 29.93 115.02 29.76 115.04 29.5 115.07 29.55 115.1 29.28 115.12 29.44 115.15 29.63 115.18 29.08 115.21 29.56 115.23 29.19 115.26 29.16 115.29 29.32 115.31 29.14 115.34 29.22 115.37 29.05 115.39 29.18 115.42 29.21 115.45 29.18 115.47 28.98 115.5 29.38 115.53 29.55 115.55 29.11 115.58 29.91 115.61 29.48 115.64 28.84 115.66 28.91 115.69 28.78 115.72 28.64 115.74 28.18 115.77 28.02 115.8 27.9 115.82 27.65 115.85 27.47 115.88 27.46 115.9 27.44 115.93 27.13 115.96 27.22 115.98 27.45 116.01 27.43 116.04 27.23 116.07 27.56 116.09 27.23 116.12 27.46 116.15 27.05 116.17 27.18 116.2 26.98 116.23 27 116.25 26.67 116.28 27.09 116.31 26.88 116.33 27.03 116.36 26.85 116.39 26.63 116.41 26.16 116.44 25.93 116.47 25.93 116.5 26.91 116.52 26.33 116.55 26.83 116.58 27.13 116.6 27.1 116.63 27.02 116.66 26.46 116.68 26.62 116.71 26.53 116.74 26.49 116.76 26.1 116.79 26.02 116.82 26.53 116.84 26.05 116.87 25.52 116.9 25.54 116.93 25.22 116.95 25.04 116.98 25.12 117.01 24.99 117.03 25.09 117.06 24.64 117.09 24.41 117.11 24.57 117.14 24.12 117.17 24.19 117.19 24 117.22 24.3 117.25 24.34 117.27 24.31 117.3 23.92 117.33 24.31 117.36 24.23 117.38 25 117.41 24.49 117.44 24.77 117.46 25.57 117.49 25.28 117.52 24.51 117.54 24.55 117.57 24.98 117.6 25.45 117.62 24.78 117.65 25.17 117.68 24.77 117.7 24.26 117.73 25.02 117.76 26.32 117.79 26.17 117.81 26.68 117.84 26.31 117.87 25.76 117.89 25.34 117.92 25.76 117.95 25.52 117.97 25.68 118 25.47 118.03 24.93 118.05 24.6 118.08 24.32 118.11 24.35 118.13 23.73 118.16 23.72 118.19 23.64 118.22 23.76 118.24 23.69 118.27 23.41 118.3 23.42 118.32 23.42 118.35 23.34 118.38 23.43 118.4 23.38 118.43 23.37 118.46 23.5 118.48 23.51 118.51 23.59 118.54 23.11 118.56 23 118.59 23.17 118.62 23.52 118.65 23.69 118.67 23.59 118.7 23.86 118.73 23.88 118.75 23.77 118.78 24.18 118.81 25.02 118.83 25.13 118.86 25.39 118.89 25.42 118.91 25.81 118.94 25.56 118.97 25.39 118.99 25.63 119.02 26.25 119.05 26.08 119.08 26.01 119.1 26.13 119.13 26.04 119.16 25.68 119.18 25.66 119.21 25.71 119.24 25.2 119.26 24.72 119.29 24.22 119.32 24.32 119.34 24.04 119.37 23.61 119.4 23.48 119.42 22.93 119.45 23.08 119.48 23.77 119.51 23.95 119.53 24.2 119.56 24.42 119.59 24.22 119.61 24.48 119.64 24.95 119.67 24.72 119.69 24.94 119.72 25.44 119.75 25.16 119.77 25.66 119.8 26.25 119.83 26.15 119.85 24.96 119.88 24.55 119.91 24.32 119.94 24.81 119.96 24.05 119.99 24.06 120.02 23.98 120.04 23.71 120.07 23.91 120.1 23.55 120.12 23.33 120.15 23.33 120.18 22.92 120.2 23.15 120.23 23.42 120.26 23.16 120.28 23.07 120.31 23.15 120.34 22.68 120.37 23.24 120.39 22.62 120.42 22.54 120.45 22.66 120.47 22.4 120.5 22.2 120.53 21.88 120.55 21.83 120.58 21.86 120.61 22.11 120.63 21.71 120.66 21.5 120.69 21.48 120.71 21.47 120.74 21.38 120.77 21.42 120.8 21.71 120.82 22.06 120.85 22.15 120.88 22.4 120.9 21.67 120.93 21.65 120.96 21.84 120.98 22.32 121.01 22.7 121.04 22.64 121.06 22.17 121.09 22.2 121.12 21.12 121.14 21.08 121.17 20.93 121.2 20.66 121.23 20.43 121.25 19.97 121.28 19.98 121.31 19.88 121.33 19.62 121.36 20.12 121.39 20.01 121.41 20.18 121.44 19.79 121.47 20.04 121.49 20.1 121.52 20.13 121.55 20.79 121.57 20.37 121.6 19.97 121.63 20.21 121.66 20.05 121.68 20.22 121.71 20.37 121.74 21.02 121.76 22.19 121.79 22.34 121.82 22.01 121.84 22.71 121.87 22.3 121.9 22.85 121.92 24.05 121.95 23.79 121.98 23.81 122 23.11 122.03 22.5 122.06 22.47 122.09 21.76 122.11 21.88 122.14 21.64 122.17 21.17 122.19 21.26 122.22 21.59 122.25 21.25 122.27 21.36 122.3 20.98 122.33 21.08 122.35 21.01 122.38 20.74 122.41 20.56 122.43 21.12 122.46 20.28 122.49 20.42 122.52 20.19 122.54 20.07 122.57 20.2 122.6 20.45 122.62 20.49 122.65 21.5 122.68 20.83 122.7 20.5 122.73 20.92 122.76 20.52 122.78 20.63 122.81 20.72 122.84 20.39 122.86 20.75 122.89 20.77 122.92 20.55 122.95 20.06 122.97 19.78 123 19.63 123.03 19.63 123.05 20.22 123.08 20.84 123.11 20.8 123.13 20.13 123.16 21.12 123.19 21.64 123.21 21.1 123.24 20.78 123.27 20.24 123.29 20.09 123.32 19.85 123.35 19.89 123.38 19.89 123.4 20.41 123.43 20.09 123.46 19.77 123.48 19.6 123.51 19.68 123.54 19.85 123.56 19.79 123.59 20.26 123.62 19.83 123.64 19.71 123.67 19.59 123.7 19.18 123.72 19.11 123.75 19.48 123.78 20.1 123.81 19.93 123.83 19.86 123.86 20.36 123.89 19.78 123.91 19.74 123.94 19.51 123.97 19.25 123.99 19.41 124.02 19.17 124.05 19.1 124.07 19 124.1 19.08 124.13 19.02 124.15 18.66 124.18 18.34 124.21 18.27 124.24 18.26 124.26 18.63 124.29 19.04 124.32 18.88 124.34 18.86 124.37 18.76 124.4 18.4 124.42 18.35 124.45 18.25 124.48 18.29 124.5 18.73 124.53 18.55 124.56 18.62 124.58 18.6 124.61 18.7 124.64 18.22 124.67 18.14 124.69 17.81 124.72 17.97 124.75 18.4 124.77 18.11 124.8 18.37 124.83 18.26 124.85 17.85 124.88 17.83 124.91 17.55 124.93 18.14 124.96 17.69 124.99 17.87 125.01 17.64 125.04 17.74 125.07 17.75 125.1 18.2 125.12 18.12 125.15 18.38 125.18 18.5 125.2 19.67 125.23 19.92 125.26 19.64 125.28 20.16 125.31 20.11 125.34 20.39 125.36 19.7 125.39 19.64 125.42 19.68 125.44 19.34 125.47 19.11 125.5 19.3 125.53 18.65 125.55 18.35 125.58 18.13 125.61 17.91 125.63 18.05 125.66 17.77 125.69 17.66 125.71 17.61 125.74 17.76 125.77 17.69 125.79 17.81 125.82 17.77 125.85 17.8 125.87 17.55 125.9 17.65 125.93 18.01 125.96 17.8 125.98 17.88 126.01 18.1 126.04 17.94 126.06 17.57 126.09 17.48 126.12 17.08 126.14 17.03 126.17 17.42 126.2 17.85 126.22 17.28 126.25 18.26 126.28 17.64 126.3 17.79 126.33 17.9 126.36 18.78 126.39 18.79 126.41 18.02 126.44 18.09 126.47 19.09 126.49 18.08 126.52 19.31 126.55 19.74 126.57 20.56 126.6 20.58 126.63 21.22 126.65 21.31 126.68 20.34 126.71 20.27 126.73 19.48 126.76 20.04 126.79 19.24 126.82 18.77 126.84 18.73 126.87 18.04 126.9 18.15 126.92 17.34 126.95 16.62 126.98 16.71\"/>\n",
        "      </g>\n",
        "    </g>\n",
        "    <g opacity=\"0\" class=\"guide zoomslider\" stroke=\"none\" id=\"fig-7e407ce6bb964f0a9f0e4d5b3324d29d-element-12\">\n",
        "      <g fill=\"#EAEAEA\" stroke-width=\"0.3\" stroke-opacity=\"0\" stroke=\"#6A6A6A\" id=\"fig-7e407ce6bb964f0a9f0e4d5b3324d29d-element-13\">\n",
        "        <rect x=\"129.42\" y=\"8\" width=\"4\" height=\"4\"/>\n",
        "        <g class=\"button_logo\" fill=\"#6A6A6A\" id=\"fig-7e407ce6bb964f0a9f0e4d5b3324d29d-element-14\">\n",
        "          <path d=\"M130.22,9.6 L 131.02 9.6 131.02 8.8 131.82 8.8 131.82 9.6 132.62 9.6 132.62 10.4 131.82 10.4 131.82 11.2 131.02 11.2 131.02 10.4 130.22 10.4 z\"/>\n",
        "        </g>\n",
        "      </g>\n",
        "      <g fill=\"#EAEAEA\" id=\"fig-7e407ce6bb964f0a9f0e4d5b3324d29d-element-15\">\n",
        "        <rect x=\"109.92\" y=\"8\" width=\"19\" height=\"4\"/>\n",
        "      </g>\n",
        "      <g class=\"zoomslider_thumb\" fill=\"#6A6A6A\" id=\"fig-7e407ce6bb964f0a9f0e4d5b3324d29d-element-16\">\n",
        "        <rect x=\"118.42\" y=\"8\" width=\"2\" height=\"4\"/>\n",
        "      </g>\n",
        "      <g fill=\"#EAEAEA\" stroke-width=\"0.3\" stroke-opacity=\"0\" stroke=\"#6A6A6A\" id=\"fig-7e407ce6bb964f0a9f0e4d5b3324d29d-element-17\">\n",
        "        <rect x=\"105.42\" y=\"8\" width=\"4\" height=\"4\"/>\n",
        "        <g class=\"button_logo\" fill=\"#6A6A6A\" id=\"fig-7e407ce6bb964f0a9f0e4d5b3324d29d-element-18\">\n",
        "          <path d=\"M106.22,9.6 L 108.62 9.6 108.62 10.4 106.22 10.4 z\"/>\n",
        "        </g>\n",
        "      </g>\n",
        "    </g>\n",
        "  </g>\n",
        "  <g class=\"guide ylabels\" font-size=\"2.82\" font-family=\"'PT Sans Caption','Helvetica Neue','Helvetica',sans-serif\" fill=\"#6C606B\" id=\"fig-7e407ce6bb964f0a9f0e4d5b3324d29d-element-19\">\n",
        "    <text x=\"23.92\" y=\"172.86\" text-anchor=\"end\" dy=\"0.35em\" gadfly:scale=\"1.0\" visibility=\"hidden\">-2.5\u00d710\u2074</text>\n",
        "    <text x=\"23.92\" y=\"154.43\" text-anchor=\"end\" dy=\"0.35em\" gadfly:scale=\"1.0\" visibility=\"hidden\">-2.0\u00d710\u2074</text>\n",
        "    <text x=\"23.92\" y=\"136\" text-anchor=\"end\" dy=\"0.35em\" gadfly:scale=\"1.0\" visibility=\"hidden\">-1.5\u00d710\u2074</text>\n",
        "    <text x=\"23.92\" y=\"117.57\" text-anchor=\"end\" dy=\"0.35em\" gadfly:scale=\"1.0\" visibility=\"hidden\">-1.0\u00d710\u2074</text>\n",
        "    <text x=\"23.92\" y=\"99.14\" text-anchor=\"end\" dy=\"0.35em\" gadfly:scale=\"1.0\" visibility=\"hidden\">-5.0\u00d710\u00b3</text>\n",
        "    <text x=\"23.92\" y=\"80.72\" text-anchor=\"end\" dy=\"0.35em\" gadfly:scale=\"1.0\" visibility=\"visible\">0</text>\n",
        "    <text x=\"23.92\" y=\"62.29\" text-anchor=\"end\" dy=\"0.35em\" gadfly:scale=\"1.0\" visibility=\"visible\">5.0\u00d710\u00b3</text>\n",
        "    <text x=\"23.92\" y=\"43.86\" text-anchor=\"end\" dy=\"0.35em\" gadfly:scale=\"1.0\" visibility=\"visible\">1.0\u00d710\u2074</text>\n",
        "    <text x=\"23.92\" y=\"25.43\" text-anchor=\"end\" dy=\"0.35em\" gadfly:scale=\"1.0\" visibility=\"visible\">1.5\u00d710\u2074</text>\n",
        "    <text x=\"23.92\" y=\"7\" text-anchor=\"end\" dy=\"0.35em\" gadfly:scale=\"1.0\" visibility=\"visible\">2.0\u00d710\u2074</text>\n",
        "    <text x=\"23.92\" y=\"-11.43\" text-anchor=\"end\" dy=\"0.35em\" gadfly:scale=\"1.0\" visibility=\"hidden\">2.5\u00d710\u2074</text>\n",
        "    <text x=\"23.92\" y=\"-29.86\" text-anchor=\"end\" dy=\"0.35em\" gadfly:scale=\"1.0\" visibility=\"hidden\">3.0\u00d710\u2074</text>\n",
        "    <text x=\"23.92\" y=\"-48.29\" text-anchor=\"end\" dy=\"0.35em\" gadfly:scale=\"1.0\" visibility=\"hidden\">3.5\u00d710\u2074</text>\n",
        "    <text x=\"23.92\" y=\"-66.71\" text-anchor=\"end\" dy=\"0.35em\" gadfly:scale=\"1.0\" visibility=\"hidden\">4.0\u00d710\u2074</text>\n",
        "    <text x=\"23.92\" y=\"-85.14\" text-anchor=\"end\" dy=\"0.35em\" gadfly:scale=\"1.0\" visibility=\"hidden\">4.5\u00d710\u2074</text>\n",
        "    <text x=\"23.92\" y=\"154.43\" text-anchor=\"end\" dy=\"0.35em\" gadfly:scale=\"10.0\" visibility=\"hidden\">-2.0\u00d710\u2074</text>\n",
        "    <text x=\"23.92\" y=\"150.74\" text-anchor=\"end\" dy=\"0.35em\" gadfly:scale=\"10.0\" visibility=\"hidden\">-1.9\u00d710\u2074</text>\n",
        "    <text x=\"23.92\" y=\"147.06\" text-anchor=\"end\" dy=\"0.35em\" gadfly:scale=\"10.0\" visibility=\"hidden\">-1.8\u00d710\u2074</text>\n",
        "    <text x=\"23.92\" y=\"143.37\" text-anchor=\"end\" dy=\"0.35em\" gadfly:scale=\"10.0\" visibility=\"hidden\">-1.7\u00d710\u2074</text>\n",
        "    <text x=\"23.92\" y=\"139.69\" text-anchor=\"end\" dy=\"0.35em\" gadfly:scale=\"10.0\" visibility=\"hidden\">-1.6\u00d710\u2074</text>\n",
        "    <text x=\"23.92\" y=\"136\" text-anchor=\"end\" dy=\"0.35em\" gadfly:scale=\"10.0\" visibility=\"hidden\">-1.5\u00d710\u2074</text>\n",
        "    <text x=\"23.92\" y=\"132.32\" text-anchor=\"end\" dy=\"0.35em\" gadfly:scale=\"10.0\" visibility=\"hidden\">-1.4\u00d710\u2074</text>\n",
        "    <text x=\"23.92\" y=\"128.63\" text-anchor=\"end\" dy=\"0.35em\" gadfly:scale=\"10.0\" visibility=\"hidden\">-1.3\u00d710\u2074</text>\n",
        "    <text x=\"23.92\" y=\"124.94\" text-anchor=\"end\" dy=\"0.35em\" gadfly:scale=\"10.0\" visibility=\"hidden\">-1.2\u00d710\u2074</text>\n",
        "    <text x=\"23.92\" y=\"121.26\" text-anchor=\"end\" dy=\"0.35em\" gadfly:scale=\"10.0\" visibility=\"hidden\">-1.1\u00d710\u2074</text>\n",
        "    <text x=\"23.92\" y=\"117.57\" text-anchor=\"end\" dy=\"0.35em\" gadfly:scale=\"10.0\" visibility=\"hidden\">-1.0\u00d710\u2074</text>\n",
        "    <text x=\"23.92\" y=\"113.89\" text-anchor=\"end\" dy=\"0.35em\" gadfly:scale=\"10.0\" visibility=\"hidden\">-9.0\u00d710\u00b3</text>\n",
        "    <text x=\"23.92\" y=\"110.2\" text-anchor=\"end\" dy=\"0.35em\" gadfly:scale=\"10.0\" visibility=\"hidden\">-8.0\u00d710\u00b3</text>\n",
        "    <text x=\"23.92\" y=\"106.52\" text-anchor=\"end\" dy=\"0.35em\" gadfly:scale=\"10.0\" visibility=\"hidden\">-7.0\u00d710\u00b3</text>\n",
        "    <text x=\"23.92\" y=\"102.83\" text-anchor=\"end\" dy=\"0.35em\" gadfly:scale=\"10.0\" visibility=\"hidden\">-6.0\u00d710\u00b3</text>\n",
        "    <text x=\"23.92\" y=\"99.14\" text-anchor=\"end\" dy=\"0.35em\" gadfly:scale=\"10.0\" visibility=\"hidden\">-5.0\u00d710\u00b3</text>\n",
        "    <text x=\"23.92\" y=\"95.46\" text-anchor=\"end\" dy=\"0.35em\" gadfly:scale=\"10.0\" visibility=\"hidden\">-4.0\u00d710\u00b3</text>\n",
        "    <text x=\"23.92\" y=\"91.77\" text-anchor=\"end\" dy=\"0.35em\" gadfly:scale=\"10.0\" visibility=\"hidden\">-3.0\u00d710\u00b3</text>\n",
        "    <text x=\"23.92\" y=\"88.09\" text-anchor=\"end\" dy=\"0.35em\" gadfly:scale=\"10.0\" visibility=\"hidden\">-2.0\u00d710\u00b3</text>\n",
        "    <text x=\"23.92\" y=\"84.4\" text-anchor=\"end\" dy=\"0.35em\" gadfly:scale=\"10.0\" visibility=\"hidden\">-1.0\u00d710\u00b3</text>\n",
        "    <text x=\"23.92\" y=\"80.72\" text-anchor=\"end\" dy=\"0.35em\" gadfly:scale=\"10.0\" visibility=\"hidden\">0</text>\n",
        "    <text x=\"23.92\" y=\"77.03\" text-anchor=\"end\" dy=\"0.35em\" gadfly:scale=\"10.0\" visibility=\"hidden\">1.0\u00d710\u00b3</text>\n",
        "    <text x=\"23.92\" y=\"73.34\" text-anchor=\"end\" dy=\"0.35em\" gadfly:scale=\"10.0\" visibility=\"hidden\">2.0\u00d710\u00b3</text>\n",
        "    <text x=\"23.92\" y=\"69.66\" text-anchor=\"end\" dy=\"0.35em\" gadfly:scale=\"10.0\" visibility=\"hidden\">3.0\u00d710\u00b3</text>\n",
        "    <text x=\"23.92\" y=\"65.97\" text-anchor=\"end\" dy=\"0.35em\" gadfly:scale=\"10.0\" visibility=\"hidden\">4.0\u00d710\u00b3</text>\n",
        "    <text x=\"23.92\" y=\"62.29\" text-anchor=\"end\" dy=\"0.35em\" gadfly:scale=\"10.0\" visibility=\"hidden\">5.0\u00d710\u00b3</text>\n",
        "    <text x=\"23.92\" y=\"58.6\" text-anchor=\"end\" dy=\"0.35em\" gadfly:scale=\"10.0\" visibility=\"hidden\">6.0\u00d710\u00b3</text>\n",
        "    <text x=\"23.92\" y=\"54.91\" text-anchor=\"end\" dy=\"0.35em\" gadfly:scale=\"10.0\" visibility=\"hidden\">7.0\u00d710\u00b3</text>\n",
        "    <text x=\"23.92\" y=\"51.23\" text-anchor=\"end\" dy=\"0.35em\" gadfly:scale=\"10.0\" visibility=\"hidden\">8.0\u00d710\u00b3</text>\n",
        "    <text x=\"23.92\" y=\"47.54\" text-anchor=\"end\" dy=\"0.35em\" gadfly:scale=\"10.0\" visibility=\"hidden\">9.0\u00d710\u00b3</text>\n",
        "    <text x=\"23.92\" y=\"43.86\" text-anchor=\"end\" dy=\"0.35em\" gadfly:scale=\"10.0\" visibility=\"hidden\">1.0\u00d710\u2074</text>\n",
        "    <text x=\"23.92\" y=\"40.17\" text-anchor=\"end\" dy=\"0.35em\" gadfly:scale=\"10.0\" visibility=\"hidden\">1.1\u00d710\u2074</text>\n",
        "    <text x=\"23.92\" y=\"36.49\" text-anchor=\"end\" dy=\"0.35em\" gadfly:scale=\"10.0\" visibility=\"hidden\">1.2\u00d710\u2074</text>\n",
        "    <text x=\"23.92\" y=\"32.8\" text-anchor=\"end\" dy=\"0.35em\" gadfly:scale=\"10.0\" visibility=\"hidden\">1.3\u00d710\u2074</text>\n",
        "    <text x=\"23.92\" y=\"29.11\" text-anchor=\"end\" dy=\"0.35em\" gadfly:scale=\"10.0\" visibility=\"hidden\">1.4\u00d710\u2074</text>\n",
        "    <text x=\"23.92\" y=\"25.43\" text-anchor=\"end\" dy=\"0.35em\" gadfly:scale=\"10.0\" visibility=\"hidden\">1.5\u00d710\u2074</text>\n",
        "    <text x=\"23.92\" y=\"21.74\" text-anchor=\"end\" dy=\"0.35em\" gadfly:scale=\"10.0\" visibility=\"hidden\">1.6\u00d710\u2074</text>\n",
        "    <text x=\"23.92\" y=\"18.06\" text-anchor=\"end\" dy=\"0.35em\" gadfly:scale=\"10.0\" visibility=\"hidden\">1.7\u00d710\u2074</text>\n",
        "    <text x=\"23.92\" y=\"14.37\" text-anchor=\"end\" dy=\"0.35em\" gadfly:scale=\"10.0\" visibility=\"hidden\">1.8\u00d710\u2074</text>\n",
        "    <text x=\"23.92\" y=\"10.69\" text-anchor=\"end\" dy=\"0.35em\" gadfly:scale=\"10.0\" visibility=\"hidden\">1.9\u00d710\u2074</text>\n",
        "    <text x=\"23.92\" y=\"7\" text-anchor=\"end\" dy=\"0.35em\" gadfly:scale=\"10.0\" visibility=\"hidden\">2.0\u00d710\u2074</text>\n",
        "    <text x=\"23.92\" y=\"3.31\" text-anchor=\"end\" dy=\"0.35em\" gadfly:scale=\"10.0\" visibility=\"hidden\">2.1\u00d710\u2074</text>\n",
        "    <text x=\"23.92\" y=\"-0.37\" text-anchor=\"end\" dy=\"0.35em\" gadfly:scale=\"10.0\" visibility=\"hidden\">2.2\u00d710\u2074</text>\n",
        "    <text x=\"23.92\" y=\"-4.06\" text-anchor=\"end\" dy=\"0.35em\" gadfly:scale=\"10.0\" visibility=\"hidden\">2.3\u00d710\u2074</text>\n",
        "    <text x=\"23.92\" y=\"-7.74\" text-anchor=\"end\" dy=\"0.35em\" gadfly:scale=\"10.0\" visibility=\"hidden\">2.4\u00d710\u2074</text>\n",
        "    <text x=\"23.92\" y=\"-11.43\" text-anchor=\"end\" dy=\"0.35em\" gadfly:scale=\"10.0\" visibility=\"hidden\">2.5\u00d710\u2074</text>\n",
        "    <text x=\"23.92\" y=\"-15.11\" text-anchor=\"end\" dy=\"0.35em\" gadfly:scale=\"10.0\" visibility=\"hidden\">2.6\u00d710\u2074</text>\n",
        "    <text x=\"23.92\" y=\"-18.8\" text-anchor=\"end\" dy=\"0.35em\" gadfly:scale=\"10.0\" visibility=\"hidden\">2.7\u00d710\u2074</text>\n",
        "    <text x=\"23.92\" y=\"-22.49\" text-anchor=\"end\" dy=\"0.35em\" gadfly:scale=\"10.0\" visibility=\"hidden\">2.8\u00d710\u2074</text>\n",
        "    <text x=\"23.92\" y=\"-26.17\" text-anchor=\"end\" dy=\"0.35em\" gadfly:scale=\"10.0\" visibility=\"hidden\">2.9\u00d710\u2074</text>\n",
        "    <text x=\"23.92\" y=\"-29.86\" text-anchor=\"end\" dy=\"0.35em\" gadfly:scale=\"10.0\" visibility=\"hidden\">3.0\u00d710\u2074</text>\n",
        "    <text x=\"23.92\" y=\"-33.54\" text-anchor=\"end\" dy=\"0.35em\" gadfly:scale=\"10.0\" visibility=\"hidden\">3.1\u00d710\u2074</text>\n",
        "    <text x=\"23.92\" y=\"-37.23\" text-anchor=\"end\" dy=\"0.35em\" gadfly:scale=\"10.0\" visibility=\"hidden\">3.2\u00d710\u2074</text>\n",
        "    <text x=\"23.92\" y=\"-40.91\" text-anchor=\"end\" dy=\"0.35em\" gadfly:scale=\"10.0\" visibility=\"hidden\">3.3\u00d710\u2074</text>\n",
        "    <text x=\"23.92\" y=\"-44.6\" text-anchor=\"end\" dy=\"0.35em\" gadfly:scale=\"10.0\" visibility=\"hidden\">3.4\u00d710\u2074</text>\n",
        "    <text x=\"23.92\" y=\"-48.29\" text-anchor=\"end\" dy=\"0.35em\" gadfly:scale=\"10.0\" visibility=\"hidden\">3.5\u00d710\u2074</text>\n",
        "    <text x=\"23.92\" y=\"-51.97\" text-anchor=\"end\" dy=\"0.35em\" gadfly:scale=\"10.0\" visibility=\"hidden\">3.6\u00d710\u2074</text>\n",
        "    <text x=\"23.92\" y=\"-55.66\" text-anchor=\"end\" dy=\"0.35em\" gadfly:scale=\"10.0\" visibility=\"hidden\">3.7\u00d710\u2074</text>\n",
        "    <text x=\"23.92\" y=\"-59.34\" text-anchor=\"end\" dy=\"0.35em\" gadfly:scale=\"10.0\" visibility=\"hidden\">3.8\u00d710\u2074</text>\n",
        "    <text x=\"23.92\" y=\"-63.03\" text-anchor=\"end\" dy=\"0.35em\" gadfly:scale=\"10.0\" visibility=\"hidden\">3.9\u00d710\u2074</text>\n",
        "    <text x=\"23.92\" y=\"-66.71\" text-anchor=\"end\" dy=\"0.35em\" gadfly:scale=\"10.0\" visibility=\"hidden\">4.0\u00d710\u2074</text>\n",
        "    <text x=\"23.92\" y=\"154.43\" text-anchor=\"end\" dy=\"0.35em\" gadfly:scale=\"0.5\" visibility=\"hidden\">-2\u00d710\u2074</text>\n",
        "    <text x=\"23.92\" y=\"80.72\" text-anchor=\"end\" dy=\"0.35em\" gadfly:scale=\"0.5\" visibility=\"hidden\">0</text>\n",
        "    <text x=\"23.92\" y=\"7\" text-anchor=\"end\" dy=\"0.35em\" gadfly:scale=\"0.5\" visibility=\"hidden\">2\u00d710\u2074</text>\n",
        "    <text x=\"23.92\" y=\"-66.71\" text-anchor=\"end\" dy=\"0.35em\" gadfly:scale=\"0.5\" visibility=\"hidden\">4\u00d710\u2074</text>\n",
        "    <text x=\"23.92\" y=\"154.43\" text-anchor=\"end\" dy=\"0.35em\" gadfly:scale=\"5.0\" visibility=\"hidden\">-2.0\u00d710\u2074</text>\n",
        "    <text x=\"23.92\" y=\"147.06\" text-anchor=\"end\" dy=\"0.35em\" gadfly:scale=\"5.0\" visibility=\"hidden\">-1.8\u00d710\u2074</text>\n",
        "    <text x=\"23.92\" y=\"139.69\" text-anchor=\"end\" dy=\"0.35em\" gadfly:scale=\"5.0\" visibility=\"hidden\">-1.6\u00d710\u2074</text>\n",
        "    <text x=\"23.92\" y=\"132.32\" text-anchor=\"end\" dy=\"0.35em\" gadfly:scale=\"5.0\" visibility=\"hidden\">-1.4\u00d710\u2074</text>\n",
        "    <text x=\"23.92\" y=\"124.94\" text-anchor=\"end\" dy=\"0.35em\" gadfly:scale=\"5.0\" visibility=\"hidden\">-1.2\u00d710\u2074</text>\n",
        "    <text x=\"23.92\" y=\"117.57\" text-anchor=\"end\" dy=\"0.35em\" gadfly:scale=\"5.0\" visibility=\"hidden\">-1.0\u00d710\u2074</text>\n",
        "    <text x=\"23.92\" y=\"110.2\" text-anchor=\"end\" dy=\"0.35em\" gadfly:scale=\"5.0\" visibility=\"hidden\">-8.0\u00d710\u00b3</text>\n",
        "    <text x=\"23.92\" y=\"102.83\" text-anchor=\"end\" dy=\"0.35em\" gadfly:scale=\"5.0\" visibility=\"hidden\">-6.0\u00d710\u00b3</text>\n",
        "    <text x=\"23.92\" y=\"95.46\" text-anchor=\"end\" dy=\"0.35em\" gadfly:scale=\"5.0\" visibility=\"hidden\">-4.0\u00d710\u00b3</text>\n",
        "    <text x=\"23.92\" y=\"88.09\" text-anchor=\"end\" dy=\"0.35em\" gadfly:scale=\"5.0\" visibility=\"hidden\">-2.0\u00d710\u00b3</text>\n",
        "    <text x=\"23.92\" y=\"80.72\" text-anchor=\"end\" dy=\"0.35em\" gadfly:scale=\"5.0\" visibility=\"hidden\">0</text>\n",
        "    <text x=\"23.92\" y=\"73.34\" text-anchor=\"end\" dy=\"0.35em\" gadfly:scale=\"5.0\" visibility=\"hidden\">2.0\u00d710\u00b3</text>\n",
        "    <text x=\"23.92\" y=\"65.97\" text-anchor=\"end\" dy=\"0.35em\" gadfly:scale=\"5.0\" visibility=\"hidden\">4.0\u00d710\u00b3</text>\n",
        "    <text x=\"23.92\" y=\"58.6\" text-anchor=\"end\" dy=\"0.35em\" gadfly:scale=\"5.0\" visibility=\"hidden\">6.0\u00d710\u00b3</text>\n",
        "    <text x=\"23.92\" y=\"51.23\" text-anchor=\"end\" dy=\"0.35em\" gadfly:scale=\"5.0\" visibility=\"hidden\">8.0\u00d710\u00b3</text>\n",
        "    <text x=\"23.92\" y=\"43.86\" text-anchor=\"end\" dy=\"0.35em\" gadfly:scale=\"5.0\" visibility=\"hidden\">1.0\u00d710\u2074</text>\n",
        "    <text x=\"23.92\" y=\"36.49\" text-anchor=\"end\" dy=\"0.35em\" gadfly:scale=\"5.0\" visibility=\"hidden\">1.2\u00d710\u2074</text>\n",
        "    <text x=\"23.92\" y=\"29.11\" text-anchor=\"end\" dy=\"0.35em\" gadfly:scale=\"5.0\" visibility=\"hidden\">1.4\u00d710\u2074</text>\n",
        "    <text x=\"23.92\" y=\"21.74\" text-anchor=\"end\" dy=\"0.35em\" gadfly:scale=\"5.0\" visibility=\"hidden\">1.6\u00d710\u2074</text>\n",
        "    <text x=\"23.92\" y=\"14.37\" text-anchor=\"end\" dy=\"0.35em\" gadfly:scale=\"5.0\" visibility=\"hidden\">1.8\u00d710\u2074</text>\n",
        "    <text x=\"23.92\" y=\"7\" text-anchor=\"end\" dy=\"0.35em\" gadfly:scale=\"5.0\" visibility=\"hidden\">2.0\u00d710\u2074</text>\n",
        "    <text x=\"23.92\" y=\"-0.37\" text-anchor=\"end\" dy=\"0.35em\" gadfly:scale=\"5.0\" visibility=\"hidden\">2.2\u00d710\u2074</text>\n",
        "    <text x=\"23.92\" y=\"-7.74\" text-anchor=\"end\" dy=\"0.35em\" gadfly:scale=\"5.0\" visibility=\"hidden\">2.4\u00d710\u2074</text>\n",
        "    <text x=\"23.92\" y=\"-15.11\" text-anchor=\"end\" dy=\"0.35em\" gadfly:scale=\"5.0\" visibility=\"hidden\">2.6\u00d710\u2074</text>\n",
        "    <text x=\"23.92\" y=\"-22.49\" text-anchor=\"end\" dy=\"0.35em\" gadfly:scale=\"5.0\" visibility=\"hidden\">2.8\u00d710\u2074</text>\n",
        "    <text x=\"23.92\" y=\"-29.86\" text-anchor=\"end\" dy=\"0.35em\" gadfly:scale=\"5.0\" visibility=\"hidden\">3.0\u00d710\u2074</text>\n",
        "    <text x=\"23.92\" y=\"-37.23\" text-anchor=\"end\" dy=\"0.35em\" gadfly:scale=\"5.0\" visibility=\"hidden\">3.2\u00d710\u2074</text>\n",
        "    <text x=\"23.92\" y=\"-44.6\" text-anchor=\"end\" dy=\"0.35em\" gadfly:scale=\"5.0\" visibility=\"hidden\">3.4\u00d710\u2074</text>\n",
        "    <text x=\"23.92\" y=\"-51.97\" text-anchor=\"end\" dy=\"0.35em\" gadfly:scale=\"5.0\" visibility=\"hidden\">3.6\u00d710\u2074</text>\n",
        "    <text x=\"23.92\" y=\"-59.34\" text-anchor=\"end\" dy=\"0.35em\" gadfly:scale=\"5.0\" visibility=\"hidden\">3.8\u00d710\u2074</text>\n",
        "    <text x=\"23.92\" y=\"-66.71\" text-anchor=\"end\" dy=\"0.35em\" gadfly:scale=\"5.0\" visibility=\"hidden\">4.0\u00d710\u2074</text>\n",
        "  </g>\n",
        "  <g font-size=\"3.88\" font-family=\"'PT Sans','Helvetica Neue','Helvetica',sans-serif\" fill=\"#564A55\" stroke=\"none\" id=\"fig-7e407ce6bb964f0a9f0e4d5b3324d29d-element-20\">\n",
        "    <text x=\"8.81\" y=\"43.86\" text-anchor=\"end\" dy=\"0.35em\">y</text>\n",
        "  </g>\n",
        "</g>\n",
        "<defs>\n",
        "<clipPath id=\"fig-7e407ce6bb964f0a9f0e4d5b3324d29d-element-5\">\n",
        "  <path d=\"M24.92,5 L 136.42 5 136.42 82.72 24.92 82.72\" />\n",
        "</clipPath\n",
        "></defs>\n",
        "<script> <![CDATA[\n",
        "(function(N){var k=/[\\.\\/]/,L=/\\s*,\\s*/,C=function(a,d){return a-d},a,v,y={n:{}},M=function(){for(var a=0,d=this.length;a<d;a++)if(\"undefined\"!=typeof this[a])return this[a]},A=function(){for(var a=this.length;--a;)if(\"undefined\"!=typeof this[a])return this[a]},w=function(k,d){k=String(k);var f=v,n=Array.prototype.slice.call(arguments,2),u=w.listeners(k),p=0,b,q=[],e={},l=[],r=a;l.firstDefined=M;l.lastDefined=A;a=k;for(var s=v=0,x=u.length;s<x;s++)\"zIndex\"in u[s]&&(q.push(u[s].zIndex),0>u[s].zIndex&&\n",
        "(e[u[s].zIndex]=u[s]));for(q.sort(C);0>q[p];)if(b=e[q[p++] ],l.push(b.apply(d,n)),v)return v=f,l;for(s=0;s<x;s++)if(b=u[s],\"zIndex\"in b)if(b.zIndex==q[p]){l.push(b.apply(d,n));if(v)break;do if(p++,(b=e[q[p] ])&&l.push(b.apply(d,n)),v)break;while(b)}else e[b.zIndex]=b;else if(l.push(b.apply(d,n)),v)break;v=f;a=r;return l};w._events=y;w.listeners=function(a){a=a.split(k);var d=y,f,n,u,p,b,q,e,l=[d],r=[];u=0;for(p=a.length;u<p;u++){e=[];b=0;for(q=l.length;b<q;b++)for(d=l[b].n,f=[d[a[u] ],d[\"*\"] ],n=2;n--;)if(d=\n",
        "f[n])e.push(d),r=r.concat(d.f||[]);l=e}return r};w.on=function(a,d){a=String(a);if(\"function\"!=typeof d)return function(){};for(var f=a.split(L),n=0,u=f.length;n<u;n++)(function(a){a=a.split(k);for(var b=y,f,e=0,l=a.length;e<l;e++)b=b.n,b=b.hasOwnProperty(a[e])&&b[a[e] ]||(b[a[e] ]={n:{}});b.f=b.f||[];e=0;for(l=b.f.length;e<l;e++)if(b.f[e]==d){f=!0;break}!f&&b.f.push(d)})(f[n]);return function(a){+a==+a&&(d.zIndex=+a)}};w.f=function(a){var d=[].slice.call(arguments,1);return function(){w.apply(null,\n",
        "[a,null].concat(d).concat([].slice.call(arguments,0)))}};w.stop=function(){v=1};w.nt=function(k){return k?(new RegExp(\"(?:\\\\.|\\\\/|^)\"+k+\"(?:\\\\.|\\\\/|$)\")).test(a):a};w.nts=function(){return a.split(k)};w.off=w.unbind=function(a,d){if(a){var f=a.split(L);if(1<f.length)for(var n=0,u=f.length;n<u;n++)w.off(f[n],d);else{for(var f=a.split(k),p,b,q,e,l=[y],n=0,u=f.length;n<u;n++)for(e=0;e<l.length;e+=q.length-2){q=[e,1];p=l[e].n;if(\"*\"!=f[n])p[f[n] ]&&q.push(p[f[n] ]);else for(b in p)p.hasOwnProperty(b)&&\n",
        "q.push(p[b]);l.splice.apply(l,q)}n=0;for(u=l.length;n<u;n++)for(p=l[n];p.n;){if(d){if(p.f){e=0;for(f=p.f.length;e<f;e++)if(p.f[e]==d){p.f.splice(e,1);break}!p.f.length&&delete p.f}for(b in p.n)if(p.n.hasOwnProperty(b)&&p.n[b].f){q=p.n[b].f;e=0;for(f=q.length;e<f;e++)if(q[e]==d){q.splice(e,1);break}!q.length&&delete p.n[b].f}}else for(b in delete p.f,p.n)p.n.hasOwnProperty(b)&&p.n[b].f&&delete p.n[b].f;p=p.n}}}else w._events=y={n:{}}};w.once=function(a,d){var f=function(){w.unbind(a,f);return d.apply(this,\n",
        "arguments)};return w.on(a,f)};w.version=\"0.4.2\";w.toString=function(){return\"You are running Eve 0.4.2\"};\"undefined\"!=typeof module&&module.exports?module.exports=w:\"function\"===typeof define&&define.amd?define(\"eve\",[],function(){return w}):N.eve=w})(this);\n",
        "(function(N,k){\"function\"===typeof define&&define.amd?define(\"Snap.svg\",[\"eve\"],function(L){return k(N,L)}):k(N,N.eve)})(this,function(N,k){var L=function(a){var k={},y=N.requestAnimationFrame||N.webkitRequestAnimationFrame||N.mozRequestAnimationFrame||N.oRequestAnimationFrame||N.msRequestAnimationFrame||function(a){setTimeout(a,16)},M=Array.isArray||function(a){return a instanceof Array||\"[object Array]\"==Object.prototype.toString.call(a)},A=0,w=\"M\"+(+new Date).toString(36),z=function(a){if(null==\n",
        "a)return this.s;var b=this.s-a;this.b+=this.dur*b;this.B+=this.dur*b;this.s=a},d=function(a){if(null==a)return this.spd;this.spd=a},f=function(a){if(null==a)return this.dur;this.s=this.s*a/this.dur;this.dur=a},n=function(){delete k[this.id];this.update();a(\"mina.stop.\"+this.id,this)},u=function(){this.pdif||(delete k[this.id],this.update(),this.pdif=this.get()-this.b)},p=function(){this.pdif&&(this.b=this.get()-this.pdif,delete this.pdif,k[this.id]=this)},b=function(){var a;if(M(this.start)){a=[];\n",
        "for(var b=0,e=this.start.length;b<e;b++)a[b]=+this.start[b]+(this.end[b]-this.start[b])*this.easing(this.s)}else a=+this.start+(this.end-this.start)*this.easing(this.s);this.set(a)},q=function(){var l=0,b;for(b in k)if(k.hasOwnProperty(b)){var e=k[b],f=e.get();l++;e.s=(f-e.b)/(e.dur/e.spd);1<=e.s&&(delete k[b],e.s=1,l--,function(b){setTimeout(function(){a(\"mina.finish.\"+b.id,b)})}(e));e.update()}l&&y(q)},e=function(a,r,s,x,G,h,J){a={id:w+(A++).toString(36),start:a,end:r,b:s,s:0,dur:x-s,spd:1,get:G,\n",
        "set:h,easing:J||e.linear,status:z,speed:d,duration:f,stop:n,pause:u,resume:p,update:b};k[a.id]=a;r=0;for(var K in k)if(k.hasOwnProperty(K)&&(r++,2==r))break;1==r&&y(q);return a};e.time=Date.now||function(){return+new Date};e.getById=function(a){return k[a]||null};e.linear=function(a){return a};e.easeout=function(a){return Math.pow(a,1.7)};e.easein=function(a){return Math.pow(a,0.48)};e.easeinout=function(a){if(1==a)return 1;if(0==a)return 0;var b=0.48-a/1.04,e=Math.sqrt(0.1734+b*b);a=e-b;a=Math.pow(Math.abs(a),\n",
        "1/3)*(0>a?-1:1);b=-e-b;b=Math.pow(Math.abs(b),1/3)*(0>b?-1:1);a=a+b+0.5;return 3*(1-a)*a*a+a*a*a};e.backin=function(a){return 1==a?1:a*a*(2.70158*a-1.70158)};e.backout=function(a){if(0==a)return 0;a-=1;return a*a*(2.70158*a+1.70158)+1};e.elastic=function(a){return a==!!a?a:Math.pow(2,-10*a)*Math.sin(2*(a-0.075)*Math.PI/0.3)+1};e.bounce=function(a){a<1/2.75?a*=7.5625*a:a<2/2.75?(a-=1.5/2.75,a=7.5625*a*a+0.75):a<2.5/2.75?(a-=2.25/2.75,a=7.5625*a*a+0.9375):(a-=2.625/2.75,a=7.5625*a*a+0.984375);return a};\n",
        "return N.mina=e}(\"undefined\"==typeof k?function(){}:k),C=function(){function a(c,t){if(c){if(c.tagName)return x(c);if(y(c,\"array\")&&a.set)return a.set.apply(a,c);if(c instanceof e)return c;if(null==t)return c=G.doc.querySelector(c),x(c)}return new s(null==c?\"100%\":c,null==t?\"100%\":t)}function v(c,a){if(a){\"#text\"==c&&(c=G.doc.createTextNode(a.text||\"\"));\"string\"==typeof c&&(c=v(c));if(\"string\"==typeof a)return\"xlink:\"==a.substring(0,6)?c.getAttributeNS(m,a.substring(6)):\"xml:\"==a.substring(0,4)?c.getAttributeNS(la,\n",
        "a.substring(4)):c.getAttribute(a);for(var da in a)if(a[h](da)){var b=J(a[da]);b?\"xlink:\"==da.substring(0,6)?c.setAttributeNS(m,da.substring(6),b):\"xml:\"==da.substring(0,4)?c.setAttributeNS(la,da.substring(4),b):c.setAttribute(da,b):c.removeAttribute(da)}}else c=G.doc.createElementNS(la,c);return c}function y(c,a){a=J.prototype.toLowerCase.call(a);return\"finite\"==a?isFinite(c):\"array\"==a&&(c instanceof Array||Array.isArray&&Array.isArray(c))?!0:\"null\"==a&&null===c||a==typeof c&&null!==c||\"object\"==\n",
        "a&&c===Object(c)||$.call(c).slice(8,-1).toLowerCase()==a}function M(c){if(\"function\"==typeof c||Object(c)!==c)return c;var a=new c.constructor,b;for(b in c)c[h](b)&&(a[b]=M(c[b]));return a}function A(c,a,b){function m(){var e=Array.prototype.slice.call(arguments,0),f=e.join(\"\\u2400\"),d=m.cache=m.cache||{},l=m.count=m.count||[];if(d[h](f)){a:for(var e=l,l=f,B=0,H=e.length;B<H;B++)if(e[B]===l){e.push(e.splice(B,1)[0]);break a}return b?b(d[f]):d[f]}1E3<=l.length&&delete d[l.shift()];l.push(f);d[f]=c.apply(a,\n",
        "e);return b?b(d[f]):d[f]}return m}function w(c,a,b,m,e,f){return null==e?(c-=b,a-=m,c||a?(180*I.atan2(-a,-c)/C+540)%360:0):w(c,a,e,f)-w(b,m,e,f)}function z(c){return c%360*C/180}function d(c){var a=[];c=c.replace(/(?:^|\\s)(\\w+)\\(([^)]+)\\)/g,function(c,b,m){m=m.split(/\\s*,\\s*|\\s+/);\"rotate\"==b&&1==m.length&&m.push(0,0);\"scale\"==b&&(2<m.length?m=m.slice(0,2):2==m.length&&m.push(0,0),1==m.length&&m.push(m[0],0,0));\"skewX\"==b?a.push([\"m\",1,0,I.tan(z(m[0])),1,0,0]):\"skewY\"==b?a.push([\"m\",1,I.tan(z(m[0])),\n",
        "0,1,0,0]):a.push([b.charAt(0)].concat(m));return c});return a}function f(c,t){var b=O(c),m=new a.Matrix;if(b)for(var e=0,f=b.length;e<f;e++){var h=b[e],d=h.length,B=J(h[0]).toLowerCase(),H=h[0]!=B,l=H?m.invert():0,E;\"t\"==B&&2==d?m.translate(h[1],0):\"t\"==B&&3==d?H?(d=l.x(0,0),B=l.y(0,0),H=l.x(h[1],h[2]),l=l.y(h[1],h[2]),m.translate(H-d,l-B)):m.translate(h[1],h[2]):\"r\"==B?2==d?(E=E||t,m.rotate(h[1],E.x+E.width/2,E.y+E.height/2)):4==d&&(H?(H=l.x(h[2],h[3]),l=l.y(h[2],h[3]),m.rotate(h[1],H,l)):m.rotate(h[1],\n",
        "h[2],h[3])):\"s\"==B?2==d||3==d?(E=E||t,m.scale(h[1],h[d-1],E.x+E.width/2,E.y+E.height/2)):4==d?H?(H=l.x(h[2],h[3]),l=l.y(h[2],h[3]),m.scale(h[1],h[1],H,l)):m.scale(h[1],h[1],h[2],h[3]):5==d&&(H?(H=l.x(h[3],h[4]),l=l.y(h[3],h[4]),m.scale(h[1],h[2],H,l)):m.scale(h[1],h[2],h[3],h[4])):\"m\"==B&&7==d&&m.add(h[1],h[2],h[3],h[4],h[5],h[6])}return m}function n(c,t){if(null==t){var m=!0;t=\"linearGradient\"==c.type||\"radialGradient\"==c.type?c.node.getAttribute(\"gradientTransform\"):\"pattern\"==c.type?c.node.getAttribute(\"patternTransform\"):\n",
        "c.node.getAttribute(\"transform\");if(!t)return new a.Matrix;t=d(t)}else t=a._.rgTransform.test(t)?J(t).replace(/\\.{3}|\\u2026/g,c._.transform||aa):d(t),y(t,\"array\")&&(t=a.path?a.path.toString.call(t):J(t)),c._.transform=t;var b=f(t,c.getBBox(1));if(m)return b;c.matrix=b}function u(c){c=c.node.ownerSVGElement&&x(c.node.ownerSVGElement)||c.node.parentNode&&x(c.node.parentNode)||a.select(\"svg\")||a(0,0);var t=c.select(\"defs\"),t=null==t?!1:t.node;t||(t=r(\"defs\",c.node).node);return t}function p(c){return c.node.ownerSVGElement&&\n",
        "x(c.node.ownerSVGElement)||a.select(\"svg\")}function b(c,a,m){function b(c){if(null==c)return aa;if(c==+c)return c;v(B,{width:c});try{return B.getBBox().width}catch(a){return 0}}function h(c){if(null==c)return aa;if(c==+c)return c;v(B,{height:c});try{return B.getBBox().height}catch(a){return 0}}function e(b,B){null==a?d[b]=B(c.attr(b)||0):b==a&&(d=B(null==m?c.attr(b)||0:m))}var f=p(c).node,d={},B=f.querySelector(\".svg---mgr\");B||(B=v(\"rect\"),v(B,{x:-9E9,y:-9E9,width:10,height:10,\"class\":\"svg---mgr\",\n",
        "fill:\"none\"}),f.appendChild(B));switch(c.type){case \"rect\":e(\"rx\",b),e(\"ry\",h);case \"image\":e(\"width\",b),e(\"height\",h);case \"text\":e(\"x\",b);e(\"y\",h);break;case \"circle\":e(\"cx\",b);e(\"cy\",h);e(\"r\",b);break;case \"ellipse\":e(\"cx\",b);e(\"cy\",h);e(\"rx\",b);e(\"ry\",h);break;case \"line\":e(\"x1\",b);e(\"x2\",b);e(\"y1\",h);e(\"y2\",h);break;case \"marker\":e(\"refX\",b);e(\"markerWidth\",b);e(\"refY\",h);e(\"markerHeight\",h);break;case \"radialGradient\":e(\"fx\",b);e(\"fy\",h);break;case \"tspan\":e(\"dx\",b);e(\"dy\",h);break;default:e(a,\n",
        "b)}f.removeChild(B);return d}function q(c){y(c,\"array\")||(c=Array.prototype.slice.call(arguments,0));for(var a=0,b=0,m=this.node;this[a];)delete this[a++];for(a=0;a<c.length;a++)\"set\"==c[a].type?c[a].forEach(function(c){m.appendChild(c.node)}):m.appendChild(c[a].node);for(var h=m.childNodes,a=0;a<h.length;a++)this[b++]=x(h[a]);return this}function e(c){if(c.snap in E)return E[c.snap];var a=this.id=V(),b;try{b=c.ownerSVGElement}catch(m){}this.node=c;b&&(this.paper=new s(b));this.type=c.tagName;this.anims=\n",
        "{};this._={transform:[]};c.snap=a;E[a]=this;\"g\"==this.type&&(this.add=q);if(this.type in{g:1,mask:1,pattern:1})for(var e in s.prototype)s.prototype[h](e)&&(this[e]=s.prototype[e])}function l(c){this.node=c}function r(c,a){var b=v(c);a.appendChild(b);return x(b)}function s(c,a){var b,m,f,d=s.prototype;if(c&&\"svg\"==c.tagName){if(c.snap in E)return E[c.snap];var l=c.ownerDocument;b=new e(c);m=c.getElementsByTagName(\"desc\")[0];f=c.getElementsByTagName(\"defs\")[0];m||(m=v(\"desc\"),m.appendChild(l.createTextNode(\"Created with Snap\")),\n",
        "b.node.appendChild(m));f||(f=v(\"defs\"),b.node.appendChild(f));b.defs=f;for(var ca in d)d[h](ca)&&(b[ca]=d[ca]);b.paper=b.root=b}else b=r(\"svg\",G.doc.body),v(b.node,{height:a,version:1.1,width:c,xmlns:la});return b}function x(c){return!c||c instanceof e||c instanceof l?c:c.tagName&&\"svg\"==c.tagName.toLowerCase()?new s(c):c.tagName&&\"object\"==c.tagName.toLowerCase()&&\"image/svg+xml\"==c.type?new s(c.contentDocument.getElementsByTagName(\"svg\")[0]):new e(c)}a.version=\"0.3.0\";a.toString=function(){return\"Snap v\"+\n",
        "this.version};a._={};var G={win:N,doc:N.document};a._.glob=G;var h=\"hasOwnProperty\",J=String,K=parseFloat,U=parseInt,I=Math,P=I.max,Q=I.min,Y=I.abs,C=I.PI,aa=\"\",$=Object.prototype.toString,F=/^\\s*((#[a-f\\d]{6})|(#[a-f\\d]{3})|rgba?\\(\\s*([\\d\\.]+%?\\s*,\\s*[\\d\\.]+%?\\s*,\\s*[\\d\\.]+%?(?:\\s*,\\s*[\\d\\.]+%?)?)\\s*\\)|hsba?\\(\\s*([\\d\\.]+(?:deg|\\xb0|%)?\\s*,\\s*[\\d\\.]+%?\\s*,\\s*[\\d\\.]+(?:%?\\s*,\\s*[\\d\\.]+)?%?)\\s*\\)|hsla?\\(\\s*([\\d\\.]+(?:deg|\\xb0|%)?\\s*,\\s*[\\d\\.]+%?\\s*,\\s*[\\d\\.]+(?:%?\\s*,\\s*[\\d\\.]+)?%?)\\s*\\))\\s*$/i;a._.separator=\n",
        "RegExp(\"[,\\t\\n\\x0B\\f\\r \\u00a0\\u1680\\u180e\\u2000\\u2001\\u2002\\u2003\\u2004\\u2005\\u2006\\u2007\\u2008\\u2009\\u200a\\u202f\\u205f\\u3000\\u2028\\u2029]+\");var S=RegExp(\"[\\t\\n\\x0B\\f\\r \\u00a0\\u1680\\u180e\\u2000\\u2001\\u2002\\u2003\\u2004\\u2005\\u2006\\u2007\\u2008\\u2009\\u200a\\u202f\\u205f\\u3000\\u2028\\u2029]*,[\\t\\n\\x0B\\f\\r \\u00a0\\u1680\\u180e\\u2000\\u2001\\u2002\\u2003\\u2004\\u2005\\u2006\\u2007\\u2008\\u2009\\u200a\\u202f\\u205f\\u3000\\u2028\\u2029]*\"),X={hs:1,rg:1},W=RegExp(\"([a-z])[\\t\\n\\x0B\\f\\r \\u00a0\\u1680\\u180e\\u2000\\u2001\\u2002\\u2003\\u2004\\u2005\\u2006\\u2007\\u2008\\u2009\\u200a\\u202f\\u205f\\u3000\\u2028\\u2029,]*((-?\\\\d*\\\\.?\\\\d*(?:e[\\\\-+]?\\\\d+)?[\\t\\n\\x0B\\f\\r \\u00a0\\u1680\\u180e\\u2000\\u2001\\u2002\\u2003\\u2004\\u2005\\u2006\\u2007\\u2008\\u2009\\u200a\\u202f\\u205f\\u3000\\u2028\\u2029]*,?[\\t\\n\\x0B\\f\\r \\u00a0\\u1680\\u180e\\u2000\\u2001\\u2002\\u2003\\u2004\\u2005\\u2006\\u2007\\u2008\\u2009\\u200a\\u202f\\u205f\\u3000\\u2028\\u2029]*)+)\",\n",
        "\"ig\"),ma=RegExp(\"([rstm])[\\t\\n\\x0B\\f\\r \\u00a0\\u1680\\u180e\\u2000\\u2001\\u2002\\u2003\\u2004\\u2005\\u2006\\u2007\\u2008\\u2009\\u200a\\u202f\\u205f\\u3000\\u2028\\u2029,]*((-?\\\\d*\\\\.?\\\\d*(?:e[\\\\-+]?\\\\d+)?[\\t\\n\\x0B\\f\\r \\u00a0\\u1680\\u180e\\u2000\\u2001\\u2002\\u2003\\u2004\\u2005\\u2006\\u2007\\u2008\\u2009\\u200a\\u202f\\u205f\\u3000\\u2028\\u2029]*,?[\\t\\n\\x0B\\f\\r \\u00a0\\u1680\\u180e\\u2000\\u2001\\u2002\\u2003\\u2004\\u2005\\u2006\\u2007\\u2008\\u2009\\u200a\\u202f\\u205f\\u3000\\u2028\\u2029]*)+)\",\"ig\"),Z=RegExp(\"(-?\\\\d*\\\\.?\\\\d*(?:e[\\\\-+]?\\\\d+)?)[\\t\\n\\x0B\\f\\r \\u00a0\\u1680\\u180e\\u2000\\u2001\\u2002\\u2003\\u2004\\u2005\\u2006\\u2007\\u2008\\u2009\\u200a\\u202f\\u205f\\u3000\\u2028\\u2029]*,?[\\t\\n\\x0B\\f\\r \\u00a0\\u1680\\u180e\\u2000\\u2001\\u2002\\u2003\\u2004\\u2005\\u2006\\u2007\\u2008\\u2009\\u200a\\u202f\\u205f\\u3000\\u2028\\u2029]*\",\n",
        "\"ig\"),na=0,ba=\"S\"+(+new Date).toString(36),V=function(){return ba+(na++).toString(36)},m=\"http://www.w3.org/1999/xlink\",la=\"http://www.w3.org/2000/svg\",E={},ca=a.url=function(c){return\"url('#\"+c+\"')\"};a._.$=v;a._.id=V;a.format=function(){var c=/\\{([^\\}]+)\\}/g,a=/(?:(?:^|\\.)(.+?)(?=\\[|\\.|$|\\()|\\[('|\")(.+?)\\2\\])(\\(\\))?/g,b=function(c,b,m){var h=m;b.replace(a,function(c,a,b,m,t){a=a||m;h&&(a in h&&(h=h[a]),\"function\"==typeof h&&t&&(h=h()))});return h=(null==h||h==m?c:h)+\"\"};return function(a,m){return J(a).replace(c,\n",
        "function(c,a){return b(c,a,m)})}}();a._.clone=M;a._.cacher=A;a.rad=z;a.deg=function(c){return 180*c/C%360};a.angle=w;a.is=y;a.snapTo=function(c,a,b){b=y(b,\"finite\")?b:10;if(y(c,\"array\"))for(var m=c.length;m--;){if(Y(c[m]-a)<=b)return c[m]}else{c=+c;m=a%c;if(m<b)return a-m;if(m>c-b)return a-m+c}return a};a.getRGB=A(function(c){if(!c||(c=J(c)).indexOf(\"-\")+1)return{r:-1,g:-1,b:-1,hex:\"none\",error:1,toString:ka};if(\"none\"==c)return{r:-1,g:-1,b:-1,hex:\"none\",toString:ka};!X[h](c.toLowerCase().substring(0,\n",
        "2))&&\"#\"!=c.charAt()&&(c=T(c));if(!c)return{r:-1,g:-1,b:-1,hex:\"none\",error:1,toString:ka};var b,m,e,f,d;if(c=c.match(F)){c[2]&&(e=U(c[2].substring(5),16),m=U(c[2].substring(3,5),16),b=U(c[2].substring(1,3),16));c[3]&&(e=U((d=c[3].charAt(3))+d,16),m=U((d=c[3].charAt(2))+d,16),b=U((d=c[3].charAt(1))+d,16));c[4]&&(d=c[4].split(S),b=K(d[0]),\"%\"==d[0].slice(-1)&&(b*=2.55),m=K(d[1]),\"%\"==d[1].slice(-1)&&(m*=2.55),e=K(d[2]),\"%\"==d[2].slice(-1)&&(e*=2.55),\"rgba\"==c[1].toLowerCase().slice(0,4)&&(f=K(d[3])),\n",
        "d[3]&&\"%\"==d[3].slice(-1)&&(f/=100));if(c[5])return d=c[5].split(S),b=K(d[0]),\"%\"==d[0].slice(-1)&&(b/=100),m=K(d[1]),\"%\"==d[1].slice(-1)&&(m/=100),e=K(d[2]),\"%\"==d[2].slice(-1)&&(e/=100),\"deg\"!=d[0].slice(-3)&&\"\\u00b0\"!=d[0].slice(-1)||(b/=360),\"hsba\"==c[1].toLowerCase().slice(0,4)&&(f=K(d[3])),d[3]&&\"%\"==d[3].slice(-1)&&(f/=100),a.hsb2rgb(b,m,e,f);if(c[6])return d=c[6].split(S),b=K(d[0]),\"%\"==d[0].slice(-1)&&(b/=100),m=K(d[1]),\"%\"==d[1].slice(-1)&&(m/=100),e=K(d[2]),\"%\"==d[2].slice(-1)&&(e/=100),\n",
        "\"deg\"!=d[0].slice(-3)&&\"\\u00b0\"!=d[0].slice(-1)||(b/=360),\"hsla\"==c[1].toLowerCase().slice(0,4)&&(f=K(d[3])),d[3]&&\"%\"==d[3].slice(-1)&&(f/=100),a.hsl2rgb(b,m,e,f);b=Q(I.round(b),255);m=Q(I.round(m),255);e=Q(I.round(e),255);f=Q(P(f,0),1);c={r:b,g:m,b:e,toString:ka};c.hex=\"#\"+(16777216|e|m<<8|b<<16).toString(16).slice(1);c.opacity=y(f,\"finite\")?f:1;return c}return{r:-1,g:-1,b:-1,hex:\"none\",error:1,toString:ka}},a);a.hsb=A(function(c,b,m){return a.hsb2rgb(c,b,m).hex});a.hsl=A(function(c,b,m){return a.hsl2rgb(c,\n",
        "b,m).hex});a.rgb=A(function(c,a,b,m){if(y(m,\"finite\")){var e=I.round;return\"rgba(\"+[e(c),e(a),e(b),+m.toFixed(2)]+\")\"}return\"#\"+(16777216|b|a<<8|c<<16).toString(16).slice(1)});var T=function(c){var a=G.doc.getElementsByTagName(\"head\")[0]||G.doc.getElementsByTagName(\"svg\")[0];T=A(function(c){if(\"red\"==c.toLowerCase())return\"rgb(255, 0, 0)\";a.style.color=\"rgb(255, 0, 0)\";a.style.color=c;c=G.doc.defaultView.getComputedStyle(a,aa).getPropertyValue(\"color\");return\"rgb(255, 0, 0)\"==c?null:c});return T(c)},\n",
        "qa=function(){return\"hsb(\"+[this.h,this.s,this.b]+\")\"},ra=function(){return\"hsl(\"+[this.h,this.s,this.l]+\")\"},ka=function(){return 1==this.opacity||null==this.opacity?this.hex:\"rgba(\"+[this.r,this.g,this.b,this.opacity]+\")\"},D=function(c,b,m){null==b&&y(c,\"object\")&&\"r\"in c&&\"g\"in c&&\"b\"in c&&(m=c.b,b=c.g,c=c.r);null==b&&y(c,string)&&(m=a.getRGB(c),c=m.r,b=m.g,m=m.b);if(1<c||1<b||1<m)c/=255,b/=255,m/=255;return[c,b,m]},oa=function(c,b,m,e){c=I.round(255*c);b=I.round(255*b);m=I.round(255*m);c={r:c,\n",
        "g:b,b:m,opacity:y(e,\"finite\")?e:1,hex:a.rgb(c,b,m),toString:ka};y(e,\"finite\")&&(c.opacity=e);return c};a.color=function(c){var b;y(c,\"object\")&&\"h\"in c&&\"s\"in c&&\"b\"in c?(b=a.hsb2rgb(c),c.r=b.r,c.g=b.g,c.b=b.b,c.opacity=1,c.hex=b.hex):y(c,\"object\")&&\"h\"in c&&\"s\"in c&&\"l\"in c?(b=a.hsl2rgb(c),c.r=b.r,c.g=b.g,c.b=b.b,c.opacity=1,c.hex=b.hex):(y(c,\"string\")&&(c=a.getRGB(c)),y(c,\"object\")&&\"r\"in c&&\"g\"in c&&\"b\"in c&&!(\"error\"in c)?(b=a.rgb2hsl(c),c.h=b.h,c.s=b.s,c.l=b.l,b=a.rgb2hsb(c),c.v=b.b):(c={hex:\"none\"},\n",
        "c.r=c.g=c.b=c.h=c.s=c.v=c.l=-1,c.error=1));c.toString=ka;return c};a.hsb2rgb=function(c,a,b,m){y(c,\"object\")&&\"h\"in c&&\"s\"in c&&\"b\"in c&&(b=c.b,a=c.s,c=c.h,m=c.o);var e,h,d;c=360*c%360/60;d=b*a;a=d*(1-Y(c%2-1));b=e=h=b-d;c=~~c;b+=[d,a,0,0,a,d][c];e+=[a,d,d,a,0,0][c];h+=[0,0,a,d,d,a][c];return oa(b,e,h,m)};a.hsl2rgb=function(c,a,b,m){y(c,\"object\")&&\"h\"in c&&\"s\"in c&&\"l\"in c&&(b=c.l,a=c.s,c=c.h);if(1<c||1<a||1<b)c/=360,a/=100,b/=100;var e,h,d;c=360*c%360/60;d=2*a*(0.5>b?b:1-b);a=d*(1-Y(c%2-1));b=e=\n",
        "h=b-d/2;c=~~c;b+=[d,a,0,0,a,d][c];e+=[a,d,d,a,0,0][c];h+=[0,0,a,d,d,a][c];return oa(b,e,h,m)};a.rgb2hsb=function(c,a,b){b=D(c,a,b);c=b[0];a=b[1];b=b[2];var m,e;m=P(c,a,b);e=m-Q(c,a,b);c=((0==e?0:m==c?(a-b)/e:m==a?(b-c)/e+2:(c-a)/e+4)+360)%6*60/360;return{h:c,s:0==e?0:e/m,b:m,toString:qa}};a.rgb2hsl=function(c,a,b){b=D(c,a,b);c=b[0];a=b[1];b=b[2];var m,e,h;m=P(c,a,b);e=Q(c,a,b);h=m-e;c=((0==h?0:m==c?(a-b)/h:m==a?(b-c)/h+2:(c-a)/h+4)+360)%6*60/360;m=(m+e)/2;return{h:c,s:0==h?0:0.5>m?h/(2*m):h/(2-2*\n",
        "m),l:m,toString:ra}};a.parsePathString=function(c){if(!c)return null;var b=a.path(c);if(b.arr)return a.path.clone(b.arr);var m={a:7,c:6,o:2,h:1,l:2,m:2,r:4,q:4,s:4,t:2,v:1,u:3,z:0},e=[];y(c,\"array\")&&y(c[0],\"array\")&&(e=a.path.clone(c));e.length||J(c).replace(W,function(c,a,b){var h=[];c=a.toLowerCase();b.replace(Z,function(c,a){a&&h.push(+a)});\"m\"==c&&2<h.length&&(e.push([a].concat(h.splice(0,2))),c=\"l\",a=\"m\"==a?\"l\":\"L\");\"o\"==c&&1==h.length&&e.push([a,h[0] ]);if(\"r\"==c)e.push([a].concat(h));else for(;h.length>=\n",
        "m[c]&&(e.push([a].concat(h.splice(0,m[c]))),m[c]););});e.toString=a.path.toString;b.arr=a.path.clone(e);return e};var O=a.parseTransformString=function(c){if(!c)return null;var b=[];y(c,\"array\")&&y(c[0],\"array\")&&(b=a.path.clone(c));b.length||J(c).replace(ma,function(c,a,m){var e=[];a.toLowerCase();m.replace(Z,function(c,a){a&&e.push(+a)});b.push([a].concat(e))});b.toString=a.path.toString;return b};a._.svgTransform2string=d;a._.rgTransform=RegExp(\"^[a-z][\\t\\n\\x0B\\f\\r \\u00a0\\u1680\\u180e\\u2000\\u2001\\u2002\\u2003\\u2004\\u2005\\u2006\\u2007\\u2008\\u2009\\u200a\\u202f\\u205f\\u3000\\u2028\\u2029]*-?\\\\.?\\\\d\",\n",
        "\"i\");a._.transform2matrix=f;a._unit2px=b;a._.getSomeDefs=u;a._.getSomeSVG=p;a.select=function(c){return x(G.doc.querySelector(c))};a.selectAll=function(c){c=G.doc.querySelectorAll(c);for(var b=(a.set||Array)(),m=0;m<c.length;m++)b.push(x(c[m]));return b};setInterval(function(){for(var c in E)if(E[h](c)){var a=E[c],b=a.node;(\"svg\"!=a.type&&!b.ownerSVGElement||\"svg\"==a.type&&(!b.parentNode||\"ownerSVGElement\"in b.parentNode&&!b.ownerSVGElement))&&delete E[c]}},1E4);(function(c){function m(c){function a(c,\n",
        "b){var m=v(c.node,b);(m=(m=m&&m.match(d))&&m[2])&&\"#\"==m.charAt()&&(m=m.substring(1))&&(f[m]=(f[m]||[]).concat(function(a){var m={};m[b]=ca(a);v(c.node,m)}))}function b(c){var a=v(c.node,\"xlink:href\");a&&\"#\"==a.charAt()&&(a=a.substring(1))&&(f[a]=(f[a]||[]).concat(function(a){c.attr(\"xlink:href\",\"#\"+a)}))}var e=c.selectAll(\"*\"),h,d=/^\\s*url\\((\"|'|)(.*)\\1\\)\\s*$/;c=[];for(var f={},l=0,E=e.length;l<E;l++){h=e[l];a(h,\"fill\");a(h,\"stroke\");a(h,\"filter\");a(h,\"mask\");a(h,\"clip-path\");b(h);var t=v(h.node,\n",
        "\"id\");t&&(v(h.node,{id:h.id}),c.push({old:t,id:h.id}))}l=0;for(E=c.length;l<E;l++)if(e=f[c[l].old])for(h=0,t=e.length;h<t;h++)e[h](c[l].id)}function e(c,a,b){return function(m){m=m.slice(c,a);1==m.length&&(m=m[0]);return b?b(m):m}}function d(c){return function(){var a=c?\"<\"+this.type:\"\",b=this.node.attributes,m=this.node.childNodes;if(c)for(var e=0,h=b.length;e<h;e++)a+=\" \"+b[e].name+'=\"'+b[e].value.replace(/\"/g,'\\\\\"')+'\"';if(m.length){c&&(a+=\">\");e=0;for(h=m.length;e<h;e++)3==m[e].nodeType?a+=m[e].nodeValue:\n",
        "1==m[e].nodeType&&(a+=x(m[e]).toString());c&&(a+=\"</\"+this.type+\">\")}else c&&(a+=\"/>\");return a}}c.attr=function(c,a){if(!c)return this;if(y(c,\"string\"))if(1<arguments.length){var b={};b[c]=a;c=b}else return k(\"snap.util.getattr.\"+c,this).firstDefined();for(var m in c)c[h](m)&&k(\"snap.util.attr.\"+m,this,c[m]);return this};c.getBBox=function(c){if(!a.Matrix||!a.path)return this.node.getBBox();var b=this,m=new a.Matrix;if(b.removed)return a._.box();for(;\"use\"==b.type;)if(c||(m=m.add(b.transform().localMatrix.translate(b.attr(\"x\")||\n",
        "0,b.attr(\"y\")||0))),b.original)b=b.original;else var e=b.attr(\"xlink:href\"),b=b.original=b.node.ownerDocument.getElementById(e.substring(e.indexOf(\"#\")+1));var e=b._,h=a.path.get[b.type]||a.path.get.deflt;try{if(c)return e.bboxwt=h?a.path.getBBox(b.realPath=h(b)):a._.box(b.node.getBBox()),a._.box(e.bboxwt);b.realPath=h(b);b.matrix=b.transform().localMatrix;e.bbox=a.path.getBBox(a.path.map(b.realPath,m.add(b.matrix)));return a._.box(e.bbox)}catch(d){return a._.box()}};var f=function(){return this.string};\n",
        "c.transform=function(c){var b=this._;if(null==c){var m=this;c=new a.Matrix(this.node.getCTM());for(var e=n(this),h=[e],d=new a.Matrix,l=e.toTransformString(),b=J(e)==J(this.matrix)?J(b.transform):l;\"svg\"!=m.type&&(m=m.parent());)h.push(n(m));for(m=h.length;m--;)d.add(h[m]);return{string:b,globalMatrix:c,totalMatrix:d,localMatrix:e,diffMatrix:c.clone().add(e.invert()),global:c.toTransformString(),total:d.toTransformString(),local:l,toString:f}}c instanceof a.Matrix?this.matrix=c:n(this,c);this.node&&\n",
        "(\"linearGradient\"==this.type||\"radialGradient\"==this.type?v(this.node,{gradientTransform:this.matrix}):\"pattern\"==this.type?v(this.node,{patternTransform:this.matrix}):v(this.node,{transform:this.matrix}));return this};c.parent=function(){return x(this.node.parentNode)};c.append=c.add=function(c){if(c){if(\"set\"==c.type){var a=this;c.forEach(function(c){a.add(c)});return this}c=x(c);this.node.appendChild(c.node);c.paper=this.paper}return this};c.appendTo=function(c){c&&(c=x(c),c.append(this));return this};\n",
        "c.prepend=function(c){if(c){if(\"set\"==c.type){var a=this,b;c.forEach(function(c){b?b.after(c):a.prepend(c);b=c});return this}c=x(c);var m=c.parent();this.node.insertBefore(c.node,this.node.firstChild);this.add&&this.add();c.paper=this.paper;this.parent()&&this.parent().add();m&&m.add()}return this};c.prependTo=function(c){c=x(c);c.prepend(this);return this};c.before=function(c){if(\"set\"==c.type){var a=this;c.forEach(function(c){var b=c.parent();a.node.parentNode.insertBefore(c.node,a.node);b&&b.add()});\n",
        "this.parent().add();return this}c=x(c);var b=c.parent();this.node.parentNode.insertBefore(c.node,this.node);this.parent()&&this.parent().add();b&&b.add();c.paper=this.paper;return this};c.after=function(c){c=x(c);var a=c.parent();this.node.nextSibling?this.node.parentNode.insertBefore(c.node,this.node.nextSibling):this.node.parentNode.appendChild(c.node);this.parent()&&this.parent().add();a&&a.add();c.paper=this.paper;return this};c.insertBefore=function(c){c=x(c);var a=this.parent();c.node.parentNode.insertBefore(this.node,\n",
        "c.node);this.paper=c.paper;a&&a.add();c.parent()&&c.parent().add();return this};c.insertAfter=function(c){c=x(c);var a=this.parent();c.node.parentNode.insertBefore(this.node,c.node.nextSibling);this.paper=c.paper;a&&a.add();c.parent()&&c.parent().add();return this};c.remove=function(){var c=this.parent();this.node.parentNode&&this.node.parentNode.removeChild(this.node);delete this.paper;this.removed=!0;c&&c.add();return this};c.select=function(c){return x(this.node.querySelector(c))};c.selectAll=\n",
        "function(c){c=this.node.querySelectorAll(c);for(var b=(a.set||Array)(),m=0;m<c.length;m++)b.push(x(c[m]));return b};c.asPX=function(c,a){null==a&&(a=this.attr(c));return+b(this,c,a)};c.use=function(){var c,a=this.node.id;a||(a=this.id,v(this.node,{id:a}));c=\"linearGradient\"==this.type||\"radialGradient\"==this.type||\"pattern\"==this.type?r(this.type,this.node.parentNode):r(\"use\",this.node.parentNode);v(c.node,{\"xlink:href\":\"#\"+a});c.original=this;return c};var l=/\\S+/g;c.addClass=function(c){var a=(c||\n",
        "\"\").match(l)||[];c=this.node;var b=c.className.baseVal,m=b.match(l)||[],e,h,d;if(a.length){for(e=0;d=a[e++];)h=m.indexOf(d),~h||m.push(d);a=m.join(\" \");b!=a&&(c.className.baseVal=a)}return this};c.removeClass=function(c){var a=(c||\"\").match(l)||[];c=this.node;var b=c.className.baseVal,m=b.match(l)||[],e,h;if(m.length){for(e=0;h=a[e++];)h=m.indexOf(h),~h&&m.splice(h,1);a=m.join(\" \");b!=a&&(c.className.baseVal=a)}return this};c.hasClass=function(c){return!!~(this.node.className.baseVal.match(l)||[]).indexOf(c)};\n",
        "c.toggleClass=function(c,a){if(null!=a)return a?this.addClass(c):this.removeClass(c);var b=(c||\"\").match(l)||[],m=this.node,e=m.className.baseVal,h=e.match(l)||[],d,f,E;for(d=0;E=b[d++];)f=h.indexOf(E),~f?h.splice(f,1):h.push(E);b=h.join(\" \");e!=b&&(m.className.baseVal=b);return this};c.clone=function(){var c=x(this.node.cloneNode(!0));v(c.node,\"id\")&&v(c.node,{id:c.id});m(c);c.insertAfter(this);return c};c.toDefs=function(){u(this).appendChild(this.node);return this};c.pattern=c.toPattern=function(c,\n",
        "a,b,m){var e=r(\"pattern\",u(this));null==c&&(c=this.getBBox());y(c,\"object\")&&\"x\"in c&&(a=c.y,b=c.width,m=c.height,c=c.x);v(e.node,{x:c,y:a,width:b,height:m,patternUnits:\"userSpaceOnUse\",id:e.id,viewBox:[c,a,b,m].join(\" \")});e.node.appendChild(this.node);return e};c.marker=function(c,a,b,m,e,h){var d=r(\"marker\",u(this));null==c&&(c=this.getBBox());y(c,\"object\")&&\"x\"in c&&(a=c.y,b=c.width,m=c.height,e=c.refX||c.cx,h=c.refY||c.cy,c=c.x);v(d.node,{viewBox:[c,a,b,m].join(\" \"),markerWidth:b,markerHeight:m,\n",
        "orient:\"auto\",refX:e||0,refY:h||0,id:d.id});d.node.appendChild(this.node);return d};var E=function(c,a,b,m){\"function\"!=typeof b||b.length||(m=b,b=L.linear);this.attr=c;this.dur=a;b&&(this.easing=b);m&&(this.callback=m)};a._.Animation=E;a.animation=function(c,a,b,m){return new E(c,a,b,m)};c.inAnim=function(){var c=[],a;for(a in this.anims)this.anims[h](a)&&function(a){c.push({anim:new E(a._attrs,a.dur,a.easing,a._callback),mina:a,curStatus:a.status(),status:function(c){return a.status(c)},stop:function(){a.stop()}})}(this.anims[a]);\n",
        "return c};a.animate=function(c,a,b,m,e,h){\"function\"!=typeof e||e.length||(h=e,e=L.linear);var d=L.time();c=L(c,a,d,d+m,L.time,b,e);h&&k.once(\"mina.finish.\"+c.id,h);return c};c.stop=function(){for(var c=this.inAnim(),a=0,b=c.length;a<b;a++)c[a].stop();return this};c.animate=function(c,a,b,m){\"function\"!=typeof b||b.length||(m=b,b=L.linear);c instanceof E&&(m=c.callback,b=c.easing,a=b.dur,c=c.attr);var d=[],f=[],l={},t,ca,n,T=this,q;for(q in c)if(c[h](q)){T.equal?(n=T.equal(q,J(c[q])),t=n.from,ca=\n",
        "n.to,n=n.f):(t=+T.attr(q),ca=+c[q]);var la=y(t,\"array\")?t.length:1;l[q]=e(d.length,d.length+la,n);d=d.concat(t);f=f.concat(ca)}t=L.time();var p=L(d,f,t,t+a,L.time,function(c){var a={},b;for(b in l)l[h](b)&&(a[b]=l[b](c));T.attr(a)},b);T.anims[p.id]=p;p._attrs=c;p._callback=m;k(\"snap.animcreated.\"+T.id,p);k.once(\"mina.finish.\"+p.id,function(){delete T.anims[p.id];m&&m.call(T)});k.once(\"mina.stop.\"+p.id,function(){delete T.anims[p.id]});return T};var T={};c.data=function(c,b){var m=T[this.id]=T[this.id]||\n",
        "{};if(0==arguments.length)return k(\"snap.data.get.\"+this.id,this,m,null),m;if(1==arguments.length){if(a.is(c,\"object\")){for(var e in c)c[h](e)&&this.data(e,c[e]);return this}k(\"snap.data.get.\"+this.id,this,m[c],c);return m[c]}m[c]=b;k(\"snap.data.set.\"+this.id,this,b,c);return this};c.removeData=function(c){null==c?T[this.id]={}:T[this.id]&&delete T[this.id][c];return this};c.outerSVG=c.toString=d(1);c.innerSVG=d()})(e.prototype);a.parse=function(c){var a=G.doc.createDocumentFragment(),b=!0,m=G.doc.createElement(\"div\");\n",
        "c=J(c);c.match(/^\\s*<\\s*svg(?:\\s|>)/)||(c=\"<svg>\"+c+\"</svg>\",b=!1);m.innerHTML=c;if(c=m.getElementsByTagName(\"svg\")[0])if(b)a=c;else for(;c.firstChild;)a.appendChild(c.firstChild);m.innerHTML=aa;return new l(a)};l.prototype.select=e.prototype.select;l.prototype.selectAll=e.prototype.selectAll;a.fragment=function(){for(var c=Array.prototype.slice.call(arguments,0),b=G.doc.createDocumentFragment(),m=0,e=c.length;m<e;m++){var h=c[m];h.node&&h.node.nodeType&&b.appendChild(h.node);h.nodeType&&b.appendChild(h);\n",
        "\"string\"==typeof h&&b.appendChild(a.parse(h).node)}return new l(b)};a._.make=r;a._.wrap=x;s.prototype.el=function(c,a){var b=r(c,this.node);a&&b.attr(a);return b};k.on(\"snap.util.getattr\",function(){var c=k.nt(),c=c.substring(c.lastIndexOf(\".\")+1),a=c.replace(/[A-Z]/g,function(c){return\"-\"+c.toLowerCase()});return pa[h](a)?this.node.ownerDocument.defaultView.getComputedStyle(this.node,null).getPropertyValue(a):v(this.node,c)});var pa={\"alignment-baseline\":0,\"baseline-shift\":0,clip:0,\"clip-path\":0,\n",
        "\"clip-rule\":0,color:0,\"color-interpolation\":0,\"color-interpolation-filters\":0,\"color-profile\":0,\"color-rendering\":0,cursor:0,direction:0,display:0,\"dominant-baseline\":0,\"enable-background\":0,fill:0,\"fill-opacity\":0,\"fill-rule\":0,filter:0,\"flood-color\":0,\"flood-opacity\":0,font:0,\"font-family\":0,\"font-size\":0,\"font-size-adjust\":0,\"font-stretch\":0,\"font-style\":0,\"font-variant\":0,\"font-weight\":0,\"glyph-orientation-horizontal\":0,\"glyph-orientation-vertical\":0,\"image-rendering\":0,kerning:0,\"letter-spacing\":0,\n",
        "\"lighting-color\":0,marker:0,\"marker-end\":0,\"marker-mid\":0,\"marker-start\":0,mask:0,opacity:0,overflow:0,\"pointer-events\":0,\"shape-rendering\":0,\"stop-color\":0,\"stop-opacity\":0,stroke:0,\"stroke-dasharray\":0,\"stroke-dashoffset\":0,\"stroke-linecap\":0,\"stroke-linejoin\":0,\"stroke-miterlimit\":0,\"stroke-opacity\":0,\"stroke-width\":0,\"text-anchor\":0,\"text-decoration\":0,\"text-rendering\":0,\"unicode-bidi\":0,visibility:0,\"word-spacing\":0,\"writing-mode\":0};k.on(\"snap.util.attr\",function(c){var a=k.nt(),b={},a=a.substring(a.lastIndexOf(\".\")+\n",
        "1);b[a]=c;var m=a.replace(/-(\\w)/gi,function(c,a){return a.toUpperCase()}),a=a.replace(/[A-Z]/g,function(c){return\"-\"+c.toLowerCase()});pa[h](a)?this.node.style[m]=null==c?aa:c:v(this.node,b)});a.ajax=function(c,a,b,m){var e=new XMLHttpRequest,h=V();if(e){if(y(a,\"function\"))m=b,b=a,a=null;else if(y(a,\"object\")){var d=[],f;for(f in a)a.hasOwnProperty(f)&&d.push(encodeURIComponent(f)+\"=\"+encodeURIComponent(a[f]));a=d.join(\"&\")}e.open(a?\"POST\":\"GET\",c,!0);a&&(e.setRequestHeader(\"X-Requested-With\",\"XMLHttpRequest\"),\n",
        "e.setRequestHeader(\"Content-type\",\"application/x-www-form-urlencoded\"));b&&(k.once(\"snap.ajax.\"+h+\".0\",b),k.once(\"snap.ajax.\"+h+\".200\",b),k.once(\"snap.ajax.\"+h+\".304\",b));e.onreadystatechange=function(){4==e.readyState&&k(\"snap.ajax.\"+h+\".\"+e.status,m,e)};if(4==e.readyState)return e;e.send(a);return e}};a.load=function(c,b,m){a.ajax(c,function(c){c=a.parse(c.responseText);m?b.call(m,c):b(c)})};a.getElementByPoint=function(c,a){var b,m,e=G.doc.elementFromPoint(c,a);if(G.win.opera&&\"svg\"==e.tagName){b=\n",
        "e;m=b.getBoundingClientRect();b=b.ownerDocument;var h=b.body,d=b.documentElement;b=m.top+(g.win.pageYOffset||d.scrollTop||h.scrollTop)-(d.clientTop||h.clientTop||0);m=m.left+(g.win.pageXOffset||d.scrollLeft||h.scrollLeft)-(d.clientLeft||h.clientLeft||0);h=e.createSVGRect();h.x=c-m;h.y=a-b;h.width=h.height=1;b=e.getIntersectionList(h,null);b.length&&(e=b[b.length-1])}return e?x(e):null};a.plugin=function(c){c(a,e,s,G,l)};return G.win.Snap=a}();C.plugin(function(a,k,y,M,A){function w(a,d,f,b,q,e){null==\n",
        "d&&\"[object SVGMatrix]\"==z.call(a)?(this.a=a.a,this.b=a.b,this.c=a.c,this.d=a.d,this.e=a.e,this.f=a.f):null!=a?(this.a=+a,this.b=+d,this.c=+f,this.d=+b,this.e=+q,this.f=+e):(this.a=1,this.c=this.b=0,this.d=1,this.f=this.e=0)}var z=Object.prototype.toString,d=String,f=Math;(function(n){function k(a){return a[0]*a[0]+a[1]*a[1]}function p(a){var d=f.sqrt(k(a));a[0]&&(a[0]/=d);a[1]&&(a[1]/=d)}n.add=function(a,d,e,f,n,p){var k=[[],[],[] ],u=[[this.a,this.c,this.e],[this.b,this.d,this.f],[0,0,1] ];d=[[a,\n",
        "e,n],[d,f,p],[0,0,1] ];a&&a instanceof w&&(d=[[a.a,a.c,a.e],[a.b,a.d,a.f],[0,0,1] ]);for(a=0;3>a;a++)for(e=0;3>e;e++){for(f=n=0;3>f;f++)n+=u[a][f]*d[f][e];k[a][e]=n}this.a=k[0][0];this.b=k[1][0];this.c=k[0][1];this.d=k[1][1];this.e=k[0][2];this.f=k[1][2];return this};n.invert=function(){var a=this.a*this.d-this.b*this.c;return new w(this.d/a,-this.b/a,-this.c/a,this.a/a,(this.c*this.f-this.d*this.e)/a,(this.b*this.e-this.a*this.f)/a)};n.clone=function(){return new w(this.a,this.b,this.c,this.d,this.e,\n",
        "this.f)};n.translate=function(a,d){return this.add(1,0,0,1,a,d)};n.scale=function(a,d,e,f){null==d&&(d=a);(e||f)&&this.add(1,0,0,1,e,f);this.add(a,0,0,d,0,0);(e||f)&&this.add(1,0,0,1,-e,-f);return this};n.rotate=function(b,d,e){b=a.rad(b);d=d||0;e=e||0;var l=+f.cos(b).toFixed(9);b=+f.sin(b).toFixed(9);this.add(l,b,-b,l,d,e);return this.add(1,0,0,1,-d,-e)};n.x=function(a,d){return a*this.a+d*this.c+this.e};n.y=function(a,d){return a*this.b+d*this.d+this.f};n.get=function(a){return+this[d.fromCharCode(97+\n",
        "a)].toFixed(4)};n.toString=function(){return\"matrix(\"+[this.get(0),this.get(1),this.get(2),this.get(3),this.get(4),this.get(5)].join()+\")\"};n.offset=function(){return[this.e.toFixed(4),this.f.toFixed(4)]};n.determinant=function(){return this.a*this.d-this.b*this.c};n.split=function(){var b={};b.dx=this.e;b.dy=this.f;var d=[[this.a,this.c],[this.b,this.d] ];b.scalex=f.sqrt(k(d[0]));p(d[0]);b.shear=d[0][0]*d[1][0]+d[0][1]*d[1][1];d[1]=[d[1][0]-d[0][0]*b.shear,d[1][1]-d[0][1]*b.shear];b.scaley=f.sqrt(k(d[1]));\n",
        "p(d[1]);b.shear/=b.scaley;0>this.determinant()&&(b.scalex=-b.scalex);var e=-d[0][1],d=d[1][1];0>d?(b.rotate=a.deg(f.acos(d)),0>e&&(b.rotate=360-b.rotate)):b.rotate=a.deg(f.asin(e));b.isSimple=!+b.shear.toFixed(9)&&(b.scalex.toFixed(9)==b.scaley.toFixed(9)||!b.rotate);b.isSuperSimple=!+b.shear.toFixed(9)&&b.scalex.toFixed(9)==b.scaley.toFixed(9)&&!b.rotate;b.noRotation=!+b.shear.toFixed(9)&&!b.rotate;return b};n.toTransformString=function(a){a=a||this.split();if(+a.shear.toFixed(9))return\"m\"+[this.get(0),\n",
        "this.get(1),this.get(2),this.get(3),this.get(4),this.get(5)];a.scalex=+a.scalex.toFixed(4);a.scaley=+a.scaley.toFixed(4);a.rotate=+a.rotate.toFixed(4);return(a.dx||a.dy?\"t\"+[+a.dx.toFixed(4),+a.dy.toFixed(4)]:\"\")+(1!=a.scalex||1!=a.scaley?\"s\"+[a.scalex,a.scaley,0,0]:\"\")+(a.rotate?\"r\"+[+a.rotate.toFixed(4),0,0]:\"\")}})(w.prototype);a.Matrix=w;a.matrix=function(a,d,f,b,k,e){return new w(a,d,f,b,k,e)}});C.plugin(function(a,v,y,M,A){function w(h){return function(d){k.stop();d instanceof A&&1==d.node.childNodes.length&&\n",
        "(\"radialGradient\"==d.node.firstChild.tagName||\"linearGradient\"==d.node.firstChild.tagName||\"pattern\"==d.node.firstChild.tagName)&&(d=d.node.firstChild,b(this).appendChild(d),d=u(d));if(d instanceof v)if(\"radialGradient\"==d.type||\"linearGradient\"==d.type||\"pattern\"==d.type){d.node.id||e(d.node,{id:d.id});var f=l(d.node.id)}else f=d.attr(h);else f=a.color(d),f.error?(f=a(b(this).ownerSVGElement).gradient(d))?(f.node.id||e(f.node,{id:f.id}),f=l(f.node.id)):f=d:f=r(f);d={};d[h]=f;e(this.node,d);this.node.style[h]=\n",
        "x}}function z(a){k.stop();a==+a&&(a+=\"px\");this.node.style.fontSize=a}function d(a){var b=[];a=a.childNodes;for(var e=0,f=a.length;e<f;e++){var l=a[e];3==l.nodeType&&b.push(l.nodeValue);\"tspan\"==l.tagName&&(1==l.childNodes.length&&3==l.firstChild.nodeType?b.push(l.firstChild.nodeValue):b.push(d(l)))}return b}function f(){k.stop();return this.node.style.fontSize}var n=a._.make,u=a._.wrap,p=a.is,b=a._.getSomeDefs,q=/^url\\(#?([^)]+)\\)$/,e=a._.$,l=a.url,r=String,s=a._.separator,x=\"\";k.on(\"snap.util.attr.mask\",\n",
        "function(a){if(a instanceof v||a instanceof A){k.stop();a instanceof A&&1==a.node.childNodes.length&&(a=a.node.firstChild,b(this).appendChild(a),a=u(a));if(\"mask\"==a.type)var d=a;else d=n(\"mask\",b(this)),d.node.appendChild(a.node);!d.node.id&&e(d.node,{id:d.id});e(this.node,{mask:l(d.id)})}});(function(a){k.on(\"snap.util.attr.clip\",a);k.on(\"snap.util.attr.clip-path\",a);k.on(\"snap.util.attr.clipPath\",a)})(function(a){if(a instanceof v||a instanceof A){k.stop();if(\"clipPath\"==a.type)var d=a;else d=\n",
        "n(\"clipPath\",b(this)),d.node.appendChild(a.node),!d.node.id&&e(d.node,{id:d.id});e(this.node,{\"clip-path\":l(d.id)})}});k.on(\"snap.util.attr.fill\",w(\"fill\"));k.on(\"snap.util.attr.stroke\",w(\"stroke\"));var G=/^([lr])(?:\\(([^)]*)\\))?(.*)$/i;k.on(\"snap.util.grad.parse\",function(a){a=r(a);var b=a.match(G);if(!b)return null;a=b[1];var e=b[2],b=b[3],e=e.split(/\\s*,\\s*/).map(function(a){return+a==a?+a:a});1==e.length&&0==e[0]&&(e=[]);b=b.split(\"-\");b=b.map(function(a){a=a.split(\":\");var b={color:a[0]};a[1]&&\n",
        "(b.offset=parseFloat(a[1]));return b});return{type:a,params:e,stops:b}});k.on(\"snap.util.attr.d\",function(b){k.stop();p(b,\"array\")&&p(b[0],\"array\")&&(b=a.path.toString.call(b));b=r(b);b.match(/[ruo]/i)&&(b=a.path.toAbsolute(b));e(this.node,{d:b})})(-1);k.on(\"snap.util.attr.#text\",function(a){k.stop();a=r(a);for(a=M.doc.createTextNode(a);this.node.firstChild;)this.node.removeChild(this.node.firstChild);this.node.appendChild(a)})(-1);k.on(\"snap.util.attr.path\",function(a){k.stop();this.attr({d:a})})(-1);\n",
        "k.on(\"snap.util.attr.class\",function(a){k.stop();this.node.className.baseVal=a})(-1);k.on(\"snap.util.attr.viewBox\",function(a){a=p(a,\"object\")&&\"x\"in a?[a.x,a.y,a.width,a.height].join(\" \"):p(a,\"array\")?a.join(\" \"):a;e(this.node,{viewBox:a});k.stop()})(-1);k.on(\"snap.util.attr.transform\",function(a){this.transform(a);k.stop()})(-1);k.on(\"snap.util.attr.r\",function(a){\"rect\"==this.type&&(k.stop(),e(this.node,{rx:a,ry:a}))})(-1);k.on(\"snap.util.attr.textpath\",function(a){k.stop();if(\"text\"==this.type){var d,\n",
        "f;if(!a&&this.textPath){for(a=this.textPath;a.node.firstChild;)this.node.appendChild(a.node.firstChild);a.remove();delete this.textPath}else if(p(a,\"string\")?(d=b(this),a=u(d.parentNode).path(a),d.appendChild(a.node),d=a.id,a.attr({id:d})):(a=u(a),a instanceof v&&(d=a.attr(\"id\"),d||(d=a.id,a.attr({id:d})))),d)if(a=this.textPath,f=this.node,a)a.attr({\"xlink:href\":\"#\"+d});else{for(a=e(\"textPath\",{\"xlink:href\":\"#\"+d});f.firstChild;)a.appendChild(f.firstChild);f.appendChild(a);this.textPath=u(a)}}})(-1);\n",
        "k.on(\"snap.util.attr.text\",function(a){if(\"text\"==this.type){for(var b=this.node,d=function(a){var b=e(\"tspan\");if(p(a,\"array\"))for(var f=0;f<a.length;f++)b.appendChild(d(a[f]));else b.appendChild(M.doc.createTextNode(a));b.normalize&&b.normalize();return b};b.firstChild;)b.removeChild(b.firstChild);for(a=d(a);a.firstChild;)b.appendChild(a.firstChild)}k.stop()})(-1);k.on(\"snap.util.attr.fontSize\",z)(-1);k.on(\"snap.util.attr.font-size\",z)(-1);k.on(\"snap.util.getattr.transform\",function(){k.stop();\n",
        "return this.transform()})(-1);k.on(\"snap.util.getattr.textpath\",function(){k.stop();return this.textPath})(-1);(function(){function b(d){return function(){k.stop();var b=M.doc.defaultView.getComputedStyle(this.node,null).getPropertyValue(\"marker-\"+d);return\"none\"==b?b:a(M.doc.getElementById(b.match(q)[1]))}}function d(a){return function(b){k.stop();var d=\"marker\"+a.charAt(0).toUpperCase()+a.substring(1);if(\"\"==b||!b)this.node.style[d]=\"none\";else if(\"marker\"==b.type){var f=b.node.id;f||e(b.node,{id:b.id});\n",
        "this.node.style[d]=l(f)}}}k.on(\"snap.util.getattr.marker-end\",b(\"end\"))(-1);k.on(\"snap.util.getattr.markerEnd\",b(\"end\"))(-1);k.on(\"snap.util.getattr.marker-start\",b(\"start\"))(-1);k.on(\"snap.util.getattr.markerStart\",b(\"start\"))(-1);k.on(\"snap.util.getattr.marker-mid\",b(\"mid\"))(-1);k.on(\"snap.util.getattr.markerMid\",b(\"mid\"))(-1);k.on(\"snap.util.attr.marker-end\",d(\"end\"))(-1);k.on(\"snap.util.attr.markerEnd\",d(\"end\"))(-1);k.on(\"snap.util.attr.marker-start\",d(\"start\"))(-1);k.on(\"snap.util.attr.markerStart\",\n",
        "d(\"start\"))(-1);k.on(\"snap.util.attr.marker-mid\",d(\"mid\"))(-1);k.on(\"snap.util.attr.markerMid\",d(\"mid\"))(-1)})();k.on(\"snap.util.getattr.r\",function(){if(\"rect\"==this.type&&e(this.node,\"rx\")==e(this.node,\"ry\"))return k.stop(),e(this.node,\"rx\")})(-1);k.on(\"snap.util.getattr.text\",function(){if(\"text\"==this.type||\"tspan\"==this.type){k.stop();var a=d(this.node);return 1==a.length?a[0]:a}})(-1);k.on(\"snap.util.getattr.#text\",function(){return this.node.textContent})(-1);k.on(\"snap.util.getattr.viewBox\",\n",
        "function(){k.stop();var b=e(this.node,\"viewBox\");if(b)return b=b.split(s),a._.box(+b[0],+b[1],+b[2],+b[3])})(-1);k.on(\"snap.util.getattr.points\",function(){var a=e(this.node,\"points\");k.stop();if(a)return a.split(s)})(-1);k.on(\"snap.util.getattr.path\",function(){var a=e(this.node,\"d\");k.stop();return a})(-1);k.on(\"snap.util.getattr.class\",function(){return this.node.className.baseVal})(-1);k.on(\"snap.util.getattr.fontSize\",f)(-1);k.on(\"snap.util.getattr.font-size\",f)(-1)});C.plugin(function(a,v,y,\n",
        "M,A){function w(a){return a}function z(a){return function(b){return+b.toFixed(3)+a}}var d={\"+\":function(a,b){return a+b},\"-\":function(a,b){return a-b},\"/\":function(a,b){return a/b},\"*\":function(a,b){return a*b}},f=String,n=/[a-z]+$/i,u=/^\\s*([+\\-\\/*])\\s*=\\s*([\\d.eE+\\-]+)\\s*([^\\d\\s]+)?\\s*$/;k.on(\"snap.util.attr\",function(a){if(a=f(a).match(u)){var b=k.nt(),b=b.substring(b.lastIndexOf(\".\")+1),q=this.attr(b),e={};k.stop();var l=a[3]||\"\",r=q.match(n),s=d[a[1] ];r&&r==l?a=s(parseFloat(q),+a[2]):(q=this.asPX(b),\n",
        "a=s(this.asPX(b),this.asPX(b,a[2]+l)));isNaN(q)||isNaN(a)||(e[b]=a,this.attr(e))}})(-10);k.on(\"snap.util.equal\",function(a,b){var q=f(this.attr(a)||\"\"),e=f(b).match(u);if(e){k.stop();var l=e[3]||\"\",r=q.match(n),s=d[e[1] ];if(r&&r==l)return{from:parseFloat(q),to:s(parseFloat(q),+e[2]),f:z(r)};q=this.asPX(a);return{from:q,to:s(q,this.asPX(a,e[2]+l)),f:w}}})(-10)});C.plugin(function(a,v,y,M,A){var w=y.prototype,z=a.is;w.rect=function(a,d,k,p,b,q){var e;null==q&&(q=b);z(a,\"object\")&&\"[object Object]\"==\n",
        "a?e=a:null!=a&&(e={x:a,y:d,width:k,height:p},null!=b&&(e.rx=b,e.ry=q));return this.el(\"rect\",e)};w.circle=function(a,d,k){var p;z(a,\"object\")&&\"[object Object]\"==a?p=a:null!=a&&(p={cx:a,cy:d,r:k});return this.el(\"circle\",p)};var d=function(){function a(){this.parentNode.removeChild(this)}return function(d,k){var p=M.doc.createElement(\"img\"),b=M.doc.body;p.style.cssText=\"position:absolute;left:-9999em;top:-9999em\";p.onload=function(){k.call(p);p.onload=p.onerror=null;b.removeChild(p)};p.onerror=a;\n",
        "b.appendChild(p);p.src=d}}();w.image=function(f,n,k,p,b){var q=this.el(\"image\");if(z(f,\"object\")&&\"src\"in f)q.attr(f);else if(null!=f){var e={\"xlink:href\":f,preserveAspectRatio:\"none\"};null!=n&&null!=k&&(e.x=n,e.y=k);null!=p&&null!=b?(e.width=p,e.height=b):d(f,function(){a._.$(q.node,{width:this.offsetWidth,height:this.offsetHeight})});a._.$(q.node,e)}return q};w.ellipse=function(a,d,k,p){var b;z(a,\"object\")&&\"[object Object]\"==a?b=a:null!=a&&(b={cx:a,cy:d,rx:k,ry:p});return this.el(\"ellipse\",b)};\n",
        "w.path=function(a){var d;z(a,\"object\")&&!z(a,\"array\")?d=a:a&&(d={d:a});return this.el(\"path\",d)};w.group=w.g=function(a){var d=this.el(\"g\");1==arguments.length&&a&&!a.type?d.attr(a):arguments.length&&d.add(Array.prototype.slice.call(arguments,0));return d};w.svg=function(a,d,k,p,b,q,e,l){var r={};z(a,\"object\")&&null==d?r=a:(null!=a&&(r.x=a),null!=d&&(r.y=d),null!=k&&(r.width=k),null!=p&&(r.height=p),null!=b&&null!=q&&null!=e&&null!=l&&(r.viewBox=[b,q,e,l]));return this.el(\"svg\",r)};w.mask=function(a){var d=\n",
        "this.el(\"mask\");1==arguments.length&&a&&!a.type?d.attr(a):arguments.length&&d.add(Array.prototype.slice.call(arguments,0));return d};w.ptrn=function(a,d,k,p,b,q,e,l){if(z(a,\"object\"))var r=a;else arguments.length?(r={},null!=a&&(r.x=a),null!=d&&(r.y=d),null!=k&&(r.width=k),null!=p&&(r.height=p),null!=b&&null!=q&&null!=e&&null!=l&&(r.viewBox=[b,q,e,l])):r={patternUnits:\"userSpaceOnUse\"};return this.el(\"pattern\",r)};w.use=function(a){return null!=a?(make(\"use\",this.node),a instanceof v&&(a.attr(\"id\")||\n",
        "a.attr({id:ID()}),a=a.attr(\"id\")),this.el(\"use\",{\"xlink:href\":a})):v.prototype.use.call(this)};w.text=function(a,d,k){var p={};z(a,\"object\")?p=a:null!=a&&(p={x:a,y:d,text:k||\"\"});return this.el(\"text\",p)};w.line=function(a,d,k,p){var b={};z(a,\"object\")?b=a:null!=a&&(b={x1:a,x2:k,y1:d,y2:p});return this.el(\"line\",b)};w.polyline=function(a){1<arguments.length&&(a=Array.prototype.slice.call(arguments,0));var d={};z(a,\"object\")&&!z(a,\"array\")?d=a:null!=a&&(d={points:a});return this.el(\"polyline\",d)};\n",
        "w.polygon=function(a){1<arguments.length&&(a=Array.prototype.slice.call(arguments,0));var d={};z(a,\"object\")&&!z(a,\"array\")?d=a:null!=a&&(d={points:a});return this.el(\"polygon\",d)};(function(){function d(){return this.selectAll(\"stop\")}function n(b,d){var f=e(\"stop\"),k={offset:+d+\"%\"};b=a.color(b);k[\"stop-color\"]=b.hex;1>b.opacity&&(k[\"stop-opacity\"]=b.opacity);e(f,k);this.node.appendChild(f);return this}function u(){if(\"linearGradient\"==this.type){var b=e(this.node,\"x1\")||0,d=e(this.node,\"x2\")||\n",
        "1,f=e(this.node,\"y1\")||0,k=e(this.node,\"y2\")||0;return a._.box(b,f,math.abs(d-b),math.abs(k-f))}b=this.node.r||0;return a._.box((this.node.cx||0.5)-b,(this.node.cy||0.5)-b,2*b,2*b)}function p(a,d){function f(a,b){for(var d=(b-u)/(a-w),e=w;e<a;e++)h[e].offset=+(+u+d*(e-w)).toFixed(2);w=a;u=b}var n=k(\"snap.util.grad.parse\",null,d).firstDefined(),p;if(!n)return null;n.params.unshift(a);p=\"l\"==n.type.toLowerCase()?b.apply(0,n.params):q.apply(0,n.params);n.type!=n.type.toLowerCase()&&e(p.node,{gradientUnits:\"userSpaceOnUse\"});\n",
        "var h=n.stops,n=h.length,u=0,w=0;n--;for(var v=0;v<n;v++)\"offset\"in h[v]&&f(v,h[v].offset);h[n].offset=h[n].offset||100;f(n,h[n].offset);for(v=0;v<=n;v++){var y=h[v];p.addStop(y.color,y.offset)}return p}function b(b,k,p,q,w){b=a._.make(\"linearGradient\",b);b.stops=d;b.addStop=n;b.getBBox=u;null!=k&&e(b.node,{x1:k,y1:p,x2:q,y2:w});return b}function q(b,k,p,q,w,h){b=a._.make(\"radialGradient\",b);b.stops=d;b.addStop=n;b.getBBox=u;null!=k&&e(b.node,{cx:k,cy:p,r:q});null!=w&&null!=h&&e(b.node,{fx:w,fy:h});\n",
        "return b}var e=a._.$;w.gradient=function(a){return p(this.defs,a)};w.gradientLinear=function(a,d,e,f){return b(this.defs,a,d,e,f)};w.gradientRadial=function(a,b,d,e,f){return q(this.defs,a,b,d,e,f)};w.toString=function(){var b=this.node.ownerDocument,d=b.createDocumentFragment(),b=b.createElement(\"div\"),e=this.node.cloneNode(!0);d.appendChild(b);b.appendChild(e);a._.$(e,{xmlns:\"http://www.w3.org/2000/svg\"});b=b.innerHTML;d.removeChild(d.firstChild);return b};w.clear=function(){for(var a=this.node.firstChild,\n",
        "b;a;)b=a.nextSibling,\"defs\"!=a.tagName?a.parentNode.removeChild(a):w.clear.call({node:a}),a=b}})()});C.plugin(function(a,k,y,M){function A(a){var b=A.ps=A.ps||{};b[a]?b[a].sleep=100:b[a]={sleep:100};setTimeout(function(){for(var d in b)b[L](d)&&d!=a&&(b[d].sleep--,!b[d].sleep&&delete b[d])});return b[a]}function w(a,b,d,e){null==a&&(a=b=d=e=0);null==b&&(b=a.y,d=a.width,e=a.height,a=a.x);return{x:a,y:b,width:d,w:d,height:e,h:e,x2:a+d,y2:b+e,cx:a+d/2,cy:b+e/2,r1:F.min(d,e)/2,r2:F.max(d,e)/2,r0:F.sqrt(d*\n",
        "d+e*e)/2,path:s(a,b,d,e),vb:[a,b,d,e].join(\" \")}}function z(){return this.join(\",\").replace(N,\"$1\")}function d(a){a=C(a);a.toString=z;return a}function f(a,b,d,h,f,k,l,n,p){if(null==p)return e(a,b,d,h,f,k,l,n);if(0>p||e(a,b,d,h,f,k,l,n)<p)p=void 0;else{var q=0.5,O=1-q,s;for(s=e(a,b,d,h,f,k,l,n,O);0.01<Z(s-p);)q/=2,O+=(s<p?1:-1)*q,s=e(a,b,d,h,f,k,l,n,O);p=O}return u(a,b,d,h,f,k,l,n,p)}function n(b,d){function e(a){return+(+a).toFixed(3)}return a._.cacher(function(a,h,l){a instanceof k&&(a=a.attr(\"d\"));\n",
        "a=I(a);for(var n,p,D,q,O=\"\",s={},c=0,t=0,r=a.length;t<r;t++){D=a[t];if(\"M\"==D[0])n=+D[1],p=+D[2];else{q=f(n,p,D[1],D[2],D[3],D[4],D[5],D[6]);if(c+q>h){if(d&&!s.start){n=f(n,p,D[1],D[2],D[3],D[4],D[5],D[6],h-c);O+=[\"C\"+e(n.start.x),e(n.start.y),e(n.m.x),e(n.m.y),e(n.x),e(n.y)];if(l)return O;s.start=O;O=[\"M\"+e(n.x),e(n.y)+\"C\"+e(n.n.x),e(n.n.y),e(n.end.x),e(n.end.y),e(D[5]),e(D[6])].join();c+=q;n=+D[5];p=+D[6];continue}if(!b&&!d)return n=f(n,p,D[1],D[2],D[3],D[4],D[5],D[6],h-c)}c+=q;n=+D[5];p=+D[6]}O+=\n",
        "D.shift()+D}s.end=O;return n=b?c:d?s:u(n,p,D[0],D[1],D[2],D[3],D[4],D[5],1)},null,a._.clone)}function u(a,b,d,e,h,f,k,l,n){var p=1-n,q=ma(p,3),s=ma(p,2),c=n*n,t=c*n,r=q*a+3*s*n*d+3*p*n*n*h+t*k,q=q*b+3*s*n*e+3*p*n*n*f+t*l,s=a+2*n*(d-a)+c*(h-2*d+a),t=b+2*n*(e-b)+c*(f-2*e+b),x=d+2*n*(h-d)+c*(k-2*h+d),c=e+2*n*(f-e)+c*(l-2*f+e);a=p*a+n*d;b=p*b+n*e;h=p*h+n*k;f=p*f+n*l;l=90-180*F.atan2(s-x,t-c)/S;return{x:r,y:q,m:{x:s,y:t},n:{x:x,y:c},start:{x:a,y:b},end:{x:h,y:f},alpha:l}}function p(b,d,e,h,f,n,k,l){a.is(b,\n",
        "\"array\")||(b=[b,d,e,h,f,n,k,l]);b=U.apply(null,b);return w(b.min.x,b.min.y,b.max.x-b.min.x,b.max.y-b.min.y)}function b(a,b,d){return b>=a.x&&b<=a.x+a.width&&d>=a.y&&d<=a.y+a.height}function q(a,d){a=w(a);d=w(d);return b(d,a.x,a.y)||b(d,a.x2,a.y)||b(d,a.x,a.y2)||b(d,a.x2,a.y2)||b(a,d.x,d.y)||b(a,d.x2,d.y)||b(a,d.x,d.y2)||b(a,d.x2,d.y2)||(a.x<d.x2&&a.x>d.x||d.x<a.x2&&d.x>a.x)&&(a.y<d.y2&&a.y>d.y||d.y<a.y2&&d.y>a.y)}function e(a,b,d,e,h,f,n,k,l){null==l&&(l=1);l=(1<l?1:0>l?0:l)/2;for(var p=[-0.1252,\n",
        "0.1252,-0.3678,0.3678,-0.5873,0.5873,-0.7699,0.7699,-0.9041,0.9041,-0.9816,0.9816],q=[0.2491,0.2491,0.2335,0.2335,0.2032,0.2032,0.1601,0.1601,0.1069,0.1069,0.0472,0.0472],s=0,c=0;12>c;c++)var t=l*p[c]+l,r=t*(t*(-3*a+9*d-9*h+3*n)+6*a-12*d+6*h)-3*a+3*d,t=t*(t*(-3*b+9*e-9*f+3*k)+6*b-12*e+6*f)-3*b+3*e,s=s+q[c]*F.sqrt(r*r+t*t);return l*s}function l(a,b,d){a=I(a);b=I(b);for(var h,f,l,n,k,s,r,O,x,c,t=d?0:[],w=0,v=a.length;w<v;w++)if(x=a[w],\"M\"==x[0])h=k=x[1],f=s=x[2];else{\"C\"==x[0]?(x=[h,f].concat(x.slice(1)),\n",
        "h=x[6],f=x[7]):(x=[h,f,h,f,k,s,k,s],h=k,f=s);for(var G=0,y=b.length;G<y;G++)if(c=b[G],\"M\"==c[0])l=r=c[1],n=O=c[2];else{\"C\"==c[0]?(c=[l,n].concat(c.slice(1)),l=c[6],n=c[7]):(c=[l,n,l,n,r,O,r,O],l=r,n=O);var z;var K=x,B=c;z=d;var H=p(K),J=p(B);if(q(H,J)){for(var H=e.apply(0,K),J=e.apply(0,B),H=~~(H/8),J=~~(J/8),U=[],A=[],F={},M=z?0:[],P=0;P<H+1;P++){var C=u.apply(0,K.concat(P/H));U.push({x:C.x,y:C.y,t:P/H})}for(P=0;P<J+1;P++)C=u.apply(0,B.concat(P/J)),A.push({x:C.x,y:C.y,t:P/J});for(P=0;P<H;P++)for(K=\n",
        "0;K<J;K++){var Q=U[P],L=U[P+1],B=A[K],C=A[K+1],N=0.001>Z(L.x-Q.x)?\"y\":\"x\",S=0.001>Z(C.x-B.x)?\"y\":\"x\",R;R=Q.x;var Y=Q.y,V=L.x,ea=L.y,fa=B.x,ga=B.y,ha=C.x,ia=C.y;if(W(R,V)<X(fa,ha)||X(R,V)>W(fa,ha)||W(Y,ea)<X(ga,ia)||X(Y,ea)>W(ga,ia))R=void 0;else{var $=(R*ea-Y*V)*(fa-ha)-(R-V)*(fa*ia-ga*ha),aa=(R*ea-Y*V)*(ga-ia)-(Y-ea)*(fa*ia-ga*ha),ja=(R-V)*(ga-ia)-(Y-ea)*(fa-ha);if(ja){var $=$/ja,aa=aa/ja,ja=+$.toFixed(2),ba=+aa.toFixed(2);R=ja<+X(R,V).toFixed(2)||ja>+W(R,V).toFixed(2)||ja<+X(fa,ha).toFixed(2)||\n",
        "ja>+W(fa,ha).toFixed(2)||ba<+X(Y,ea).toFixed(2)||ba>+W(Y,ea).toFixed(2)||ba<+X(ga,ia).toFixed(2)||ba>+W(ga,ia).toFixed(2)?void 0:{x:$,y:aa}}else R=void 0}R&&F[R.x.toFixed(4)]!=R.y.toFixed(4)&&(F[R.x.toFixed(4)]=R.y.toFixed(4),Q=Q.t+Z((R[N]-Q[N])/(L[N]-Q[N]))*(L.t-Q.t),B=B.t+Z((R[S]-B[S])/(C[S]-B[S]))*(C.t-B.t),0<=Q&&1>=Q&&0<=B&&1>=B&&(z?M++:M.push({x:R.x,y:R.y,t1:Q,t2:B})))}z=M}else z=z?0:[];if(d)t+=z;else{H=0;for(J=z.length;H<J;H++)z[H].segment1=w,z[H].segment2=G,z[H].bez1=x,z[H].bez2=c;t=t.concat(z)}}}return t}\n",
        "function r(a){var b=A(a);if(b.bbox)return C(b.bbox);if(!a)return w();a=I(a);for(var d=0,e=0,h=[],f=[],l,n=0,k=a.length;n<k;n++)l=a[n],\"M\"==l[0]?(d=l[1],e=l[2],h.push(d),f.push(e)):(d=U(d,e,l[1],l[2],l[3],l[4],l[5],l[6]),h=h.concat(d.min.x,d.max.x),f=f.concat(d.min.y,d.max.y),d=l[5],e=l[6]);a=X.apply(0,h);l=X.apply(0,f);h=W.apply(0,h);f=W.apply(0,f);f=w(a,l,h-a,f-l);b.bbox=C(f);return f}function s(a,b,d,e,h){if(h)return[[\"M\",+a+ +h,b],[\"l\",d-2*h,0],[\"a\",h,h,0,0,1,h,h],[\"l\",0,e-2*h],[\"a\",h,h,0,0,1,\n",
        "-h,h],[\"l\",2*h-d,0],[\"a\",h,h,0,0,1,-h,-h],[\"l\",0,2*h-e],[\"a\",h,h,0,0,1,h,-h],[\"z\"] ];a=[[\"M\",a,b],[\"l\",d,0],[\"l\",0,e],[\"l\",-d,0],[\"z\"] ];a.toString=z;return a}function x(a,b,d,e,h){null==h&&null==e&&(e=d);a=+a;b=+b;d=+d;e=+e;if(null!=h){var f=Math.PI/180,l=a+d*Math.cos(-e*f);a+=d*Math.cos(-h*f);var n=b+d*Math.sin(-e*f);b+=d*Math.sin(-h*f);d=[[\"M\",l,n],[\"A\",d,d,0,+(180<h-e),0,a,b] ]}else d=[[\"M\",a,b],[\"m\",0,-e],[\"a\",d,e,0,1,1,0,2*e],[\"a\",d,e,0,1,1,0,-2*e],[\"z\"] ];d.toString=z;return d}function G(b){var e=\n",
        "A(b);if(e.abs)return d(e.abs);Q(b,\"array\")&&Q(b&&b[0],\"array\")||(b=a.parsePathString(b));if(!b||!b.length)return[[\"M\",0,0] ];var h=[],f=0,l=0,n=0,k=0,p=0;\"M\"==b[0][0]&&(f=+b[0][1],l=+b[0][2],n=f,k=l,p++,h[0]=[\"M\",f,l]);for(var q=3==b.length&&\"M\"==b[0][0]&&\"R\"==b[1][0].toUpperCase()&&\"Z\"==b[2][0].toUpperCase(),s,r,w=p,c=b.length;w<c;w++){h.push(s=[]);r=b[w];p=r[0];if(p!=p.toUpperCase())switch(s[0]=p.toUpperCase(),s[0]){case \"A\":s[1]=r[1];s[2]=r[2];s[3]=r[3];s[4]=r[4];s[5]=r[5];s[6]=+r[6]+f;s[7]=+r[7]+\n",
        "l;break;case \"V\":s[1]=+r[1]+l;break;case \"H\":s[1]=+r[1]+f;break;case \"R\":for(var t=[f,l].concat(r.slice(1)),u=2,v=t.length;u<v;u++)t[u]=+t[u]+f,t[++u]=+t[u]+l;h.pop();h=h.concat(P(t,q));break;case \"O\":h.pop();t=x(f,l,r[1],r[2]);t.push(t[0]);h=h.concat(t);break;case \"U\":h.pop();h=h.concat(x(f,l,r[1],r[2],r[3]));s=[\"U\"].concat(h[h.length-1].slice(-2));break;case \"M\":n=+r[1]+f,k=+r[2]+l;default:for(u=1,v=r.length;u<v;u++)s[u]=+r[u]+(u%2?f:l)}else if(\"R\"==p)t=[f,l].concat(r.slice(1)),h.pop(),h=h.concat(P(t,\n",
        "q)),s=[\"R\"].concat(r.slice(-2));else if(\"O\"==p)h.pop(),t=x(f,l,r[1],r[2]),t.push(t[0]),h=h.concat(t);else if(\"U\"==p)h.pop(),h=h.concat(x(f,l,r[1],r[2],r[3])),s=[\"U\"].concat(h[h.length-1].slice(-2));else for(t=0,u=r.length;t<u;t++)s[t]=r[t];p=p.toUpperCase();if(\"O\"!=p)switch(s[0]){case \"Z\":f=+n;l=+k;break;case \"H\":f=s[1];break;case \"V\":l=s[1];break;case \"M\":n=s[s.length-2],k=s[s.length-1];default:f=s[s.length-2],l=s[s.length-1]}}h.toString=z;e.abs=d(h);return h}function h(a,b,d,e){return[a,b,d,e,d,\n",
        "e]}function J(a,b,d,e,h,f){var l=1/3,n=2/3;return[l*a+n*d,l*b+n*e,l*h+n*d,l*f+n*e,h,f]}function K(b,d,e,h,f,l,n,k,p,s){var r=120*S/180,q=S/180*(+f||0),c=[],t,x=a._.cacher(function(a,b,c){var d=a*F.cos(c)-b*F.sin(c);a=a*F.sin(c)+b*F.cos(c);return{x:d,y:a}});if(s)v=s[0],t=s[1],l=s[2],u=s[3];else{t=x(b,d,-q);b=t.x;d=t.y;t=x(k,p,-q);k=t.x;p=t.y;F.cos(S/180*f);F.sin(S/180*f);t=(b-k)/2;v=(d-p)/2;u=t*t/(e*e)+v*v/(h*h);1<u&&(u=F.sqrt(u),e*=u,h*=u);var u=e*e,w=h*h,u=(l==n?-1:1)*F.sqrt(Z((u*w-u*v*v-w*t*t)/\n",
        "(u*v*v+w*t*t)));l=u*e*v/h+(b+k)/2;var u=u*-h*t/e+(d+p)/2,v=F.asin(((d-u)/h).toFixed(9));t=F.asin(((p-u)/h).toFixed(9));v=b<l?S-v:v;t=k<l?S-t:t;0>v&&(v=2*S+v);0>t&&(t=2*S+t);n&&v>t&&(v-=2*S);!n&&t>v&&(t-=2*S)}if(Z(t-v)>r){var c=t,w=k,G=p;t=v+r*(n&&t>v?1:-1);k=l+e*F.cos(t);p=u+h*F.sin(t);c=K(k,p,e,h,f,0,n,w,G,[t,c,l,u])}l=t-v;f=F.cos(v);r=F.sin(v);n=F.cos(t);t=F.sin(t);l=F.tan(l/4);e=4/3*e*l;l*=4/3*h;h=[b,d];b=[b+e*r,d-l*f];d=[k+e*t,p-l*n];k=[k,p];b[0]=2*h[0]-b[0];b[1]=2*h[1]-b[1];if(s)return[b,d,k].concat(c);\n",
        "c=[b,d,k].concat(c).join().split(\",\");s=[];k=0;for(p=c.length;k<p;k++)s[k]=k%2?x(c[k-1],c[k],q).y:x(c[k],c[k+1],q).x;return s}function U(a,b,d,e,h,f,l,k){for(var n=[],p=[[],[] ],s,r,c,t,q=0;2>q;++q)0==q?(r=6*a-12*d+6*h,s=-3*a+9*d-9*h+3*l,c=3*d-3*a):(r=6*b-12*e+6*f,s=-3*b+9*e-9*f+3*k,c=3*e-3*b),1E-12>Z(s)?1E-12>Z(r)||(s=-c/r,0<s&&1>s&&n.push(s)):(t=r*r-4*c*s,c=F.sqrt(t),0>t||(t=(-r+c)/(2*s),0<t&&1>t&&n.push(t),s=(-r-c)/(2*s),0<s&&1>s&&n.push(s)));for(r=q=n.length;q--;)s=n[q],c=1-s,p[0][q]=c*c*c*a+3*\n",
        "c*c*s*d+3*c*s*s*h+s*s*s*l,p[1][q]=c*c*c*b+3*c*c*s*e+3*c*s*s*f+s*s*s*k;p[0][r]=a;p[1][r]=b;p[0][r+1]=l;p[1][r+1]=k;p[0].length=p[1].length=r+2;return{min:{x:X.apply(0,p[0]),y:X.apply(0,p[1])},max:{x:W.apply(0,p[0]),y:W.apply(0,p[1])}}}function I(a,b){var e=!b&&A(a);if(!b&&e.curve)return d(e.curve);var f=G(a),l=b&&G(b),n={x:0,y:0,bx:0,by:0,X:0,Y:0,qx:null,qy:null},k={x:0,y:0,bx:0,by:0,X:0,Y:0,qx:null,qy:null},p=function(a,b,c){if(!a)return[\"C\",b.x,b.y,b.x,b.y,b.x,b.y];a[0]in{T:1,Q:1}||(b.qx=b.qy=null);\n",
        "switch(a[0]){case \"M\":b.X=a[1];b.Y=a[2];break;case \"A\":a=[\"C\"].concat(K.apply(0,[b.x,b.y].concat(a.slice(1))));break;case \"S\":\"C\"==c||\"S\"==c?(c=2*b.x-b.bx,b=2*b.y-b.by):(c=b.x,b=b.y);a=[\"C\",c,b].concat(a.slice(1));break;case \"T\":\"Q\"==c||\"T\"==c?(b.qx=2*b.x-b.qx,b.qy=2*b.y-b.qy):(b.qx=b.x,b.qy=b.y);a=[\"C\"].concat(J(b.x,b.y,b.qx,b.qy,a[1],a[2]));break;case \"Q\":b.qx=a[1];b.qy=a[2];a=[\"C\"].concat(J(b.x,b.y,a[1],a[2],a[3],a[4]));break;case \"L\":a=[\"C\"].concat(h(b.x,b.y,a[1],a[2]));break;case \"H\":a=[\"C\"].concat(h(b.x,\n",
        "b.y,a[1],b.y));break;case \"V\":a=[\"C\"].concat(h(b.x,b.y,b.x,a[1]));break;case \"Z\":a=[\"C\"].concat(h(b.x,b.y,b.X,b.Y))}return a},s=function(a,b){if(7<a[b].length){a[b].shift();for(var c=a[b];c.length;)q[b]=\"A\",l&&(u[b]=\"A\"),a.splice(b++,0,[\"C\"].concat(c.splice(0,6)));a.splice(b,1);v=W(f.length,l&&l.length||0)}},r=function(a,b,c,d,e){a&&b&&\"M\"==a[e][0]&&\"M\"!=b[e][0]&&(b.splice(e,0,[\"M\",d.x,d.y]),c.bx=0,c.by=0,c.x=a[e][1],c.y=a[e][2],v=W(f.length,l&&l.length||0))},q=[],u=[],c=\"\",t=\"\",x=0,v=W(f.length,\n",
        "l&&l.length||0);for(;x<v;x++){f[x]&&(c=f[x][0]);\"C\"!=c&&(q[x]=c,x&&(t=q[x-1]));f[x]=p(f[x],n,t);\"A\"!=q[x]&&\"C\"==c&&(q[x]=\"C\");s(f,x);l&&(l[x]&&(c=l[x][0]),\"C\"!=c&&(u[x]=c,x&&(t=u[x-1])),l[x]=p(l[x],k,t),\"A\"!=u[x]&&\"C\"==c&&(u[x]=\"C\"),s(l,x));r(f,l,n,k,x);r(l,f,k,n,x);var w=f[x],z=l&&l[x],y=w.length,U=l&&z.length;n.x=w[y-2];n.y=w[y-1];n.bx=$(w[y-4])||n.x;n.by=$(w[y-3])||n.y;k.bx=l&&($(z[U-4])||k.x);k.by=l&&($(z[U-3])||k.y);k.x=l&&z[U-2];k.y=l&&z[U-1]}l||(e.curve=d(f));return l?[f,l]:f}function P(a,\n",
        "b){for(var d=[],e=0,h=a.length;h-2*!b>e;e+=2){var f=[{x:+a[e-2],y:+a[e-1]},{x:+a[e],y:+a[e+1]},{x:+a[e+2],y:+a[e+3]},{x:+a[e+4],y:+a[e+5]}];b?e?h-4==e?f[3]={x:+a[0],y:+a[1]}:h-2==e&&(f[2]={x:+a[0],y:+a[1]},f[3]={x:+a[2],y:+a[3]}):f[0]={x:+a[h-2],y:+a[h-1]}:h-4==e?f[3]=f[2]:e||(f[0]={x:+a[e],y:+a[e+1]});d.push([\"C\",(-f[0].x+6*f[1].x+f[2].x)/6,(-f[0].y+6*f[1].y+f[2].y)/6,(f[1].x+6*f[2].x-f[3].x)/6,(f[1].y+6*f[2].y-f[3].y)/6,f[2].x,f[2].y])}return d}y=k.prototype;var Q=a.is,C=a._.clone,L=\"hasOwnProperty\",\n",
        "N=/,?([a-z]),?/gi,$=parseFloat,F=Math,S=F.PI,X=F.min,W=F.max,ma=F.pow,Z=F.abs;M=n(1);var na=n(),ba=n(0,1),V=a._unit2px;a.path=A;a.path.getTotalLength=M;a.path.getPointAtLength=na;a.path.getSubpath=function(a,b,d){if(1E-6>this.getTotalLength(a)-d)return ba(a,b).end;a=ba(a,d,1);return b?ba(a,b).end:a};y.getTotalLength=function(){if(this.node.getTotalLength)return this.node.getTotalLength()};y.getPointAtLength=function(a){return na(this.attr(\"d\"),a)};y.getSubpath=function(b,d){return a.path.getSubpath(this.attr(\"d\"),\n",
        "b,d)};a._.box=w;a.path.findDotsAtSegment=u;a.path.bezierBBox=p;a.path.isPointInsideBBox=b;a.path.isBBoxIntersect=q;a.path.intersection=function(a,b){return l(a,b)};a.path.intersectionNumber=function(a,b){return l(a,b,1)};a.path.isPointInside=function(a,d,e){var h=r(a);return b(h,d,e)&&1==l(a,[[\"M\",d,e],[\"H\",h.x2+10] ],1)%2};a.path.getBBox=r;a.path.get={path:function(a){return a.attr(\"path\")},circle:function(a){a=V(a);return x(a.cx,a.cy,a.r)},ellipse:function(a){a=V(a);return x(a.cx||0,a.cy||0,a.rx,\n",
        "a.ry)},rect:function(a){a=V(a);return s(a.x||0,a.y||0,a.width,a.height,a.rx,a.ry)},image:function(a){a=V(a);return s(a.x||0,a.y||0,a.width,a.height)},line:function(a){return\"M\"+[a.attr(\"x1\")||0,a.attr(\"y1\")||0,a.attr(\"x2\"),a.attr(\"y2\")]},polyline:function(a){return\"M\"+a.attr(\"points\")},polygon:function(a){return\"M\"+a.attr(\"points\")+\"z\"},deflt:function(a){a=a.node.getBBox();return s(a.x,a.y,a.width,a.height)}};a.path.toRelative=function(b){var e=A(b),h=String.prototype.toLowerCase;if(e.rel)return d(e.rel);\n",
        "a.is(b,\"array\")&&a.is(b&&b[0],\"array\")||(b=a.parsePathString(b));var f=[],l=0,n=0,k=0,p=0,s=0;\"M\"==b[0][0]&&(l=b[0][1],n=b[0][2],k=l,p=n,s++,f.push([\"M\",l,n]));for(var r=b.length;s<r;s++){var q=f[s]=[],x=b[s];if(x[0]!=h.call(x[0]))switch(q[0]=h.call(x[0]),q[0]){case \"a\":q[1]=x[1];q[2]=x[2];q[3]=x[3];q[4]=x[4];q[5]=x[5];q[6]=+(x[6]-l).toFixed(3);q[7]=+(x[7]-n).toFixed(3);break;case \"v\":q[1]=+(x[1]-n).toFixed(3);break;case \"m\":k=x[1],p=x[2];default:for(var c=1,t=x.length;c<t;c++)q[c]=+(x[c]-(c%2?l:\n",
        "n)).toFixed(3)}else for(f[s]=[],\"m\"==x[0]&&(k=x[1]+l,p=x[2]+n),q=0,c=x.length;q<c;q++)f[s][q]=x[q];x=f[s].length;switch(f[s][0]){case \"z\":l=k;n=p;break;case \"h\":l+=+f[s][x-1];break;case \"v\":n+=+f[s][x-1];break;default:l+=+f[s][x-2],n+=+f[s][x-1]}}f.toString=z;e.rel=d(f);return f};a.path.toAbsolute=G;a.path.toCubic=I;a.path.map=function(a,b){if(!b)return a;var d,e,h,f,l,n,k;a=I(a);h=0;for(l=a.length;h<l;h++)for(k=a[h],f=1,n=k.length;f<n;f+=2)d=b.x(k[f],k[f+1]),e=b.y(k[f],k[f+1]),k[f]=d,k[f+1]=e;return a};\n",
        "a.path.toString=z;a.path.clone=d});C.plugin(function(a,v,y,C){var A=Math.max,w=Math.min,z=function(a){this.items=[];this.bindings={};this.length=0;this.type=\"set\";if(a)for(var f=0,n=a.length;f<n;f++)a[f]&&(this[this.items.length]=this.items[this.items.length]=a[f],this.length++)};v=z.prototype;v.push=function(){for(var a,f,n=0,k=arguments.length;n<k;n++)if(a=arguments[n])f=this.items.length,this[f]=this.items[f]=a,this.length++;return this};v.pop=function(){this.length&&delete this[this.length--];\n",
        "return this.items.pop()};v.forEach=function(a,f){for(var n=0,k=this.items.length;n<k&&!1!==a.call(f,this.items[n],n);n++);return this};v.animate=function(d,f,n,u){\"function\"!=typeof n||n.length||(u=n,n=L.linear);d instanceof a._.Animation&&(u=d.callback,n=d.easing,f=n.dur,d=d.attr);var p=arguments;if(a.is(d,\"array\")&&a.is(p[p.length-1],\"array\"))var b=!0;var q,e=function(){q?this.b=q:q=this.b},l=0,r=u&&function(){l++==this.length&&u.call(this)};return this.forEach(function(a,l){k.once(\"snap.animcreated.\"+\n",
        "a.id,e);b?p[l]&&a.animate.apply(a,p[l]):a.animate(d,f,n,r)})};v.remove=function(){for(;this.length;)this.pop().remove();return this};v.bind=function(a,f,k){var u={};if(\"function\"==typeof f)this.bindings[a]=f;else{var p=k||a;this.bindings[a]=function(a){u[p]=a;f.attr(u)}}return this};v.attr=function(a){var f={},k;for(k in a)if(this.bindings[k])this.bindings[k](a[k]);else f[k]=a[k];a=0;for(k=this.items.length;a<k;a++)this.items[a].attr(f);return this};v.clear=function(){for(;this.length;)this.pop()};\n",
        "v.splice=function(a,f,k){a=0>a?A(this.length+a,0):a;f=A(0,w(this.length-a,f));var u=[],p=[],b=[],q;for(q=2;q<arguments.length;q++)b.push(arguments[q]);for(q=0;q<f;q++)p.push(this[a+q]);for(;q<this.length-a;q++)u.push(this[a+q]);var e=b.length;for(q=0;q<e+u.length;q++)this.items[a+q]=this[a+q]=q<e?b[q]:u[q-e];for(q=this.items.length=this.length-=f-e;this[q];)delete this[q++];return new z(p)};v.exclude=function(a){for(var f=0,k=this.length;f<k;f++)if(this[f]==a)return this.splice(f,1),!0;return!1};\n",
        "v.insertAfter=function(a){for(var f=this.items.length;f--;)this.items[f].insertAfter(a);return this};v.getBBox=function(){for(var a=[],f=[],k=[],u=[],p=this.items.length;p--;)if(!this.items[p].removed){var b=this.items[p].getBBox();a.push(b.x);f.push(b.y);k.push(b.x+b.width);u.push(b.y+b.height)}a=w.apply(0,a);f=w.apply(0,f);k=A.apply(0,k);u=A.apply(0,u);return{x:a,y:f,x2:k,y2:u,width:k-a,height:u-f,cx:a+(k-a)/2,cy:f+(u-f)/2}};v.clone=function(a){a=new z;for(var f=0,k=this.items.length;f<k;f++)a.push(this.items[f].clone());\n",
        "return a};v.toString=function(){return\"Snap\\u2018s set\"};v.type=\"set\";a.set=function(){var a=new z;arguments.length&&a.push.apply(a,Array.prototype.slice.call(arguments,0));return a}});C.plugin(function(a,v,y,C){function A(a){var b=a[0];switch(b.toLowerCase()){case \"t\":return[b,0,0];case \"m\":return[b,1,0,0,1,0,0];case \"r\":return 4==a.length?[b,0,a[2],a[3] ]:[b,0];case \"s\":return 5==a.length?[b,1,1,a[3],a[4] ]:3==a.length?[b,1,1]:[b,1]}}function w(b,d,f){d=q(d).replace(/\\.{3}|\\u2026/g,b);b=a.parseTransformString(b)||\n",
        "[];d=a.parseTransformString(d)||[];for(var k=Math.max(b.length,d.length),p=[],v=[],h=0,w,z,y,I;h<k;h++){y=b[h]||A(d[h]);I=d[h]||A(y);if(y[0]!=I[0]||\"r\"==y[0].toLowerCase()&&(y[2]!=I[2]||y[3]!=I[3])||\"s\"==y[0].toLowerCase()&&(y[3]!=I[3]||y[4]!=I[4])){b=a._.transform2matrix(b,f());d=a._.transform2matrix(d,f());p=[[\"m\",b.a,b.b,b.c,b.d,b.e,b.f] ];v=[[\"m\",d.a,d.b,d.c,d.d,d.e,d.f] ];break}p[h]=[];v[h]=[];w=0;for(z=Math.max(y.length,I.length);w<z;w++)w in y&&(p[h][w]=y[w]),w in I&&(v[h][w]=I[w])}return{from:u(p),\n",
        "to:u(v),f:n(p)}}function z(a){return a}function d(a){return function(b){return+b.toFixed(3)+a}}function f(b){return a.rgb(b[0],b[1],b[2])}function n(a){var b=0,d,f,k,n,h,p,q=[];d=0;for(f=a.length;d<f;d++){h=\"[\";p=['\"'+a[d][0]+'\"'];k=1;for(n=a[d].length;k<n;k++)p[k]=\"val[\"+b++ +\"]\";h+=p+\"]\";q[d]=h}return Function(\"val\",\"return Snap.path.toString.call([\"+q+\"])\")}function u(a){for(var b=[],d=0,f=a.length;d<f;d++)for(var k=1,n=a[d].length;k<n;k++)b.push(a[d][k]);return b}var p={},b=/[a-z]+$/i,q=String;\n",
        "p.stroke=p.fill=\"colour\";v.prototype.equal=function(a,b){return k(\"snap.util.equal\",this,a,b).firstDefined()};k.on(\"snap.util.equal\",function(e,k){var r,s;r=q(this.attr(e)||\"\");var x=this;if(r==+r&&k==+k)return{from:+r,to:+k,f:z};if(\"colour\"==p[e])return r=a.color(r),s=a.color(k),{from:[r.r,r.g,r.b,r.opacity],to:[s.r,s.g,s.b,s.opacity],f:f};if(\"transform\"==e||\"gradientTransform\"==e||\"patternTransform\"==e)return k instanceof a.Matrix&&(k=k.toTransformString()),a._.rgTransform.test(k)||(k=a._.svgTransform2string(k)),\n",
        "w(r,k,function(){return x.getBBox(1)});if(\"d\"==e||\"path\"==e)return r=a.path.toCubic(r,k),{from:u(r[0]),to:u(r[1]),f:n(r[0])};if(\"points\"==e)return r=q(r).split(a._.separator),s=q(k).split(a._.separator),{from:r,to:s,f:function(a){return a}};aUnit=r.match(b);s=q(k).match(b);return aUnit&&aUnit==s?{from:parseFloat(r),to:parseFloat(k),f:d(aUnit)}:{from:this.asPX(e),to:this.asPX(e,k),f:z}})});C.plugin(function(a,v,y,C){var A=v.prototype,w=\"createTouch\"in C.doc;v=\"click dblclick mousedown mousemove mouseout mouseover mouseup touchstart touchmove touchend touchcancel\".split(\" \");\n",
        "var z={mousedown:\"touchstart\",mousemove:\"touchmove\",mouseup:\"touchend\"},d=function(a,b){var d=\"y\"==a?\"scrollTop\":\"scrollLeft\",e=b&&b.node?b.node.ownerDocument:C.doc;return e[d in e.documentElement?\"documentElement\":\"body\"][d]},f=function(){this.returnValue=!1},n=function(){return this.originalEvent.preventDefault()},u=function(){this.cancelBubble=!0},p=function(){return this.originalEvent.stopPropagation()},b=function(){if(C.doc.addEventListener)return function(a,b,e,f){var k=w&&z[b]?z[b]:b,l=function(k){var l=\n",
        "d(\"y\",f),q=d(\"x\",f);if(w&&z.hasOwnProperty(b))for(var r=0,u=k.targetTouches&&k.targetTouches.length;r<u;r++)if(k.targetTouches[r].target==a||a.contains(k.targetTouches[r].target)){u=k;k=k.targetTouches[r];k.originalEvent=u;k.preventDefault=n;k.stopPropagation=p;break}return e.call(f,k,k.clientX+q,k.clientY+l)};b!==k&&a.addEventListener(b,l,!1);a.addEventListener(k,l,!1);return function(){b!==k&&a.removeEventListener(b,l,!1);a.removeEventListener(k,l,!1);return!0}};if(C.doc.attachEvent)return function(a,\n",
        "b,e,h){var k=function(a){a=a||h.node.ownerDocument.window.event;var b=d(\"y\",h),k=d(\"x\",h),k=a.clientX+k,b=a.clientY+b;a.preventDefault=a.preventDefault||f;a.stopPropagation=a.stopPropagation||u;return e.call(h,a,k,b)};a.attachEvent(\"on\"+b,k);return function(){a.detachEvent(\"on\"+b,k);return!0}}}(),q=[],e=function(a){for(var b=a.clientX,e=a.clientY,f=d(\"y\"),l=d(\"x\"),n,p=q.length;p--;){n=q[p];if(w)for(var r=a.touches&&a.touches.length,u;r--;){if(u=a.touches[r],u.identifier==n.el._drag.id||n.el.node.contains(u.target)){b=\n",
        "u.clientX;e=u.clientY;(a.originalEvent?a.originalEvent:a).preventDefault();break}}else a.preventDefault();b+=l;e+=f;k(\"snap.drag.move.\"+n.el.id,n.move_scope||n.el,b-n.el._drag.x,e-n.el._drag.y,b,e,a)}},l=function(b){a.unmousemove(e).unmouseup(l);for(var d=q.length,f;d--;)f=q[d],f.el._drag={},k(\"snap.drag.end.\"+f.el.id,f.end_scope||f.start_scope||f.move_scope||f.el,b);q=[]};for(y=v.length;y--;)(function(d){a[d]=A[d]=function(e,f){a.is(e,\"function\")&&(this.events=this.events||[],this.events.push({name:d,\n",
        "f:e,unbind:b(this.node||document,d,e,f||this)}));return this};a[\"un\"+d]=A[\"un\"+d]=function(a){for(var b=this.events||[],e=b.length;e--;)if(b[e].name==d&&(b[e].f==a||!a)){b[e].unbind();b.splice(e,1);!b.length&&delete this.events;break}return this}})(v[y]);A.hover=function(a,b,d,e){return this.mouseover(a,d).mouseout(b,e||d)};A.unhover=function(a,b){return this.unmouseover(a).unmouseout(b)};var r=[];A.drag=function(b,d,f,h,n,p){function u(r,v,w){(r.originalEvent||r).preventDefault();this._drag.x=v;\n",
        "this._drag.y=w;this._drag.id=r.identifier;!q.length&&a.mousemove(e).mouseup(l);q.push({el:this,move_scope:h,start_scope:n,end_scope:p});d&&k.on(\"snap.drag.start.\"+this.id,d);b&&k.on(\"snap.drag.move.\"+this.id,b);f&&k.on(\"snap.drag.end.\"+this.id,f);k(\"snap.drag.start.\"+this.id,n||h||this,v,w,r)}if(!arguments.length){var v;return this.drag(function(a,b){this.attr({transform:v+(v?\"T\":\"t\")+[a,b]})},function(){v=this.transform().local})}this._drag={};r.push({el:this,start:u});this.mousedown(u);return this};\n",
        "A.undrag=function(){for(var b=r.length;b--;)r[b].el==this&&(this.unmousedown(r[b].start),r.splice(b,1),k.unbind(\"snap.drag.*.\"+this.id));!r.length&&a.unmousemove(e).unmouseup(l);return this}});C.plugin(function(a,v,y,C){y=y.prototype;var A=/^\\s*url\\((.+)\\)/,w=String,z=a._.$;a.filter={};y.filter=function(d){var f=this;\"svg\"!=f.type&&(f=f.paper);d=a.parse(w(d));var k=a._.id(),u=z(\"filter\");z(u,{id:k,filterUnits:\"userSpaceOnUse\"});u.appendChild(d.node);f.defs.appendChild(u);return new v(u)};k.on(\"snap.util.getattr.filter\",\n",
        "function(){k.stop();var d=z(this.node,\"filter\");if(d)return(d=w(d).match(A))&&a.select(d[1])});k.on(\"snap.util.attr.filter\",function(d){if(d instanceof v&&\"filter\"==d.type){k.stop();var f=d.node.id;f||(z(d.node,{id:d.id}),f=d.id);z(this.node,{filter:a.url(f)})}d&&\"none\"!=d||(k.stop(),this.node.removeAttribute(\"filter\"))});a.filter.blur=function(d,f){null==d&&(d=2);return a.format('<feGaussianBlur stdDeviation=\"{def}\"/>',{def:null==f?d:[d,f]})};a.filter.blur.toString=function(){return this()};a.filter.shadow=\n",
        "function(d,f,k,u,p){\"string\"==typeof k&&(p=u=k,k=4);\"string\"!=typeof u&&(p=u,u=\"#000\");null==k&&(k=4);null==p&&(p=1);null==d&&(d=0,f=2);null==f&&(f=d);u=a.color(u||\"#000\");return a.format('<feGaussianBlur in=\"SourceAlpha\" stdDeviation=\"{blur}\"/><feOffset dx=\"{dx}\" dy=\"{dy}\" result=\"offsetblur\"/><feFlood flood-color=\"{color}\"/><feComposite in2=\"offsetblur\" operator=\"in\"/><feComponentTransfer><feFuncA type=\"linear\" slope=\"{opacity}\"/></feComponentTransfer><feMerge><feMergeNode/><feMergeNode in=\"SourceGraphic\"/></feMerge>',\n",
        "{color:u,dx:d,dy:f,blur:k,opacity:p})};a.filter.shadow.toString=function(){return this()};a.filter.grayscale=function(d){null==d&&(d=1);return a.format('<feColorMatrix type=\"matrix\" values=\"{a} {b} {c} 0 0 {d} {e} {f} 0 0 {g} {b} {h} 0 0 0 0 0 1 0\"/>',{a:0.2126+0.7874*(1-d),b:0.7152-0.7152*(1-d),c:0.0722-0.0722*(1-d),d:0.2126-0.2126*(1-d),e:0.7152+0.2848*(1-d),f:0.0722-0.0722*(1-d),g:0.2126-0.2126*(1-d),h:0.0722+0.9278*(1-d)})};a.filter.grayscale.toString=function(){return this()};a.filter.sepia=\n",
        "function(d){null==d&&(d=1);return a.format('<feColorMatrix type=\"matrix\" values=\"{a} {b} {c} 0 0 {d} {e} {f} 0 0 {g} {h} {i} 0 0 0 0 0 1 0\"/>',{a:0.393+0.607*(1-d),b:0.769-0.769*(1-d),c:0.189-0.189*(1-d),d:0.349-0.349*(1-d),e:0.686+0.314*(1-d),f:0.168-0.168*(1-d),g:0.272-0.272*(1-d),h:0.534-0.534*(1-d),i:0.131+0.869*(1-d)})};a.filter.sepia.toString=function(){return this()};a.filter.saturate=function(d){null==d&&(d=1);return a.format('<feColorMatrix type=\"saturate\" values=\"{amount}\"/>',{amount:1-\n",
        "d})};a.filter.saturate.toString=function(){return this()};a.filter.hueRotate=function(d){return a.format('<feColorMatrix type=\"hueRotate\" values=\"{angle}\"/>',{angle:d||0})};a.filter.hueRotate.toString=function(){return this()};a.filter.invert=function(d){null==d&&(d=1);return a.format('<feComponentTransfer><feFuncR type=\"table\" tableValues=\"{amount} {amount2}\"/><feFuncG type=\"table\" tableValues=\"{amount} {amount2}\"/><feFuncB type=\"table\" tableValues=\"{amount} {amount2}\"/></feComponentTransfer>',{amount:d,\n",
        "amount2:1-d})};a.filter.invert.toString=function(){return this()};a.filter.brightness=function(d){null==d&&(d=1);return a.format('<feComponentTransfer><feFuncR type=\"linear\" slope=\"{amount}\"/><feFuncG type=\"linear\" slope=\"{amount}\"/><feFuncB type=\"linear\" slope=\"{amount}\"/></feComponentTransfer>',{amount:d})};a.filter.brightness.toString=function(){return this()};a.filter.contrast=function(d){null==d&&(d=1);return a.format('<feComponentTransfer><feFuncR type=\"linear\" slope=\"{amount}\" intercept=\"{amount2}\"/><feFuncG type=\"linear\" slope=\"{amount}\" intercept=\"{amount2}\"/><feFuncB type=\"linear\" slope=\"{amount}\" intercept=\"{amount2}\"/></feComponentTransfer>',\n",
        "{amount:d,amount2:0.5-d/2})};a.filter.contrast.toString=function(){return this()}});return C});\n",
        "\n",
        "]]> </script>\n",
        "<script> <![CDATA[\n",
        "\n",
        "(function (glob, factory) {\n",
        "    // AMD support\n",
        "    if (typeof define === \"function\" && define.amd) {\n",
        "        // Define as an anonymous module\n",
        "        define(\"Gadfly\", [\"Snap.svg\"], function (Snap) {\n",
        "            return factory(Snap);\n",
        "        });\n",
        "    } else {\n",
        "        // Browser globals (glob is window)\n",
        "        // Snap adds itself to window\n",
        "        glob.Gadfly = factory(glob.Snap);\n",
        "    }\n",
        "}(this, function (Snap) {\n",
        "\n",
        "var Gadfly = {};\n",
        "\n",
        "// Get an x/y coordinate value in pixels\n",
        "var xPX = function(fig, x) {\n",
        "    var client_box = fig.node.getBoundingClientRect();\n",
        "    return x * fig.node.viewBox.baseVal.width / client_box.width;\n",
        "};\n",
        "\n",
        "var yPX = function(fig, y) {\n",
        "    var client_box = fig.node.getBoundingClientRect();\n",
        "    return y * fig.node.viewBox.baseVal.height / client_box.height;\n",
        "};\n",
        "\n",
        "\n",
        "Snap.plugin(function (Snap, Element, Paper, global) {\n",
        "    // Traverse upwards from a snap element to find and return the first\n",
        "    // note with the \"plotroot\" class.\n",
        "    Element.prototype.plotroot = function () {\n",
        "        var element = this;\n",
        "        while (!element.hasClass(\"plotroot\") && element.parent() != null) {\n",
        "            element = element.parent();\n",
        "        }\n",
        "        return element;\n",
        "    };\n",
        "\n",
        "    Element.prototype.svgroot = function () {\n",
        "        var element = this;\n",
        "        while (element.node.nodeName != \"svg\" && element.parent() != null) {\n",
        "            element = element.parent();\n",
        "        }\n",
        "        return element;\n",
        "    };\n",
        "\n",
        "    Element.prototype.plotbounds = function () {\n",
        "        var root = this.plotroot()\n",
        "        var bbox = root.select(\".guide.background\").node.getBBox();\n",
        "        return {\n",
        "            x0: bbox.x,\n",
        "            x1: bbox.x + bbox.width,\n",
        "            y0: bbox.y,\n",
        "            y1: bbox.y + bbox.height\n",
        "        };\n",
        "    };\n",
        "\n",
        "    Element.prototype.plotcenter = function () {\n",
        "        var root = this.plotroot()\n",
        "        var bbox = root.select(\".guide.background\").node.getBBox();\n",
        "        return {\n",
        "            x: bbox.x + bbox.width / 2,\n",
        "            y: bbox.y + bbox.height / 2\n",
        "        };\n",
        "    };\n",
        "\n",
        "    // Emulate IE style mouseenter/mouseleave events, since Microsoft always\n",
        "    // does everything right.\n",
        "    // See: http://www.dynamic-tools.net/toolbox/isMouseLeaveOrEnter/\n",
        "    var events = [\"mouseenter\", \"mouseleave\"];\n",
        "\n",
        "    for (i in events) {\n",
        "        (function (event_name) {\n",
        "            var event_name = events[i];\n",
        "            Element.prototype[event_name] = function (fn, scope) {\n",
        "                if (Snap.is(fn, \"function\")) {\n",
        "                    var fn2 = function (event) {\n",
        "                        if (event.type != \"mouseover\" && event.type != \"mouseout\") {\n",
        "                            return;\n",
        "                        }\n",
        "\n",
        "                        var reltg = event.relatedTarget ? event.relatedTarget :\n",
        "                            event.type == \"mouseout\" ? event.toElement : event.fromElement;\n",
        "                        while (reltg && reltg != this.node) reltg = reltg.parentNode;\n",
        "\n",
        "                        if (reltg != this.node) {\n",
        "                            return fn.apply(this, event);\n",
        "                        }\n",
        "                    };\n",
        "\n",
        "                    if (event_name == \"mouseenter\") {\n",
        "                        this.mouseover(fn2, scope);\n",
        "                    } else {\n",
        "                        this.mouseout(fn2, scope);\n",
        "                    }\n",
        "                }\n",
        "                return this;\n",
        "            };\n",
        "        })(events[i]);\n",
        "    }\n",
        "\n",
        "\n",
        "    Element.prototype.mousewheel = function (fn, scope) {\n",
        "        if (Snap.is(fn, \"function\")) {\n",
        "            var el = this;\n",
        "            var fn2 = function (event) {\n",
        "                fn.apply(el, [event]);\n",
        "            };\n",
        "        }\n",
        "\n",
        "        this.node.addEventListener(\n",
        "            /Firefox/i.test(navigator.userAgent) ? \"DOMMouseScroll\" : \"mousewheel\",\n",
        "            fn2);\n",
        "\n",
        "        return this;\n",
        "    };\n",
        "\n",
        "\n",
        "    // Snap's attr function can be too slow for things like panning/zooming.\n",
        "    // This is a function to directly update element attributes without going\n",
        "    // through eve.\n",
        "    Element.prototype.attribute = function(key, val) {\n",
        "        if (val === undefined) {\n",
        "            return this.node.getAttribute(key, val);\n",
        "        } else {\n",
        "            return this.node.setAttribute(key, val);\n",
        "        }\n",
        "    };\n",
        "});\n",
        "\n",
        "\n",
        "// When the plot is moused over, emphasize the grid lines.\n",
        "Gadfly.plot_mouseover = function(event) {\n",
        "    var root = this.plotroot();\n",
        "    init_pan_zoom(root);\n",
        "\n",
        "    var xgridlines = root.select(\".xgridlines\"),\n",
        "        ygridlines = root.select(\".ygridlines\");\n",
        "\n",
        "    xgridlines.data(\"unfocused_strokedash\",\n",
        "                    xgridlines.attr(\"stroke-dasharray\").replace(/px/g, \"mm\"))\n",
        "    ygridlines.data(\"unfocused_strokedash\",\n",
        "                    ygridlines.attr(\"stroke-dasharray\").replace(/px/g, \"mm\"))\n",
        "\n",
        "    // emphasize grid lines\n",
        "    var destcolor = root.data(\"focused_xgrid_color\");\n",
        "    xgridlines.attr(\"stroke-dasharray\", \"none\")\n",
        "              .selectAll(\"path\")\n",
        "              .animate({stroke: destcolor}, 250);\n",
        "\n",
        "    destcolor = root.data(\"focused_ygrid_color\");\n",
        "    ygridlines.attr(\"stroke-dasharray\", \"none\")\n",
        "              .selectAll(\"path\")\n",
        "              .animate({stroke: destcolor}, 250);\n",
        "\n",
        "    // reveal zoom slider\n",
        "    root.select(\".zoomslider\")\n",
        "        .animate({opacity: 1.0}, 250);\n",
        "};\n",
        "\n",
        "\n",
        "// Unemphasize grid lines on mouse out.\n",
        "Gadfly.plot_mouseout = function(event) {\n",
        "    var root = this.plotroot();\n",
        "    var xgridlines = root.select(\".xgridlines\"),\n",
        "        ygridlines = root.select(\".ygridlines\");\n",
        "\n",
        "    var destcolor = root.data(\"unfocused_xgrid_color\");\n",
        "\n",
        "    xgridlines.attr(\"stroke-dasharray\", xgridlines.data(\"unfocused_strokedash\"))\n",
        "              .selectAll(\"path\")\n",
        "              .animate({stroke: destcolor}, 250);\n",
        "\n",
        "    destcolor = root.data(\"unfocused_ygrid_color\");\n",
        "    ygridlines.attr(\"stroke-dasharray\", ygridlines.data(\"unfocused_strokedash\"))\n",
        "              .selectAll(\"path\")\n",
        "              .animate({stroke: destcolor}, 250);\n",
        "\n",
        "    // hide zoom slider\n",
        "    root.select(\".zoomslider\")\n",
        "        .animate({opacity: 0.0}, 250);\n",
        "};\n",
        "\n",
        "\n",
        "var set_geometry_transform = function(root, tx, ty, scale) {\n",
        "    var xscalable = root.hasClass(\"xscalable\"),\n",
        "        yscalable = root.hasClass(\"yscalable\");\n",
        "\n",
        "    var old_scale = root.data(\"scale\");\n",
        "\n",
        "    var xscale = xscalable ? scale : 1.0,\n",
        "        yscale = yscalable ? scale : 1.0;\n",
        "\n",
        "    tx = xscalable ? tx : 0.0;\n",
        "    ty = yscalable ? ty : 0.0;\n",
        "\n",
        "    var t = new Snap.Matrix().translate(tx, ty).scale(xscale, yscale);\n",
        "\n",
        "    root.selectAll(\".geometry, image\")\n",
        "        .forEach(function (element, i) {\n",
        "            element.transform(t);\n",
        "        });\n",
        "\n",
        "    bounds = root.plotbounds();\n",
        "\n",
        "    if (yscalable) {\n",
        "        var xfixed_t = new Snap.Matrix().translate(0, ty).scale(1.0, yscale);\n",
        "        root.selectAll(\".xfixed\")\n",
        "            .forEach(function (element, i) {\n",
        "                element.transform(xfixed_t);\n",
        "            });\n",
        "\n",
        "        root.select(\".ylabels\")\n",
        "            .transform(xfixed_t)\n",
        "            .selectAll(\"text\")\n",
        "            .forEach(function (element, i) {\n",
        "                if (element.attribute(\"gadfly:inscale\") == \"true\") {\n",
        "                    var cx = element.asPX(\"x\"),\n",
        "                        cy = element.asPX(\"y\");\n",
        "                    var st = element.data(\"static_transform\");\n",
        "                    unscale_t = new Snap.Matrix();\n",
        "                    unscale_t.scale(1, 1/scale, cx, cy).add(st);\n",
        "                    element.transform(unscale_t);\n",
        "\n",
        "                    var y = cy * scale + ty;\n",
        "                    element.attr(\"visibility\",\n",
        "                        bounds.y0 <= y && y <= bounds.y1 ? \"visible\" : \"hidden\");\n",
        "                }\n",
        "            });\n",
        "    }\n",
        "\n",
        "    if (xscalable) {\n",
        "        var yfixed_t = new Snap.Matrix().translate(tx, 0).scale(xscale, 1.0);\n",
        "        var xtrans = new Snap.Matrix().translate(tx, 0);\n",
        "        root.selectAll(\".yfixed\")\n",
        "            .forEach(function (element, i) {\n",
        "                element.transform(yfixed_t);\n",
        "            });\n",
        "\n",
        "        root.select(\".xlabels\")\n",
        "            .transform(yfixed_t)\n",
        "            .selectAll(\"text\")\n",
        "            .forEach(function (element, i) {\n",
        "                if (element.attribute(\"gadfly:inscale\") == \"true\") {\n",
        "                    var cx = element.asPX(\"x\"),\n",
        "                        cy = element.asPX(\"y\");\n",
        "                    var st = element.data(\"static_transform\");\n",
        "                    unscale_t = new Snap.Matrix();\n",
        "                    unscale_t.scale(1/scale, 1, cx, cy).add(st);\n",
        "\n",
        "                    element.transform(unscale_t);\n",
        "\n",
        "                    var x = cx * scale + tx;\n",
        "                    element.attr(\"visibility\",\n",
        "                        bounds.x0 <= x && x <= bounds.x1 ? \"visible\" : \"hidden\");\n",
        "                    }\n",
        "            });\n",
        "    }\n",
        "\n",
        "    // we must unscale anything that is scale invariance: widths, raiduses, etc.\n",
        "    var size_attribs = [\"font-size\"];\n",
        "    var unscaled_selection = \".geometry, .geometry *\";\n",
        "    if (xscalable) {\n",
        "        size_attribs.push(\"rx\");\n",
        "        unscaled_selection += \", .xgridlines\";\n",
        "    }\n",
        "    if (yscalable) {\n",
        "        size_attribs.push(\"ry\");\n",
        "        unscaled_selection += \", .ygridlines\";\n",
        "    }\n",
        "\n",
        "    root.selectAll(unscaled_selection)\n",
        "        .forEach(function (element, i) {\n",
        "            // circle need special help\n",
        "            if (element.node.nodeName == \"circle\") {\n",
        "                var cx = element.attribute(\"cx\"),\n",
        "                    cy = element.attribute(\"cy\");\n",
        "                unscale_t = new Snap.Matrix().scale(1/xscale, 1/yscale,\n",
        "                                                        cx, cy);\n",
        "                element.transform(unscale_t);\n",
        "                return;\n",
        "            }\n",
        "\n",
        "            for (i in size_attribs) {\n",
        "                var key = size_attribs[i];\n",
        "                var val = parseFloat(element.attribute(key));\n",
        "                if (val !== undefined && val != 0 && !isNaN(val)) {\n",
        "                    element.attribute(key, val * old_scale / scale);\n",
        "                }\n",
        "            }\n",
        "        });\n",
        "};\n",
        "\n",
        "\n",
        "// Find the most appropriate tick scale and update label visibility.\n",
        "var update_tickscale = function(root, scale, axis) {\n",
        "    if (!root.hasClass(axis + \"scalable\")) return;\n",
        "\n",
        "    var tickscales = root.data(axis + \"tickscales\");\n",
        "    var best_tickscale = 1.0;\n",
        "    var best_tickscale_dist = Infinity;\n",
        "    for (tickscale in tickscales) {\n",
        "        var dist = Math.abs(Math.log(tickscale) - Math.log(scale));\n",
        "        if (dist < best_tickscale_dist) {\n",
        "            best_tickscale_dist = dist;\n",
        "            best_tickscale = tickscale;\n",
        "        }\n",
        "    }\n",
        "\n",
        "    if (best_tickscale != root.data(axis + \"tickscale\")) {\n",
        "        root.data(axis + \"tickscale\", best_tickscale);\n",
        "        var mark_inscale_gridlines = function (element, i) {\n",
        "            var inscale = element.attr(\"gadfly:scale\") == best_tickscale;\n",
        "            element.attribute(\"gadfly:inscale\", inscale);\n",
        "            element.attr(\"visibility\", inscale ? \"visible\" : \"hidden\");\n",
        "        };\n",
        "\n",
        "        var mark_inscale_labels = function (element, i) {\n",
        "            var inscale = element.attr(\"gadfly:scale\") == best_tickscale;\n",
        "            element.attribute(\"gadfly:inscale\", inscale);\n",
        "            element.attr(\"visibility\", inscale ? \"visible\" : \"hidden\");\n",
        "        };\n",
        "\n",
        "        root.select(\".\" + axis + \"gridlines\").selectAll(\"path\").forEach(mark_inscale_gridlines);\n",
        "        root.select(\".\" + axis + \"labels\").selectAll(\"text\").forEach(mark_inscale_labels);\n",
        "    }\n",
        "};\n",
        "\n",
        "\n",
        "var set_plot_pan_zoom = function(root, tx, ty, scale) {\n",
        "    var old_scale = root.data(\"scale\");\n",
        "    var bounds = root.plotbounds();\n",
        "\n",
        "    var width = bounds.x1 - bounds.x0,\n",
        "        height = bounds.y1 - bounds.y0;\n",
        "\n",
        "    // compute the viewport derived from tx, ty, and scale\n",
        "    var x_min = -width * scale - (scale * width - width),\n",
        "        x_max = width * scale,\n",
        "        y_min = -height * scale - (scale * height - height),\n",
        "        y_max = height * scale;\n",
        "\n",
        "    var x0 = bounds.x0 - scale * bounds.x0,\n",
        "        y0 = bounds.y0 - scale * bounds.y0;\n",
        "\n",
        "    var tx = Math.max(Math.min(tx - x0, x_max), x_min),\n",
        "        ty = Math.max(Math.min(ty - y0, y_max), y_min);\n",
        "\n",
        "    tx += x0;\n",
        "    ty += y0;\n",
        "\n",
        "    // when the scale change, we may need to alter which set of\n",
        "    // ticks is being displayed\n",
        "    if (scale != old_scale) {\n",
        "        update_tickscale(root, scale, \"x\");\n",
        "        update_tickscale(root, scale, \"y\");\n",
        "    }\n",
        "\n",
        "    set_geometry_transform(root, tx, ty, scale);\n",
        "\n",
        "    root.data(\"scale\", scale);\n",
        "    root.data(\"tx\", tx);\n",
        "    root.data(\"ty\", ty);\n",
        "};\n",
        "\n",
        "\n",
        "var scale_centered_translation = function(root, scale) {\n",
        "    var bounds = root.plotbounds();\n",
        "\n",
        "    var width = bounds.x1 - bounds.x0,\n",
        "        height = bounds.y1 - bounds.y0;\n",
        "\n",
        "    var tx0 = root.data(\"tx\"),\n",
        "        ty0 = root.data(\"ty\");\n",
        "\n",
        "    var scale0 = root.data(\"scale\");\n",
        "\n",
        "    // how off from center the current view is\n",
        "    var xoff = tx0 - (bounds.x0 * (1 - scale0) + (width * (1 - scale0)) / 2),\n",
        "        yoff = ty0 - (bounds.y0 * (1 - scale0) + (height * (1 - scale0)) / 2);\n",
        "\n",
        "    // rescale offsets\n",
        "    xoff = xoff * scale / scale0;\n",
        "    yoff = yoff * scale / scale0;\n",
        "\n",
        "    // adjust for the panel position being scaled\n",
        "    var x_edge_adjust = bounds.x0 * (1 - scale),\n",
        "        y_edge_adjust = bounds.y0 * (1 - scale);\n",
        "\n",
        "    return {\n",
        "        x: xoff + x_edge_adjust + (width - width * scale) / 2,\n",
        "        y: yoff + y_edge_adjust + (height - height * scale) / 2\n",
        "    };\n",
        "};\n",
        "\n",
        "\n",
        "// Initialize data for panning zooming if it isn't already.\n",
        "var init_pan_zoom = function(root) {\n",
        "    if (root.data(\"zoompan-ready\")) {\n",
        "        return;\n",
        "    }\n",
        "\n",
        "    // The non-scaling-stroke trick. Rather than try to correct for the\n",
        "    // stroke-width when zooming, we force it to a fixed value.\n",
        "    var px_per_mm = root.node.getCTM().a;\n",
        "\n",
        "    // Drag events report deltas in pixels, which we'd like to convert to\n",
        "    // millimeters.\n",
        "    root.data(\"px_per_mm\", px_per_mm);\n",
        "\n",
        "    root.selectAll(\"path\")\n",
        "        .forEach(function (element, i) {\n",
        "        sw = element.asPX(\"stroke-width\") * px_per_mm;\n",
        "        if (sw > 0) {\n",
        "            element.attribute(\"stroke-width\", sw);\n",
        "            element.attribute(\"vector-effect\", \"non-scaling-stroke\");\n",
        "        }\n",
        "    });\n",
        "\n",
        "    // Store ticks labels original tranformation\n",
        "    root.selectAll(\".xlabels > text, .ylabels > text\")\n",
        "        .forEach(function (element, i) {\n",
        "            var lm = element.transform().localMatrix;\n",
        "            element.data(\"static_transform\",\n",
        "                new Snap.Matrix(lm.a, lm.b, lm.c, lm.d, lm.e, lm.f));\n",
        "        });\n",
        "\n",
        "    if (root.data(\"tx\") === undefined) root.data(\"tx\", 0);\n",
        "    if (root.data(\"ty\") === undefined) root.data(\"ty\", 0);\n",
        "    if (root.data(\"scale\") === undefined) root.data(\"scale\", 1.0);\n",
        "    if (root.data(\"xtickscales\") === undefined) {\n",
        "\n",
        "        // index all the tick scales that are listed\n",
        "        var xtickscales = {};\n",
        "        var ytickscales = {};\n",
        "        var add_x_tick_scales = function (element, i) {\n",
        "            xtickscales[element.attribute(\"gadfly:scale\")] = true;\n",
        "        };\n",
        "        var add_y_tick_scales = function (element, i) {\n",
        "            ytickscales[element.attribute(\"gadfly:scale\")] = true;\n",
        "        };\n",
        "\n",
        "        root.select(\".xgridlines\").selectAll(\"path\").forEach(add_x_tick_scales);\n",
        "        root.select(\".ygridlines\").selectAll(\"path\").forEach(add_y_tick_scales);\n",
        "        root.select(\".xlabels\").selectAll(\"text\").forEach(add_x_tick_scales);\n",
        "        root.select(\".ylabels\").selectAll(\"text\").forEach(add_y_tick_scales);\n",
        "\n",
        "        root.data(\"xtickscales\", xtickscales);\n",
        "        root.data(\"ytickscales\", ytickscales);\n",
        "        root.data(\"xtickscale\", 1.0);\n",
        "    }\n",
        "\n",
        "    var min_scale = 1.0, max_scale = 1.0;\n",
        "    for (scale in xtickscales) {\n",
        "        min_scale = Math.min(min_scale, scale);\n",
        "        max_scale = Math.max(max_scale, scale);\n",
        "    }\n",
        "    for (scale in ytickscales) {\n",
        "        min_scale = Math.min(min_scale, scale);\n",
        "        max_scale = Math.max(max_scale, scale);\n",
        "    }\n",
        "    root.data(\"min_scale\", min_scale);\n",
        "    root.data(\"max_scale\", max_scale);\n",
        "\n",
        "    // store the original positions of labels\n",
        "    root.select(\".xlabels\")\n",
        "        .selectAll(\"text\")\n",
        "        .forEach(function (element, i) {\n",
        "            element.data(\"x\", element.asPX(\"x\"));\n",
        "        });\n",
        "\n",
        "    root.select(\".ylabels\")\n",
        "        .selectAll(\"text\")\n",
        "        .forEach(function (element, i) {\n",
        "            element.data(\"y\", element.asPX(\"y\"));\n",
        "        });\n",
        "\n",
        "    // mark grid lines and ticks as in or out of scale.\n",
        "    var mark_inscale = function (element, i) {\n",
        "        element.attribute(\"gadfly:inscale\", element.attribute(\"gadfly:scale\") == 1.0);\n",
        "    };\n",
        "\n",
        "    root.select(\".xgridlines\").selectAll(\"path\").forEach(mark_inscale);\n",
        "    root.select(\".ygridlines\").selectAll(\"path\").forEach(mark_inscale);\n",
        "    root.select(\".xlabels\").selectAll(\"text\").forEach(mark_inscale);\n",
        "    root.select(\".ylabels\").selectAll(\"text\").forEach(mark_inscale);\n",
        "\n",
        "    // figure out the upper ond lower bounds on panning using the maximum\n",
        "    // and minum grid lines\n",
        "    var bounds = root.plotbounds();\n",
        "    var pan_bounds = {\n",
        "        x0: 0.0,\n",
        "        y0: 0.0,\n",
        "        x1: 0.0,\n",
        "        y1: 0.0\n",
        "    };\n",
        "\n",
        "    root.select(\".xgridlines\")\n",
        "        .selectAll(\"path\")\n",
        "        .forEach(function (element, i) {\n",
        "            if (element.attribute(\"gadfly:inscale\") == \"true\") {\n",
        "                var bbox = element.node.getBBox();\n",
        "                if (bounds.x1 - bbox.x < pan_bounds.x0) {\n",
        "                    pan_bounds.x0 = bounds.x1 - bbox.x;\n",
        "                }\n",
        "                if (bounds.x0 - bbox.x > pan_bounds.x1) {\n",
        "                    pan_bounds.x1 = bounds.x0 - bbox.x;\n",
        "                }\n",
        "            }\n",
        "        });\n",
        "\n",
        "    root.select(\".ygridlines\")\n",
        "        .selectAll(\"path\")\n",
        "        .forEach(function (element, i) {\n",
        "            if (element.attribute(\"gadfly:inscale\") == \"true\") {\n",
        "                var bbox = element.node.getBBox();\n",
        "                if (bounds.y1 - bbox.y < pan_bounds.y0) {\n",
        "                    pan_bounds.y0 = bounds.y1 - bbox.y;\n",
        "                }\n",
        "                if (bounds.y0 - bbox.y > pan_bounds.y1) {\n",
        "                    pan_bounds.y1 = bounds.y0 - bbox.y;\n",
        "                }\n",
        "            }\n",
        "        });\n",
        "\n",
        "    // nudge these values a little\n",
        "    pan_bounds.x0 -= 5;\n",
        "    pan_bounds.x1 += 5;\n",
        "    pan_bounds.y0 -= 5;\n",
        "    pan_bounds.y1 += 5;\n",
        "    root.data(\"pan_bounds\", pan_bounds);\n",
        "\n",
        "    // Set all grid lines at scale 1.0 to visible. Out of bounds lines\n",
        "    // will be clipped.\n",
        "    root.select(\".xgridlines\")\n",
        "        .selectAll(\"path\")\n",
        "        .forEach(function (element, i) {\n",
        "            if (element.attribute(\"gadfly:inscale\") == \"true\") {\n",
        "                element.attr(\"visibility\", \"visible\");\n",
        "            }\n",
        "        });\n",
        "\n",
        "    root.select(\".ygridlines\")\n",
        "        .selectAll(\"path\")\n",
        "        .forEach(function (element, i) {\n",
        "            if (element.attribute(\"gadfly:inscale\") == \"true\") {\n",
        "                element.attr(\"visibility\", \"visible\");\n",
        "            }\n",
        "        });\n",
        "\n",
        "    root.data(\"zoompan-ready\", true)\n",
        "};\n",
        "\n",
        "\n",
        "// Panning\n",
        "Gadfly.guide_background_drag_onmove = function(dx, dy, x, y, event) {\n",
        "    var root = this.plotroot();\n",
        "    var px_per_mm = root.data(\"px_per_mm\");\n",
        "    dx /= px_per_mm;\n",
        "    dy /= px_per_mm;\n",
        "\n",
        "    var tx0 = root.data(\"tx\"),\n",
        "        ty0 = root.data(\"ty\");\n",
        "\n",
        "    var dx0 = root.data(\"dx\"),\n",
        "        dy0 = root.data(\"dy\");\n",
        "\n",
        "    root.data(\"dx\", dx);\n",
        "    root.data(\"dy\", dy);\n",
        "\n",
        "    dx = dx - dx0;\n",
        "    dy = dy - dy0;\n",
        "\n",
        "    var tx = tx0 + dx,\n",
        "        ty = ty0 + dy;\n",
        "\n",
        "    set_plot_pan_zoom(root, tx, ty, root.data(\"scale\"));\n",
        "};\n",
        "\n",
        "\n",
        "Gadfly.guide_background_drag_onstart = function(x, y, event) {\n",
        "    var root = this.plotroot();\n",
        "    root.data(\"dx\", 0);\n",
        "    root.data(\"dy\", 0);\n",
        "    init_pan_zoom(root);\n",
        "};\n",
        "\n",
        "\n",
        "Gadfly.guide_background_drag_onend = function(event) {\n",
        "    var root = this.plotroot();\n",
        "};\n",
        "\n",
        "\n",
        "Gadfly.guide_background_scroll = function(event) {\n",
        "    if (event.shiftKey) {\n",
        "        var root = this.plotroot();\n",
        "        init_pan_zoom(root);\n",
        "        var new_scale = root.data(\"scale\") * Math.pow(2, 0.002 * event.wheelDelta);\n",
        "        new_scale = Math.max(\n",
        "            root.data(\"min_scale\"),\n",
        "            Math.min(root.data(\"max_scale\"), new_scale))\n",
        "        update_plot_scale(root, new_scale);\n",
        "        event.stopPropagation();\n",
        "    }\n",
        "};\n",
        "\n",
        "\n",
        "Gadfly.zoomslider_button_mouseover = function(event) {\n",
        "    this.select(\".button_logo\")\n",
        "         .animate({fill: this.data(\"mouseover_color\")}, 100);\n",
        "};\n",
        "\n",
        "\n",
        "Gadfly.zoomslider_button_mouseout = function(event) {\n",
        "     this.select(\".button_logo\")\n",
        "         .animate({fill: this.data(\"mouseout_color\")}, 100);\n",
        "};\n",
        "\n",
        "\n",
        "Gadfly.zoomslider_zoomout_click = function(event) {\n",
        "    var root = this.plotroot();\n",
        "    init_pan_zoom(root);\n",
        "    var min_scale = root.data(\"min_scale\"),\n",
        "        scale = root.data(\"scale\");\n",
        "    Snap.animate(\n",
        "        scale,\n",
        "        Math.max(min_scale, scale / 1.5),\n",
        "        function (new_scale) {\n",
        "            update_plot_scale(root, new_scale);\n",
        "        },\n",
        "        200);\n",
        "};\n",
        "\n",
        "\n",
        "Gadfly.zoomslider_zoomin_click = function(event) {\n",
        "    var root = this.plotroot();\n",
        "    init_pan_zoom(root);\n",
        "    var max_scale = root.data(\"max_scale\"),\n",
        "        scale = root.data(\"scale\");\n",
        "\n",
        "    Snap.animate(\n",
        "        scale,\n",
        "        Math.min(max_scale, scale * 1.5),\n",
        "        function (new_scale) {\n",
        "            update_plot_scale(root, new_scale);\n",
        "        },\n",
        "        200);\n",
        "};\n",
        "\n",
        "\n",
        "Gadfly.zoomslider_track_click = function(event) {\n",
        "    // TODO\n",
        "};\n",
        "\n",
        "\n",
        "Gadfly.zoomslider_thumb_mousedown = function(event) {\n",
        "    this.animate({fill: this.data(\"mouseover_color\")}, 100);\n",
        "};\n",
        "\n",
        "\n",
        "Gadfly.zoomslider_thumb_mouseup = function(event) {\n",
        "    this.animate({fill: this.data(\"mouseout_color\")}, 100);\n",
        "};\n",
        "\n",
        "\n",
        "// compute the position in [0, 1] of the zoom slider thumb from the current scale\n",
        "var slider_position_from_scale = function(scale, min_scale, max_scale) {\n",
        "    if (scale >= 1.0) {\n",
        "        return 0.5 + 0.5 * (Math.log(scale) / Math.log(max_scale));\n",
        "    }\n",
        "    else {\n",
        "        return 0.5 * (Math.log(scale) - Math.log(min_scale)) / (0 - Math.log(min_scale));\n",
        "    }\n",
        "}\n",
        "\n",
        "\n",
        "var update_plot_scale = function(root, new_scale) {\n",
        "    var trans = scale_centered_translation(root, new_scale);\n",
        "    set_plot_pan_zoom(root, trans.x, trans.y, new_scale);\n",
        "\n",
        "    root.selectAll(\".zoomslider_thumb\")\n",
        "        .forEach(function (element, i) {\n",
        "            var min_pos = element.data(\"min_pos\"),\n",
        "                max_pos = element.data(\"max_pos\"),\n",
        "                min_scale = root.data(\"min_scale\"),\n",
        "                max_scale = root.data(\"max_scale\");\n",
        "            var xmid = (min_pos + max_pos) / 2;\n",
        "            var xpos = slider_position_from_scale(new_scale, min_scale, max_scale);\n",
        "            element.transform(new Snap.Matrix().translate(\n",
        "                Math.max(min_pos, Math.min(\n",
        "                         max_pos, min_pos + (max_pos - min_pos) * xpos)) - xmid, 0));\n",
        "    });\n",
        "};\n",
        "\n",
        "\n",
        "Gadfly.zoomslider_thumb_dragmove = function(dx, dy, x, y) {\n",
        "    var root = this.plotroot();\n",
        "    var min_pos = this.data(\"min_pos\"),\n",
        "        max_pos = this.data(\"max_pos\"),\n",
        "        min_scale = root.data(\"min_scale\"),\n",
        "        max_scale = root.data(\"max_scale\"),\n",
        "        old_scale = root.data(\"old_scale\");\n",
        "\n",
        "    var px_per_mm = root.data(\"px_per_mm\");\n",
        "    dx /= px_per_mm;\n",
        "    dy /= px_per_mm;\n",
        "\n",
        "    var xmid = (min_pos + max_pos) / 2;\n",
        "    var xpos = slider_position_from_scale(old_scale, min_scale, max_scale) +\n",
        "                   dx / (max_pos - min_pos);\n",
        "\n",
        "    // compute the new scale\n",
        "    var new_scale;\n",
        "    if (xpos >= 0.5) {\n",
        "        new_scale = Math.exp(2.0 * (xpos - 0.5) * Math.log(max_scale));\n",
        "    }\n",
        "    else {\n",
        "        new_scale = Math.exp(2.0 * xpos * (0 - Math.log(min_scale)) +\n",
        "                        Math.log(min_scale));\n",
        "    }\n",
        "    new_scale = Math.min(max_scale, Math.max(min_scale, new_scale));\n",
        "\n",
        "    update_plot_scale(root, new_scale);\n",
        "};\n",
        "\n",
        "\n",
        "Gadfly.zoomslider_thumb_dragstart = function(event) {\n",
        "    var root = this.plotroot();\n",
        "    init_pan_zoom(root);\n",
        "\n",
        "    // keep track of what the scale was when we started dragging\n",
        "    root.data(\"old_scale\", root.data(\"scale\"));\n",
        "};\n",
        "\n",
        "\n",
        "Gadfly.zoomslider_thumb_dragend = function(event) {\n",
        "};\n",
        "\n",
        "\n",
        "var toggle_color_class = function(root, color_class, ison) {\n",
        "    var guides = root.selectAll(\".guide.\" + color_class + \",.guide .\" + color_class);\n",
        "    var geoms = root.selectAll(\".geometry.\" + color_class + \",.geometry .\" + color_class);\n",
        "    if (ison) {\n",
        "        guides.animate({opacity: 0.5}, 250);\n",
        "        geoms.animate({opacity: 0.0}, 250);\n",
        "    } else {\n",
        "        guides.animate({opacity: 1.0}, 250);\n",
        "        geoms.animate({opacity: 1.0}, 250);\n",
        "    }\n",
        "};\n",
        "\n",
        "\n",
        "Gadfly.colorkey_swatch_click = function(event) {\n",
        "    var root = this.plotroot();\n",
        "    var color_class = this.data(\"color_class\");\n",
        "\n",
        "    if (event.shiftKey) {\n",
        "        root.selectAll(\".colorkey text\")\n",
        "            .forEach(function (element) {\n",
        "                var other_color_class = element.data(\"color_class\");\n",
        "                if (other_color_class != color_class) {\n",
        "                    toggle_color_class(root, other_color_class,\n",
        "                                       element.attr(\"opacity\") == 1.0);\n",
        "                }\n",
        "            });\n",
        "    } else {\n",
        "        toggle_color_class(root, color_class, this.attr(\"opacity\") == 1.0);\n",
        "    }\n",
        "};\n",
        "\n",
        "\n",
        "return Gadfly;\n",
        "\n",
        "}));\n",
        "\n",
        "\n",
        "//@ sourceURL=gadfly.js\n",
        "\n",
        "(function (glob, factory) {\n",
        "    // AMD support\n",
        "      if (typeof require === \"function\" && typeof define === \"function\" && define.amd) {\n",
        "        require([\"Snap.svg\", \"Gadfly\"], function (Snap, Gadfly) {\n",
        "            factory(Snap, Gadfly);\n",
        "        });\n",
        "      } else {\n",
        "          factory(glob.Snap, glob.Gadfly);\n",
        "      }\n",
        "})(window, function (Snap, Gadfly) {\n",
        "    var fig = Snap(\"#fig-7e407ce6bb964f0a9f0e4d5b3324d29d\");\n",
        "fig.select(\"#fig-7e407ce6bb964f0a9f0e4d5b3324d29d-element-4\")\n",
        "   .mouseenter(Gadfly.plot_mouseover)\n",
        ".mouseleave(Gadfly.plot_mouseout)\n",
        ".mousewheel(Gadfly.guide_background_scroll)\n",
        ".drag(Gadfly.guide_background_drag_onmove,\n",
        "      Gadfly.guide_background_drag_onstart,\n",
        "      Gadfly.guide_background_drag_onend)\n",
        ";\n",
        "fig.select(\"#fig-7e407ce6bb964f0a9f0e4d5b3324d29d-element-7\")\n",
        "   .plotroot().data(\"unfocused_ygrid_color\", \"#D0D0E0\")\n",
        ";\n",
        "fig.select(\"#fig-7e407ce6bb964f0a9f0e4d5b3324d29d-element-7\")\n",
        "   .plotroot().data(\"focused_ygrid_color\", \"#A0A0A0\")\n",
        ";\n",
        "fig.select(\"#fig-7e407ce6bb964f0a9f0e4d5b3324d29d-element-8\")\n",
        "   .plotroot().data(\"unfocused_xgrid_color\", \"#D0D0E0\")\n",
        ";\n",
        "fig.select(\"#fig-7e407ce6bb964f0a9f0e4d5b3324d29d-element-8\")\n",
        "   .plotroot().data(\"focused_xgrid_color\", \"#A0A0A0\")\n",
        ";\n",
        "fig.select(\"#fig-7e407ce6bb964f0a9f0e4d5b3324d29d-element-13\")\n",
        "   .data(\"mouseover_color\", \"#cd5c5c\")\n",
        ";\n",
        "fig.select(\"#fig-7e407ce6bb964f0a9f0e4d5b3324d29d-element-13\")\n",
        "   .data(\"mouseout_color\", \"#6a6a6a\")\n",
        ";\n",
        "fig.select(\"#fig-7e407ce6bb964f0a9f0e4d5b3324d29d-element-13\")\n",
        "   .click(Gadfly.zoomslider_zoomin_click)\n",
        ".mouseenter(Gadfly.zoomslider_button_mouseover)\n",
        ".mouseleave(Gadfly.zoomslider_button_mouseout)\n",
        ";\n",
        "fig.select(\"#fig-7e407ce6bb964f0a9f0e4d5b3324d29d-element-15\")\n",
        "   .data(\"max_pos\", 120.42)\n",
        ";\n",
        "fig.select(\"#fig-7e407ce6bb964f0a9f0e4d5b3324d29d-element-15\")\n",
        "   .data(\"min_pos\", 103.42)\n",
        ";\n",
        "fig.select(\"#fig-7e407ce6bb964f0a9f0e4d5b3324d29d-element-15\")\n",
        "   .click(Gadfly.zoomslider_track_click);\n",
        "fig.select(\"#fig-7e407ce6bb964f0a9f0e4d5b3324d29d-element-16\")\n",
        "   .data(\"max_pos\", 120.42)\n",
        ";\n",
        "fig.select(\"#fig-7e407ce6bb964f0a9f0e4d5b3324d29d-element-16\")\n",
        "   .data(\"min_pos\", 103.42)\n",
        ";\n",
        "fig.select(\"#fig-7e407ce6bb964f0a9f0e4d5b3324d29d-element-16\")\n",
        "   .data(\"mouseover_color\", \"#cd5c5c\")\n",
        ";\n",
        "fig.select(\"#fig-7e407ce6bb964f0a9f0e4d5b3324d29d-element-16\")\n",
        "   .data(\"mouseout_color\", \"#6a6a6a\")\n",
        ";\n",
        "fig.select(\"#fig-7e407ce6bb964f0a9f0e4d5b3324d29d-element-16\")\n",
        "   .drag(Gadfly.zoomslider_thumb_dragmove,\n",
        "     Gadfly.zoomslider_thumb_dragstart,\n",
        "     Gadfly.zoomslider_thumb_dragend)\n",
        ".mousedown(Gadfly.zoomslider_thumb_mousedown)\n",
        ".mouseup(Gadfly.zoomslider_thumb_mouseup)\n",
        ";\n",
        "fig.select(\"#fig-7e407ce6bb964f0a9f0e4d5b3324d29d-element-17\")\n",
        "   .data(\"mouseover_color\", \"#cd5c5c\")\n",
        ";\n",
        "fig.select(\"#fig-7e407ce6bb964f0a9f0e4d5b3324d29d-element-17\")\n",
        "   .data(\"mouseout_color\", \"#6a6a6a\")\n",
        ";\n",
        "fig.select(\"#fig-7e407ce6bb964f0a9f0e4d5b3324d29d-element-17\")\n",
        "   .click(Gadfly.zoomslider_zoomout_click)\n",
        ".mouseenter(Gadfly.zoomslider_button_mouseover)\n",
        ".mouseleave(Gadfly.zoomslider_button_mouseout)\n",
        ";\n",
        "    });\n",
        "]]> </script>\n",
        "</svg>\n"
       ],
       "metadata": {},
       "output_type": "pyout",
       "png": "[encoded data removed]",
       "prompt_number": 4,
       "svg": [
        "<?xml version=\"1.0\" encoding=\"UTF-8\"?>\n",
        "<svg xmlns=\"http://www.w3.org/2000/svg\"\n",
        "     xmlns:xlink=\"http://www.w3.org/1999/xlink\"\n",
        "     xmlns:gadfly=\"http://www.gadflyjl.org/ns\"\n",
        "     version=\"1.2\"\n",
        "     width=\"141.42mm\" height=\"100mm\" viewBox=\"0 0 141.42 100\"\n",
        "     stroke=\"none\"\n",
        "     fill=\"#000000\"\n",
        "     stroke-width=\"0.3\"\n",
        "     font-size=\"3.88\"\n",
        ">\n",
        "<g class=\"plotroot xscalable yscalable\" id=\"fig-a71cbbd6877042f2bc8bd2b93bc2a17b-element-1\">\n",
        "  <g font-size=\"3.88\" font-family=\"'PT Sans','Helvetica Neue','Helvetica',sans-serif\" fill=\"#564A55\" stroke=\"none\" id=\"fig-a71cbbd6877042f2bc8bd2b93bc2a17b-element-2\">\n",
        "    <text x=\"80.67\" y=\"92\" text-anchor=\"middle\">x</text>\n",
        "  </g>\n",
        "  <g class=\"guide xlabels\" font-size=\"2.82\" font-family=\"'PT Sans Caption','Helvetica Neue','Helvetica',sans-serif\" fill=\"#6C606B\" id=\"fig-a71cbbd6877042f2bc8bd2b93bc2a17b-element-3\">\n",
        "    <text x=\"26.92\" y=\"86.39\" text-anchor=\"middle\">0</text>\n",
        "    <text x=\"53.79\" y=\"86.39\" text-anchor=\"middle\">1\u00d710\u00b3</text>\n",
        "    <text x=\"80.67\" y=\"86.39\" text-anchor=\"middle\">2\u00d710\u00b3</text>\n",
        "    <text x=\"107.55\" y=\"86.39\" text-anchor=\"middle\">3\u00d710\u00b3</text>\n",
        "    <text x=\"134.42\" y=\"86.39\" text-anchor=\"middle\">4\u00d710\u00b3</text>\n",
        "  </g>\n",
        "  <g clip-path=\"url(#fig-a71cbbd6877042f2bc8bd2b93bc2a17b-element-5)\" id=\"fig-a71cbbd6877042f2bc8bd2b93bc2a17b-element-4\">\n",
        "    <g pointer-events=\"visible\" opacity=\"1\" fill=\"none\" stroke=\"none\" class=\"guide background\" id=\"fig-a71cbbd6877042f2bc8bd2b93bc2a17b-element-6\">\n",
        "      <rect x=\"24.92\" y=\"5\" width=\"111.5\" height=\"77.72\"/>\n",
        "    </g>\n",
        "    <g class=\"guide ygridlines xfixed\" stroke-dasharray=\"0.5,0.5\" stroke-width=\"0.2\" stroke=\"#D0D0E0\" id=\"fig-a71cbbd6877042f2bc8bd2b93bc2a17b-element-7\">\n",
        "      <path fill=\"none\" d=\"M24.92,80.72 L 136.42 80.72\"/>\n",
        "      <path fill=\"none\" d=\"M24.92,62.29 L 136.42 62.29\"/>\n",
        "      <path fill=\"none\" d=\"M24.92,43.86 L 136.42 43.86\"/>\n",
        "      <path fill=\"none\" d=\"M24.92,25.43 L 136.42 25.43\"/>\n",
        "      <path fill=\"none\" d=\"M24.92,7 L 136.42 7\"/>\n",
        "    </g>\n",
        "    <g class=\"guide xgridlines yfixed\" stroke-dasharray=\"0.5,0.5\" stroke-width=\"0.2\" stroke=\"#D0D0E0\" id=\"fig-a71cbbd6877042f2bc8bd2b93bc2a17b-element-8\">\n",
        "      <path fill=\"none\" d=\"M26.92,5 L 26.92 82.72\"/>\n",
        "      <path fill=\"none\" d=\"M53.79,5 L 53.79 82.72\"/>\n",
        "      <path fill=\"none\" d=\"M80.67,5 L 80.67 82.72\"/>\n",
        "      <path fill=\"none\" d=\"M107.55,5 L 107.55 82.72\"/>\n",
        "      <path fill=\"none\" d=\"M134.42,5 L 134.42 82.72\"/>\n",
        "    </g>\n",
        "    <g class=\"plotpanel\" id=\"fig-a71cbbd6877042f2bc8bd2b93bc2a17b-element-9\">\n",
        "      <g stroke-width=\"0.3\" fill=\"none\" class=\"geometry\" stroke=\"#FF0000\" id=\"fig-a71cbbd6877042f2bc8bd2b93bc2a17b-element-10\">\n",
        "        <path fill=\"none\" d=\"M121.63,80.71 L 121.66 80.71 121.68 80.71 121.71 80.71 121.74 80.71 121.76 80.71 121.79 80.71 121.82 80.71 121.84 80.71 121.87 80.71 121.9 80.71 121.93 80.71 121.95 80.71 121.98 80.71 122.01 80.71 122.03 80.71 122.06 80.71 122.09 80.71 122.11 80.71 122.14 80.71 122.17 80.71 122.2 80.71 122.22 80.71 122.25 80.71 122.28 80.71 122.3 80.71 122.33 80.71 122.36 80.71 122.38 80.71 122.41 80.71 122.44 80.71 122.47 80.71 122.49 80.71 122.52 80.71 122.55 80.71 122.57 80.71 122.6 80.71 122.63 80.71 122.66 80.71 122.68 80.71 122.71 80.71 122.74 80.71 122.76 80.71 122.79 80.71 122.82 80.71 122.84 80.71 122.87 80.71 122.9 80.71 122.93 80.71 122.95 80.71 122.98 80.71 123.01 80.71 123.03 80.71 123.06 80.71 123.09 80.71 123.11 80.71 123.14 80.71 123.17 80.71 123.2 80.71 123.22 80.71 123.25 80.71 123.28 80.71 123.3 80.71 123.33 80.71 123.36 80.71 123.38 80.71 123.41 80.71 123.44 80.71 123.47 80.71 123.49 80.71 123.52 80.71 123.55 80.71 123.57 80.71 123.6 80.71 123.63 80.71 123.65 80.71 123.68 80.71 123.71 80.71 123.74 80.71 123.76 80.71 123.79 80.71 123.82 80.71 123.84 80.71 123.87 80.71 123.9 80.71 123.92 80.71 123.95 80.71 123.98 80.71 124.01 80.71 124.03 80.71 124.06 80.71 124.09 80.71 124.11 80.71 124.14 80.71 124.17 80.71 124.19 80.71 124.22 80.71 124.25 80.71 124.28 80.71 124.3 80.71 124.33 80.71 124.36 80.71 124.38 80.71 124.41 80.71 124.44 80.71 124.46 80.71 124.49 80.71 124.52 80.71 124.55 80.71 124.57 80.71 124.6 80.71 124.63 80.71 124.65 80.71 124.68 80.71 124.71 80.71 124.73 80.71 124.76 80.71 124.79 80.71 124.82 80.71 124.84 80.71 124.87 80.71 124.9 80.71 124.92 80.71 124.95 80.71 124.98 80.71 125.01 80.71 125.03 80.71 125.06 80.71 125.09 80.71 125.11 80.71 125.14 80.71 125.17 80.71 125.19 80.71 125.22 80.71 125.25 80.71 125.28 80.71 125.3 80.71 125.33 80.71 125.36 80.71 125.38 80.71 125.41 80.71 125.44 80.71 125.46 80.71 125.49 80.71 125.52 80.71 125.55 80.71 125.57 80.71 125.6 80.71 125.63 80.71 125.65 80.71 125.68 80.71 125.71 80.71 125.73 80.71 125.76 80.71 125.79 80.71 125.82 80.71 125.84 80.71 125.87 80.71 125.9 80.71 125.92 80.71 125.95 80.71 125.98 80.71 126 80.71 126.03 80.71 126.06 80.71 126.09 80.71 126.11 80.71 126.14 80.71 126.17 80.71 126.19 80.71 126.22 80.71 126.25 80.71 126.27 80.71 126.3 80.71 126.33 80.71 126.36 80.71 126.38 80.71 126.41 80.71 126.44 80.71 126.46 80.71 126.49 80.71 126.52 80.71 126.54 80.71 126.57 80.71 126.6 80.71 126.63 80.71 126.65 80.71 126.68 80.71 126.71 80.71 126.73 80.71 126.76 80.71 126.79 80.71 126.81 80.71 126.84 80.71 126.87 80.71 126.9 80.71 126.92 80.71 126.95 80.71 126.98 80.71\"/>\n",
        "      </g>\n",
        "      <g stroke-width=\"0.3\" fill=\"none\" class=\"geometry\" stroke=\"#00BFFF\" id=\"fig-a71cbbd6877042f2bc8bd2b93bc2a17b-element-11\">\n",
        "        <path fill=\"none\" d=\"M26.95,38.34 L 26.97 38.85 27 40.18 27.03 39.72 27.05 39.24 27.08 38.25 27.11 38.06 27.13 38.29 27.16 38.14 27.19 38.03 27.21 37.51 27.24 38.11 27.27 38.37 27.3 38.88 27.32 39.24 27.35 40.14 27.38 40.06 27.4 40.05 27.43 40.07 27.46 41.13 27.48 40.39 27.51 40.02 27.54 40.16 27.56 40.12 27.59 40.31 27.62 40.52 27.64 40.33 27.67 41.28 27.7 41.49 27.73 42.29 27.75 41.94 27.78 41.21 27.81 41.79 27.83 41.96 27.86 43.05 27.89 42.73 27.91 43.03 27.94 43.52 27.97 44.37 27.99 43.72 28.02 43.38 28.05 43.35 28.07 43.25 28.1 42.5 28.13 43.23 28.16 44.61 28.18 44.39 28.21 43.82 28.24 44.12 28.26 44.05 28.29 44.55 28.32 43.37 28.34 41.53 28.37 41.66 28.4 41.35 28.42 40.54 28.45 40.66 28.48 39.73 28.5 39.76 28.53 40.08 28.56 40.41 28.59 40.1 28.61 40.24 28.64 40.46 28.67 39.35 28.69 39.56 28.72 40.05 28.75 39.75 28.77 39.76 28.8 39.48 28.83 39.11 28.85 39.71 28.88 40.45 28.91 42.73 28.93 41.71 28.96 41.03 28.99 41.37 29.02 40.75 29.04 40.52 29.07 39.71 29.1 40.37 29.12 40.58 29.15 41.15 29.18 40.87 29.2 41.16 29.23 42.09 29.26 42.34 29.28 41.73 29.31 41.63 29.34 41.88 29.36 42.5 29.39 41.85 29.42 41.61 29.45 40.88 29.47 40.41 29.5 41.02 29.53 40.99 29.55 41.55 29.58 41.86 29.61 42.3 29.63 41.88 29.66 42.66 29.69 42.75 29.71 41.91 29.74 41.93 29.77 41.46 29.79 40.93 29.82 40.85 29.85 41.15 29.88 40.86 29.9 41.39 29.93 41.59 29.96 41.78 29.98 41.57 30.01 41.32 30.04 41.22 30.06 42.2 30.09 41.8 30.12 42.25 30.14 42.02 30.17 42.47 30.2 42.37 30.22 41.86 30.25 42 30.28 41.91 30.31 42.39 30.33 42.21 30.36 41.79 30.39 42.08 30.41 42.08 30.44 41.51 30.47 41.47 30.49 41.18 30.52 40.97 30.55 40.95 30.57 40.86 30.6 40.89 30.63 41.13 30.65 41.29 30.68 40.75 30.71 41.15 30.74 41.33 30.76 41.28 30.79 41.95 30.82 41.7 30.84 41.97 30.87 41.93 30.9 41.62 30.92 41.32 30.95 41.25 30.98 41.03 31 40.66 31.03 40.26 31.06 40.52 31.08 40.51 31.11 40.07 31.14 39.52 31.17 39.92 31.19 40.14 31.22 39.97 31.25 40 31.27 39.88 31.3 39.66 31.33 39.64 31.35 39.5 31.38 39.46 31.41 39.24 31.43 39.38 31.46 39.79 31.49 39.38 31.51 39.29 31.54 39.21 31.57 39.03 31.6 39.21 31.62 39.36 31.65 39.45 31.68 39.31 31.7 39.5 31.73 39.85 31.76 40.44 31.78 40.88 31.81 40.95 31.84 41.32 31.86 41.04 31.89 40.73 31.92 40.88 31.94 41.53 31.97 41.54 32 40.82 32.03 41.46 32.05 41.28 32.08 41.2 32.11 40.97 32.13 41.19 32.16 41.66 32.19 41.76 32.21 41.92 32.24 42.33 32.27 43.73 32.29 43.15 32.32 42.98 32.35 43.53 32.37 43.95 32.4 43.33 32.43 43.02 32.46 42.86 32.48 42.41 32.51 42.65 32.54 42.46 32.56 41.68 32.59 40.78 32.62 40.28 32.64 40.54 32.67 40.61 32.7 40.84 32.72 40.26 32.75 40.35 32.78 40.51 32.8 40.78 32.83 41.64 32.86 41.95 32.89 41.35 32.91 41.25 32.94 41.44 32.97 41.54 32.99 42.15 33.02 42.03 33.05 42.39 33.07 42.12 33.1 41.84 33.13 41.99 33.15 41.54 33.18 42.33 33.21 42.48 33.23 41.79 33.26 40.55 33.29 41.41 33.32 41.58 33.34 41.23 33.37 41.18 33.4 41.03 33.42 40.93 33.45 41.37 33.48 42.25 33.5 41.48 33.53 41.7 33.56 42.68 33.58 42.06 33.61 41.51 33.64 41.31 33.66 40.9 33.69 40.66 33.72 40.96 33.75 41.48 33.77 40.37 33.8 40.49 33.83 41.42 33.85 41.57 33.88 41.75 33.91 41.63 33.93 41.61 33.96 41.92 33.99 41.45 34.01 41.7 34.04 41.36 34.07 41.69 34.09 41.73 34.12 41.46 34.15 41.47 34.18 41.17 34.2 41.42 34.23 41.27 34.26 40.61 34.28 40.59 34.31 40.23 34.34 40.67 34.36 40.3 34.39 40.33 34.42 40.37 34.44 40.61 34.47 40.98 34.5 40.37 34.52 40.53 34.55 40.93 34.58 40.57 34.61 40.91 34.63 41.16 34.66 41.92 34.69 41.92 34.71 42.23 34.74 41.49 34.77 41.51 34.79 42.03 34.82 42.2 34.85 42.14 34.87 41.9 34.9 41.68 34.93 41.17 34.95 40.69 34.98 41.48 35.01 43.09 35.04 42.79 35.06 43.96 35.09 43.74 35.12 44.51 35.14 44.01 35.17 44.89 35.2 45.75 35.22 46.11 35.25 45.68 35.28 45.01 35.3 44.05 35.33 44.65 35.36 44.6 35.38 44.3 35.41 44.68 35.44 45.75 35.47 45.64 35.49 44.16 35.52 44.63 35.55 44.43 35.57 43.48 35.6 43.81 35.63 43.39 35.65 43.27 35.68 43.06 35.71 41.59 35.73 41.3 35.76 41.72 35.79 41.9 35.81 42.18 35.84 41.55 35.87 41.31 35.9 40.87 35.92 41.15 35.95 40.55 35.98 40.63 36 40.92 36.03 40.35 36.06 40.41 36.08 40.6 36.11 40.66 36.14 40.5 36.16 40.83 36.19 40.62 36.22 40.64 36.24 39.38 36.27 39.26 36.3 39.06 36.33 38.93 36.35 39.22 36.38 39.78 36.41 39.72 36.43 40.15 36.46 40.03 36.49 40.64 36.51 40.5 36.54 40.21 36.57 39.95 36.59 39.52 36.62 39.91 36.65 39.84 36.67 40.26 36.7 40.46 36.73 40.36 36.76 40.64 36.78 41.31 36.81 41.56 36.84 41.48 36.86 41.66 36.89 41.47 36.92 41.22 36.94 41.63 36.97 42 37 42.12 37.02 42.25 37.05 41.77 37.08 42.01 37.1 41.67 37.13 41.75 37.16 42.09 37.19 42.93 37.21 42.75 37.24 43.21 37.27 42.97 37.29 42.09 37.32 41.87 37.35 42.12 37.37 41.62 37.4 41.76 37.43 41.61 37.45 41.73 37.48 42.29 37.51 42.97 37.54 42.36 37.56 42.18 37.59 42.32 37.62 42.38 37.64 41.93 37.67 41.98 37.7 41.83 37.72 41.97 37.75 42.38 37.78 42.17 37.8 42.78 37.83 42.76 37.86 42.32 37.88 42.32 37.91 42.34 37.94 42.58 37.97 42.41 37.99 42.97 38.02 42.68 38.05 43.22 38.07 42.84 38.1 43.01 38.13 42.3 38.15 42.45 38.18 43.04 38.21 43.52 38.23 44.16 38.26 44.04 38.29 43.87 38.31 43.74 38.34 44.44 38.37 45.31 38.4 45.31 38.42 47.84 38.45 47.9 38.48 48.43 38.5 49.84 38.53 50.36 38.56 49 38.58 48.8 38.61 49.14 38.64 48.72 38.66 48.11 38.69 48.14 38.72 47.73 38.74 47.09 38.77 47.32 38.8 47.1 38.83 47.29 38.85 47.35 38.88 46.66 38.91 46.03 38.93 46.27 38.96 46.26 38.99 46.13 39.01 46.68 39.04 46.94 39.07 46.79 39.09 46.15 39.12 46.29 39.15 46.27 39.17 45.84 39.2 45.53 39.23 46.55 39.26 47.09 39.28 47.27 39.31 46.57 39.34 46.35 39.36 45.92 39.39 45.36 39.42 45.5 39.44 45.38 39.47 45.3 39.5 45.5 39.52 44.78 39.55 44.51 39.58 44.33 39.6 44.35 39.63 43.94 39.66 44.22 39.69 44.47 39.71 44.01 39.74 43.92 39.77 44.33 39.79 44.92 39.82 44.49 39.85 44.4 39.87 44.83 39.9 44.25 39.93 43.44 39.95 43.49 39.98 43.68 40.01 44.15 40.03 44.27 40.06 44.25 40.09 44.72 40.12 44.55 40.14 44.26 40.17 43.86 40.2 43.6 40.22 43.91 40.25 43.73 40.28 43.73 40.3 43.53 40.33 43.37 40.36 43.35 40.38 43.78 40.41 43.59 40.44 43.22 40.46 42.9 40.49 43.13 40.52 43.3 40.55 43.51 40.57 43.61 40.6 43.9 40.63 44.26 40.65 44.14 40.68 44.92 40.71 44.41 40.73 44.7 40.76 44.91 40.79 44.85 40.81 44.61 40.84 44.45 40.87 44.35 40.89 45.26 40.92 44.73 40.95 44.15 40.98 44.2 41 45.01 41.03 45.02 41.06 45.14 41.08 45.24 41.11 44.8 41.14 44.28 41.16 44.36 41.19 43.9 41.22 43.85 41.24 44.21 41.27 44.8 41.3 44.07 41.32 44.47 41.35 43.97 41.38 43.32 41.41 43.43 41.43 43.39 41.46 43.47 41.49 42.5 41.51 41.69 41.54 42.26 41.57 41.74 41.59 41.92 41.62 41.75 41.65 41.6 41.67 41.53 41.7 42.01 41.73 41.95 41.75 41.62 41.78 41.73 41.81 41.52 41.84 42.01 41.86 42.09 41.89 42.28 41.92 42.82 41.94 42.56 41.97 42.28 42 42.37 42.02 42.52 42.05 42.7 42.08 43.13 42.1 42.99 42.13 42.86 42.16 42.94 42.18 43.09 42.21 42.45 42.24 43.21 42.27 43.15 42.29 43.51 42.32 42.75 42.35 43.04 42.37 43.1 42.4 42.91 42.43 43.35 42.45 43.53 42.48 43.75 42.51 43.73 42.53 44.19 42.56 44.52 42.59 44.06 42.61 43.64 42.64 43.52 42.67 43.83 42.7 44.58 42.72 44.46 42.75 43.33 42.78 43.72 42.8 44.08 42.83 43.45 42.86 42.76 42.88 42.96 42.91 42.79 42.94 42.55 42.96 43.01 42.99 43.47 43.02 43.28 43.04 43.06 43.07 43.47 43.1 43.93 43.13 44.14 43.15 44.18 43.18 44.13 43.21 44.93 43.23 45.01 43.26 44.61 43.29 45.24 43.31 45.37 43.34 45.16 43.37 45.64 43.39 45.27 43.42 45.69 43.45 45.8 43.47 45.01 43.5 44.94 43.53 45.47 43.56 45.95 43.58 46.61 43.61 46.5 43.64 47.08 43.66 47.1 43.69 46.55 43.72 46.65 43.74 47.14 43.77 47.51 43.8 47.34 43.82 46.14 43.85 46.53 43.88 47.19 43.9 48.23 43.93 48.27 43.96 48.71 43.99 48.87 44.01 49.49 44.04 49.23 44.07 49.72 44.09 51.16 44.12 52.02 44.15 52.33 44.17 50.52 44.2 50.54 44.23 50.25 44.25 48.61 44.28 48.72 44.31 48.51 44.33 49.36 44.36 50.07 44.39 51.07 44.42 50.22 44.44 49.55 44.47 48.6 44.5 48.48 44.52 48.69 44.55 49.45 44.58 48.49 44.6 48.21 44.63 48.36 44.66 47.58 44.68 48.01 44.71 47.7 44.74 47.35 44.76 48.01 44.79 47.84 44.82 48.19 44.85 48.67 44.87 48.76 44.9 48.78 44.93 50.09 44.95 49.66 44.98 50.18 45.01 49.65 45.03 49.31 45.06 49.01 45.09 49.09 45.11 49.83 45.14 50.08 45.17 49.83 45.19 50.46 45.22 50.59 45.25 51.44 45.28 51.28 45.3 51.7 45.33 52.4 45.36 53.14 45.38 51.24 45.41 52.33 45.44 52.73 45.46 51.45 45.49 52.13 45.52 52.27 45.54 52.97 45.57 53.36 45.6 53.07 45.62 53.86 45.65 52.95 45.68 51.78 45.71 51.68 45.73 50.29 45.76 51.1 45.79 50.22 45.81 50.04 45.84 49.25 45.87 49.57 45.89 49.41 45.92 50.06 45.95 49.59 45.97 49.87 46 49.87 46.03 49.65 46.05 49.77 46.08 49.32 46.11 49.12 46.14 48.73 46.16 48.39 46.19 49.07 46.22 49.25 46.24 49.91 46.27 49.81 46.3 49.76 46.32 49.23 46.35 49.09 46.38 49.44 46.4 49.48 46.43 48.93 46.46 48.11 46.48 48.26 46.51 48.1 46.54 48.74 46.57 47.8 46.59 47.93 46.62 48.05 46.65 48.49 46.67 48.51 46.7 48.93 46.73 48.85 46.75 49.48 46.78 49.11 46.81 49.06 46.83 49.24 46.86 49.63 46.89 48.92 46.91 49.25 46.94 49.58 46.97 49.88 47 49.34 47.02 49.41 47.05 49.58 47.08 49.63 47.1 50.11 47.13 50 47.16 49.97 47.18 48.99 47.21 49.01 47.24 48.38 47.26 48.5 47.29 49.03 47.32 48.37 47.34 48.34 47.37 48.33 47.4 48.12 47.43 48.56 47.45 48.66 47.48 49.07 47.51 49.6 47.53 50.05 47.56 49.87 47.59 50.75 47.61 51.27 47.64 50.9 47.67 50.82 47.69 51.43 47.72 51.03 47.75 50.82 47.77 51.18 47.8 51.28 47.83 51.49 47.86 51.73 47.88 51.52 47.91 51.81 47.94 52.12 47.96 52.15 47.99 51.57 48.02 51.08 48.04 51.23 48.07 51.54 48.1 51.16 48.12 51.75 48.15 51.56 48.18 51.94 48.2 51.65 48.23 51.63 48.26 51.83 48.29 52.32 48.31 52.06 48.34 52.43 48.37 52.19 48.39 52.82 48.42 52.98 48.45 52.88 48.47 51.89 48.5 51.75 48.53 50.71 48.55 50.51 48.58 50.25 48.61 50.17 48.63 49.31 48.66 50.44 48.69 50.2 48.72 50.38 48.74 50.49 48.77 50.69 48.8 51.26 48.82 50.97 48.85 50.18 48.88 50.34 48.9 50.21 48.93 50.12 48.96 50.13 48.98 50.5 49.01 50.41 49.04 50.48 49.06 49.93 49.09 49.75 49.12 50.28 49.15 49.98 49.17 50.02 49.2 49.43 49.23 49.33 49.25 49.61 49.28 50.1 49.31 49.49 49.33 49.38 49.36 49.46 49.39 49.55 49.41 49.08 49.44 49.27 49.47 49.06 49.49 49.16 49.52 49.42 49.55 49 49.58 48.55 49.6 48.73 49.63 48.84 49.66 48.6 49.68 48.73 49.71 49.41 49.74 49.42 49.76 49.33 49.79 49.04 49.82 49.01 49.84 48.35 49.87 48.31 49.9 48.61 49.92 48.1 49.95 47.92 49.98 47.83 50.01 47.4 50.03 47.39 50.06 47.31 50.09 47.62 50.11 47.34 50.14 46.87 50.17 46.82 50.19 47.11 50.22 46.37 50.25 46.35 50.27 46.46 50.3 46.88 50.33 46.8 50.35 47.27 50.38 47.14 50.41 47.5 50.44 47.25 50.46 47.58 50.49 47.6 50.52 47.39 50.54 47.02 50.57 47.28 50.6 46.74 50.62 46.72 50.65 46.97 50.68 47.41 50.7 47.1 50.73 46.89 50.76 47.07 50.78 47.19 50.81 47.36 50.84 46.85 50.87 47.19 50.89 46.96 50.92 46.83 50.95 47.13 50.97 46.49 51 46.71 51.03 46.79 51.05 46.81 51.08 46.68 51.11 46.98 51.13 46.86 51.16 47.41 51.19 47.32 51.21 47.08 51.24 46.84 51.27 46.74 51.3 46.4 51.32 46.54 51.35 46.4 51.38 46.36 51.4 46.02 51.43 45.96 51.46 46.08 51.48 45.98 51.51 46.26 51.54 46.37 51.56 46.29 51.59 46.31 51.62 46.16 51.64 46.01 51.67 45.58 51.7 45.45 51.73 45.38 51.75 45.69 51.78 45.38 51.81 45.67 51.83 45.99 51.86 45.85 51.89 45.81 51.91 45.89 51.94 45.45 51.97 45.53 51.99 45.11 52.02 45.17 52.05 45.57 52.07 45.45 52.1 45.97 52.13 46.28 52.16 46.39 52.18 46.14 52.21 46.53 52.24 45.81 52.26 45.75 52.29 45.43 52.32 45.34 52.34 45.13 52.37 45.22 52.4 45.04 52.42 45.06 52.45 44.73 52.48 44.55 52.5 44.58 52.53 44.63 52.56 44.88 52.59 44.68 52.61 44.79 52.64 45.34 52.67 45.28 52.69 45.4 52.72 45.3 52.75 44.79 52.77 44.69 52.8 44.64 52.83 44.59 52.85 44.38 52.88 44.45 52.91 44.52 52.93 44.38 52.96 44.56 52.99 44.75 53.02 44.82 53.04 44.41 53.07 44.45 53.1 44.71 53.12 44.92 53.15 45.24 53.18 45 53.2 45.26 53.23 45.23 53.26 44.79 53.28 44.73 53.31 44.67 53.34 44.66 53.36 44.23 53.39 44.4 53.42 44.32 53.45 44.11 53.47 44.36 53.5 43.99 53.53 44.14 53.55 44.15 53.58 43.83 53.61 43.7 53.63 43.77 53.66 43.38 53.69 43.32 53.71 42.94 53.74 42.83 53.77 42.61 53.79 42.6 53.82 42.73 53.85 42.66 53.88 42.2 53.9 42.29 53.93 42.18 53.96 42.35 53.98 41.85 54.01 41.87 54.04 41.91 54.06 41.67 54.09 42.17 54.12 42.07 54.14 42.28 54.17 41.87 54.2 41.82 54.22 41.64 54.25 41.91 54.28 41.56 54.31 41.56 54.33 41.76 54.36 41.27 54.39 41.61 54.41 42.13 54.44 41.98 54.47 42.06 54.49 42.02 54.52 42 54.55 42.12 54.57 42.03 54.6 41.67 54.63 41.72 54.65 41.6 54.68 41.14 54.71 41.3 54.74 41.54 54.76 41.22 54.79 41.38 54.82 41.41 54.84 41.58 54.87 41.61 54.9 41.77 54.92 41.64 54.95 41.72 54.98 41.71 55 41.36 55.03 41.68 55.06 41.67 55.08 41.69 55.11 41.66 55.14 41.91 55.17 42.17 55.19 42.76 55.22 43.38 55.25 42.97 55.27 43.48 55.3 43.18 55.33 42.75 55.35 42.77 55.38 43.17 55.41 43.62 55.43 43.62 55.46 43.68 55.49 43.05 55.51 43.07 55.54 42.64 55.57 42.45 55.6 42.54 55.62 42.48 55.65 42.12 55.68 41.8 55.7 41.75 55.73 42.09 55.76 42.23 55.78 41.96 55.81 42.45 55.84 42.46 55.86 42.39 55.89 42.19 55.92 42.24 55.94 42.7 55.97 42.69 56 42.16 56.03 42.11 56.05 42.22 56.08 42.1 56.11 42.59 56.13 42.85 56.16 43.03 56.19 42.7 56.21 42.69 56.24 42.71 56.27 42.97 56.29 43.43 56.32 43.89 56.35 43.79 56.37 43.69 56.4 43.82 56.43 43.81 56.46 44.2 56.48 43.97 56.51 44.09 56.54 44.09 56.56 43.98 56.59 44.01 56.62 43.42 56.64 43.45 56.67 43.1 56.7 43.16 56.72 43.11 56.75 42.89 56.78 43.14 56.8 42.96 56.83 42.42 56.86 42.26 56.89 42.5 56.91 42.35 56.94 42.62 56.97 42.46 56.99 42.46 57.02 42.47 57.05 42.32 57.07 42.49 57.1 42.4 57.13 42.09 57.15 42.22 57.18 42.49 57.21 42.54 57.23 42.33 57.26 42.25 57.29 42.63 57.32 42.82 57.34 43.05 57.37 42.97 57.4 43.23 57.42 43.07 57.45 42.98 57.48 42.94 57.5 43.09 57.53 43.26 57.56 43.34 57.58 43.51 57.61 43.31 57.64 43.69 57.66 43.67 57.69 44 57.72 44 57.75 43.54 57.77 43.43 57.8 43.38 57.83 43.34 57.85 43.2 57.88 43.41 57.91 43.39 57.93 43.99 57.96 44.54 57.99 44.54 58.01 44.05 58.04 44.08 58.07 44.54 58.09 44.5 58.12 44.03 58.15 43.96 58.18 43.55 58.2 43.71 58.23 43.45 58.26 43.59 58.28 43.49 58.31 43.19 58.34 43.22 58.36 43.14 58.39 43.41 58.42 43.22 58.44 43.24 58.47 42.79 58.5 42.9 58.52 42.59 58.55 42.7 58.58 42.79 58.61 42.7 58.63 42.7 58.66 42.68 58.69 43 58.71 42.96 58.74 42.81 58.77 43.1 58.79 42.95 58.82 43.46 58.85 43.71 58.87 43.68 58.9 43.9 58.93 43.57 58.95 43.36 58.98 43.56 59.01 43.15 59.04 43.06 59.06 43.2 59.09 42.97 59.12 43.4 59.14 43.65 59.17 43.56 59.2 43.57 59.22 43.85 59.25 44.25 59.28 44.1 59.3 44.02 59.33 44.23 59.36 44.27 59.38 44.35 59.41 44.75 59.44 44.78 59.47 44.27 59.49 43.85 59.52 43.84 59.55 43.76 59.57 43.66 59.6 43.73 59.63 43.35 59.65 42.7 59.68 42.46 59.71 42.42 59.73 42.43 59.76 42.44 59.79 42.13 59.81 41.87 59.84 41.83 59.87 42.06 59.9 41.83 59.92 41.75 59.95 42.17 59.98 42.05 60 42.04 60.03 41.94 60.06 41.93 60.08 42.1 60.11 42.28 60.14 41.68 60.16 41.7 60.19 41.67 60.22 41.84 60.24 42.23 60.27 42.04 60.3 41.82 60.33 41.86 60.35 41.5 60.38 41.36 60.41 41.31 60.43 41.26 60.46 41.46 60.49 41.42 60.51 41.06 60.54 40.85 60.57 40.81 60.59 41 60.62 40.71 60.65 40.8 60.67 40.91 60.7 40.97 60.73 41.17 60.76 41.53 60.78 41.65 60.81 41.56 60.84 41.63 60.86 41.57 60.89 41.81 60.92 41.58 60.94 41.99 60.97 41.8 61 41.54 61.02 41.87 61.05 42.12 61.08 42.41 61.1 42.5 61.13 42.16 61.16 42.02 61.19 42.13 61.21 42.31 61.24 42.05 61.27 41.82 61.29 41.66 61.32 41.67 61.35 41.22 61.37 41.22 61.4 41.19 61.43 41.41 61.45 41.09 61.48 40.92 61.51 40.94 61.53 40.77 61.56 40.78 61.59 41.08 61.62 40.96 61.64 41.6 61.67 41.37 61.7 41.1 61.72 40.76 61.75 41.03 61.78 40.8 61.8 40.86 61.83 40.79 61.86 40.39 61.88 40.4 61.91 40.49 61.94 40.89 61.96 40.72 61.99 41 62.02 40.89 62.05 41.11 62.07 41.52 62.1 41.55 62.13 41.54 62.15 41.77 62.18 42.12 62.21 42.18 62.23 42.23 62.26 42.07 62.29 42.36 62.31 41.86 62.34 42 62.37 42.37 62.39 42.31 62.42 42.17 62.45 42.07 62.48 41.84 62.5 42.16 62.53 42.2 62.56 41.99 62.58 42.37 62.61 42.83 62.64 43.53 62.66 43.59 62.69 43.39 62.72 43.81 62.74 43.05 62.77 43.28 62.8 42.96 62.82 43.3 62.85 43.12 62.88 43.6 62.91 43.15 62.93 42.93 62.96 42.91 62.99 42.44 63.01 42.6 63.04 42.58 63.07 42.44 63.09 42.82 63.12 42.75 63.15 43.16 63.17 43.34 63.2 42.93 63.23 42.63 63.25 42.15 63.28 42.04 63.31 42.12 63.34 41.93 63.36 42 63.39 42.17 63.42 41.88 63.44 41.86 63.47 42.13 63.5 41.83 63.52 41.82 63.55 42.16 63.58 42.14 63.6 42.08 63.63 42.1 63.66 42 63.68 41.97 63.71 41.93 63.74 41.84 63.77 41.77 63.79 41.72 63.82 41.56 63.85 41.61 63.87 41.65 63.9 41.69 63.93 42.3 63.95 42.76 63.98 42.79 64.01 42.36 64.03 42.48 64.06 42.84 64.09 42.74 64.11 42.49 64.14 42.86 64.17 42.74 64.2 42.2 64.22 41.94 64.25 41.96 64.28 41.8 64.3 41.54 64.33 41.5 64.36 41.74 64.38 41.47 64.41 41.32 64.44 41.54 64.46 41.46 64.49 41.66 64.52 41.72 64.54 41.51 64.57 41.26 64.6 41.5 64.63 41.56 64.65 41.34 64.68 41.29 64.71 41.61 64.73 41.69 64.76 41.88 64.79 41.59 64.81 41.67 64.84 41.33 64.87 41.64 64.89 41.52 64.92 41.97 64.95 41.83 64.97 41.81 65 41.8 65.03 41.76 65.06 41.94 65.08 42.25 65.11 42.2 65.14 42.39 65.16 42.15 65.19 42.34 65.22 42.08 65.24 42.16 65.27 42.21 65.3 41.69 65.32 41.52 65.35 41.66 65.38 41.36 65.4 41.34 65.43 41.67 65.46 41.85 65.49 41.8 65.51 41.49 65.54 41.8 65.57 42.08 65.59 42.46 65.62 42.3 65.65 42.31 65.67 42.22 65.7 42.18 65.73 42.11 65.75 41.82 65.78 41.76 65.81 41.88 65.83 42.25 65.86 42.69 65.89 42.83 65.92 42.78 65.94 42.98 65.97 42.92 66 43.06 66.02 43.06 66.05 42.8 66.08 42.57 66.1 42.81 66.13 42.33 66.16 42.82 66.18 43.06 66.21 42.44 66.24 42.46 66.26 42.59 66.29 43.01 66.32 42.37 66.35 42.24 66.37 42.36 66.4 42.12 66.43 41.93 66.45 41.9 66.48 41.7 66.51 41.87 66.53 41.84 66.56 41.9 66.59 41.33 66.61 41.29 66.64 41.33 66.67 41.37 66.69 41.2 66.72 41.03 66.75 40.83 66.78 40.65 66.8 40.48 66.83 40.42 66.86 40.57 66.88 40.58 66.91 40.89 66.94 40.49 66.96 40.62 66.99 40.78 67.02 40.7 67.04 40.9 67.07 41.07 67.1 40.99 67.12 41.03 67.15 40.82 67.18 40.6 67.21 40.61 67.23 40.63 67.26 40.77 67.29 40.89 67.31 40.78 67.34 40.58 67.37 40.6 67.39 40.99 67.42 40.92 67.45 40.96 67.47 41.21 67.5 40.73 67.53 40.61 67.55 40.61 67.58 40.32 67.61 40.13 67.64 40.13 67.66 40.01 67.69 40.42 67.72 40.32 67.74 40.55 67.77 40.71 67.8 40.61 67.82 41.4 67.85 41.32 67.88 41.23 67.9 41.24 67.93 40.87 67.96 40.51 67.99 40.54 68.01 40.82 68.04 40.34 68.07 40.72 68.09 40.93 68.12 40.92 68.15 41.09 68.17 40.69 68.2 40.6 68.23 40.47 68.25 40.57 68.28 40.07 68.31 39.95 68.33 39.73 68.36 39.75 68.39 39.92 68.42 39.67 68.44 39.92 68.47 39.94 68.5 39.81 68.52 40.2 68.55 39.97 68.58 40.08 68.6 40.09 68.63 40.32 68.66 40.24 68.68 40.15 68.71 40.27 68.74 39.89 68.76 39.89 68.79 39.61 68.82 39.4 68.85 39.24 68.87 39.14 68.9 39.16 68.93 39.3 68.95 39 68.98 39.18 69.01 39.14 69.03 39.25 69.06 39.6 69.09 39.38 69.11 39.62 69.14 39.77 69.17 39.64 69.19 39.42 69.22 39.29 69.25 39.37 69.28 39.73 69.3 39.65 69.33 39.84 69.36 39.69 69.38 39.66 69.41 39.9 69.44 39.2 69.46 39.11 69.49 38.91 69.52 38.89 69.54 38.93 69.57 39.13 69.6 38.87 69.62 38.76 69.65 38.82 69.68 38.91 69.71 38.64 69.73 38.7 69.76 38.55 69.79 38.04 69.81 38.02 69.84 37.81 69.87 37.8 69.89 38.33 69.92 38.77 69.95 38.59 69.97 38.62 70 39.41 70.03 39.7 70.05 39.64 70.08 39.71 70.11 39.81 70.14 39.74 70.16 39.39 70.19 39.14 70.22 39.82 70.24 39.55 70.27 39.21 70.3 39.26 70.32 39.99 70.35 40.16 70.38 40.43 70.4 40.4 70.43 40.57 70.46 40.94 70.48 41.25 70.51 40.85 70.54 40.12 70.57 40.12 70.59 40.39 70.62 40.26 70.65 39.88 70.67 40.1 70.7 40.21 70.73 40 70.75 40.45 70.78 40.27 70.81 39.47 70.83 39.62 70.86 39.33 70.89 39.61 70.91 39.34 70.94 39.84 70.97 39.79 71 39.68 71.02 40.12 71.05 40.74 71.08 41.13 71.1 41.1 71.13 40.91 71.16 40.13 71.18 40.44 71.21 40.66 71.24 39.98 71.26 39.79 71.29 39.79 71.32 39.8 71.34 39.36 71.37 39.49 71.4 39.71 71.43 39.43 71.45 39.28 71.48 39.29 71.51 39.36 71.53 39.53 71.56 39.89 71.59 39.71 71.61 39.85 71.64 39.81 71.67 39.32 71.69 38.97 71.72 38.94 71.75 38.77 71.77 38.9 71.8 38.92 71.83 39.07 71.86 39.05 71.88 39.12 71.91 38.87 71.94 38.81 71.96 38.76 71.99 38.77 72.02 38.46 72.04 38.44 72.07 38.67 72.1 38.95 72.12 38.73 72.15 38.71 72.18 38.34 72.2 38.17 72.23 38.23 72.26 38.1 72.29 38.13 72.31 38.18 72.34 37.91 72.37 38.21 72.39 38.3 72.42 38.05 72.45 37.7 72.47 37.63 72.5 37.52 72.53 37.67 72.55 37.7 72.58 37.49 72.61 37.04 72.63 36.98 72.66 37.04 72.69 37.01 72.72 36.98 72.74 37.03 72.77 36.68 72.8 36.63 72.82 36.56 72.85 36.67 72.88 36.51 72.9 36.44 72.93 36.48 72.96 36.06 72.98 36.01 73.01 35.99 73.04 35.88 73.06 36.15 73.09 36.17 73.12 36.19 73.15 36.37 73.17 36.42 73.2 36.54 73.23 36.1 73.25 35.91 73.28 35.84 73.31 36.11 73.33 36.09 73.36 36 73.39 35.68 73.41 35.56 73.44 35.36 73.47 35.22 73.49 35.32 73.52 35.3 73.55 35.28 73.58 35.45 73.6 36.04 73.63 35.98 73.66 35.65 73.68 35.67 73.71 35.77 73.74 35.44 73.76 35.26 73.79 35.35 73.82 35.46 73.84 35.35 73.87 35.28 73.9 35.32 73.92 35.32 73.95 34.95 73.98 34.84 74.01 34.86 74.03 34.75 74.06 34.78 74.09 34.93 74.11 35.22 74.14 34.98 74.17 34.6 74.19 34.64 74.22 34.78 74.25 34.74 74.27 34.71 74.3 35.02 74.33 34.93 74.35 34.95 74.38 34.86 74.41 34.59 74.44 34.44 74.46 34.34 74.49 34.36 74.52 34.39 74.54 34.4 74.57 34.73 74.6 34.52 74.62 34.19 74.65 34.63 74.68 34.69 74.7 34.68 74.73 34.56 74.76 34.19 74.78 34 74.81 34.08 74.84 34.05 74.87 34.03 74.89 34.03 74.92 34.14 74.95 34.35 74.97 34.45 75 34.07 75.03 33.75 75.05 33.67 75.08 33.66 75.11 33.59 75.13 33.76 75.16 33.96 75.19 34.1 75.21 34.16 75.24 35.69 75.27 35.5 75.3 35.62 75.32 36.07 75.35 36.3 75.38 35.72 75.4 35.78 75.43 35.53 75.46 35.47 75.48 35.31 75.51 36.21 75.54 35.99 75.56 35.9 75.59 36.08 75.62 35.65 75.64 35.42 75.67 34.84 75.7 34.79 75.73 34.71 75.75 34.76 75.78 35.02 75.81 35.38 75.83 35.2 75.86 35.18 75.89 35.08 75.91 34.6 75.94 34.53 75.97 34.42 75.99 34.39 76.02 34.37 76.05 34.7 76.07 34.45 76.1 34.23 76.13 33.83 76.16 33.64 76.18 33.52 76.21 33.51 76.24 32.94 76.26 33.1 76.29 32.97 76.32 32.47 76.34 32.41 76.37 32.35 76.4 32.57 76.42 32.3 76.45 32.02 76.48 31.91 76.5 31.82 76.53 31.65 76.56 31.66 76.59 31.46 76.61 32.01 76.64 31.6 76.67 31.52 76.69 31.39 76.72 31 76.75 31.04 76.77 30.75 76.8 30.8 76.83 30.81 76.85 30.86 76.88 31.17 76.91 30.93 76.93 30.88 76.96 30.47 76.99 30.49 77.02 30.34 77.04 30.31 77.07 30.61 77.1 31.08 77.12 31.82 77.15 31.24 77.18 31.23 77.2 31.71 77.23 31.02 77.26 30.76 77.28 30.44 77.31 30.54 77.34 30.46 77.36 31 77.39 30.79 77.42 31.47 77.45 31.5 77.47 31.56 77.5 31.22 77.53 31.24 77.55 31.29 77.58 30.83 77.61 30.67 77.63 30.71 77.66 30.55 77.69 30.4 77.71 30.95 77.74 30.67 77.77 29.62 77.79 29.46 77.82 29.3 77.85 29.22 77.88 29.42 77.9 29.11 77.93 29.66 77.96 29.32 77.98 30.16 78.01 29.9 78.04 31.05 78.06 31.82 78.09 31.48 78.12 32.02 78.14 31.46 78.17 31.09 78.2 32.13 78.22 31.07 78.25 30.94 78.28 30.38 78.31 31.8 78.33 31.92 78.36 31.93 78.39 32.69 78.41 33.31 78.44 33.37 78.47 32.51 78.49 32.35 78.52 32.47 78.55 31.93 78.57 31.93 78.6 31.4 78.63 31.61 78.65 32.65 78.68 31.73 78.71 31.92 78.74 31.48 78.76 31.15 78.79 31.67 78.82 31.46 78.84 32.38 78.87 32.33 78.9 31.66 78.92 31.73 78.95 31.23 78.98 31.17 79 31.31 79.03 30.08 79.06 29.79 79.08 29.97 79.11 29.78 79.14 30 79.17 29.93 79.19 29.56 79.22 29.44 79.25 29.5 79.27 28.79 79.3 28.94 79.33 29.23 79.35 29.21 79.38 28.87 79.41 28.95 79.43 28.51 79.46 28.82 79.49 29.06 79.51 28.77 79.54 29.17 79.57 29.44 79.6 29.51 79.62 29.52 79.65 30.88 79.68 30.71 79.7 30.31 79.73 30.31 79.76 30.32 79.78 29.83 79.81 29.59 79.84 29.88 79.86 29.37 79.89 30.71 79.92 30.61 79.94 30.8 79.97 30.36 80 31.69 80.03 31.82 80.05 32.64 80.08 32.85 80.11 31.67 80.13 31.95 80.16 32.39 80.19 32.15 80.21 32.95 80.24 32.76 80.27 33.54 80.29 32.87 80.32 33.75 80.35 32.95 80.37 31.73 80.4 31.65 80.43 31.43 80.46 31.64 80.48 31.88 80.51 31.16 80.54 30.52 80.56 30.49 80.59 30.12 80.62 31.21 80.64 31.05 80.67 30.89 80.7 31.55 80.72 32.18 80.75 31.94 80.78 32.04 80.8 31.89 80.83 31.14 80.86 30.77 80.89 30.77 80.91 31.47 80.94 31.45 80.97 31.82 80.99 32.64 81.02 32.59 81.05 33.54 81.07 33.44 81.1 34.31 81.13 33.78 81.15 33.34 81.18 34.25 81.21 33.62 81.23 34.64 81.26 34.77 81.29 35.9 81.32 36.12 81.34 36.59 81.37 35.49 81.4 35.09 81.42 35.72 81.45 35.07 81.48 34.72 81.5 34.85 81.53 34.09 81.56 33.75 81.58 34.14 81.61 35.51 81.64 35.75 81.66 35.58 81.69 35.81 81.72 35.6 81.75 35.11 81.77 34.45 81.8 35.1 81.83 35.2 81.85 35.24 81.88 34.91 81.91 35.44 81.93 35.08 81.96 34.38 81.99 33.96 82.01 33.93 82.04 34.34 82.07 35.5 82.09 35.53 82.12 35.7 82.15 35.55 82.18 36.34 82.2 36.88 82.23 37.44 82.26 35.91 82.28 36.08 82.31 35.95 82.34 36.67 82.36 36.59 82.39 35.04 82.42 36.12 82.44 35.15 82.47 34.46 82.5 34.52 82.52 34.93 82.55 35.37 82.58 35.69 82.61 35.52 82.63 34.07 82.66 34.24 82.69 34.18 82.71 34.24 82.74 34.23 82.77 34.36 82.79 34.54 82.82 34.34 82.85 35.29 82.87 35.37 82.9 35.15 82.93 34.2 82.95 34.2 82.98 33.36 83.01 33.45 83.04 33.83 83.06 33.67 83.09 33.36 83.12 33.2 83.14 33.27 83.17 33.42 83.2 33.46 83.22 32.76 83.25 32.59 83.28 32.91 83.3 32.72 83.33 33.48 83.36 33.29 83.38 33.74 83.41 33.26 83.44 33.42 83.47 33.17 83.49 32.83 83.52 32.85 83.55 32.7 83.57 33.43 83.6 34.27 83.63 34.18 83.65 34.72 83.68 34.46 83.71 34.3 83.73 34.1 83.76 34.13 83.79 34.63 83.81 35 83.84 35.05 83.87 34.26 83.9 35.71 83.92 35.45 83.95 35.42 83.98 36.18 84 35.96 84.03 35.35 84.06 35.49 84.08 35.9 84.11 36.38 84.14 36.25 84.16 37.07 84.19 37.07 84.22 37.2 84.24 37.18 84.27 38.5 84.3 38.89 84.33 38.88 84.35 38.76 84.38 39.38 84.41 39.11 84.43 39.32 84.46 38.76 84.49 39.63 84.51 39.33 84.54 39.8 84.57 39.97 84.59 40.31 84.62 39.29 84.65 38.53 84.67 38.34 84.7 38.45 84.73 37.95 84.76 37.84 84.78 38.88 84.81 38.81 84.84 39.69 84.86 38.71 84.89 38.02 84.92 38.78 84.94 38.97 84.97 39.12 85 37.9 85.02 37.75 85.05 38.58 85.08 37.47 85.1 37.29 85.13 37.8 85.16 38.21 85.19 37.9 85.21 37.74 85.24 38.4 85.27 38.89 85.29 38.63 85.32 38.59 85.35 37.86 85.37 38.75 85.4 38.65 85.43 38.32 85.45 37.54 85.48 38.17 85.51 38.27 85.53 38.21 85.56 39.48 85.59 39.36 85.62 38.29 85.64 39.32 85.67 39.18 85.7 38.57 85.72 38.62 85.75 40.48 85.78 39.95 85.8 41.61 85.83 40.1 85.86 38.74 85.88 40.11 85.91 40.71 85.94 40.82 85.96 40.09 85.99 39.64 86.02 42.51 86.05 40.72 86.07 40.79 86.1 42.08 86.13 42.66 86.15 44.02 86.18 45.9 86.21 46.59 86.23 49.09 86.26 49.57 86.29 46.11 86.31 46.4 86.34 49.1 86.37 47.62 86.39 48.09 86.42 46.56 86.45 47.38 86.48 49.32 86.5 48.68 86.53 50.2 86.56 50.58 86.58 47.3 86.61 47.58 86.64 46.88 86.66 46.3 86.69 46.36 86.72 45.24 86.74 47.03 86.77 48.66 86.8 47.75 86.82 48.02 86.85 48.67 86.88 50.19 86.91 48.15 86.93 49.4 86.96 50.22 86.99 49.66 87.01 51.24 87.04 52.88 87.07 51.06 87.09 49.59 87.12 49.46 87.15 48.55 87.17 48.17 87.2 50.68 87.23 49.68 87.25 49.05 87.28 49.84 87.31 48.89 87.34 47.79 87.36 48.68 87.39 48.42 87.42 49.15 87.44 48.91 87.47 49.15 87.5 47.82 87.52 48.19 87.55 49 87.58 49.09 87.6 49.31 87.63 49.68 87.66 49.5 87.68 49.33 87.71 49.45 87.74 48.77 87.77 48.37 87.79 47.42 87.82 47.72 87.85 47.49 87.87 48.39 87.9 48.49 87.93 49.02 87.95 49.48 87.98 49.58 88.01 50.49 88.03 50.45 88.06 50.19 88.09 51.42 88.11 50.39 88.14 50.78 88.17 50.94 88.2 50.8 88.22 50.58 88.25 49.85 88.28 50.68 88.3 51.23 88.33 51.46 88.36 50.94 88.38 51.39 88.41 51 88.44 50.19 88.46 50.23 88.49 51.64 88.52 51.45 88.54 51.48 88.57 51.78 88.6 52.88 88.63 52.87 88.65 53.2 88.68 53.57 88.71 54.49 88.73 53.62 88.76 53.92 88.79 54.24 88.81 54.68 88.84 55.79 88.87 55.92 88.89 55.37 88.92 56.41 88.95 56.29 88.97 56.58 89 55.19 89.03 55.17 89.06 54.29 89.08 54.09 89.11 54.12 89.14 53.46 89.16 53.12 89.19 53.44 89.22 53.89 89.24 52.06 89.27 52.48 89.3 52.15 89.32 51.51 89.35 52.05 89.38 52.99 89.4 52.67 89.43 52.11 89.46 51.31 89.49 51.16 89.51 51.32 89.54 52 89.57 51.83 89.59 50.92 89.62 51.02 89.65 51.52 89.67 51.12 89.7 50.77 89.73 50.74 89.75 51.81 89.78 51.34 89.81 51.65 89.83 51.39 89.86 50.95 89.89 51.14 89.92 51.17 89.94 50.54 89.97 50.61 90 50.45 90.02 49.66 90.05 49.72 90.08 49.34 90.1 49.72 90.13 49.11 90.16 49.69 90.18 49.5 90.21 50.18 90.24 50.01 90.26 50.24 90.29 49.37 90.32 49.48 90.35 49.67 90.37 50.15 90.4 50.21 90.43 49.48 90.45 50.12 90.48 49.74 90.51 49.38 90.53 48.57 90.56 48.5 90.59 48.74 90.61 48.46 90.64 48.42 90.67 48.41 90.69 48.42 90.72 48.51 90.75 48.39 90.78 48.28 90.8 48.97 90.83 49.37 90.86 49.4 90.88 49.18 90.91 49.24 90.94 49.98 90.96 50.04 90.99 50.12 91.02 49.49 91.04 49.61 91.07 49.28 91.1 49.58 91.12 49.37 91.15 50.19 91.18 50.03 91.21 50.63 91.23 50.57 91.26 50.55 91.29 50.69 91.31 50.01 91.34 49.9 91.37 48.96 91.39 48.61 91.42 48.49 91.45 48.1 91.47 47.85 91.5 47.8 91.53 47.29 91.55 47.2 91.58 47.14 91.61 47.19 91.64 47.28 91.66 46.75 91.69 46.91 91.72 46.49 91.74 46.36 91.77 46.51 91.8 46.6 91.82 46.18 91.85 46.3 91.88 46.65 91.9 46.21 91.93 46.08 91.96 46.36 91.98 47.04 92.01 46.74 92.04 46.51 92.07 46.25 92.09 45.68 92.12 45.67 92.15 45.56 92.17 45.54 92.2 45.4 92.23 45.54 92.25 45.71 92.28 46.4 92.31 46.51 92.33 46.27 92.36 45.92 92.39 45.71 92.41 45.53 92.44 45.23 92.47 45.31 92.5 45.23 92.52 45.02 92.55 44.63 92.58 44.65 92.6 44.52 92.63 44.67 92.66 44.48 92.68 44.78 92.71 44.94 92.74 45.09 92.76 44.63 92.79 44.81 92.82 44.92 92.84 45.67 92.87 45.75 92.9 45.33 92.93 44.85 92.95 44.87 92.98 44.64 93.01 44.36 93.03 44.28 93.06 44.33 93.09 43.8 93.11 43.63 93.14 43.87 93.17 43.52 93.19 43.7 93.22 44.04 93.25 43.56 93.27 43.96 93.3 44.34 93.33 44.29 93.36 44.73 93.38 44 93.41 44.92 93.44 44.63 93.46 44.7 93.49 44.59 93.52 43.84 93.54 43.77 93.57 43.02 93.6 42.95 93.62 42.78 93.65 43.13 93.68 42.86 93.7 42.36 93.73 42.25 93.76 42.29 93.79 42.63 93.81 42.68 93.84 42.2 93.87 42.26 93.89 42.15 93.92 42.72 93.95 42.59 93.97 42.12 94 42.19 94.03 42.51 94.05 42.42 94.08 42.42 94.11 42.8 94.13 42.62 94.16 42.36 94.19 42.12 94.22 42.01 94.24 42.19 94.27 42.23 94.3 42.72 94.32 42.65 94.35 42.33 94.38 42.14 94.4 42.14 94.43 41.94 94.46 41.84 94.48 41.85 94.51 41.84 94.54 42.28 94.56 41.71 94.59 41.75 94.62 41.74 94.65 41.62 94.67 41.58 94.7 41.41 94.73 41.55 94.75 41.35 94.78 41.24 94.81 41.61 94.83 41.18 94.86 41.63 94.89 42.42 94.91 43.22 94.94 43.13 94.97 43.14 94.99 42.99 95.02 43.41 95.05 43.61 95.08 43.17 95.1 42.76 95.13 42.86 95.16 43.85 95.18 43.81 95.21 44.2 95.24 43.64 95.26 43.72 95.29 43.33 95.32 43.49 95.34 42.87 95.37 42.72 95.4 42.41 95.42 42.37 95.45 42.44 95.48 42.82 95.51 42.48 95.53 42.67 95.56 42.66 95.59 42.37 95.61 42.36 95.64 42.4 95.67 42.22 95.69 41.77 95.72 41.82 95.75 41.78 95.77 41.77 95.8 41.6 95.83 41.56 95.85 41.49 95.88 41.33 95.91 41.15 95.94 40.99 95.96 41.12 95.99 40.96 96.02 40.58 96.04 40.78 96.07 40.76 96.1 40.72 96.12 40.56 96.15 40.51 96.18 40.7 96.2 40.44 96.23 40.27 96.26 40.28 96.28 40.55 96.31 40.44 96.34 40.18 96.37 40.15 96.39 40.1 96.42 39.72 96.45 39.64 96.47 40.1 96.5 39.83 96.53 39.74 96.55 39.71 96.58 39.68 96.61 39.42 96.63 39.42 96.66 40.2 96.69 40 96.71 39.56 96.74 40.14 96.77 39.61 96.8 40.44 96.82 40.66 96.85 41.94 96.88 42.46 96.9 40.96 96.93 41.1 96.96 40.55 96.98 40.97 97.01 41.57 97.04 41.55 97.06 41.97 97.09 42.22 97.12 43.61 97.14 43.14 97.17 43.61 97.2 43.7 97.23 43.95 97.25 42.9 97.28 43.35 97.31 43.77 97.33 42.94 97.36 42.92 97.39 44.11 97.41 44.53 97.44 44.08 97.47 44.23 97.49 43.22 97.52 43.08 97.55 43.15 97.57 42.37 97.6 42.35 97.63 42.26 97.66 42.2 97.68 42.23 97.71 42.78 97.74 42.76 97.76 43.29 97.79 43.33 97.82 43.35 97.84 44.34 97.87 44.69 97.9 44.84 97.92 45.01 97.95 44.8 97.98 43.79 98 43.35 98.03 43.13 98.06 43.06 98.09 42.52 98.11 42.51 98.14 42.53 98.17 43.5 98.19 43.29 98.22 43.01 98.25 43.41 98.27 42.67 98.3 42.29 98.33 41.92 98.35 41.88 98.38 42.02 98.41 42.14 98.43 42.14 98.46 41.37 98.49 41.51 98.52 41.35 98.54 41.37 98.57 41.45 98.6 41.28 98.62 41.48 98.65 42.46 98.68 42.68 98.7 42.74 98.73 42.74 98.76 42.36 98.78 42.33 98.81 42.86 98.84 43.07 98.87 43.21 98.89 43.71 98.92 43.64 98.95 43.91 98.97 43.3 99 43.82 99.03 43.8 99.05 42.86 99.08 42.68 99.11 42.21 99.13 42.6 99.16 42.43 99.19 42.33 99.21 42.15 99.24 41.85 99.27 41.92 99.3 41.75 99.32 41.67 99.35 41.62 99.38 41.08 99.4 41.05 99.43 41.13 99.46 41.42 99.48 40.69 99.51 40.86 99.54 40.69 99.56 40.78 99.59 40.95 99.62 40.8 99.64 41.09 99.67 40.38 99.7 40.29 99.73 40.36 99.75 40.15 99.78 40.13 99.81 40.1 99.83 39.82 99.86 39.81 99.89 39.94 99.91 39.64 99.94 40.25 99.97 39.77 99.99 39.64 100.02 39.68 100.05 39.57 100.07 39.55 100.1 39.71 100.13 39.75 100.16 39.74 100.18 39.71 100.21 39.48 100.24 39.38 100.26 38.57 100.29 38.53 100.32 38.67 100.34 38.89 100.37 38.86 100.4 39.13 100.42 39.46 100.45 39.43 100.48 40.09 100.5 40.14 100.53 39.5 100.56 39.42 100.59 39.51 100.61 40.04 100.64 39.48 100.67 39.83 100.69 39.98 100.72 40.15 100.75 39.23 100.77 38.84 100.8 38.76 100.83 38.84 100.85 38.85 100.88 38.8 100.91 38.81 100.93 38.66 100.96 38.59 100.99 38.42 101.02 38.49 101.04 38.33 101.07 38.36 101.1 38.41 101.12 38.21 101.15 38.11 101.18 38.06 101.2 38.13 101.23 38.05 101.26 38.01 101.28 38.07 101.31 38.04 101.34 37.7 101.36 37.62 101.39 37.51 101.42 37.6 101.45 37.68 101.47 37.82 101.5 37.7 101.53 37.39 101.55 37.47 101.58 37.27 101.61 37.08 101.63 37.13 101.66 37.14 101.69 36.96 101.71 36.56 101.74 36.57 101.77 36.54 101.79 36.52 101.82 37.14 101.85 36.88 101.88 36.34 101.9 36.33 101.93 36.26 101.96 36.15 101.98 35.89 102.01 35.63 102.04 35.6 102.06 35.64 102.09 35.48 102.12 35.5 102.14 35.65 102.17 35.31 102.2 35.04 102.22 35.7 102.25 36.1 102.28 36.23 102.31 36.01 102.33 35.65 102.36 36.27 102.39 36.24 102.41 35.53 102.44 35.86 102.47 36.15 102.49 35.7 102.52 35.7 102.55 36.54 102.57 36.32 102.6 36.51 102.63 37.91 102.65 37.32 102.68 37.01 102.71 36.35 102.74 36.42 102.76 36.17 102.79 35.86 102.82 35.67 102.84 35.76 102.87 35.46 102.9 35.19 102.92 35.31 102.95 35.1 102.98 35.01 103 35.03 103.03 34.91 103.06 34.98 103.08 35.09 103.11 35.08 103.14 35.51 103.17 35.49 103.19 35.44 103.22 35.74 103.25 35.5 103.27 34.81 103.3 34.62 103.33 34.72 103.35 34.29 103.38 33.94 103.41 33.67 103.43 33.5 103.46 33.51 103.49 33.51 103.51 33.82 103.54 34.33 103.57 34.13 103.6 33.96 103.62 33.68 103.65 34.16 103.68 33.92 103.7 34.29 103.73 34.46 103.76 34.72 103.78 34.25 103.81 34.6 103.84 35.08 103.86 35.17 103.89 35.03 103.92 35 103.94 34.86 103.97 34.39 104 35.42 104.03 35.57 104.05 35.93 104.08 36.15 104.11 36.23 104.13 36.31 104.16 36.03 104.19 36.66 104.21 36.66 104.24 36.21 104.27 36.86 104.29 36.63 104.32 36.47 104.35 36.19 104.37 35.79 104.4 36.08 104.43 36.3 104.46 36.73 104.48 36.33 104.51 35.79 104.54 35.52 104.56 34.96 104.59 34.34 104.62 34.39 104.64 34.18 104.67 33.83 104.7 34.06 104.72 34.62 104.75 34.84 104.78 34.67 104.8 34.87 104.83 34.72 104.86 35.07 104.89 34.32 104.91 34.38 104.94 33.82 104.97 33.98 104.99 34.3 105.02 34.64 105.05 35.37 105.07 35.6 105.1 35.96 105.13 36 105.15 36.98 105.18 36.87 105.21 38.76 105.23 38.53 105.26 40.87 105.29 39.29 105.32 41.2 105.34 39.64 105.37 39.18 105.4 38.39 105.42 38.68 105.45 38.66 105.48 40.21 105.5 40.84 105.53 40.71 105.56 39.52 105.58 38.99 105.61 39.62 105.64 39.12 105.66 38.18 105.69 38.11 105.72 37.91 105.75 38.35 105.77 39.29 105.8 39.66 105.83 38.64 105.85 39.08 105.88 40.2 105.91 39.95 105.93 39.78 105.96 39.26 105.99 38.58 106.01 38.3 106.04 38.69 106.07 38.67 106.09 39.71 106.12 41.15 106.15 41.01 106.18 40.13 106.2 39.6 106.23 40.49 106.26 41.44 106.28 40.88 106.31 40.39 106.34 39.72 106.36 39.79 106.39 38.58 106.42 38.64 106.44 38.26 106.47 38.41 106.5 37.8 106.52 38.71 106.55 38.04 106.58 38.31 106.61 38.17 106.63 37.19 106.66 36.8 106.69 37.57 106.71 36.97 106.74 35.72 106.77 36.65 106.79 37.75 106.82 37.09 106.85 36.32 106.87 36.55 106.9 36.23 106.93 35.86 106.95 37.29 106.98 36.88 107.01 35.92 107.04 36.19 107.06 36.13 107.09 36.83 107.12 37.33 107.14 37.24 107.17 38.15 107.2 38.35 107.22 39.22 107.25 39.32 107.28 38.24 107.3 38.12 107.33 36.32 107.36 36.41 107.38 36.41 107.41 36.13 107.44 35.93 107.47 35.76 107.49 36.49 107.52 35.81 107.55 36.41 107.57 36.65 107.6 37.14 107.63 36.97 107.65 36.98 107.68 37.35 107.71 36.1 107.73 36.09 107.76 35.86 107.79 35.4 107.81 35.41 107.84 35.93 107.87 35.43 107.9 35.68 107.92 35.02 107.95 34.94 107.98 34.95 108 35.16 108.03 35.04 108.06 34.78 108.08 34.83 108.11 34.75 108.14 34.93 108.16 34.71 108.19 34.35 108.22 34.19 108.24 33.83 108.27 33.87 108.3 34 108.33 33.7 108.35 33.78 108.38 34.05 108.41 34.08 108.43 34.15 108.46 33.85 108.49 33.89 108.51 33.31 108.54 33.37 108.57 33.25 108.59 33.23 108.62 33.2 108.65 33.53 108.67 33.26 108.7 33.25 108.73 33.61 108.76 33.15 108.78 32.99 108.81 32.93 108.84 33.03 108.86 32.86 108.89 32.86 108.92 32.87 108.94 32.78 108.97 32.98 109 32.87 109.02 32.88 109.05 32.94 109.08 33.69 109.1 33.4 109.13 33.14 109.16 33.09 109.19 32.95 109.21 32.15 109.24 32.08 109.27 31.87 109.29 31.94 109.32 31.92 109.35 32.17 109.37 32.34 109.4 32.63 109.43 32.5 109.45 31.91 109.48 32.07 109.51 32.34 109.53 32.26 109.56 32.02 109.59 31.83 109.62 32.06 109.64 32.52 109.67 32.58 109.7 33.06 109.72 33.85 109.75 33.52 109.78 32.85 109.8 33.35 109.83 33.09 109.86 32.37 109.88 32.68 109.91 32.93 109.94 32.69 109.96 33.07 109.99 32.79 110.02 32.47 110.05 32.05 110.07 31.96 110.1 32.01 110.13 31.77 110.15 31.81 110.18 32.04 110.21 32.66 110.23 32.77 110.26 33.05 110.29 33.41 110.31 33.33 110.34 33.46 110.37 33.92 110.39 34.16 110.42 34.28 110.45 34.86 110.48 35.12 110.5 34.63 110.53 34.63 110.56 34.66 110.58 34.53 110.61 34.81 110.64 34.35 110.66 34.94 110.69 35.04 110.72 36.05 110.74 36.11 110.77 36.01 110.8 34.96 110.82 34.79 110.85 34.44 110.88 34.97 110.91 34.37 110.93 34.66 110.96 34.08 110.99 33.66 111.01 33.75 111.04 33.4 111.07 33.45 111.09 34.37 111.12 34.12 111.15 34.63 111.17 34.52 111.2 34.17 111.23 34.27 111.25 33.24 111.28 33.27 111.31 33.01 111.34 33.18 111.36 33.64 111.39 33.77 111.42 34.08 111.44 34.26 111.47 34.37 111.5 33.62 111.52 33.81 111.55 33.52 111.58 33.14 111.6 33.01 111.63 33.45 111.66 33.83 111.68 34.21 111.71 33.99 111.74 33.21 111.77 32.52 111.79 32.53 111.82 32.77 111.85 32.89 111.87 33.25 111.9 32.45 111.93 32.37 111.95 32.18 111.98 32.15 112.01 32.19 112.03 32.03 112.06 32.18 112.09 32.17 112.11 32.19 112.14 31.88 112.17 31.79 112.2 31.8 112.22 32.05 112.25 32.16 112.28 32.59 112.3 32.22 112.33 32.34 112.36 32.42 112.38 32.4 112.41 32.8 112.44 32.47 112.46 32.67 112.49 32.63 112.52 31.72 112.54 31.67 112.57 31.86 112.6 31.61 112.63 31.57 112.65 30.81 112.68 30.61 112.71 30.76 112.73 30.72 112.76 30.67 112.79 30.6 112.81 30.66 112.84 30.74 112.87 31.11 112.89 31.28 112.92 31.01 112.95 31.19 112.97 30.9 113 31.02 113.03 30.98 113.06 30.68 113.08 30.55 113.11 30.65 113.14 31.05 113.16 31.53 113.19 31.6 113.22 31.59 113.24 31.24 113.27 30.77 113.3 30.75 113.32 30.78 113.35 31.53 113.38 31.53 113.4 32.42 113.43 32.52 113.46 32.42 113.49 32.41 113.51 31.94 113.54 32.46 113.57 32.39 113.59 31.89 113.62 33.05 113.65 33.5 113.67 33.48 113.7 33.48 113.73 33.7 113.75 34.38 113.78 34.49 113.81 34.32 113.83 33.55 113.86 33.58 113.89 33.4 113.92 32.76 113.94 32.92 113.97 33.25 114 32.86 114.02 32.72 114.05 32.71 114.08 32.93 114.1 32.98 114.13 32.67 114.16 32.53 114.18 32.23 114.21 32.17 114.24 31.88 114.26 31.9 114.29 32.17 114.32 32.3 114.35 31.93 114.37 31.51 114.4 31.87 114.43 31.65 114.45 32.1 114.48 32.29 114.51 32.38 114.53 32.45 114.56 33.03 114.59 32.42 114.61 31.28 114.64 31.36 114.67 31.2 114.69 31.38 114.72 31.59 114.75 31.36 114.78 31.06 114.8 31 114.83 30.93 114.86 30.83 114.88 30.92 114.91 30.6 114.94 30.41 114.96 30.18 114.99 29.93 115.02 29.76 115.04 29.5 115.07 29.55 115.1 29.28 115.12 29.44 115.15 29.63 115.18 29.08 115.21 29.56 115.23 29.19 115.26 29.16 115.29 29.32 115.31 29.14 115.34 29.22 115.37 29.05 115.39 29.18 115.42 29.21 115.45 29.18 115.47 28.98 115.5 29.38 115.53 29.55 115.55 29.11 115.58 29.91 115.61 29.48 115.64 28.84 115.66 28.91 115.69 28.78 115.72 28.64 115.74 28.18 115.77 28.02 115.8 27.9 115.82 27.65 115.85 27.47 115.88 27.46 115.9 27.44 115.93 27.13 115.96 27.22 115.98 27.45 116.01 27.43 116.04 27.23 116.07 27.56 116.09 27.23 116.12 27.46 116.15 27.05 116.17 27.18 116.2 26.98 116.23 27 116.25 26.67 116.28 27.09 116.31 26.88 116.33 27.03 116.36 26.85 116.39 26.63 116.41 26.16 116.44 25.93 116.47 25.93 116.5 26.91 116.52 26.33 116.55 26.83 116.58 27.13 116.6 27.1 116.63 27.02 116.66 26.46 116.68 26.62 116.71 26.53 116.74 26.49 116.76 26.1 116.79 26.02 116.82 26.53 116.84 26.05 116.87 25.52 116.9 25.54 116.93 25.22 116.95 25.04 116.98 25.12 117.01 24.99 117.03 25.09 117.06 24.64 117.09 24.41 117.11 24.57 117.14 24.12 117.17 24.19 117.19 24 117.22 24.3 117.25 24.34 117.27 24.31 117.3 23.92 117.33 24.31 117.36 24.23 117.38 25 117.41 24.49 117.44 24.77 117.46 25.57 117.49 25.28 117.52 24.51 117.54 24.55 117.57 24.98 117.6 25.45 117.62 24.78 117.65 25.17 117.68 24.77 117.7 24.26 117.73 25.02 117.76 26.32 117.79 26.17 117.81 26.68 117.84 26.31 117.87 25.76 117.89 25.34 117.92 25.76 117.95 25.52 117.97 25.68 118 25.47 118.03 24.93 118.05 24.6 118.08 24.32 118.11 24.35 118.13 23.73 118.16 23.72 118.19 23.64 118.22 23.76 118.24 23.69 118.27 23.41 118.3 23.42 118.32 23.42 118.35 23.34 118.38 23.43 118.4 23.38 118.43 23.37 118.46 23.5 118.48 23.51 118.51 23.59 118.54 23.11 118.56 23 118.59 23.17 118.62 23.52 118.65 23.69 118.67 23.59 118.7 23.86 118.73 23.88 118.75 23.77 118.78 24.18 118.81 25.02 118.83 25.13 118.86 25.39 118.89 25.42 118.91 25.81 118.94 25.56 118.97 25.39 118.99 25.63 119.02 26.25 119.05 26.08 119.08 26.01 119.1 26.13 119.13 26.04 119.16 25.68 119.18 25.66 119.21 25.71 119.24 25.2 119.26 24.72 119.29 24.22 119.32 24.32 119.34 24.04 119.37 23.61 119.4 23.48 119.42 22.93 119.45 23.08 119.48 23.77 119.51 23.95 119.53 24.2 119.56 24.42 119.59 24.22 119.61 24.48 119.64 24.95 119.67 24.72 119.69 24.94 119.72 25.44 119.75 25.16 119.77 25.66 119.8 26.25 119.83 26.15 119.85 24.96 119.88 24.55 119.91 24.32 119.94 24.81 119.96 24.05 119.99 24.06 120.02 23.98 120.04 23.71 120.07 23.91 120.1 23.55 120.12 23.33 120.15 23.33 120.18 22.92 120.2 23.15 120.23 23.42 120.26 23.16 120.28 23.07 120.31 23.15 120.34 22.68 120.37 23.24 120.39 22.62 120.42 22.54 120.45 22.66 120.47 22.4 120.5 22.2 120.53 21.88 120.55 21.83 120.58 21.86 120.61 22.11 120.63 21.71 120.66 21.5 120.69 21.48 120.71 21.47 120.74 21.38 120.77 21.42 120.8 21.71 120.82 22.06 120.85 22.15 120.88 22.4 120.9 21.67 120.93 21.65 120.96 21.84 120.98 22.32 121.01 22.7 121.04 22.64 121.06 22.17 121.09 22.2 121.12 21.12 121.14 21.08 121.17 20.93 121.2 20.66 121.23 20.43 121.25 19.97 121.28 19.98 121.31 19.88 121.33 19.62 121.36 20.12 121.39 20.01 121.41 20.18 121.44 19.79 121.47 20.04 121.49 20.1 121.52 20.13 121.55 20.79 121.57 20.37 121.6 19.97 121.63 20.21 121.66 20.05 121.68 20.22 121.71 20.37 121.74 21.02 121.76 22.19 121.79 22.34 121.82 22.01 121.84 22.71 121.87 22.3 121.9 22.85 121.92 24.05 121.95 23.79 121.98 23.81 122 23.11 122.03 22.5 122.06 22.47 122.09 21.76 122.11 21.88 122.14 21.64 122.17 21.17 122.19 21.26 122.22 21.59 122.25 21.25 122.27 21.36 122.3 20.98 122.33 21.08 122.35 21.01 122.38 20.74 122.41 20.56 122.43 21.12 122.46 20.28 122.49 20.42 122.52 20.19 122.54 20.07 122.57 20.2 122.6 20.45 122.62 20.49 122.65 21.5 122.68 20.83 122.7 20.5 122.73 20.92 122.76 20.52 122.78 20.63 122.81 20.72 122.84 20.39 122.86 20.75 122.89 20.77 122.92 20.55 122.95 20.06 122.97 19.78 123 19.63 123.03 19.63 123.05 20.22 123.08 20.84 123.11 20.8 123.13 20.13 123.16 21.12 123.19 21.64 123.21 21.1 123.24 20.78 123.27 20.24 123.29 20.09 123.32 19.85 123.35 19.89 123.38 19.89 123.4 20.41 123.43 20.09 123.46 19.77 123.48 19.6 123.51 19.68 123.54 19.85 123.56 19.79 123.59 20.26 123.62 19.83 123.64 19.71 123.67 19.59 123.7 19.18 123.72 19.11 123.75 19.48 123.78 20.1 123.81 19.93 123.83 19.86 123.86 20.36 123.89 19.78 123.91 19.74 123.94 19.51 123.97 19.25 123.99 19.41 124.02 19.17 124.05 19.1 124.07 19 124.1 19.08 124.13 19.02 124.15 18.66 124.18 18.34 124.21 18.27 124.24 18.26 124.26 18.63 124.29 19.04 124.32 18.88 124.34 18.86 124.37 18.76 124.4 18.4 124.42 18.35 124.45 18.25 124.48 18.29 124.5 18.73 124.53 18.55 124.56 18.62 124.58 18.6 124.61 18.7 124.64 18.22 124.67 18.14 124.69 17.81 124.72 17.97 124.75 18.4 124.77 18.11 124.8 18.37 124.83 18.26 124.85 17.85 124.88 17.83 124.91 17.55 124.93 18.14 124.96 17.69 124.99 17.87 125.01 17.64 125.04 17.74 125.07 17.75 125.1 18.2 125.12 18.12 125.15 18.38 125.18 18.5 125.2 19.67 125.23 19.92 125.26 19.64 125.28 20.16 125.31 20.11 125.34 20.39 125.36 19.7 125.39 19.64 125.42 19.68 125.44 19.34 125.47 19.11 125.5 19.3 125.53 18.65 125.55 18.35 125.58 18.13 125.61 17.91 125.63 18.05 125.66 17.77 125.69 17.66 125.71 17.61 125.74 17.76 125.77 17.69 125.79 17.81 125.82 17.77 125.85 17.8 125.87 17.55 125.9 17.65 125.93 18.01 125.96 17.8 125.98 17.88 126.01 18.1 126.04 17.94 126.06 17.57 126.09 17.48 126.12 17.08 126.14 17.03 126.17 17.42 126.2 17.85 126.22 17.28 126.25 18.26 126.28 17.64 126.3 17.79 126.33 17.9 126.36 18.78 126.39 18.79 126.41 18.02 126.44 18.09 126.47 19.09 126.49 18.08 126.52 19.31 126.55 19.74 126.57 20.56 126.6 20.58 126.63 21.22 126.65 21.31 126.68 20.34 126.71 20.27 126.73 19.48 126.76 20.04 126.79 19.24 126.82 18.77 126.84 18.73 126.87 18.04 126.9 18.15 126.92 17.34 126.95 16.62 126.98 16.71\"/>\n",
        "      </g>\n",
        "    </g>\n",
        "  </g>\n",
        "  <g class=\"guide ylabels\" font-size=\"2.82\" font-family=\"'PT Sans Caption','Helvetica Neue','Helvetica',sans-serif\" fill=\"#6C606B\" id=\"fig-a71cbbd6877042f2bc8bd2b93bc2a17b-element-12\">\n",
        "    <text x=\"23.92\" y=\"80.72\" text-anchor=\"end\" dy=\"0.35em\">0</text>\n",
        "    <text x=\"23.92\" y=\"62.29\" text-anchor=\"end\" dy=\"0.35em\">5.0\u00d710\u00b3</text>\n",
        "    <text x=\"23.92\" y=\"43.86\" text-anchor=\"end\" dy=\"0.35em\">1.0\u00d710\u2074</text>\n",
        "    <text x=\"23.92\" y=\"25.43\" text-anchor=\"end\" dy=\"0.35em\">1.5\u00d710\u2074</text>\n",
        "    <text x=\"23.92\" y=\"7\" text-anchor=\"end\" dy=\"0.35em\">2.0\u00d710\u2074</text>\n",
        "  </g>\n",
        "  <g font-size=\"3.88\" font-family=\"'PT Sans','Helvetica Neue','Helvetica',sans-serif\" fill=\"#564A55\" stroke=\"none\" id=\"fig-a71cbbd6877042f2bc8bd2b93bc2a17b-element-13\">\n",
        "    <text x=\"8.81\" y=\"43.86\" text-anchor=\"end\" dy=\"0.35em\">y</text>\n",
        "  </g>\n",
        "</g>\n",
        "<defs>\n",
        "<clipPath id=\"fig-a71cbbd6877042f2bc8bd2b93bc2a17b-element-5\">\n",
        "  <path d=\"M24.92,5 L 136.42 5 136.42 82.72 24.92 82.72\" />\n",
        "</clipPath\n",
        "></defs>\n",
        "</svg>\n"
       ],
       "text": [
        "Plot(...)"
       ]
      }
     ],
     "prompt_number": 4
    },
    {
     "cell_type": "code",
     "collapsed": false,
     "input": [],
     "language": "python",
     "metadata": {},
     "outputs": []
    }
   ],
   "metadata": {}
  }
 ]
}