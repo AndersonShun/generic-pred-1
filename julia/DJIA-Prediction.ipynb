{
 "metadata": {
  "language": "Julia",
  "name": "",
  "signature": "sha256:faf39273cb142c49b454184cdfeeb1c36e749e4c239dd7751ede9e8cf476dd57"
 },
 "nbformat": 3,
 "nbformat_minor": 0,
 "worksheets": [
  {
   "cells": [
    {
     "cell_type": "code",
     "collapsed": false,
     "input": [
      "addprocs(4)\n",
      "push!(LOAD_PATH, pwd())"
     ],
     "language": "python",
     "metadata": {},
     "outputs": []
    },
    {
     "cell_type": "code",
     "collapsed": false,
     "input": [
      "using DataFrames\n",
      "using Gadfly\n",
      "@everywhere using Lyaponuv\n",
      "\n",
      "f = \"../data/DJA.csv\"\n",
      "data=readtable(f, header=true)"
     ],
     "language": "python",
     "metadata": {},
     "outputs": []
    },
    {
     "cell_type": "code",
     "collapsed": false,
     "input": [
      "J = 2  ## reconstruction delay\n",
      "m = 3  ## embedding dimension\n",
      "r = 11\n",
      "sliding_window = 1000\n",
      "\n",
      "next_x_points = 100\n",
      "sample_size = 4\n",
      "\n",
      "ts = data[:DJIA]\n",
      "for i=1:next_x_points\n",
      "    lyap_exp = lyaponuv(ts[end-sliding_window:end], J, m, r)\n",
      "    tasks = Array(RemoteRef, sample_size)\n",
      "    sample_values = Array(Float64, sample_size)\n",
      "    mu = mean(ts[end-sliding_window:end])\n",
      "    sigma = std(ts[end-sliding_window:end])\n",
      "    for j=1:sample_size\n",
      "        tempts=deepcopy(ts[end-sliding_window:end])\n",
      "        next_val = randn(1)*sigma + mu\n",
      "        sample_values[j] = next_val[1]\n",
      "        append!(tempts, next_val)\n",
      "        tasks[j] = @spawn lyaponuv(tempts, J, m, r)\n",
      "    end\n",
      "    \n",
      "    exponents = Array(Float64, sample_size)\n",
      "    for j=1:sample_size\n",
      "        exponents[j] = fetch(tasks[j])\n",
      "    end\n",
      "    \n",
      "    exp_diff = abs(exponents .- lyap_exp)\n",
      "    min_index = findmin(exp_diff)[2]\n",
      "    best_val = sample_values[min_index]\n",
      "    append!(ts, [best_val])\n",
      "    println(\"best value:\", best_val)\n",
      "    \n",
      "end\n",
      "\n"
     ],
     "language": "python",
     "metadata": {},
     "outputs": [
      {
       "output_type": "stream",
       "stream": "stdout",
       "text": [
        "exponent 1"
       ]
      },
      {
       "output_type": "stream",
       "stream": "stdout",
       "text": [
        " = 0.12729859846520375\n",
        "exponent 2 = 0.12757718552686442\n",
        "exponent 3 = 0.12728322673575926\n",
        "exponent 4 = 0.12729333385488628\n"
       ]
      },
      {
       "output_type": "stream",
       "stream": "stdout",
       "text": [
        "exponent 1"
       ]
      },
      {
       "output_type": "stream",
       "stream": "stdout",
       "text": [
        " = 0.12736498715050043\n",
        "exponent 2 = 0.12736516822581587\n",
        "exponent 3 = 0.1273678167271599\n",
        "exponent 4 = 0.1273628322966775\n"
       ]
      },
      {
       "output_type": "stream",
       "stream": "stdout",
       "text": [
        "exponent 1"
       ]
      },
      {
       "output_type": "stream",
       "stream": "stdout",
       "text": [
        " = 0.12714042995548405\n",
        "exponent 2 = 0.12716980817979584\n",
        "exponent 3 = 0.1275548475630411\n",
        "exponent 4 = 0.12731557334016236\n"
       ]
      },
      {
       "output_type": "stream",
       "stream": "stdout",
       "text": [
        "exponent 1"
       ]
      },
      {
       "output_type": "stream",
       "stream": "stdout",
       "text": [
        " = 0.12731032083845006\n",
        "exponent 2 = 0.1269653381326803\n",
        "exponent 3 = 0.12713553042311768\n",
        "exponent 4 = 0.12696970013469797\n"
       ]
      },
      {
       "output_type": "stream",
       "stream": "stdout",
       "text": [
        "exponent 1"
       ]
      },
      {
       "output_type": "stream",
       "stream": "stdout",
       "text": [
        " = 0.12681107325656263\n",
        "exponent 2 = 0.12675256070782526\n",
        "exponent 3 = 0.12679819291785907\n",
        "exponent 4 = 0.12684985395602233\n"
       ]
      },
      {
       "output_type": "stream",
       "stream": "stdout",
       "text": [
        "exponent 1"
       ]
      },
      {
       "output_type": "stream",
       "stream": "stdout",
       "text": [
        " = 0.12657417604071647\n",
        "exponent 2 = 0.126202503572371\n",
        "exponent 3 = 0.12652377678775123\n",
        "exponent 4 = 0.12621775229031276\n"
       ]
      },
      {
       "output_type": "stream",
       "stream": "stdout",
       "text": [
        "exponent 1"
       ]
      },
      {
       "output_type": "stream",
       "stream": "stdout",
       "text": [
        " = 0.12605707737384456\n",
        "exponent 2 = 0.12606478036574295\n",
        "exponent 3 = 0.1260473658870952\n",
        "exponent 4 = 0.12601562435549202\n"
       ]
      },
      {
       "output_type": "stream",
       "stream": "stdout",
       "text": [
        "exponent 1"
       ]
      },
      {
       "output_type": "stream",
       "stream": "stdout",
       "text": [
        " = 0.12560080959203404\n",
        "exponent 2 = 0.12567673404049573\n",
        "exponent 3 = 0.12550015873490272\n",
        "exponent 4 = 0.12564210246121713\n"
       ]
      },
      {
       "output_type": "stream",
       "stream": "stdout",
       "text": [
        "exponent 1"
       ]
      },
      {
       "output_type": "stream",
       "stream": "stdout",
       "text": [
        " = 0.12574524830098754\n",
        "exponent 2 = 0.12577653023076213\n",
        "exponent 3 = 0.12575388804109772\n",
        "exponent 4 = 0.1257497171404947\n"
       ]
      },
      {
       "output_type": "stream",
       "stream": "stdout",
       "text": [
        "exponent 1"
       ]
      },
      {
       "output_type": "stream",
       "stream": "stdout",
       "text": [
        " = 0.12624642998256508\n",
        "exponent 2 = 0.12640082607322972\n",
        "exponent 3 = 0.12638005357442159\n",
        "exponent 4 = 0.1262423760025787\n"
       ]
      },
      {
       "output_type": "stream",
       "stream": "stdout",
       "text": [
        "exponent 1"
       ]
      },
      {
       "output_type": "stream",
       "stream": "stdout",
       "text": [
        " = 0.12663131981537412\n",
        "exponent 2 = 0.12667495978607213\n",
        "exponent 3 = 0.1266356423659151\n",
        "exponent 4 = 0.1266289194558204\n"
       ]
      },
      {
       "output_type": "stream",
       "stream": "stdout",
       "text": [
        "exponent 1"
       ]
      },
      {
       "output_type": "stream",
       "stream": "stdout",
       "text": [
        " = 0.12683312070189792\n",
        "exponent 2 = 0.12683388283211963\n",
        "exponent 3 = 0.12683322223376164\n",
        "exponent 4 = 0.12683363358617988\n"
       ]
      },
      {
       "output_type": "stream",
       "stream": "stdout",
       "text": [
        "exponent 1"
       ]
      },
      {
       "output_type": "stream",
       "stream": "stdout",
       "text": [
        " = 0.12726015901387241\n",
        "exponent 2 = 0.12725848982465957\n",
        "exponent 3 = 0.12723800317120104\n",
        "exponent 4 = 0.1272512094609187\n"
       ]
      },
      {
       "output_type": "stream",
       "stream": "stdout",
       "text": [
        "exponent 1"
       ]
      },
      {
       "output_type": "stream",
       "stream": "stdout",
       "text": [
        " = 0.12749273772361283\n",
        "exponent 2 = 0.12752353304768593\n",
        "exponent 3 = 0.12749519252813551\n",
        "exponent 4 = 0.12763395080407636\n"
       ]
      },
      {
       "output_type": "stream",
       "stream": "stdout",
       "text": [
        "exponent 1"
       ]
      },
      {
       "output_type": "stream",
       "stream": "stdout",
       "text": [
        " = 0.12836868560719975\n",
        "exponent 2 = 0.12802649193080515\n"
       ]
      },
      {
       "output_type": "stream",
       "stream": "stdout",
       "text": [
        "exponent 3 = 0.12829033407471443\n",
        "exponent 4 = 0.1283258597540004\n"
       ]
      },
      {
       "output_type": "stream",
       "stream": "stdout",
       "text": [
        "exponent 1"
       ]
      },
      {
       "output_type": "stream",
       "stream": "stdout",
       "text": [
        " = 0.12824894506903195\n",
        "exponent 2 = 0.1279975333321869\n",
        "exponent 3 = 0.12825382677193273\n",
        "exponent 4 = 0.12799627754448012\n"
       ]
      },
      {
       "output_type": "stream",
       "stream": "stdout",
       "text": [
        "exponent 1"
       ]
      },
      {
       "output_type": "stream",
       "stream": "stdout",
       "text": [
        " = 0.12793953315642564\n",
        "exponent 2 = 0.12796759006641573\n",
        "exponent 3 = 0.1282244570931886\n",
        "exponent 4 = 0.12794356647849606\n"
       ]
      },
      {
       "output_type": "stream",
       "stream": "stdout",
       "text": [
        "exponent 1"
       ]
      },
      {
       "output_type": "stream",
       "stream": "stdout",
       "text": [
        " = 0.12806792393297836\n",
        "exponent 2 = 0.12805734783715067\n",
        "exponent 3 = 0.12810749849516534\n",
        "exponent 4 = 0.12818489105885766\n"
       ]
      },
      {
       "output_type": "stream",
       "stream": "stdout",
       "text": [
        "exponent 1"
       ]
      },
      {
       "output_type": "stream",
       "stream": "stdout",
       "text": [
        " = 0.12790346751583623\n",
        "exponent 2 = 0.12798096206765666\n",
        "exponent 3 = 0.12812890893690865\n",
        "exponent 4 = 0.12790114387747134\n"
       ]
      },
      {
       "output_type": "stream",
       "stream": "stdout",
       "text": [
        "exponent 1"
       ]
      },
      {
       "output_type": "stream",
       "stream": "stdout",
       "text": [
        " = 0.12758740030059493\n",
        "exponent 2 = 0.12760501073071318\n",
        "exponent 3 = 0.12788231416211585\n",
        "exponent 4 = 0.12776267790063744\n"
       ]
      },
      {
       "output_type": "stream",
       "stream": "stdout",
       "text": [
        "exponent 1"
       ]
      },
      {
       "output_type": "stream",
       "stream": "stdout",
       "text": [
        " = 0.12772267702612378\n",
        "exponent 2 = 0.127720317985418\n",
        "exponent 3 = 0.1274586230324337\n",
        "exponent 4 = 0.12745858794283757\n"
       ]
      },
      {
       "output_type": "stream",
       "stream": "stdout",
       "text": [
        "exponent 1"
       ]
      },
      {
       "output_type": "stream",
       "stream": "stdout",
       "text": [
        " = 0.12723949769713644\n",
        "exponent 2 = 0.12723606939749899\n",
        "exponent 3 = 0.12723356073576547\n",
        "exponent 4 = 0.12747004515111082\n"
       ]
      },
      {
       "output_type": "stream",
       "stream": "stdout",
       "text": [
        "exponent 1"
       ]
      },
      {
       "output_type": "stream",
       "stream": "stdout",
       "text": [
        " = 0.12705908167585178\n",
        "exponent 2 = 0.1273666503246452\n",
        "exponent 3 = 0.12708299721159355\n",
        "exponent 4 = 0.1270530705551816\n"
       ]
      },
      {
       "output_type": "stream",
       "stream": "stdout",
       "text": [
        "exponent 1"
       ]
      },
      {
       "output_type": "stream",
       "stream": "stdout",
       "text": [
        " = 0.1271330652209368\n",
        "exponent 2 = 0.1272015980426633\n",
        "exponent 3 = 0.12719645235688887\n",
        "exponent 4 = 0.12718810562893193\n"
       ]
      }
     ]
    },
    {
     "cell_type": "code",
     "collapsed": false,
     "input": [],
     "language": "python",
     "metadata": {},
     "outputs": []
    }
   ],
   "metadata": {}
  }
 ]
}