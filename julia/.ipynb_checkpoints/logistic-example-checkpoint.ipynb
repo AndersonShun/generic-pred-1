{
 "metadata": {
  "language": "Julia",
  "name": "",
  "signature": "sha256:57852e9cb428a1ee6046373a505f17f026c78eee7fd33403d2329d7adc1f5f66"
 },
 "nbformat": 3,
 "nbformat_minor": 0,
 "worksheets": [
  {
   "cells": [
    {
     "cell_type": "code",
     "collapsed": false,
     "input": [
      "using Gadfly\n",
      "\n",
      "push!(LOAD_PATH, pwd())\n",
      "using Lyaponuv"
     ],
     "language": "python",
     "metadata": {},
     "outputs": [
      {
       "output_type": "stream",
       "stream": "stdout",
       "text": [
        "/home/tj/repos/generic-pred/julia\n"
       ]
      },
      {
       "output_type": "stream",
       "stream": "stderr",
       "text": [
        "Warning: requiring \"Lyaponuv\" did not define a corresponding module.\n"
       ]
      }
     ],
     "prompt_number": 1
    },
    {
     "cell_type": "code",
     "collapsed": false,
     "input": [
      "function logistic(x, mu)\n",
      "    x_next = mu * x * (1 - x) \n",
      "    return(x_next)\n",
      "end"
     ],
     "language": "python",
     "metadata": {},
     "outputs": [
      {
       "metadata": {},
       "output_type": "pyout",
       "prompt_number": 4,
       "text": [
        "logistic (generic function with 1 method)"
       ]
      }
     ],
     "prompt_number": 4
    },
    {
     "cell_type": "code",
     "collapsed": false,
     "input": [
      "logistic_time_series = Float64[]\n",
      "x = rand(1)[1]\n",
      "n=5000\n",
      "mu = 4\n",
      "\n",
      "for i=1:n\n",
      "    x = logistic(x, mu)\n",
      "    append!(logistic_time_series, [x])\n",
      "end\n",
      "    \n"
     ],
     "language": "python",
     "metadata": {},
     "outputs": [],
     "prompt_number": 3
    },
    {
     "cell_type": "code",
     "collapsed": false,
     "input": [],
     "language": "python",
     "metadata": {},
     "outputs": [],
     "prompt_number": 4
    },
    {
     "cell_type": "code",
     "collapsed": false,
     "input": [
      "function lyaponuv_k(time_series, J, m, ref)\n",
      "    N = length(time_series)\n",
      "    M = N - (m - 1) * J\n",
      "    X = Array(Float64, m, M)\n",
      "    i = 1\n",
      "    for i=1:M\n",
      "        X[:,i] = time_series[i:J:(i+(m-1)*J)]\n",
      "    end\n",
      "\n",
      "    NORMS = Array(Float64, M, M)\n",
      "    for i=1:M\n",
      "        for j=i:M\n",
      "            if i == j\n",
      "                NORMS[i, j]=9999.   #arbitrarily large number\n",
      "            else\n",
      "                NORMS[i,j] = vecnorm(X[:, i] - X[:, j])  #eucilidean norm\n",
      "                NORMS[j,i] = NORMS[i, j]      # matrix is symmetric\n",
      "            end\n",
      "        end\n",
      "    end\n",
      "    \n",
      "    # match pairs with lowest eucilidean values\n",
      "    pairs = Array(Int, M)\n",
      "    for row in 1:M\n",
      "        mn, idx = findmin(NORMS[row, :])\n",
      "        pairs[row] = idx\n",
      "    end\n",
      "\n",
      "    y = Array(Float64, ref)\n",
      "    for i=0:ref-1\n",
      "        agg = 0 \n",
      "        count = 0\n",
      "        for j=1:M\n",
      "            jhat = pairs[j]+i\n",
      "            jtrue = j+i\n",
      "\n",
      "            if jhat <= M && jtrue <= M\n",
      "                agg = agg + log(vecnorm(X[:, jtrue] - X[:, jhat]))\n",
      "                count = count + 1\n",
      "            end\n",
      "        end\n",
      "        y[i+1] = agg/count # divide by delta-t also?\n",
      "    end\n",
      "    return(y)\n",
      "end\n",
      "\n",
      "function lyaponov(series)\n",
      "    nn = !isnan(series)\n",
      "    A = ones(length(series), 2)\n",
      "    A[:,1] = linspace(1, length(series), length(series))\n",
      "    gradient = \\(A, series)\n",
      "    return(gradient[1])\n",
      "end\n"
     ],
     "language": "python",
     "metadata": {},
     "outputs": [],
     "prompt_number": 7
    },
    {
     "cell_type": "code",
     "collapsed": false,
     "input": [
      "# X = [X1 X2 ..  XM]'\n",
      "J = 1  ## reconstruction delay\n",
      "m = 1  ## embedding dimension\n",
      "addprocs(4)\n",
      "println(\"starting to store stuff\")\n",
      "store = Array(RemoteRef, 15)\n",
      "for r=1:15\n",
      "    println(r)\n",
      "    store[r] = @spawn lyaponuv_k(logistic_time_series, J, m, r)  ## length of the time series\n",
      "end\n",
      "\n",
      "for x in store\n",
      "    println(x)\n",
      "end"
     ],
     "language": "python",
     "metadata": {},
     "outputs": [
      {
       "output_type": "stream",
       "stream": "stdout",
       "text": [
        "starting to store stuff\n"
       ]
      },
      {
       "output_type": "stream",
       "stream": "stdout",
       "text": [
        "1"
       ]
      },
      {
       "output_type": "stream",
       "stream": "stderr",
       "text": [
        "exception on 8: "
       ]
      },
      {
       "output_type": "stream",
       "stream": "stdout",
       "text": [
        "\n",
        "2\n",
        "3\n",
        "4\n",
        "5\n",
        "6\n",
        "7\n",
        "8\n",
        "9\n",
        "10\n",
        "11\n",
        "12\n",
        "13\n",
        "14\n",
        "15\n",
        "RemoteRef"
       ]
      },
      {
       "output_type": "stream",
       "stream": "stderr",
       "text": [
        "exception on 9: ERROR: function lyaponuv_k not defined on process 9\n",
        " in error at error.jl:21\n",
        " in anonymous at serialize.jl:397\n",
        " in anonymous at multi.jl:1279\n",
        " in anonymous at multi.jl:848\n",
        " in run_work_thunk at multi.jl:621\n",
        " in run_work_thunk at multi.jl:630\n",
        " in anonymous at task.jl:6\n",
        "ERROR: function lyaponuv_k not defined on process 8\n",
        " in error at error.jl:21\n",
        " in anonymous at serialize.jl:397\n",
        " in anonymous at multi.jl:1279\n",
        " in anonymous at multi.jl:848\n",
        " in run_work_thunk at multi.jl:621\n",
        " in run_work_thunk at multi.jl:630\n",
        " in anonymous at task.jl:6\n",
        "exception on 8: ERROR: function lyaponuv_k not defined on process 8\n",
        " in error at error.jl:21\n",
        " in anonymous at serialize.jl:397\n",
        " in anonymous at multi.jl:1279\n",
        " in anonymous at multi.jl:848\n",
        " in run_work_thunk at multi.jl:621\n",
        " in run_work_thunk at multi.jl:630\n",
        " in anonymous at task.jl:6\n",
        "exception on 9: ERROR: function lyaponuv_k not defined on process 9\n",
        " in error at error.jl:21\n",
        " in anonymous at serialize.jl:397\n",
        " in anonymous at multi.jl:1279\n",
        " in anonymous at multi.jl:848\n",
        " in run_work_thunk at multi.jl:621\n",
        " in run_work_thunk at multi.jl:630\n",
        " in anonymous at task.jl:6\n",
        "exception on 7: ERROR: function lyaponuv_k not defined on process 7\n",
        " in error at error.jl:21\n",
        " in anonymous at serialize.jl:397\n",
        " in anonymous at multi.jl:1279\n",
        " in anonymous at multi.jl:848\n",
        " in run_work_thunk at multi.jl:621\n",
        " in run_work_thunk at multi.jl:630\n",
        " in anonymous at task.jl:6\n",
        "exception on 6: ERROR: function lyaponuv_k not defined on process 6\n",
        " in error at error.jl:21\n",
        " in anonymous at serialize.jl:397\n",
        " in anonymous at multi.jl:1279\n",
        " in anonymous at multi.jl:848\n",
        " in run_work_thunk at multi.jl:621\n",
        " in run_work_thunk at multi.jl:630\n",
        " in anonymous at task.jl:6\n"
       ]
      },
      {
       "output_type": "stream",
       "stream": "stdout",
       "text": [
        "(8,1,88)\n",
        "RemoteRef(9,1,89)\n",
        "RemoteRef(10,1,90)\n",
        "RemoteRef(11,1,91)\n",
        "RemoteRef(12,1,92)\n",
        "RemoteRef(13,1,93)\n",
        "RemoteRef(2,1,94)\n",
        "RemoteRef(3,1,95)\n",
        "RemoteRef(4,1,96)\n",
        "RemoteRef(5,1,97)\n",
        "RemoteRef(6,1,98)\n",
        "RemoteRef(7,1,99)\n",
        "RemoteRef(8,1,100)\n",
        "RemoteRef(9,1,101)\n",
        "RemoteRef(10,1,102)\n"
       ]
      },
      {
       "output_type": "stream",
       "stream": "stderr",
       "text": [
        "exception on "
       ]
      },
      {
       "output_type": "stream",
       "stream": "stderr",
       "text": [
        "exception on 10: exception on 11: "
       ]
      },
      {
       "output_type": "stream",
       "stream": "stderr",
       "text": [
        "exception on 13: "
       ]
      },
      {
       "output_type": "stream",
       "stream": "stderr",
       "text": [
        "exception on 12: "
       ]
      },
      {
       "output_type": "stream",
       "stream": "stderr",
       "text": [
        "ERROR: function lyaponuv_k not defined on process 10\n",
        " in error at error.jl:21\n",
        " in anonymous at serialize.jl:397\n",
        " in anonymous at multi.jl:1279\n",
        " in anonymous at multi.jl:848\n",
        " in run_work_thunk at multi.jl:621\n",
        " in run_work_thunk at multi.jl:630\n",
        " in anonymous at task.jl:6\n",
        "10"
       ]
      },
      {
       "output_type": "stream",
       "stream": "stderr",
       "text": [
        "ERROR: function lyaponuv_k not defined on process 11\n",
        " in error at error.jl:21\n",
        " in anonymous at serialize.jl:397\n",
        " in anonymous at multi.jl:1279\n",
        " in anonymous at multi.jl:848\n",
        " in run_work_thunk at multi.jl:621\n",
        " in run_work_thunk at multi.jl:630\n",
        " in anonymous at task.jl:6\n",
        ": ERROR: function lyaponuv_k not defined on process 10\n",
        " in error at error.jl:21\n",
        " in anonymous at serialize.jl:397\n",
        " in anonymous at multi.jl:1279\n",
        " in anonymous at multi.jl:848\n",
        " in run_work_thunk at multi.jl:621\n",
        " in run_work_thunk at multi.jl:630\n",
        " in anonymous at task.jl:6\n"
       ]
      },
      {
       "output_type": "stream",
       "stream": "stderr",
       "text": [
        "ERROR: function lyaponuv_k not defined on process 13\n",
        " in error at error.jl:21\n",
        " in anonymous at serialize.jl:397\n",
        " in anonymous at multi.jl:1279\n",
        " in anonymous at multi.jl:848\n",
        " in run_work_thunk at multi.jl:621\n",
        " in run_work_thunk at multi.jl:630\n",
        " in anonymous at task.jl:6\n"
       ]
      },
      {
       "output_type": "stream",
       "stream": "stderr",
       "text": [
        "ERROR: function lyaponuv_k not defined on process 12\n",
        " in error at error.jl:21\n",
        " in anonymous at serialize.jl:397\n",
        " in anonymous at multi.jl:1279\n",
        " in anonymous at multi.jl:848\n",
        " in run_work_thunk at multi.jl:621\n",
        " in run_work_thunk at multi.jl:630\n",
        " in anonymous at task.jl:6\n"
       ]
      }
     ],
     "prompt_number": 9
    },
    {
     "cell_type": "code",
     "collapsed": false,
     "input": [],
     "language": "python",
     "metadata": {},
     "outputs": [],
     "prompt_number": 8
    },
    {
     "cell_type": "code",
     "collapsed": false,
     "input": [],
     "language": "python",
     "metadata": {},
     "outputs": [
      {
       "output_type": "stream",
       "stream": "stdout",
       "text": [
        "[0."
       ]
      },
      {
       "output_type": "stream",
       "stream": "stdout",
       "text": [
        "6932129203165771,-11.405253192849433]"
       ]
      },
      {
       "ename": "LoadError",
       "evalue": "BoundsError()\nwhile loading In[9], in expression starting on line 5",
       "output_type": "pyerr",
       "traceback": [
        "BoundsError()\nwhile loading In[9], in expression starting on line 5",
        "",
        " in checkbounds at abstractarray.jl:65"
       ]
      }
     ],
     "prompt_number": 9
    },
    {
     "cell_type": "code",
     "collapsed": false,
     "input": [],
     "language": "python",
     "metadata": {},
     "outputs": [],
     "prompt_number": 30
    },
    {
     "cell_type": "code",
     "collapsed": false,
     "input": [],
     "language": "python",
     "metadata": {},
     "outputs": []
    }
   ],
   "metadata": {}
  }
 ]
}