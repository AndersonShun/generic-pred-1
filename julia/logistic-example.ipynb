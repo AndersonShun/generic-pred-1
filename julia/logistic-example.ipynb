{
 "metadata": {
  "language": "Julia",
  "name": "",
  "signature": "sha256:110b5561bd982844b38146520f1f3ad143bbdb36c486baebef49d3012327137c"
 },
 "nbformat": 3,
 "nbformat_minor": 0,
 "worksheets": [
  {
   "cells": [
    {
     "cell_type": "code",
     "collapsed": false,
     "input": [
      "using Gadfly\n",
      "\n",
      "cores=4\n",
      "addprocs(cores)\n",
      "\n",
      "push!(LOAD_PATH, pwd())\n",
      "#@everywhere using Lyaponuv"
     ],
     "language": "python",
     "metadata": {},
     "outputs": [
      {
       "metadata": {},
       "output_type": "pyout",
       "prompt_number": 16,
       "text": [
        "4-element Array{Union(ASCIIString,UTF8String),1}:\n",
        " \"/usr/local/share/julia/site/v0.3\" \n",
        " \"/usr/share/julia/site/v0.3\"       \n",
        " \"/home/tj/repos/generic-pred/julia\"\n",
        " \"/home/tj/repos/generic-pred/julia\""
       ]
      }
     ],
     "prompt_number": 16
    },
    {
     "cell_type": "code",
     "collapsed": false,
     "input": [
      "function logistic(x, mu)\n",
      "    x_next = mu * x * (1 - x) \n",
      "    return(x_next)\n",
      "end"
     ],
     "language": "python",
     "metadata": {},
     "outputs": [
      {
       "metadata": {},
       "output_type": "pyout",
       "prompt_number": 17,
       "text": [
        "logistic (generic function with 1 method)"
       ]
      }
     ],
     "prompt_number": 17
    },
    {
     "cell_type": "code",
     "collapsed": false,
     "input": [
      "logistic_time_series = Float64[]\n",
      "x = rand(1)[1]\n",
      "n = 4000\n",
      "mu = 4\n",
      "\n",
      "for i=1:n\n",
      "    x = logistic(x, mu)\n",
      "    append!(logistic_time_series, [x])\n",
      "end"
     ],
     "language": "python",
     "metadata": {},
     "outputs": [],
     "prompt_number": 18
    },
    {
     "cell_type": "code",
     "collapsed": false,
     "input": [
      "function lyaponuv_k(time_series, J, m, ref)\n",
      "    X = attractor(time_series, m, J)\n",
      "    norms = compute_norms(X)\n",
      "    pairs = match_pairs(norms)\n",
      "    y = follow_points(pairs, norms, ref)    \n",
      "    return(norms,y)\n",
      "end\n",
      "\n",
      "@everywhere function match_pairs(norms)\n",
      "    M = size(norms)[1]\n",
      "    pairs = Array(Int, M)\n",
      "    for row in 1:M\n",
      "        mn, idx = findmin(norms[row, :])\n",
      "        pairs[row] = idx\n",
      "    end\n",
      "    return(pairs)\n",
      "end\n",
      "\n",
      "@everywhere function attractor(time_series, m, J)\n",
      "    N = length(time_series)\n",
      "    M = N - (m - 1) * J  \n",
      "    X = Array(Float64, m, M)\n",
      "    i = 1\n",
      "    for i=1:M\n",
      "        X[:,i] = time_series[i:J:(i+(m-1)*J)]\n",
      "    end\n",
      "    return(X)\n",
      "end\n",
      "\n",
      "@everywhere function follow_points(pairs, norms, ref)\n",
      "    y = Array(Float64, ref)\n",
      "    M = size(norms)[1]\n",
      "    for i=0:ref-1\n",
      "        agg = 0 \n",
      "        count = 0\n",
      "        for j=1:M\n",
      "            jhat = pairs[j]+i\n",
      "            jtrue = j+i\n",
      "\n",
      "            if jhat <= M && jtrue <= M\n",
      "                agg = agg + log(norms[jtrue, jhat])\n",
      "               # agg = agg + log(vecnorm(X[:, jtrue] - X[:, jhat]))\n",
      "                count = count + 1\n",
      "            end\n",
      "        end\n",
      "        y[i+1] = agg/count # divide by delta-t also?\n",
      "    end\n",
      "    return(y)\n",
      "end\n",
      "\n",
      "\n",
      "@everywhere function compute_norms(X)\n",
      "    M = size(X)[2]\n",
      "    norms = Array(Float64, M, M)\n",
      "    for i=1:M\n",
      "        norms[i,:] = column_norms(X, i)      \n",
      "    end    \n",
      "    return(norms)\n",
      "end\n",
      "\n",
      "\n",
      "@everywhere function column_norms(X, i)\n",
      "    M = size(X)[2]\n",
      "    X_diff = X .- X[:, i]\n",
      "    norm_vector = [vecnorm(X_diff[:, k]) for k=1:M]\n",
      "    norm_vector[i] = 10^10\n",
      "    return(norm_vector)\n",
      "end\n",
      "\n",
      "\n",
      "@everywhere function lyaponuv_exp(series)\n",
      "    nn = !isnan(series)\n",
      "    A = ones(length(series), 2)\n",
      "    A[:,1] = linspace(1, length(series), length(series))\n",
      "    gradient = \\(A, series)\n",
      "    return(gradient[1])\n",
      "end\n",
      "\n",
      "\n",
      "function lyaponuv(time_series, J, m, ref)\n",
      "\tts = lyaponuv_k(time_series, J, m, ref)[2]\n",
      "\texponent = lyaponuv_exp(ts[isfinite(ts)])  ## only input those which are finite\n",
      "\treturn(exponent)\n",
      "end\n",
      "\n",
      "@everywhere function get_next(ts, m, M, norms, ref, J)\n",
      "    \n",
      "    attractor_array = attractor(ts, m, J)\n",
      "    temp_norms = Array(Float64, M+1, M+1)\n",
      "    temp_norms[1:M, 1:M] = norms\n",
      "    col = column_norms(attractor_array, M+1)\n",
      "    temp_norms[M+1, :] = col\n",
      "    temp_norms[:, M+1] = col\n",
      "\n",
      "    pairs=match_pairs(temp_norms)\n",
      "    lyap_k_temp = follow_points(pairs, temp_norms, ref)\n",
      "    return(lyaponuv_exp(lyap_k_temp))\n",
      "end\n",
      "\n",
      "function lyaponuv_next(time_series, J, m, ref, sample_size)\n",
      "    ts_diff = time_series[2:end] - time_series[1:end-1]\n",
      "    sigma = std(ts_diff)\n",
      "    samples = randn(sample_size) * sigma + time_series[end]\n",
      "    norms, lyap_k = lyaponuv_k(time_series, J, m, ref)\n",
      "    true_exponent = lyaponuv_exp(lyap_k)\n",
      "    exponents = Array(Float64, sample_size)\n",
      "    \n",
      "    tasks = Array(RemoteRef, sample_size)\n",
      "    for i=1:sample_size\n",
      "        s = samples[i]\n",
      "        M = size(norms)[1] \n",
      "        ts = copy(time_series)\n",
      "        append!(ts, [s])\n",
      "        r = @spawn get_next(ts, m, M, copy(norms), ref, J)\n",
      "        exponents[i] = fetch(r)\n",
      "        @printf(\"process: %d int: %f\\n\", r.where, exponents[i]) \n",
      "        #exponents[i] = remotecall_fetch(1 + (i % 4), get_next, ts, m, M, norms, ref, J)\n",
      "        #exponents[i]=get_next(ts, m, M, norms, ref, J)\n",
      "    end\n",
      "    \n",
      "    for i=1:sample_size\n",
      "        exponents[i]=fetch(tasks[i])\n",
      "    end\n",
      "    \n",
      "    diff = abs(exponents .-  true_exponent)    \n",
      "    val, idx = findmin(diff)\n",
      "    println(\"VAL:\", exponents[idx])\n",
      "    return(samples[idx])\n",
      "end"
     ],
     "language": "python",
     "metadata": {},
     "outputs": [
      {
       "metadata": {},
       "output_type": "pyout",
       "prompt_number": 19,
       "text": [
        "lyaponuv_next (generic function with 1 method)"
       ]
      }
     ],
     "prompt_number": 19
    },
    {
     "cell_type": "code",
     "collapsed": false,
     "input": [
      "# X = [X1 X2 ..  XM]'\n",
      "\n",
      "J = 1  ## reconstruction delay\n",
      "m = 3  ## embedding dimens\n",
      "\n",
      "next_x_values = 1\n",
      "sample_size = 10\n",
      "series = deepcopy(logistic_time_series)\n",
      "for j=1:next_x_values\n",
      "    val = lyaponuv_next(logistic_time_series, J, m, 10, sample_size)\n",
      "    append!(series, [val])\n",
      "#Profile.clear()\n",
      " #   @profile lyaponuv_next(logistic_time_series, J, m, 10, sample_size)\n",
      "  #  Profile.print()\n",
      "end\n"
     ],
     "language": "python",
     "metadata": {},
     "outputs": [
      {
       "output_type": "stream",
       "stream": "stdout",
       "text": [
        "process: 2"
       ]
      },
      {
       "output_type": "stream",
       "stream": "stdout",
       "text": [
        " int: 0.659415\n"
       ]
      },
      {
       "output_type": "stream",
       "stream": "stdout",
       "text": [
        "process: 3"
       ]
      },
      {
       "output_type": "stream",
       "stream": "stdout",
       "text": [
        " int: 0.659380\n"
       ]
      },
      {
       "output_type": "stream",
       "stream": "stdout",
       "text": [
        "process: 4"
       ]
      },
      {
       "output_type": "stream",
       "stream": "stdout",
       "text": [
        " int: 0.659412\n"
       ]
      },
      {
       "output_type": "stream",
       "stream": "stdout",
       "text": [
        "process: 5"
       ]
      },
      {
       "output_type": "stream",
       "stream": "stdout",
       "text": [
        " int: 0.659415\n"
       ]
      },
      {
       "output_type": "stream",
       "stream": "stdout",
       "text": [
        "process: 6"
       ]
      },
      {
       "output_type": "stream",
       "stream": "stdout",
       "text": [
        " int: 0."
       ]
      },
      {
       "output_type": "stream",
       "stream": "stdout",
       "text": [
        "659415\n"
       ]
      },
      {
       "output_type": "stream",
       "stream": "stderr",
       "text": [
        "exception on "
       ]
      },
      {
       "output_type": "stream",
       "stream": "stderr",
       "text": [
        "7: "
       ]
      },
      {
       "output_type": "stream",
       "stream": "stderr",
       "text": [
        "ERROR: MemoryError()\n",
        " in get_next at In[19]:89\n",
        " in anonymous at multi.jl:1279\n",
        " in anonymous at multi.jl:848\n",
        " in run_work_thunk at multi.jl:621\n",
        " in run_work_thunk at multi.jl:630\n",
        " in anonymous at task.jl:6\n"
       ]
      },
      {
       "ename": "LoadError",
       "evalue": "`convert` has no method matching convert(::Type{Float64}, ::MemoryError)\nwhile loading In[20], in expression starting on line 9",
       "output_type": "pyerr",
       "traceback": [
        "`convert` has no method matching convert(::Type{Float64}, ::MemoryError)\nwhile loading In[20], in expression starting on line 9",
        "",
        " in setindex! at array.jl:307",
        " in lyaponuv_next at In[19]:115",
        " in anonymous at no file:10"
       ]
      }
     ],
     "prompt_number": 20
    },
    {
     "cell_type": "code",
     "collapsed": false,
     "input": [
      "Profile.clear()\n",
      "@profile lyaponuv(logistic_time_series, J, m, 10)\n",
      "Profile.print()\n"
     ],
     "language": "python",
     "metadata": {},
     "outputs": [
      {
       "ename": "LoadError",
       "evalue": "J not defined\nwhile loading In[5], in expression starting on line 2",
       "output_type": "pyerr",
       "traceback": [
        "J not defined\nwhile loading In[5], in expression starting on line 2",
        "",
        " in anonymous at profile.jl:14"
       ]
      }
     ],
     "prompt_number": 5
    },
    {
     "cell_type": "code",
     "collapsed": false,
     "input": [
      "# X = [X1 X2 ..  XM]'\n",
      "J = 1  ## reconstruction delay\n",
      "m = 1  ## embedding dimension\n",
      "println(\"starting to store stuff\")\n",
      "start_ref=4\n",
      "end_ref=6\n",
      "store = Array(RemoteRef, (end_ref-start_ref+1))\n",
      "\n",
      "for r=start_ref:end_ref\n",
      "    println(r)\n",
      "    store[r-start_ref+1] = @spawn lyaponuv(logistic_time_series, J, m, r)  ## length of the time series\n",
      "end\n",
      "\n",
      "for x=1:length(store)\n",
      "    println(fetch(store[x]))\n",
      "end"
     ],
     "language": "python",
     "metadata": {},
     "outputs": [
      {
       "output_type": "stream",
       "stream": "stdout",
       "text": [
        "starting to store stuff\n"
       ]
      },
      {
       "output_type": "stream",
       "stream": "stdout",
       "text": [
        "4\n",
        "5\n",
        "6\n"
       ]
      },
      {
       "output_type": "stream",
       "stream": "stderr",
       "text": [
        "exception on "
       ]
      },
      {
       "output_type": "stream",
       "stream": "stdout",
       "text": [
        "UndefVarError"
       ]
      },
      {
       "output_type": "stream",
       "stream": "stderr",
       "text": [
        "4: ERROR: r not defined\n",
        " in anonymous at multi.jl:1279\n",
        " in anonymous at multi.jl:848\n",
        " in run_work_thunk at multi.jl:621\n",
        " in run_work_thunk at multi.jl:630\n",
        " in anonymous at task.jl:6\n",
        "exception on 3: ERROR: r not defined\n",
        " in anonymous at multi.jl:1279\n",
        " in anonymous at multi.jl:848\n",
        " in run_work_thunk at multi.jl:621\n",
        " in run_work_thunk at multi.jl:630\n",
        " in anonymous at task.jl:6\n",
        "exception on 2: ERROR: r not defined\n",
        " in anonymous at multi.jl:1279\n",
        " in anonymous at multi.jl:848\n",
        " in run_work_thunk at multi.jl:621\n",
        " in run_work_thunk at multi.jl:630\n",
        " in anonymous at task.jl:6\n"
       ]
      },
      {
       "output_type": "stream",
       "stream": "stdout",
       "text": [
        "(:"
       ]
      },
      {
       "output_type": "stream",
       "stream": "stdout",
       "text": [
        "r)\n"
       ]
      },
      {
       "output_type": "stream",
       "stream": "stdout",
       "text": [
        "UndefVarError(:r)\n",
        "UndefVarError(:r)\n"
       ]
      }
     ],
     "prompt_number": 48
    },
    {
     "cell_type": "code",
     "collapsed": false,
     "input": [],
     "language": "python",
     "metadata": {},
     "outputs": []
    }
   ],
   "metadata": {}
  }
 ]
}