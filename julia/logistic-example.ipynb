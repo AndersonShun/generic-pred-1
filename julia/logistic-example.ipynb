{
 "metadata": {
  "language": "Julia",
  "name": "",
  "signature": "sha256:6dddda5aae44d71b22ff1428e7b08666aa019dad0001b24796992c28b5b05fe4"
 },
 "nbformat": 3,
 "nbformat_minor": 0,
 "worksheets": [
  {
   "cells": [
    {
     "cell_type": "code",
     "collapsed": false,
     "input": [
      "using Gadfly\n",
      "addprocs(4)\n",
      "\n",
      "push!(LOAD_PATH, pwd())\n",
      "@everywhere using Lyaponuv"
     ],
     "language": "python",
     "metadata": {},
     "outputs": [],
     "prompt_number": 14
    },
    {
     "cell_type": "code",
     "collapsed": false,
     "input": [
      "function logistic(x, mu)\n",
      "    x_next = mu * x * (1 - x) \n",
      "    return(x_next)\n",
      "end"
     ],
     "language": "python",
     "metadata": {},
     "outputs": [
      {
       "metadata": {},
       "output_type": "pyout",
       "prompt_number": 15,
       "text": [
        "logistic (generic function with 1 method)"
       ]
      }
     ],
     "prompt_number": 15
    },
    {
     "cell_type": "code",
     "collapsed": false,
     "input": [
      "logistic_time_series = Float64[]\n",
      "x = rand(1)[1]\n",
      "n=500\n",
      "mu = 4\n",
      "\n",
      "for i=1:n\n",
      "    x = logistic(x, mu)\n",
      "    append!(logistic_time_series, [x])\n",
      "end\n",
      "    \n"
     ],
     "language": "python",
     "metadata": {},
     "outputs": [],
     "prompt_number": 24
    },
    {
     "cell_type": "code",
     "collapsed": false,
     "input": [
      "# X = [X1 X2 ..  XM]'\n",
      "J = 1  ## reconstruction delay\n",
      "m = 1  ## embedding dimension\n",
      "println(\"starting to store stuff\")\n",
      "start_ref=4\n",
      "end_ref=6\n",
      "store = Array(RemoteRef, (end_ref-start_ref+1))\n",
      "\n",
      "for r=start_ref:end_ref\n",
      "    println(r)\n",
      "    store[r-start_ref+1] = @spawn lyaponuv_k(logistic_time_series, J, m, r)  ## length of the time series\n",
      "end\n",
      "\n",
      "for x=1:length(store)\n",
      "    println(lyaponuv(fetch(store[x])))\n",
      "end"
     ],
     "language": "python",
     "metadata": {},
     "outputs": [
      {
       "output_type": "stream",
       "stream": "stdout",
       "text": [
        "starting to store stuff\n"
       ]
      },
      {
       "output_type": "stream",
       "stream": "stdout",
       "text": [
        "4\n",
        "5\n",
        "6\n"
       ]
      },
      {
       "output_type": "stream",
       "stream": "stdout",
       "text": [
        "0.696347329204515"
       ]
      },
      {
       "output_type": "stream",
       "stream": "stdout",
       "text": [
        "\n"
       ]
      },
      {
       "output_type": "stream",
       "stream": "stdout",
       "text": [
        "0.6932337884871564"
       ]
      },
      {
       "output_type": "stream",
       "stream": "stdout",
       "text": [
        "\n"
       ]
      },
      {
       "output_type": "stream",
       "stream": "stdout",
       "text": [
        "0.6901917388482486\n"
       ]
      }
     ],
     "prompt_number": 26
    },
    {
     "cell_type": "code",
     "collapsed": false,
     "input": [],
     "language": "python",
     "metadata": {},
     "outputs": []
    }
   ],
   "metadata": {}
  }
 ]
}